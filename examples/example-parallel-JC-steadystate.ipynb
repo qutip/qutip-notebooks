{
 "metadata": {
  "name": "",
  "signature": "sha256:63ab7ec06a873470c0a8a1862a909a0298e5e353c61ed2ff8ebd6fc32888d88d"
 },
 "nbformat": 3,
 "nbformat_minor": 0,
 "worksheets": [
  {
   "cells": [
    {
     "cell_type": "heading",
     "level": 1,
     "metadata": {},
     "source": [
      "QuTiP Example: Parallel Steady State Jaynes-Cummings Calculation"
     ]
    },
    {
     "cell_type": "markdown",
     "metadata": {},
     "source": [
      "J.R. Johansson and P.D. Nation\n",
      "\n",
      "For more information about QuTiP see [http://qutip.org](http://qutip.org)"
     ]
    },
    {
     "cell_type": "code",
     "collapsed": false,
     "input": [
      "%matplotlib inline"
     ],
     "language": "python",
     "metadata": {},
     "outputs": [],
     "prompt_number": 1
    },
    {
     "cell_type": "code",
     "collapsed": false,
     "input": [
      "import matplotlib.pyplot as plt"
     ],
     "language": "python",
     "metadata": {},
     "outputs": [],
     "prompt_number": 2
    },
    {
     "cell_type": "code",
     "collapsed": false,
     "input": [
      "import numpy as np"
     ],
     "language": "python",
     "metadata": {},
     "outputs": [],
     "prompt_number": 3
    },
    {
     "cell_type": "code",
     "collapsed": false,
     "input": [
      "from qutip import *"
     ],
     "language": "python",
     "metadata": {},
     "outputs": [],
     "prompt_number": 4
    },
    {
     "cell_type": "heading",
     "level": 2,
     "metadata": {},
     "source": [
      "System Setup"
     ]
    },
    {
     "cell_type": "code",
     "collapsed": false,
     "input": [
      "kappa = 2\n",
      "gamma = 0.2\n",
      "g = 1\n",
      "wc = 0\n",
      "w0 = 0\n",
      "N = 5\n",
      "E = 0.5\n",
      "nloop = 101\n",
      "wlist = np.linspace(-5, 5, nloop)"
     ],
     "language": "python",
     "metadata": {},
     "outputs": [],
     "prompt_number": 5
    },
    {
     "cell_type": "heading",
     "level": 2,
     "metadata": {},
     "source": [
      "Define Function to Run in Parallel"
     ]
    },
    {
     "cell_type": "code",
     "collapsed": false,
     "input": [
      "def probss(wl, E, kappa, gamma, g, wc, w0, N):\n",
      "    # construct composite operators\n",
      "    ida = qeye(N)\n",
      "    idatom = qeye(2)\n",
      "    a = tensor(destroy(N), idatom)\n",
      "    sm = tensor(ida, sigmam())\n",
      "    \n",
      "    # Hamiltonian\n",
      "    H = (w0 - wl) * sm.dag() * sm + (wc - wl) * a.dag() * a + \\\n",
      "        1j * g * (a.dag() * sm - sm.dag() * a) + E * (a.dag() + a)\n",
      "\n",
      "    # Collapse operators\n",
      "    C1 = np.sqrt(2 * kappa) * a\n",
      "    C2 = np.sqrt(gamma) * sm\n",
      "    C1dC1 = C1.dag() * C1\n",
      "    C2dC2 = C2.dag() * C2\n",
      "\n",
      "    # find steady state\n",
      "    rhoss = steadystate(H, [C1, C2])\n",
      "\n",
      "    # calculate expectation values\n",
      "    count1 = expect(C1dC1, rhoss)\n",
      "    count2 = expect(C2dC2, rhoss)\n",
      "    infield = expect(a, rhoss)\n",
      "    return count1, count2, infield"
     ],
     "language": "python",
     "metadata": {},
     "outputs": [],
     "prompt_number": 6
    },
    {
     "cell_type": "heading",
     "level": 2,
     "metadata": {},
     "source": [
      "Run Simulation"
     ]
    },
    {
     "cell_type": "code",
     "collapsed": false,
     "input": [
      "count1, count2, infield = parfor(probss, wlist, E=E, kappa=kappa, gamma=gamma, g=g, wc=wc, w0=w0, N=N)"
     ],
     "language": "python",
     "metadata": {},
     "outputs": [],
     "prompt_number": 7
    },
    {
     "cell_type": "heading",
     "level": 2,
     "metadata": {},
     "source": [
      "Plot Results"
     ]
    },
    {
     "cell_type": "code",
     "collapsed": false,
     "input": [
      "fig = plt.figure(1)\n",
      "ax = fig.add_subplot(111)\n",
      "ax.plot(wlist, count1, wlist, count2, lw=2)\n",
      "ax.set_xlabel('Drive Frequency Detuning')\n",
      "ax.set_ylabel('Count rates')\n",
      "\n",
      "# plot phase shift of cavity light\n",
      "fig2 = plt.figure(2)\n",
      "ax2 = fig2.add_subplot(111)\n",
      "ax2.plot(wlist, 180.0 * np.angle(infield) / np.pi, lw=2)\n",
      "ax2.set_xlabel('Drive Frequency Detuning')\n",
      "ax2.set_ylabel('Intracavity phase shift');"
     ],
     "language": "python",
     "metadata": {},
     "outputs": [
      {
       "metadata": {},
       "output_type": "display_data",
       "png": "[encoded data removed]",
       "text": [
        "<matplotlib.figure.Figure at 0x7ffb3b0ad0f0>"
       ]
      },
      {
       "metadata": {},
       "output_type": "display_data",
       "png": "[encoded data removed]",
       "text": [
        "<matplotlib.figure.Figure at 0x7ffb398190f0>"
       ]
      }
     ],
     "prompt_number": 8
    },
    {
     "cell_type": "code",
     "collapsed": false,
     "input": [
      "from qutip.ipynbtools import version_table\n",
      "\n",
      "version_table()"
     ],
     "language": "python",
     "metadata": {},
     "outputs": [
      {
       "html": [
        "<table><tr><th>Software</th><th>Version</th></tr><tr><td>QuTiP</td><td>3.1.0</td></tr><tr><td>SciPy</td><td>0.14.1</td></tr><tr><td>matplotlib</td><td>1.4.2</td></tr><tr><td>Cython</td><td>0.21.2</td></tr><tr><td>Python</td><td>3.4.0 (default, Apr 11 2014, 13:05:11) \n",
        "[GCC 4.8.2]</td></tr><tr><td>OS</td><td>posix [linux]</td></tr><tr><td>Numpy</td><td>1.9.1</td></tr><tr><td>IPython</td><td>2.3.1</td></tr><tr><td colspan='2'>Tue Jan 13 13:57:38 2015 JST</td></tr></table>"
       ],
       "metadata": {},
       "output_type": "pyout",
       "prompt_number": 9,
       "text": [
        "<IPython.core.display.HTML at 0x7ffb3b08fd68>"
       ]
      }
     ],
     "prompt_number": 9
    }
   ],
   "metadata": {}
  }
 ]
}