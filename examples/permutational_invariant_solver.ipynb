{
 "cells": [
  {
   "cell_type": "markdown",
   "metadata": {
    "collapsed": true
   },
   "source": [
    "# Introducing *PIQS*\n",
    "\n",
    "The *Permutational Invariant Quantum Solver (PIQS)* is an open-source Python solver to study the exact Lindbladian dynamics of open quantum systems consisting of identical qubits. \n",
    "\n",
    "Using this library, the Liouvillian of an ensemble of $N$ qubits, or two-level systems (TLSs), $\\mathcal{D}_{TLS}(\\rho)$, can be built using only polynomial – instead of exponential – resources. This has many applications for the study of realistic quantum optics models of many TLSs and in general as a tool in cavity QED [1].\n",
    "\n",
    "Consider a system evolving according to the equation\n",
    "\n",
    "#### $\\dot{\\rho} = \\mathcal{D}_\\text{TLS}(\\rho) = \n",
    "-\\frac{i}{\\hbar}\\lbrack H,\\rho \\rbrack\n",
    "+\\frac{\\gamma_\\text{CE}}{2}\\mathcal{L}_{J_{-}}[\\rho]\n",
    "+\\frac{\\gamma_\\text{CD}}{2}\\mathcal{L}_{J_{z}}[\\rho]\n",
    "+\\frac{\\gamma_\\text{CP}}{2}\\mathcal{L}_{J_{+}}[\\rho]\n",
    "+\\sum_{n=1}^{N}\\left(\n",
    "\\frac{\\gamma_\\text{E}}{2}\\mathcal{L}_{J_{-,n}}[\\rho]\n",
    "+\\frac{\\gamma_\\text{D}}{2}\\mathcal{L}_{J_{z,n}}[\\rho]\n",
    "+\\frac{\\gamma_\\text{P}}{2}\\mathcal{L}_{J_{+,n}}[\\rho]\\right)\\ \\ \\ \\ \\ \\ (1)$\n",
    "\n",
    "where $J_{\\alpha,n}=\\frac{1}{2}\\sigma_{\\alpha,n}$ are SU(2) Pauli spin operators, with ${\\alpha=x,y,z}$ and $J_{\\pm,n}=\\sigma_{\\pm,n}$. The collective spin operators are $J_{\\alpha} = \\sum_{n}J_{\\alpha,n}$. The Lindblad super-operators are $\\mathcal{L}_{A} = 2A\\rho A^\\dagger - A^\\dagger A \\rho - \\rho A^\\dagger A$.\n",
    "\n",
    "The inclusion of local processes in the dynamics lead to using a Liouvillian space of dimension $4^N$. By exploiting the permutational invariance of identical particles [2-8], the Liouvillian $\\mathcal{D}_\\text{TLS}(\\rho)$ can be built as a block-diagonal matrix in the basis of Dicke states $|j, m \\rangle$.\n",
    "\n",
    "The system under study is defined by creating an object of the $\\texttt{Piqs}$ class, e.g. simply named $\\texttt{system}$, whose first attribute is \n",
    "\n",
    "- $\\texttt{system.N}$, the number of TLSs of the system $N$.\n",
    "\n",
    "The rates for collective and local processes are simply defined as \n",
    "\n",
    "- $\\texttt{collective}\\_ \\texttt{emission}$ defines $\\gamma_\\text{CE}$, collective (superradiant) emission\n",
    "\n",
    "\n",
    "- $\\texttt{collective}\\_ \\texttt{dephasing}$ defines $\\gamma_\\text{CD}$, collective dephasing \n",
    "\n",
    "\n",
    "- $\\texttt{collective}\\_ \\texttt{pumping}$ defines $\\gamma_\\text{CP}$, collective pumping. \n",
    "\n",
    "\n",
    "- $\\texttt{emission}$ defines $\\gamma_\\text{E}$, incoherent emission (losses) \n",
    "\n",
    "\n",
    "- $\\texttt{dephasing}$ defines $\\gamma_\\text{D}$, local dephasing \n",
    "\n",
    "\n",
    "- $\\texttt{pumping}$  defines $\\gamma_\\text{P}$, incoherent pumping. \n",
    "\n",
    "Then the $\\texttt{system.lindbladian()}$ creates the total TLS Linbladian superoperator matrix.\n",
    "\n",
    "Similarly, $\\texttt{system.hamiltonian}$ defines the TLS hamiltonian of the system $H_\\text{TLS}$.\n",
    "\n",
    "The system's Liouvillian can be built using $\\texttt{system.liouvillian()}$. The properties of a Piqs object can be visualized by simply calling $\\texttt{system}$. \n",
    "\n",
    "We give two basic examples on the use of *PIQS*. In the first example the incoherent emission of $N$ driven TLSs is considered."
   ]
  },
  {
   "cell_type": "code",
   "execution_count": 1,
   "metadata": {
    "collapsed": true
   },
   "outputs": [],
   "source": [
    "import matplotlib.pyplot as plt\n",
    "import matplotlib as mpl\n",
    "from matplotlib import cm\n",
    "\n",
    "from qutip import *\n",
    "from qutip.models.piqs import *\n",
    "\n",
    "from qutip.cy.piqs import _j_min as j_min"
   ]
  },
  {
   "cell_type": "markdown",
   "metadata": {},
   "source": [
    "## $1$. $N$ Qubits Dynamics\n",
    "We study a driven ensemble of $N$ TLSs emitting incoherently,\n",
    "\n",
    "#### $H_\\text{TLS}=\\hbar\\omega_{0} J_{z}+\\hbar\\omega_{x} J_{x}$\n",
    "#### $\\dot{\\rho} = \\mathcal{D}_\\text{TLS}(\\rho)= -\\frac{i}{\\hbar}\\lbrack H_\\text{TLS},\\rho \\rbrack+\\sum_{n=1}^{N}\\frac{\\gamma_\\text{E}}{2}\\mathcal{L}_{J_{-,n}}[\\rho]\\ \\ \\ \\ \\ \\ $"
   ]
  },
  {
   "cell_type": "code",
   "execution_count": 2,
   "metadata": {
    "collapsed": true
   },
   "outputs": [],
   "source": [
    "N = 20\n",
    "system = Dicke(N = N)\n",
    "[jx, jy, jz, jp, jm] = j_algebra(N)\n",
    "w0 = 1.\n",
    "wx = 0.1\n",
    "system.hamiltonian = w0 * jz + wx * jx\n",
    "system.emission = 0.5\n",
    "D_tls = system.liouvillian() "
   ]
  },
  {
   "cell_type": "markdown",
   "metadata": {},
   "source": [
    "Calculating the TLS Steady state and steady expectation values is straightforward with QuTiP's $\\texttt{steadystate}()$ and $\\texttt{expect}()$ [9]. "
   ]
  },
  {
   "cell_type": "code",
   "execution_count": 3,
   "metadata": {
    "collapsed": true
   },
   "outputs": [],
   "source": [
    "steady_tls = steadystate(D_tls)\n",
    "jz_ss = expect(jz, steady_tls)\n",
    "jpjm_ss = expect(jp*jm, steady_tls)"
   ]
  },
  {
   "cell_type": "markdown",
   "metadata": {},
   "source": [
    "Calculating the TLS time evolution can be done with QuTiP's $\\texttt{mesolve}()$"
   ]
  },
  {
   "cell_type": "code",
   "execution_count": 5,
   "metadata": {},
   "outputs": [],
   "source": [
    "rho0_tls = dicke(N, N/2, -N/2)\n",
    "t = np.linspace(0, 20, 1000)\n",
    "result = mesolve(D_tls, rho0_tls, t, [], e_ops = [jz])\n",
    "rhot_tls = result.states\n",
    "jzt = result.expect[0]"
   ]
  },
  {
   "cell_type": "markdown",
   "metadata": {},
   "source": [
    "The properties of a given object can be updated dynamically, such that local dephasing could be added to the object $\\texttt{'system'}$ symply with "
   ]
  },
  {
   "cell_type": "code",
   "execution_count": 6,
   "metadata": {
    "collapsed": true
   },
   "outputs": [],
   "source": [
    "system.dephasing = 1"
   ]
  },
  {
   "cell_type": "markdown",
   "metadata": {
    "collapsed": true
   },
   "source": [
    "### Visualization"
   ]
  },
  {
   "cell_type": "code",
   "execution_count": 7,
   "metadata": {},
   "outputs": [
    {
     "data": {
      "image/png": "[encoded data removed]",
      "text/plain": [
       "<matplotlib.figure.Figure at 0x10d89aac8>"
      ]
     },
     "metadata": {},
     "output_type": "display_data"
    }
   ],
   "source": [
    "j_max = (N/2)\n",
    "label_size = 20\n",
    "\n",
    "fig1 = plt.figure(1)\n",
    "\n",
    "plt.rc('text', usetex = True)\n",
    "plt.rc('xtick', labelsize=label_size) \n",
    "plt.rc('ytick', labelsize=label_size)\n",
    "plt.plot(t, jzt/j_max, 'k-', label='time evolution')\n",
    "plt.plot(t, t * 0 + jz_ss/j_max, 'g--', label = 'steady state')\n",
    "plt.title(r'Total inversion', fontsize = label_size)\n",
    "plt.xlabel(r'$t$', fontsize = label_size)\n",
    "plt.ylabel(r'$\\langle J_{z}\\rangle(t)$', fontsize = label_size)\n",
    "plt.legend( fontsize = 0.8 * label_size)\n",
    "\n",
    "plt.show()\n",
    "plt.close()"
   ]
  },
  {
   "cell_type": "markdown",
   "metadata": {},
   "source": [
    "## $2$. $N$ Qubits in a Cavity Dynamics\n",
    "\n",
    "Now we consider an ensemble of spins in a driven leaky cavity\n",
    "#### $\\dot{\\rho} = \\mathcal{D}_\\text{TLS}(\\rho) +\\mathcal{D}_\\text{phot}(\\rho) -\\frac{i}{\\hbar}\\lbrack H_\\text{int}, \\rho\\rbrack \n",
    "= -i\\lbrack \\omega_{0} J_{z} + \\omega_{c} a^\\dagger a + g\\left(a^\\dagger+a\\right)J_{x},\\rho \\rbrack+\\frac{w}{2}\\mathcal{L}_{a^\\dagger}[\\rho]+\\frac{\\kappa}{2}\\mathcal{L}_{a}[\\rho]+\\sum_{n=1}^{N}\\frac{\\gamma_\\text{E}}{2}\\mathcal{L}_{J_{-,n}}[\\rho]\\ \\ \\ \\ \\ \\ (2)$\n",
    "\n",
    "where now the full system density matrix is defined on a tensor Hilbert space $\\rho \\in \\mathcal{H}_\\text{TLS}\\oplus\\mathcal{H}_\\text{phot}$, where the dymension of $\\mathcal{H}_\\text{TLS}$ is reduced from $2^N$ using the approach of an uncoupled basis to $O(N^2)$ using $PIQS$.\n",
    "\n",
    "Thanks to QuTiP's $\\texttt{super}\\_\\texttt{tensor}()$ function, we can add the two independently built Liouvillians, being careful only to place the light-matter interaction of the Hamiltonian in the total Hilbert space and creating the corresponding \"left\" and \"right\" superoperators with $\\texttt{spre}()$ and $\\texttt{spost}()$."
   ]
  },
  {
   "cell_type": "code",
   "execution_count": 9,
   "metadata": {},
   "outputs": [],
   "source": [
    "# TLS parameters\n",
    "n_tls = 5\n",
    "N = n_tls\n",
    "system = Dicke(N = n_tls)\n",
    "[jx, jy, jz, jp, jm] = j_algebra(n_tls)\n",
    "w0 = 1.\n",
    "wx = 0.1\n",
    "system.hamiltonian = w0 * jz + wx * jx\n",
    "system.emission = 0.5\n",
    "D_tls = system.liouvillian() \n",
    "\n",
    "# Light-matter coupling parameters\n",
    "wc = 1.\n",
    "g = 0.9\n",
    "kappa = 1\n",
    "pump = 0.1\n",
    "nphot = 16\n",
    "a = destroy(nphot)\n",
    "h_int = g * tensor(a + a.dag(), jx)\n",
    "\n",
    "# Photonic Liouvillian\n",
    "c_ops_phot = [np.sqrt(kappa) * a, np.sqrt(pump) * a.dag()]\n",
    "D_phot = liouvillian(wc * a.dag()*a , c_ops_phot)\n",
    "\n",
    "# Identity super-operators\n",
    "nds = num_dicke_states(n_tls)\n",
    "id_tls = to_super(qeye(nds))\n",
    "id_phot = to_super(qeye(nphot))\n",
    "\n",
    "# Define the total Liouvillian\n",
    "D_int = -1j* spre(h_int) + 1j* spost(h_int)\n",
    "D_tot = D_int + super_tensor(D_phot, id_tls) + super_tensor(id_phot, D_tls)\n",
    "\n",
    "# Define operator in the total space\n",
    "nphot_tot = tensor(a.dag()*a, qeye(nds))"
   ]
  },
  {
   "cell_type": "markdown",
   "metadata": {},
   "source": [
    "### Wigner function and steady state $\\rho_\\text{ss}$"
   ]
  },
  {
   "cell_type": "code",
   "execution_count": 10,
   "metadata": {
    "collapsed": true
   },
   "outputs": [],
   "source": [
    "rho_ss = steadystate(D_tot)\n",
    "nphot_ss = expect(nphot_tot, rho_ss)\n",
    "psi = rho_ss.ptrace(0)\n",
    "xvec = np.linspace(-6, 6, 100)\n",
    "W = wigner(psi, xvec, xvec)"
   ]
  },
  {
   "cell_type": "markdown",
   "metadata": {},
   "source": [
    "### Visualization"
   ]
  },
  {
   "cell_type": "code",
   "execution_count": 11,
   "metadata": {},
   "outputs": [
    {
     "data": {
      "image/png": "[encoded data removed]",
      "text/plain": [
       "<matplotlib.figure.Figure at 0x10d5322e8>"
      ]
     },
     "metadata": {},
     "output_type": "display_data"
    }
   ],
   "source": [
    "jmax = (0.5 * N)\n",
    "j2max = (0.5 * N + 1) * (0.5 * N)\n",
    "\n",
    "plt.rc('text', usetex = True)\n",
    "label_size = 15\n",
    "\n",
    "wmap = wigner_cmap(W)  # Generate Wigner colormap\n",
    "nrm = mpl.colors.Normalize(0, W.max())\n",
    "max_cb =np.max(W)\n",
    "min_cb =np.min(W)\n",
    "\n",
    "fig2 = plt.figure(2)\n",
    "plotw = plt.contourf(xvec, xvec, W, 100, cmap=wmap, norm=nrm)\n",
    "\n",
    "plt.rc('xtick', labelsize=label_size) \n",
    "plt.rc('ytick', labelsize=label_size)\n",
    "plt.title(r\"Wigner Function\", fontsize=label_size);\n",
    "plt.xlabel(r'$x$', fontsize = label_size)\n",
    "plt.ylabel(r'$p$', fontsize = label_size)\n",
    "cb = plt.colorbar()\n",
    "cb.set_ticks( [min_cb, max_cb])\n",
    "cb.set_ticklabels([r'$0$',r'max'])    \n",
    "\n",
    "plt.show()\n",
    "plt.close()"
   ]
  },
  {
   "cell_type": "markdown",
   "metadata": {},
   "source": [
    "### Time evolution of $\\rho(t)$"
   ]
  },
  {
   "cell_type": "code",
   "execution_count": 12,
   "metadata": {
    "collapsed": true
   },
   "outputs": [],
   "source": [
    "excited = excited(N)\n",
    "ground_phot = ket2dm(basis(nphot,0))\n",
    "rho0 = tensor(ground_phot, excited)\n",
    "result2 = mesolve(D_tot, rho0, t, [], e_ops = [nphot_tot])\n",
    "rhot_tot = result2.states\n",
    "nphot_t = result2.expect[0]"
   ]
  },
  {
   "cell_type": "markdown",
   "metadata": {},
   "source": [
    "### Visualization"
   ]
  },
  {
   "cell_type": "code",
   "execution_count": 13,
   "metadata": {},
   "outputs": [
    {
     "data": {
      "image/png": "[encoded data removed]",
      "text/plain": [
       "<matplotlib.figure.Figure at 0x1131cb208>"
      ]
     },
     "metadata": {},
     "output_type": "display_data"
    }
   ],
   "source": [
    "fig3 = plt.figure(3)\n",
    "plt.plot(t, nphot_t, 'k-', label='time evolution')\n",
    "plt.plot(t, t*0 + nphot_ss, 'g--', label = 'steady state')\n",
    "plt.title(r'Cavity photon population', fontsize = label_size)\n",
    "plt.xlabel(r'$t$', fontsize = label_size)\n",
    "plt.ylabel(r'$\\langle a^\\dagger a\\rangle(t)$', fontsize = label_size)\n",
    "\n",
    "plt.legend(fontsize = label_size)\n",
    "plt.show()\n",
    "plt.close()"
   ]
  },
  {
   "cell_type": "markdown",
   "metadata": {},
   "source": [
    " ### Steady-state correlations: $g^{(2)}(\\tau)$ for $\\rho_\\text{ss}$"
   ]
  },
  {
   "cell_type": "code",
   "execution_count": 14,
   "metadata": {
    "collapsed": true
   },
   "outputs": [],
   "source": [
    "B = nphot_tot\n",
    "rhoA = B * rho_ss\n",
    "result3 = mesolve(D_tot, rhoA, t, [], e_ops = B)\n",
    "g2_t = result3.expect[0]"
   ]
  },
  {
   "cell_type": "markdown",
   "metadata": {},
   "source": [
    "### Visualization"
   ]
  },
  {
   "cell_type": "code",
   "execution_count": 15,
   "metadata": {},
   "outputs": [
    {
     "data": {
      "image/png": "[encoded data removed]",
      "text/plain": [
       "<matplotlib.figure.Figure at 0x10dc0b1d0>"
      ]
     },
     "metadata": {},
     "output_type": "display_data"
    }
   ],
   "source": [
    "fig4 = plt.figure(4)\n",
    "plt.plot(t, np.real(g2_t)/nphot_ss**2, '-')\n",
    "plt.plot(t, 0*t + 1, '--')\n",
    "plt.title(r'Intra-cavity photon correlation function', fontsize = label_size)\n",
    "plt.xlabel(r'$\\tau$', fontsize = label_size)\n",
    "plt.ylabel(r'$g^{(2)}(\\tau)$', fontsize = label_size)\n",
    "\n",
    "plt.show()\n",
    "plt.close()"
   ]
  },
  {
   "cell_type": "markdown",
   "metadata": {},
   "source": [
    "## $3$. Initial States"
   ]
  },
  {
   "cell_type": "markdown",
   "metadata": {},
   "source": [
    "$PIQS$ allows the user to quickly define initial states as density matrices in the Dicke basis of dimension $O(N^2)$ (by default) or in the uncoupled TLS basis $2^N$ (by setting the basis specification as $\\texttt{'uncoupled'}$). Below we give an overview of\n",
    "\n",
    "- Dicke states\n",
    "\n",
    "\n",
    "- Greenberger–Horne–Zeilinger (GHZ) state\n",
    "\n",
    "\n",
    "- Coherent Spin States (CSS)\n",
    "\n",
    "all expressed in the compact Dicke basis."
   ]
  },
  {
   "cell_type": "code",
   "execution_count": 17,
   "metadata": {},
   "outputs": [],
   "source": [
    "#Dicke states\n",
    "excited = dicke(N, N/2, N/2)\n",
    "superradiant = dicke(N, N/2, j_min(N))\n",
    "subradiant = dicke(N, j_min(N), -j_min(N))\n",
    "ground = dicke(N, N/2, -N/2)\n",
    "\n",
    "#GHZ state\n",
    "ghz_state = ghz(N)\n",
    "\n",
    "#CSS states\n",
    "a = 1/np.sqrt(2)\n",
    "b = 1/np.sqrt(2)\n",
    "css_symmetric = css(N, a, b)\n",
    "css_antisymmetric = css(N, a, -b)\n",
    "\n",
    "#Dicke Basis\n",
    "dicke_basis = np.real(block_matrix(N))"
   ]
  },
  {
   "cell_type": "code",
   "execution_count": 18,
   "metadata": {},
   "outputs": [
    {
     "data": {
      "text/plain": [
       "<12x12 sparse matrix of type '<class 'numpy.float64'>'\n",
       "\twith 56 stored elements in COOrdinate format>"
      ]
     },
     "execution_count": 18,
     "metadata": {},
     "output_type": "execute_result"
    }
   ],
   "source": [
    "dicke_basis"
   ]
  },
  {
   "cell_type": "markdown",
   "metadata": {},
   "source": [
    "### Visualization"
   ]
  },
  {
   "cell_type": "code",
   "execution_count": 19,
   "metadata": {
    "collapsed": true
   },
   "outputs": [],
   "source": [
    "label_size = 15\n",
    "c_map = 'bwr'\n",
    "\n",
    "# Convert to real-valued dense matrices\n",
    "rho1 = np.real(css_antisymmetric.full())\n",
    "rho3b = np.real(ghz_state.full())         \n",
    "rho4b = np.real(css_symmetric.full())\n",
    "rho5 = np.real(excited.full())\n",
    "rho6 = np.real(superradiant.full())\n",
    "rho7 = np.real(ground.full())\n",
    "rho8 = np.real(subradiant.full())\n",
    "rho9 = np.real(block_matrix(N).todense())"
   ]
  },
  {
   "cell_type": "code",
   "execution_count": 20,
   "metadata": {},
   "outputs": [
    {
     "data": {
      "image/png": "[encoded data removed]",
      "text/plain": [
       "<matplotlib.figure.Figure at 0x11341dd30>"
      ]
     },
     "metadata": {},
     "output_type": "display_data"
    },
    {
     "data": {
      "image/png": "[encoded data removed]",
      "text/plain": [
       "<matplotlib.figure.Figure at 0x11359e7b8>"
      ]
     },
     "metadata": {},
     "output_type": "display_data"
    },
    {
     "data": {
      "image/png": "[encoded data removed]",
      "text/plain": [
       "<matplotlib.figure.Figure at 0x1135b2d30>"
      ]
     },
     "metadata": {},
     "output_type": "display_data"
    },
    {
     "data": {
      "image/png": "[encoded data removed]",
      "text/plain": [
       "<matplotlib.figure.Figure at 0x117017b00>"
      ]
     },
     "metadata": {},
     "output_type": "display_data"
    },
    {
     "data": {
      "image/png": "[encoded data removed]",
      "text/plain": [
       "<matplotlib.figure.Figure at 0x113556ef0>"
      ]
     },
     "metadata": {},
     "output_type": "display_data"
    }
   ],
   "source": [
    "# Dicke basis\n",
    "\n",
    "fig9 = plt.imshow(rho9, cmap = c_map)    \n",
    "plt.rc('text', usetex = True)\n",
    "plt.rc('xtick', labelsize=label_size) \n",
    "plt.rc('ytick', labelsize=label_size)\n",
    "\n",
    "plt.title(r\"Dicke basis, $\\rho=\\sum_{j,m,m'}\\rho_{j,m,m'}|j,m\\rangle\\langle j,m'|$\", fontsize = label_size)\n",
    "plt.xticks([])\n",
    "plt.yticks([])\n",
    "plt.xlabel(r'$d_N^j$', fontsize = label_size)\n",
    "plt.ylabel(r'Block $j$', fontsize = label_size)\n",
    "\n",
    "plt.show()\n",
    "plt.close()\n",
    "\n",
    "#Dicke states\n",
    "\n",
    "#Excited\n",
    "fig5 = plt.imshow(rho5, cmap = c_map)    \n",
    "plt.rc('text', usetex = True)\n",
    "plt.rc('xtick', labelsize=label_size) \n",
    "plt.rc('ytick', labelsize=label_size)\n",
    "\n",
    "plt.title(r\"Fully excited, $|\\frac{N}{2},\\frac{N}{2}\\rangle\\langle \\frac{N}{2},\\frac{N}{2}|$\", fontsize = label_size)\n",
    "plt.xticks([])\n",
    "plt.yticks([])\n",
    "plt.xlabel(r'$d_N^j$', fontsize = label_size)\n",
    "plt.ylabel(r'Block $j$', fontsize = label_size)\n",
    "plt.show()\n",
    "plt.close()\n",
    "\n",
    "#Superradiant\n",
    "fig6 = plt.imshow(rho6, cmap = c_map)    \n",
    "plt.rc('text', usetex = True)\n",
    "plt.rc('xtick', labelsize=label_size) \n",
    "plt.rc('ytick', labelsize=label_size)\n",
    "\n",
    "plt.title(r\"Superradiant, $|\\frac{N}{2},0\\rangle\\langle \\frac{N}{2},0|$\", fontsize = label_size)\n",
    "plt.xticks([])\n",
    "plt.yticks([])\n",
    "plt.xlabel(r'$d_N^j$', fontsize = label_size)\n",
    "plt.ylabel(r'Block $j$', fontsize = label_size)    \n",
    "plt.show()\n",
    "plt.close()\n",
    "\n",
    "#Ground\n",
    "fig7 = plt.imshow(rho7, cmap = c_map)    \n",
    "plt.rc('text', usetex = True)\n",
    "plt.rc('xtick', labelsize=label_size) \n",
    "plt.rc('ytick', labelsize=label_size)\n",
    "\n",
    "plt.title(r\"Ground state, $|\\frac{N}{2},-\\frac{N}{2}\\rangle\\langle \\frac{N}{2},-\\frac{N}{2}|$\", fontsize = label_size)\n",
    "plt.xticks([])\n",
    "plt.yticks([])\n",
    "plt.xlabel(r'$d_N^j$', fontsize = label_size)\n",
    "plt.ylabel(r'Block $j$', fontsize = label_size)\n",
    "plt.show()\n",
    "plt.close()\n",
    "\n",
    "#Subradiant\n",
    "fig8 = plt.imshow(rho8, cmap = c_map)    \n",
    "\n",
    "plt.rc('text', usetex = True)\n",
    "plt.rc('xtick', labelsize=label_size) \n",
    "plt.rc('ytick', labelsize=label_size)\n",
    "plt.title(r\"Subradiant, $|0,0\\rangle\\langle 0,0|$\", fontsize = label_size)\n",
    "plt.xticks([])\n",
    "plt.yticks([])\n",
    "plt.xlabel(r'$d_N^j$', fontsize = label_size)\n",
    "plt.ylabel(r'Block $j$', fontsize = label_size)\n",
    "plt.show()\n",
    "plt.close()"
   ]
  },
  {
   "cell_type": "code",
   "execution_count": 21,
   "metadata": {},
   "outputs": [
    {
     "data": {
      "image/png": "[encoded data removed]",
      "text/plain": [
       "<matplotlib.figure.Figure at 0x113590710>"
      ]
     },
     "metadata": {},
     "output_type": "display_data"
    },
    {
     "data": {
      "image/png": "[encoded data removed]",
      "text/plain": [
       "<matplotlib.figure.Figure at 0x1a18469b38>"
      ]
     },
     "metadata": {},
     "output_type": "display_data"
    },
    {
     "data": {
      "image/png": "[encoded data removed]",
      "text/plain": [
       "<matplotlib.figure.Figure at 0x1a1856d0f0>"
      ]
     },
     "metadata": {},
     "output_type": "display_data"
    }
   ],
   "source": [
    "# GHZ state\n",
    "fig3 = plt.imshow(rho3b, cmap = c_map)\n",
    "\n",
    "plt.rc('xtick', labelsize=label_size) \n",
    "plt.rc('ytick', labelsize=label_size)\n",
    "\n",
    "plt.title(r'$\\rho=|\\mathrm{GHZ}\\rangle\\langle\\mathrm{GHZ}|$', fontsize = label_size)\n",
    "plt.xticks([])\n",
    "plt.yticks([])\n",
    "plt.xlabel(r'$d_N^j$', fontsize = label_size)\n",
    "plt.ylabel(r'Block $j$', fontsize = label_size)\n",
    "\n",
    "cb = plt.colorbar()\n",
    "plt.clim([0,np.max(rho3b)])\n",
    "cb.set_ticks( [np.min(rho3b), np.max(rho3b)])\n",
    "cb.set_ticklabels([r'$0$',r'max'])    \n",
    "\n",
    "plt.show()\n",
    "plt.close()    \n",
    "\n",
    "#Symmetric CSS state\n",
    "fig1 = plt.imshow(rho1, cmap = c_map)\n",
    "\n",
    "plt.rc('text', usetex = True)\n",
    "plt.rc('xtick', labelsize=label_size) \n",
    "plt.rc('ytick', labelsize=label_size)\n",
    "\n",
    "plt.title(r'$\\rho=|\\frac{1}{\\sqrt{2}},-\\frac{1}{\\sqrt{2}}\\rangle\\langle\\frac{1}{\\sqrt{2}},-\\frac{1}{\\sqrt{2}}|_\\mathrm{CSS}$', fontsize = label_size)\n",
    "plt.xticks([])\n",
    "plt.yticks([])\n",
    "plt.xlabel(r'$d_N^j$', fontsize = label_size)\n",
    "plt.ylabel(r'Block $j$', fontsize = label_size)\n",
    "\n",
    "cb = plt.colorbar()\n",
    "plt.clim([np.min(rho1),np.max(rho1)])\n",
    "cb.set_ticks( [np.min(rho1),0, np.max(rho1)])\n",
    "cb.set_ticklabels([r'min',r'$0$',r'max'])\n",
    "\n",
    "plt.show()\n",
    "plt.close()\n",
    "\n",
    "#Antisymmetric CSS state\n",
    "\n",
    "fig5 = plt.imshow(rho4b, cmap = c_map)\n",
    "\n",
    "cb = plt.colorbar()\n",
    "plt.clim([0,np.max(rho4b)])\n",
    "cb.set_ticks( [0, np.max(rho4b)])\n",
    "cb.set_ticklabels([r'$0$',r'max'])   \n",
    "\n",
    "plt.rc('xtick', labelsize=label_size) \n",
    "plt.rc('ytick', labelsize=label_size)\n",
    "\n",
    "plt.title(r'$\\rho=|\\frac{1}{\\sqrt{2}},\\frac{1}{\\sqrt{2}}\\rangle\\langle\\frac{1}{\\sqrt{2}},\\frac{1}{\\sqrt{2}}|_\\mathrm{CSS}$', fontsize = label_size)\n",
    "plt.xticks([])\n",
    "plt.yticks([])\n",
    "\n",
    "plt.xlabel(r'$d_N^j$', fontsize = label_size)\n",
    "plt.ylabel(r'Block $j$', fontsize = label_size)\n",
    "\n",
    "plt.show()\n",
    "plt.close()"
   ]
  },
  {
   "cell_type": "markdown",
   "metadata": {},
   "source": [
    "## References\n",
    "\n",
    "[1] B.A. Chase and J.M. Geremia, *Phys Rev. A* **78**, 052101 (2008)\n",
    "\n",
    "[2] M. Xu, D.A. Tieri, and M.J. Holland, *Phys Rev. A* **87**, 062101 (2013)\n",
    "\n",
    "[3] S. Hartmann, *Quantum Inf. Comput.* **16**, 1333 (2016)\n",
    "\n",
    "[4] F. Damanet, D. Braun, and J. Martin, *Phys. Rev. A* **94**, 033838 (2016)\n",
    "\n",
    "[5] P. Kirton and J. Keeling, , *Phys. Rev. Lett.* **118**, 123602 (2017) https://github.com/peterkirton/permutations \n",
    "\n",
    "[6] N. Shammah, N. Lambert, F. Nori, and S. De Liberato,  *Phys Rev. A* **96**, 023863 (2017)\n",
    "\n",
    "[7] M. Gegg and M. Richter, *Sci. Rep.* **7**, 16304 (2017) https://github.com/modmido/psiquasp\n",
    "\n",
    "[8] J. R. Johansson, P. D. Nation, and F. Nori, *Comp. Phys. Comm.* **183**, 1760 (2012). http://qutip.org\n"
   ]
  },
  {
   "cell_type": "code",
   "execution_count": 22,
   "metadata": {},
   "outputs": [
    {
     "name": "stdout",
     "output_type": "stream",
     "text": [
      "\n",
      "QuTiP: Quantum Toolbox in Python\n",
      "Copyright (c) 2011 and later.\n",
      "A. J. Pitchford, P. D. Nation, R. J. Johansson, A. Grimsmo, and C. Granade\n",
      "\n",
      "QuTiP Version:      4.3.0.dev0+07d69466\n",
      "Numpy Version:      1.13.3\n",
      "Scipy Version:      0.19.1\n",
      "Cython Version:     0.26.1\n",
      "Matplotlib Version: 2.1.0\n",
      "Python Version:     3.6.3\n",
      "Number of CPUs:     2\n",
      "BLAS Info:          INTEL MKL\n",
      "OPENMP Installed:   False\n",
      "INTEL MKL Ext:      True\n",
      "Platform Info:      Darwin (x86_64)\n",
      "Installation path:  /Users/shahnawaz/dev/qutip/qutip\n",
      "Please cite QuTiP in your publication.\n",
      "For your convenience a bibtex file can be easily generated using `qutip.about.cite()`\n"
     ]
    }
   ],
   "source": [
    "qutip.about()"
   ]
  },
  {
   "cell_type": "code",
   "execution_count": null,
   "metadata": {
    "collapsed": true
   },
   "outputs": [],
   "source": []
  }
 ],
 "metadata": {
  "kernelspec": {
   "display_name": "Python 3",
   "language": "python",
   "name": "python3"
  },
  "language_info": {
   "codemirror_mode": {
    "name": "ipython",
    "version": 3
   },
   "file_extension": ".py",
   "mimetype": "text/x-python",
   "name": "python",
   "nbconvert_exporter": "python",
   "pygments_lexer": "ipython3",
   "version": "3.6.3"
  }
 },
 "nbformat": 4,
 "nbformat_minor": 2
}
