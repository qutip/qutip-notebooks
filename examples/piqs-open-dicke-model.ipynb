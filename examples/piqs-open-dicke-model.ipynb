{
 "cells": [
  {
   "cell_type": "markdown",
   "metadata": {
    "collapsed": true,
    "pycharm": {
     "name": "#%% md\n"
    }
   },
   "source": [
    "## Open Dicke Model: Superradiance of $N$ qubits in an open cavity\n",
    "\n",
    "Notebook author: Nathan Shammah (nathan.shammah at gmail.com)\n"
   ]
  },
  {
   "cell_type": "markdown",
   "metadata": {
    "pycharm": {
     "name": "#%% md\n"
    }
   },
   "source": [
    "We consider a system of $N$ two-level systems (TLSs) coupled to a cavity mode. This is known as the Dicke model \n",
    "\n",
    "\\begin{eqnarray}\n",
    "H&=&\\omega_{0}J_z +  \\omega_{c}a^\\dagger a + g\\left(a^\\dagger + a\\right)\\left(J_{+} + J_{-}\\right)\n",
    "\\end{eqnarray}\n",
    "\n",
    "where each TLS has identical frequency $\\omega_{0}$. The light matter coupling can be in the ultrastrong coupling (USC) regime, $g/\\omega_{0}>0.1$.\n",
    "\n",
    "If we study this model as an open quantum system, the cavity can leak photons at a rate $\\kappa$. Moreover, we can introduce the effect of incoherent local and collective processes also on the TLSs. For example the system can be incoherently pumped at a rate $\\gamma_\\text{P}$, the TLSs are subject to dephasing at a rate $\\gamma_\\text{D}$, and local incoherent emission occurs at a rate $\\gamma_\\text{E}$. The dynamics of the coupled light-matter system is governed by\n",
    "\n",
    "\\begin{eqnarray}\\dot{\\rho} &=& \n",
    "-i\\lbrack \\omega_{0}J_z +  \\omega_{a}a^\\dagger a + g\\left(a^\\dagger + a\\right)\\left(J_{+} + J_{-}\\right),\\rho \\rbrack\n",
    "+\\frac{\\kappa}{2}\\mathcal{L}_{a}[\\rho]\n",
    "+\\sum_{n=1}^{N}\\left(\\frac{\\gamma_\\text{P}}{2}\\mathcal{L}_{J_{+,n}}[\\rho] \n",
    "+\\frac{\\gamma_\\text{E}}{2}\\mathcal{L}_{J_{+,n}}[\\rho]\n",
    "+\\frac{\\gamma_\\text{D}}{2}\\mathcal{L}_{J_{+,n}}[\\rho]\\right)\n",
    "\\end{eqnarray}\n",
    "\n",
    "When only the dissipation of the cavity is present, beyond a critical value of the coupling $g$, the steady state of the system becomes superradiant. This is visible by looking at the Wigner function of the photonic part of the density matrix, which displays two displaced lobes in the $x$ and $p$ plane.   \n",
    "\n",
    "As it has been shown in Ref. [1], the presence of dephasing suppresses the superradiant phase transition, while the presence of local emission restores it [2].\n",
    "\n",
    "In order to study this system using QuTiP and $\\texttt{qutip.piqs}$, we will first build the TLS Liouvillian, then we will build the photonic Liouvillian and finally we will build the light-matter interaction. The total dynamics of the system is thus defined in a Liouvillian space that has both TLS and photonic degrees of freedom. \n",
    "\n",
    "Ref. [6] contains a review of the open Dicke model."
   ]
  },
  {
   "cell_type": "code",
   "execution_count": 3,
   "metadata": {
    "pycharm": {
     "name": "#%%\n"
    }
   },
   "outputs": [],
   "source": [
    "import matplotlib as mpl\n",
    "from matplotlib import cm\n",
    "import matplotlib.pyplot as plt\n",
    "\n",
    "from qutip import *\n",
    "from qutip.piqs import *\n",
    "import numpy as np"
   ]
  },
  {
   "cell_type": "code",
   "execution_count": 4,
   "metadata": {
    "pycharm": {
     "name": "#%%\n"
    }
   },
   "outputs": [
    {
     "name": "stdout",
     "output_type": "stream",
     "text": [
      "N = 6\n",
      "Hilbert space dim = (16, 16)\n",
      "Number of Dicke states = 16\n",
      "Liouvillian space dim = (256, 256)\n",
      "dephasing = 0.01\n",
      "pumping = 0.1\n"
     ]
    }
   ],
   "source": [
    "#TLS parameters\n",
    "N = 6\n",
    "ntls = N\n",
    "nds = num_dicke_states(ntls)\n",
    "[jx, jy, jz] = jspin(N)\n",
    "jp = jspin(N, \"+\")\n",
    "jm = jp.dag()\n",
    "w0 = 1\n",
    "gE = 0.1\n",
    "gD = 0.01\n",
    "gP = 0.1\n",
    "gCP = 0.1\n",
    "gCE = 0.1\n",
    "gCD = 0.1\n",
    "h = w0 * jz\n",
    "#photonic parameters\n",
    "nphot = 16\n",
    "wc = 1\n",
    "kappa = 1\n",
    "ratio_g = 2\n",
    "g = ratio_g/np.sqrt(N)\n",
    "a = destroy(nphot)\n",
    "\n",
    "#TLS liouvillian\n",
    "system = Dicke(N = N)\n",
    "system.hamiltonian = h \n",
    "system.emission = 0 \n",
    "system.dephasing = gD\n",
    "system.pumping = gP\n",
    "system.collective_pumping = 0\n",
    "system.collective_emission = 0\n",
    "system.collective_dephasing = 0\n",
    "liouv = system.liouvillian() \n",
    "system\n",
    "\n",
    "#TLS liouvillian 2\n",
    "system2 = Dicke(N = N)\n",
    "system2.hamiltonian = h \n",
    "system2.emission = gE \n",
    "system2.dephasing = gD\n",
    "system2.pumping = 0\n",
    "system2.collective_pumping = 0\n",
    "system2.collective_emission = 0\n",
    "system2.collective_dephasing = 0\n",
    "liouv2 = system2.liouvillian() \n",
    "\n",
    "#TLS liouvillian 3\n",
    "system3 = Dicke(N = N)\n",
    "system3.hamiltonian = h \n",
    "system3.emission = gE \n",
    "system3.dephasing = gD\n",
    "system3.pumping = 0#gP\n",
    "system3.collective_pumping = gCP\n",
    "system3.collective_emission = 0\n",
    "system3.collective_dephasing = 0\n",
    "liouv3 = system3.liouvillian() \n",
    "\n",
    "#TLS liouvillian 4\n",
    "system4 = Dicke(N = N)\n",
    "system4.hamiltonian = h \n",
    "system4.emission = gE \n",
    "system4.dephasing = gD\n",
    "system4.pumping = 0\n",
    "system4.collective_pumping = 0\n",
    "system4.collective_emission = gCE\n",
    "system4.collective_dephasing = 0\n",
    "liouv4 = system4.liouvillian() \n",
    "print(system)\n"
   ]
  },
  {
   "cell_type": "code",
   "execution_count": 5,
   "metadata": {
    "scrolled": true,
    "pycharm": {
     "name": "#%%\n"
    }
   },
   "outputs": [],
   "source": [
    "#photonic liouvilian\n",
    "h_phot = wc * a.dag() * a\n",
    "c_ops_phot = [np.sqrt(kappa) * a]\n",
    "liouv_phot = liouvillian(h_phot, c_ops_phot)\n",
    "\n",
    "#identity operators\n",
    "id_tls = to_super(qeye(nds))\n",
    "id_phot = to_super(qeye(nphot))\n",
    "\n",
    "# light-matter superoperator \n",
    "h_int = g * tensor(a + a.dag(), jx)\n",
    "liouv_int = -1j* spre(h_int) + 1j* spost(h_int)\n",
    "\n",
    "# 1 total liouvillian\n",
    "liouv_sum = super_tensor(liouv_phot, id_tls) + super_tensor(id_phot, liouv)\n",
    "liouv_tot = liouv_sum + liouv_int\n",
    "\n",
    "#2 total liouvillian\n",
    "liouv_sum2 = super_tensor(liouv_phot, id_tls) + super_tensor(id_phot, liouv2)\n",
    "liouv_tot2 = liouv_sum2 + liouv_int\n",
    "\n",
    "#3 total liouvillian\n",
    "liouv_sum3 = super_tensor(liouv_phot, id_tls) + super_tensor(id_phot, liouv3)\n",
    "liouv_tot3 = liouv_sum3 + liouv_int\n",
    "\n",
    "#4 total liouvillian\n",
    "liouv_sum4 = super_tensor(liouv_phot, id_tls) + super_tensor(id_phot, liouv4)\n",
    "liouv_tot4 = liouv_sum4 + liouv_int"
   ]
  },
  {
   "cell_type": "code",
   "execution_count": 6,
   "metadata": {
    "pycharm": {
     "name": "#%%\n"
    }
   },
   "outputs": [],
   "source": [
    "#total operators\n",
    "jz_tot = tensor(qeye(nphot), jz)\n",
    "jp_tot = tensor(qeye(nphot), jp)\n",
    "jm_tot = tensor(qeye(nphot), jm)\n",
    "jpjm_tot = tensor(qeye(nphot), jp*jm)\n",
    "nphot_tot = tensor(a.dag()*a, qeye(nds))\n",
    "adag_tot = tensor(a.dag(), qeye(nds))\n",
    "a_tot = tensor(a, qeye(nds))"
   ]
  },
  {
   "cell_type": "code",
   "execution_count": 7,
   "metadata": {
    "pycharm": {
     "name": "#%%\n"
    }
   },
   "outputs": [
    {
     "name": "stdout",
     "output_type": "stream",
     "text": [
      "Ensemble 4 is ok\n"
     ]
    }
   ],
   "source": [
    "# 4 calculate steady state\n",
    "rho_ss4 = steadystate(liouv_tot4, method=\"direct\")\n",
    "nphot_ss4 = expect(nphot_tot, rho_ss4)\n",
    "psi4 = rho_ss4.ptrace(0)\n",
    "print(\"Ensemble 4 is ok\")\n",
    "# takes a couple of minutes "
   ]
  },
  {
   "cell_type": "code",
   "execution_count": 8,
   "metadata": {
    "pycharm": {
     "name": "#%%\n"
    }
   },
   "outputs": [],
   "source": [
    "# 1 calculate steady state\n",
    "rho_ss = steadystate(liouv_tot, method=\"direct\")\n",
    "nphot_ss = expect(nphot_tot, rho_ss)\n",
    "psi = rho_ss.ptrace(0)\n",
    "\n",
    "# 2 calculate steady state\n",
    "rho_ss2 = steadystate(liouv_tot2, method=\"direct\")\n",
    "nphot_ss2 = expect(nphot_tot, rho_ss2)\n",
    "psi2 = rho_ss2.ptrace(0)\n",
    "\n",
    "# 3 calculate steady state\n",
    "rho_ss3 = steadystate(liouv_tot3, method=\"direct\")\n",
    "nphot_ss3 = expect(nphot_tot, rho_ss3)\n",
    "psi3 = rho_ss3.ptrace(0)\n",
    "\n",
    "# 4 calculate steady state\n",
    "rho_ss4 = steadystate(liouv_tot4, method=\"direct\")\n",
    "nphot_ss4 = expect(nphot_tot, rho_ss4)\n",
    "psi4 = rho_ss4.ptrace(0)\n"
   ]
  },
  {
   "cell_type": "code",
   "execution_count": 9,
   "metadata": {
    "pycharm": {
     "name": "#%%\n"
    }
   },
   "outputs": [
    {
     "name": "stdout",
     "output_type": "stream",
     "text": [
      "1 ok\n",
      "2 ok\n",
      "3 ok\n",
      "4 ok\n"
     ]
    }
   ],
   "source": [
    "# calculate Wigner function for photonic states\n",
    "nx = 1000\n",
    "xvec = np.linspace(-6, 6, nx)\n",
    "W = wigner(psi, xvec, xvec)\n",
    "print(\"1 ok\")\n",
    "W2 = wigner(psi2, xvec, xvec)\n",
    "print(\"2 ok\")\n",
    "W3 = wigner(psi3, xvec, xvec)\n",
    "print(\"3 ok\")\n",
    "W4 = wigner(psi4, xvec, xvec)\n",
    "print(\"4 ok\")\n",
    "# strings for the plot title\n",
    "g_string = np.round(g,4)\n",
    "gE_string = np.round(gE,4)\n",
    "gD_string = np.round(gD,4)\n",
    "gP_string = np.round(gP,4)\n",
    "gCE_string = np.round(gCE,4)\n",
    "gCP_string = np.round(gCP,4)\n",
    "gCD_string = np.round(gCD,4)\n",
    "k_string = np.round(kappa,4)"
   ]
  },
  {
   "cell_type": "markdown",
   "metadata": {
    "pycharm": {
     "name": "#%% md\n"
    }
   },
   "source": [
    "### Wigner function Visualization "
   ]
  },
  {
   "cell_type": "code",
   "execution_count": 10,
   "metadata": {
    "pycharm": {
     "name": "#%%\n"
    }
   },
   "outputs": [
    {
     "data": {
      "image/png": "[encoded data removed]",
      "text/plain": [
       "<Figure size 720x720 with 4 Axes>"
      ]
     },
     "metadata": {
      "needs_background": "light"
     },
     "output_type": "display_data"
    }
   ],
   "source": [
    "plt.rc('text', usetex = True)\n",
    "label_size = 25\n",
    "plt.rc('xtick', labelsize=label_size) \n",
    "plt.rc('ytick', labelsize=label_size)\n",
    "\n",
    "# 1\n",
    "Wp = np.round(W,3)\n",
    "wmap = wigner_cmap(Wp)  # Generate Wigner colormap\n",
    "nrm = mpl.colors.Normalize(0, Wp.max())\n",
    "# 2\n",
    "Wp2 = np.round(W2,3)\n",
    "wmap2 = wigner_cmap(Wp2)  # Generate Wigner colormap\n",
    "nrm2 = mpl.colors.Normalize(0, Wp2.max())\n",
    "# 3\n",
    "Wp3 = np.round(W3,3)\n",
    "wmap3 = wigner_cmap(Wp3)  # Generate Wigner colormap\n",
    "nrm3 = mpl.colors.Normalize(0, Wp3.max())\n",
    "# 4\n",
    "Wp4 = np.round(W4,3)\n",
    "wmap4 = wigner_cmap(Wp4)  # Generate Wigner colormap\n",
    "nrm4 = mpl.colors.Normalize(0, Wp4.max())\n",
    "\n",
    "\n",
    "fig, axes = plt.subplots(nrows=2, ncols=2, figsize=(10, 10))\n",
    "\n",
    "axes[0,0].contourf(xvec, xvec, Wp, 100, cmap=wmap, norm=nrm)\n",
    "axes[0,1].contourf(xvec, xvec, Wp2, 100, cmap=wmap2, norm=nrm2)\n",
    "axes[1,0].contourf(xvec, xvec, Wp3, 100, cmap=wmap3, norm=nrm3)\n",
    "axes[1,1].contourf(xvec, xvec, Wp4, 100, cmap=wmap4, norm=nrm4)\n",
    "axes[1,0].set_xlabel(r'$x$', fontsize = label_size)\n",
    "axes[1,1].set_xlabel(r'$x$', fontsize = label_size)\n",
    "\n",
    "#axes[0,0].set_ylabel(r'$p$', fontsize = label_size)\n",
    "axes[0, 0].set_title(r\"$\\kappa$, $\\gamma_\\phi$, $\\gamma_\\uparrow$\", \n",
    "                     fontsize = label_size, position=(0.2, 0.85))\n",
    "axes[0, 1].set_title(r\"$\\kappa$, $\\gamma_\\phi$, $\\gamma_\\downarrow$\", \n",
    "                     fontsize = label_size, position=(0.8, 0.85))\n",
    "axes[1, 0].set_title(r\"$\\kappa$, $\\gamma_\\phi$, $\\gamma_\\downarrow$, $\\gamma_\\Uparrow$\", \n",
    "                     fontsize = label_size, position=(0.3, 0.85))\n",
    "axes[1, 1].set_title(r\"$\\kappa$, $\\gamma_\\phi$, $\\gamma_\\downarrow$, $\\gamma_\\Downarrow$\", \n",
    "                     fontsize = label_size, position=(0.7, 0.85))\n",
    "\n",
    "axes[0,0].set_xticks([-5,0,5])\n",
    "axes[0,0].set_yticks([-5,0,5])\n",
    "axes[0,0].set_ylabel(r'$p$', fontsize = label_size)\n",
    "\n",
    "axes[0,1].set_xticks([-5,0,5])\n",
    "axes[0,1].set_yticks([-5,0,5])\n",
    "\n",
    "axes[1,0].set_ylabel(r'$p$', fontsize = label_size)\n",
    "axes[1,0].set_xticks([-5,0,5])\n",
    "axes[1,0].set_yticks([-5,0,5])\n",
    "\n",
    "axes[1,1].set_xticks([-5,0,5])\n",
    "axes[1,1].set_yticks([-5,0,5])\n",
    "\n",
    "plt.show()\n",
    "plt.close()"
   ]
  },
  {
   "cell_type": "markdown",
   "metadata": {
    "pycharm": {
     "name": "#%% md\n"
    }
   },
   "source": [
    "The Wigner function of the photonic part of the system displays the two displaced squeezed blobs typical of superradiance depending on the local and collective incoherent terms affecting the dynamics [2,3]. "
   ]
  },
  {
   "cell_type": "code",
   "execution_count": 11,
   "metadata": {
    "pycharm": {
     "name": "#%%\n"
    }
   },
   "outputs": [],
   "source": [
    "rhoss_list = []\n",
    "rhoss_list.append(rho_ss)\n",
    "rhoss_list.append(rho_ss2)\n",
    "rhoss_list.append(rho_ss3)\n",
    "rhoss_list.append(rho_ss4)\n",
    "wigner_list = []\n",
    "wigner_list.append(W)\n",
    "wigner_list.append(W2)\n",
    "wigner_list.append(W3)\n",
    "wigner_list.append(W4)\n",
    "\n",
    "# save data \n",
    "save_file = False\n",
    "if save_file == True:\n",
    "    file_name = str(\"superradiance_rhoss_Nmax{}.npz\".format(N))\n",
    "    np.savez('{}'.format(file_name), rhoss_list)\n",
    "    file_name = str(\"superradiance_wigner_list_Nmax{}.npz\".format(N))\n",
    "    np.savez('{}'.format(file_name), wigner_list)\n"
   ]
  },
  {
   "cell_type": "markdown",
   "metadata": {
    "pycharm": {
     "name": "#%% md\n"
    }
   },
   "source": [
    "## References\n",
    "\n",
    "[1] E.G. Dalla Torre *et al.*, *Phys Rev. A* **94**, 061802(R) (2016)\n",
    "\n",
    "[2] P. Kirton and J. Keeling, *Phys. Rev. Lett.* **118**, 123602 (2017)\n",
    "\n",
    "[3] N. Shammah, S. Ahmed, N. Lambert, S. De Liberato, and F. Nori, https://arxiv.org/abs/1805.05129\n",
    "\n",
    "[4] N. Shammah, N. Lambert, F. Nori, and S. De Liberato, *Phys Rev. A* **96**, 023863 (2017)\n",
    "\n",
    "[5] J. R. Johansson, P. D. Nation, and F. Nori, *Comp. Phys. Comm.* **183**, 1760 (2012) http://qutip.org\n",
    "\n",
    "[6] P. Kirton, M. M. Roses, J. Keeling, and E. G. Dalla Torre, arXiv:1805.09828 (2018)."
   ]
  },
  {
   "cell_type": "code",
   "execution_count": 12,
   "metadata": {
    "scrolled": true,
    "pycharm": {
     "name": "#%%\n"
    }
   },
   "outputs": [
    {
     "name": "stdout",
     "output_type": "stream",
     "text": [
      "\n",
      "QuTiP: Quantum Toolbox in Python\n",
      "================================\n",
      "Copyright (c) QuTiP team 2011 and later.\n",
      "Current admin team: Alexander Pitchford, Nathan Shammah, Shahnawaz Ahmed, Neill Lambert, Eric Giguère, Boxi Li, Jake Lishman, Simon Cross and Asier Galicia.\n",
      "Board members: Daniel Burgarth, Robert Johansson, Anton F. Kockum, Franco Nori and Will Zeng.\n",
      "Original developers: R. J. Johansson & P. D. Nation.\n",
      "Previous lead developers: Chris Granade & A. Grimsmo.\n",
      "Currently developed through wide collaboration. See https://github.com/qutip for details.\n",
      "\n",
      "QuTiP Version:      5.0.0.dev0+ee51e50\n",
      "Numpy Version:      1.22.4\n",
      "Scipy Version:      1.8.1\n",
      "Cython Version:     0.29.30\n",
      "Matplotlib Version: 3.5.2\n",
      "Python Version:     3.8.10\n",
      "Number of CPUs:     4\n",
      "BLAS Info:          OPENBLAS\n",
      "OPENMP Installed:   False\n",
      "INTEL MKL Ext:      False\n",
      "Platform Info:      Linux (x86_64)\n",
      "Installation path:  /home/jupyter/git/qutip/qutip\n",
      "================================================================================\n",
      "Please cite QuTiP in your publication.\n",
      "================================================================================\n",
      "For your convenience a bibtex reference can be easily generated using `qutip.cite()`\n"
     ]
    }
   ],
   "source": [
    "qutip.about()"
   ]
  }
 ],
 "metadata": {
  "kernelspec": {
   "display_name": "Python 3 (ipykernel)",
   "language": "python",
   "name": "python3"
  },
  "language_info": {
   "codemirror_mode": {
    "name": "ipython",
    "version": 3
   },
   "file_extension": ".py",
   "mimetype": "text/x-python",
   "name": "python",
   "nbconvert_exporter": "python",
   "pygments_lexer": "ipython3",
   "version": "3.8.10"
  }
 },
 "nbformat": 4,
 "nbformat_minor": 2
}