{
 "cells": [
  {
   "cell_type": "markdown",
   "metadata": {},
   "source": [
    "# One Dimensional Bose Hubbard Model with QuTiP: Introduction"
   ]
  },
  {
   "cell_type": "markdown",
   "metadata": {},
   "source": [
    "Saumya Biswas (sbiswas4@umd.edu)\n",
    "\n",
    "For more information about QuTiP see [http://qutip.org](http://qutip.org)\n",
    "\n",
    "We introduce the basic functionality of QuTiPs Lattice1d class of the lattice module."
   ]
  },
  {
   "cell_type": "markdown",
   "metadata": {},
   "source": [
    "# About\n",
    "\n",
    "The qutip.lattice module enables defining tight binding/lattice models for bosons and fermions on lattices and calculating their fundamental properties specially features arising from the translational symmetry of the lattice. The lattice classes defined are compatible with the rest of the functionalities of QuTiP and can make use of them quite conveniently."
   ]
  },
  {
   "cell_type": "markdown",
   "metadata": {},
   "source": [
    "## Multiparticle physics"
   ]
  },
  {
   "cell_type": "markdown",
   "metadata": {},
   "source": [
    "Lattice1d_f_Hubbard class deals with multi-particle physics of spin-$1/2$ electrons with the Fermi Hubbard model."
   ]
  },
  {
   "cell_type": "markdown",
   "metadata": {},
   "source": [
    "![title](images/latt_1.png)\n",
    "\n",
    "## The Bose-Hubbard model\n",
    "Defining an instance of the Lattice1d class requires formatting the second Quantized Hamiltonian in a unitcell based structure with nearest neighbor coupling only. Howewver, the functionality is limited to single particle physics only in Lattice1d class methods.\n",
    "\n",
    "\\begin{eqnarray}\n",
    "H = \\sum_{j} (\\epsilon - \\mu) b_{j}^{\\dagger} b_{j} + \\sum_{\\langle j,k \\rangle} t_{j,k} b_{j}^{\\dagger} b_{k} + U\\sum_j \\left( b_{j}^{\\dagger} b_{j} b_{j}^{\\dagger} b_{j} - b_{j}^{\\dagger} b_{j} \\right)  \\label{eq:FermiHubbard} \n",
    "\\end{eqnarray}\n",
    "\n",
    "where $b_i$ is the bosonic annihilation operator, $t_{j,k}$ is the nearest neighbour hopping, U the interaction strength. "
   ]
  },
  {
   "cell_type": "markdown",
   "metadata": {},
   "source": [
    "The Lattice1d_f_Hubbard class defines a 1d Bose Hubbard model with nearest neighbor hopping t and interaction strength U."
   ]
  },
  {
   "cell_type": "markdown",
   "metadata": {},
   "source": [
    "## How to Define a One Dimensional Bose Hubbard Model"
   ]
  },
  {
   "cell_type": "code",
   "execution_count": 1,
   "metadata": {},
   "outputs": [],
   "source": [
    "from qutip import *\n",
    "from qutip_lattice import *\n",
    "import matplotlib.pyplot as plt\n",
    "import numpy as np"
   ]
  },
  {
   "cell_type": "markdown",
   "metadata": {},
   "source": [
    "## Problems with a given symmetry"
   ]
  },
  {
   "cell_type": "markdown",
   "metadata": {},
   "source": [
    "The definition of the lattice requires the number of sites, periodicity, values for t and U. The dynamics problem can be solved on a basis with a chosen symmetry."
   ]
  },
  {
   "cell_type": "markdown",
   "metadata": {},
   "source": [
    "## Translational and particle number symmetric basis"
   ]
  },
  {
   "cell_type": "code",
   "execution_count": 2,
   "metadata": {},
   "outputs": [],
   "source": [
    "num_sites = 4\n",
    "Nmax=3\n",
    "boseHubbardLattice1d = Lattice1d_bose_Hubbard(num_sites=num_sites, boundary=\"periodic\", t=1, U=1)\n",
    "[Hamiltonian, bosonbasis] = boseHubbardLattice1d.Hamiltonian(Nmax=Nmax, filling=2, kval=0)"
   ]
  },
  {
   "cell_type": "markdown",
   "metadata": {},
   "source": [
    "All the operators computed are in the chosen basis with number and translational symmetry labeled by number and k-value."
   ]
  },
  {
   "cell_type": "code",
   "execution_count": 3,
   "metadata": {},
   "outputs": [
    {
     "data": {
      "text/latex": [
       "Quantum object: dims = [[3], [3]], shape = (3, 3), type = oper, isherm = True\\begin{equation*}\\left(\\begin{array}{*{11}c}2.0 & -2.828 & 0.0\\\\-2.828 & 0.0 & -2.828\\\\0.0 & -2.828 & 0.0\\\\\\end{array}\\right)\\end{equation*}"
      ],
      "text/plain": [
       "Quantum object: dims = [[3], [3]], shape = (3, 3), type = oper, isherm = True\n",
       "Qobj data =\n",
       "[[ 2.         -2.82842712  0.        ]\n",
       " [-2.82842712  0.         -2.82842712]\n",
       " [ 0.         -2.82842712  0.        ]]"
      ]
     },
     "execution_count": 3,
     "metadata": {},
     "output_type": "execute_result"
    }
   ],
   "source": [
    "Hamiltonian"
   ]
  },
  {
   "cell_type": "code",
   "execution_count": 4,
   "metadata": {},
   "outputs": [
    {
     "data": {
      "text/plain": [
       "{0: array([[0., 0., 0., 2.],\n",
       "        [0., 0., 1., 1.],\n",
       "        [0., 1., 0., 1.]])}"
      ]
     },
     "execution_count": 4,
     "metadata": {},
     "output_type": "execute_result"
    }
   ],
   "source": [
    "bosonbasis"
   ]
  },
  {
   "cell_type": "markdown",
   "metadata": {},
   "source": [
    "normHubbard states are the corresponding normalized states."
   ]
  },
  {
   "cell_type": "markdown",
   "metadata": {},
   "source": [
    "## Particle Number only basis"
   ]
  },
  {
   "cell_type": "code",
   "execution_count": 5,
   "metadata": {},
   "outputs": [],
   "source": [
    "[Hamiltonian, bosonbasis] = boseHubbardLattice1d.Hamiltonian(Nmax=Nmax, filling=2)"
   ]
  },
  {
   "cell_type": "markdown",
   "metadata": {},
   "source": [
    "Setting any argument to None gives a basis does not make use of that symmetry."
   ]
  },
  {
   "cell_type": "code",
   "execution_count": 6,
   "metadata": {},
   "outputs": [
    {
     "data": {
      "text/latex": [
       "Quantum object: dims = [[10], [10]], shape = (10, 10), type = oper, isherm = True\\begin{equation*}\\left(\\begin{array}{*{11}c}2.0 & -1.414 & 0.0 & 0.0 & 0.0 & 0.0 & -1.414 & 0.0 & 0.0 & 0.0\\\\-1.414 & 0.0 & -1.414 & -1.0 & 0.0 & 0.0 & 0.0 & -1.0 & 0.0 & 0.0\\\\0.0 & -1.414 & 2.0 & 0.0 & -1.414 & 0.0 & 0.0 & 0.0 & 0.0 & 0.0\\\\0.0 & -1.0 & 0.0 & 0.0 & -1.0 & 0.0 & -1.0 & 0.0 & -1.0 & 0.0\\\\0.0 & 0.0 & -1.414 & -1.0 & 0.0 & -1.414 & 0.0 & -1.0 & 0.0 & 0.0\\\\0.0 & 0.0 & 0.0 & 0.0 & -1.414 & 2.0 & 0.0 & 0.0 & -1.414 & 0.0\\\\-1.414 & 0.0 & 0.0 & -1.0 & 0.0 & 0.0 & 0.0 & -1.0 & 0.0 & -1.414\\\\0.0 & -1.0 & 0.0 & 0.0 & -1.0 & 0.0 & -1.0 & 0.0 & -1.0 & 0.0\\\\0.0 & 0.0 & 0.0 & -1.0 & 0.0 & -1.414 & 0.0 & -1.0 & 0.0 & -1.414\\\\0.0 & 0.0 & 0.0 & 0.0 & 0.0 & 0.0 & -1.414 & 0.0 & -1.414 & 2.0\\\\\\end{array}\\right)\\end{equation*}"
      ],
      "text/plain": [
       "Quantum object: dims = [[10], [10]], shape = (10, 10), type = oper, isherm = True\n",
       "Qobj data =\n",
       "[[ 2.         -1.41421356  0.          0.          0.          0.\n",
       "  -1.41421356  0.          0.          0.        ]\n",
       " [-1.41421356  0.         -1.41421356 -1.          0.          0.\n",
       "   0.         -1.          0.          0.        ]\n",
       " [ 0.         -1.41421356  2.          0.         -1.41421356  0.\n",
       "   0.          0.          0.          0.        ]\n",
       " [ 0.         -1.          0.          0.         -1.          0.\n",
       "  -1.          0.         -1.          0.        ]\n",
       " [ 0.          0.         -1.41421356 -1.          0.         -1.41421356\n",
       "   0.         -1.          0.          0.        ]\n",
       " [ 0.          0.          0.          0.         -1.41421356  2.\n",
       "   0.          0.         -1.41421356  0.        ]\n",
       " [-1.41421356  0.          0.         -1.          0.          0.\n",
       "   0.         -1.          0.         -1.41421356]\n",
       " [ 0.         -1.          0.          0.         -1.          0.\n",
       "  -1.          0.         -1.          0.        ]\n",
       " [ 0.          0.          0.         -1.          0.         -1.41421356\n",
       "   0.         -1.          0.         -1.41421356]\n",
       " [ 0.          0.          0.          0.          0.          0.\n",
       "  -1.41421356  0.         -1.41421356  2.        ]]"
      ]
     },
     "execution_count": 6,
     "metadata": {},
     "output_type": "execute_result"
    }
   ],
   "source": [
    "Hamiltonian"
   ]
  },
  {
   "cell_type": "code",
   "execution_count": 7,
   "metadata": {},
   "outputs": [
    {
     "data": {
      "text/plain": [
       "array([[0., 0., 0., 2.],\n",
       "       [0., 0., 1., 1.],\n",
       "       [0., 0., 2., 0.],\n",
       "       [0., 1., 0., 1.],\n",
       "       [0., 1., 1., 0.],\n",
       "       [0., 2., 0., 0.],\n",
       "       [1., 0., 0., 1.],\n",
       "       [1., 0., 1., 0.],\n",
       "       [1., 1., 0., 0.],\n",
       "       [2., 0., 0., 0.]])"
      ]
     },
     "execution_count": 7,
     "metadata": {},
     "output_type": "execute_result"
    }
   ],
   "source": [
    "bosonbasis"
   ]
  },
  {
   "cell_type": "markdown",
   "metadata": {},
   "source": [
    "## Lattice momentum only basis"
   ]
  },
  {
   "cell_type": "code",
   "execution_count": 8,
   "metadata": {},
   "outputs": [],
   "source": [
    "[Hamiltonian, bosonbasis] = boseHubbardLattice1d.Hamiltonian(Nmax=Nmax, filling=None, kval=0)"
   ]
  },
  {
   "cell_type": "code",
   "execution_count": 9,
   "metadata": {},
   "outputs": [
    {
     "data": {
      "text/latex": [
       "Quantum object: dims = [[70], [70]], shape = (70, 70), type = oper, isherm = True\\begin{equation*}\\left(\\begin{array}{*{11}c}0.0 & 0.0 & 0.0 & 0.0 & 0.0 & \\cdots & 0.0 & 0.0 & 0.0 & 0.0 & 0.0\\\\0.0 & -2.0 & 0.0 & 0.0 & 0.0 & \\cdots & 0.0 & 0.0 & 0.0 & 0.0 & 0.0\\\\0.0 & 0.0 & 2.0 & 0.0 & -2.828 & \\cdots & 0.0 & 0.0 & 0.0 & 0.0 & 0.0\\\\0.0 & 0.0 & 0.0 & 6.0 & 0.0 & \\cdots & 0.0 & 0.0 & 0.0 & 0.0 & 0.0\\\\0.0 & 0.0 & -2.828 & 0.0 & 0.0 & \\cdots & 0.0 & 0.0 & 0.0 & 0.0 & 0.0\\\\\\vdots & \\vdots & \\vdots & \\vdots & \\vdots & \\ddots & \\vdots & \\vdots & \\vdots & \\vdots & \\vdots\\\\0.0 & 0.0 & 0.0 & 0.0 & 0.0 & \\cdots & 6.0 & 0.0 & 0.0 & 0.0 & 0.0\\\\0.0 & 0.0 & 0.0 & 0.0 & 0.0 & \\cdots & 0.0 & 16.0 & -8.485 & 0.0 & 0.0\\\\0.0 & 0.0 & 0.0 & 0.0 & 0.0 & \\cdots & 0.0 & -8.485 & 16.0 & 0.0 & 0.0\\\\0.0 & 0.0 & 0.0 & 0.0 & 0.0 & \\cdots & 0.0 & 0.0 & 0.0 & 14.0 & 0.0\\\\0.0 & 0.0 & 0.0 & 0.0 & 0.0 & \\cdots & 0.0 & 0.0 & 0.0 & 0.0 & 24.0\\\\\\end{array}\\right)\\end{equation*}"
      ],
      "text/plain": [
       "Quantum object: dims = [[70], [70]], shape = (70, 70), type = oper, isherm = True\n",
       "Qobj data =\n",
       "[[ 0.  0.  0. ...  0.  0.  0.]\n",
       " [ 0. -2.  0. ...  0.  0.  0.]\n",
       " [ 0.  0.  2. ...  0.  0.  0.]\n",
       " ...\n",
       " [ 0.  0.  0. ... 16.  0.  0.]\n",
       " [ 0.  0.  0. ...  0. 14.  0.]\n",
       " [ 0.  0.  0. ...  0.  0. 24.]]"
      ]
     },
     "execution_count": 9,
     "metadata": {},
     "output_type": "execute_result"
    }
   ],
   "source": [
    "Hamiltonian"
   ]
  },
  {
   "cell_type": "code",
   "execution_count": 10,
   "metadata": {},
   "outputs": [
    {
     "data": {
      "text/plain": [
       "{0: array([[0., 0., 0., 0.],\n",
       "        [0., 0., 0., 1.],\n",
       "        [0., 0., 0., 2.],\n",
       "        [0., 0., 0., 3.],\n",
       "        [0., 0., 1., 1.],\n",
       "        [0., 0., 1., 2.],\n",
       "        [0., 0., 1., 3.],\n",
       "        [0., 0., 2., 1.],\n",
       "        [0., 0., 2., 2.],\n",
       "        [0., 0., 2., 3.],\n",
       "        [0., 0., 3., 1.],\n",
       "        [0., 0., 3., 2.],\n",
       "        [0., 0., 3., 3.],\n",
       "        [0., 1., 0., 1.],\n",
       "        [0., 1., 0., 2.],\n",
       "        [0., 1., 0., 3.],\n",
       "        [0., 1., 1., 1.],\n",
       "        [0., 1., 1., 2.],\n",
       "        [0., 1., 1., 3.],\n",
       "        [0., 1., 2., 1.],\n",
       "        [0., 1., 2., 2.],\n",
       "        [0., 1., 2., 3.],\n",
       "        [0., 1., 3., 1.],\n",
       "        [0., 1., 3., 2.],\n",
       "        [0., 1., 3., 3.],\n",
       "        [0., 2., 0., 2.],\n",
       "        [0., 2., 0., 3.],\n",
       "        [0., 2., 1., 1.],\n",
       "        [0., 2., 1., 2.],\n",
       "        [0., 2., 1., 3.],\n",
       "        [0., 2., 2., 1.],\n",
       "        [0., 2., 2., 2.],\n",
       "        [0., 2., 2., 3.],\n",
       "        [0., 2., 3., 1.],\n",
       "        [0., 2., 3., 2.],\n",
       "        [0., 2., 3., 3.],\n",
       "        [0., 3., 0., 3.],\n",
       "        [0., 3., 1., 1.],\n",
       "        [0., 3., 1., 2.],\n",
       "        [0., 3., 1., 3.],\n",
       "        [0., 3., 2., 1.],\n",
       "        [0., 3., 2., 2.],\n",
       "        [0., 3., 2., 3.],\n",
       "        [0., 3., 3., 1.],\n",
       "        [0., 3., 3., 2.],\n",
       "        [0., 3., 3., 3.],\n",
       "        [1., 1., 1., 1.],\n",
       "        [1., 1., 1., 2.],\n",
       "        [1., 1., 1., 3.],\n",
       "        [1., 1., 2., 2.],\n",
       "        [1., 1., 2., 3.],\n",
       "        [1., 1., 3., 2.],\n",
       "        [1., 1., 3., 3.],\n",
       "        [1., 2., 1., 2.],\n",
       "        [1., 2., 1., 3.],\n",
       "        [1., 2., 2., 2.],\n",
       "        [1., 2., 2., 3.],\n",
       "        [1., 2., 3., 2.],\n",
       "        [1., 2., 3., 3.],\n",
       "        [1., 3., 1., 3.],\n",
       "        [1., 3., 2., 2.],\n",
       "        [1., 3., 2., 3.],\n",
       "        [1., 3., 3., 2.],\n",
       "        [1., 3., 3., 3.],\n",
       "        [2., 2., 2., 2.],\n",
       "        [2., 2., 2., 3.],\n",
       "        [2., 2., 3., 3.],\n",
       "        [2., 3., 2., 3.],\n",
       "        [2., 3., 3., 3.],\n",
       "        [3., 3., 3., 3.]])}"
      ]
     },
     "execution_count": 10,
     "metadata": {},
     "output_type": "execute_result"
    }
   ],
   "source": [
    "bosonbasis"
   ]
  },
  {
   "cell_type": "markdown",
   "metadata": {},
   "source": [
    "## Complete basis: no symmetry"
   ]
  },
  {
   "cell_type": "code",
   "execution_count": 11,
   "metadata": {},
   "outputs": [],
   "source": [
    "[Hamiltonian, bosonbasis] = boseHubbardLattice1d.Hamiltonian(filling=None, kval=None)"
   ]
  },
  {
   "cell_type": "code",
   "execution_count": 12,
   "metadata": {},
   "outputs": [
    {
     "data": {
      "text/latex": [
       "Quantum object: dims = [[81], [81]], shape = (81, 81), type = oper, isherm = True\\begin{equation*}\\left(\\begin{array}{*{11}c}0.0 & 0.0 & 0.0 & 0.0 & 0.0 & \\cdots & 0.0 & 0.0 & 0.0 & 0.0 & 0.0\\\\0.0 & 0.0 & 0.0 & -1.0 & 0.0 & \\cdots & 0.0 & 0.0 & 0.0 & 0.0 & 0.0\\\\0.0 & 0.0 & 2.0 & 0.0 & -1.414 & \\cdots & 0.0 & 0.0 & 0.0 & 0.0 & 0.0\\\\0.0 & -1.0 & 0.0 & 0.0 & 0.0 & \\cdots & 0.0 & 0.0 & 0.0 & 0.0 & 0.0\\\\0.0 & 0.0 & -1.414 & 0.0 & 0.0 & \\cdots & 0.0 & 0.0 & 0.0 & 0.0 & 0.0\\\\\\vdots & \\vdots & \\vdots & \\vdots & \\vdots & \\ddots & \\vdots & \\vdots & \\vdots & \\vdots & \\vdots\\\\0.0 & 0.0 & 0.0 & 0.0 & 0.0 & \\cdots & 4.0 & 0.0 & -1.414 & 0.0 & 0.0\\\\0.0 & 0.0 & 0.0 & 0.0 & 0.0 & \\cdots & 0.0 & 6.0 & 0.0 & -2.0 & 0.0\\\\0.0 & 0.0 & 0.0 & 0.0 & 0.0 & \\cdots & -1.414 & 0.0 & 6.0 & 0.0 & 0.0\\\\0.0 & 0.0 & 0.0 & 0.0 & 0.0 & \\cdots & 0.0 & -2.0 & 0.0 & 6.0 & 0.0\\\\0.0 & 0.0 & 0.0 & 0.0 & 0.0 & \\cdots & 0.0 & 0.0 & 0.0 & 0.0 & 8.0\\\\\\end{array}\\right)\\end{equation*}"
      ],
      "text/plain": [
       "Quantum object: dims = [[81], [81]], shape = (81, 81), type = oper, isherm = True\n",
       "Qobj data =\n",
       "[[0. 0. 0. ... 0. 0. 0.]\n",
       " [0. 0. 0. ... 0. 0. 0.]\n",
       " [0. 0. 2. ... 0. 0. 0.]\n",
       " ...\n",
       " [0. 0. 0. ... 6. 0. 0.]\n",
       " [0. 0. 0. ... 0. 6. 0.]\n",
       " [0. 0. 0. ... 0. 0. 8.]]"
      ]
     },
     "execution_count": 12,
     "metadata": {},
     "output_type": "execute_result"
    }
   ],
   "source": [
    "Hamiltonian"
   ]
  },
  {
   "cell_type": "code",
   "execution_count": 13,
   "metadata": {},
   "outputs": [
    {
     "data": {
      "text/plain": [
       "array([[0., 0., 0., 0.],\n",
       "       [0., 0., 0., 1.],\n",
       "       [0., 0., 0., 2.],\n",
       "       [0., 0., 1., 0.],\n",
       "       [0., 0., 1., 1.],\n",
       "       [0., 0., 1., 2.],\n",
       "       [0., 0., 2., 0.],\n",
       "       [0., 0., 2., 1.],\n",
       "       [0., 0., 2., 2.],\n",
       "       [0., 1., 0., 0.],\n",
       "       [0., 1., 0., 1.],\n",
       "       [0., 1., 0., 2.],\n",
       "       [0., 1., 1., 0.],\n",
       "       [0., 1., 1., 1.],\n",
       "       [0., 1., 1., 2.],\n",
       "       [0., 1., 2., 0.],\n",
       "       [0., 1., 2., 1.],\n",
       "       [0., 1., 2., 2.],\n",
       "       [0., 2., 0., 0.],\n",
       "       [0., 2., 0., 1.],\n",
       "       [0., 2., 0., 2.],\n",
       "       [0., 2., 1., 0.],\n",
       "       [0., 2., 1., 1.],\n",
       "       [0., 2., 1., 2.],\n",
       "       [0., 2., 2., 0.],\n",
       "       [0., 2., 2., 1.],\n",
       "       [0., 2., 2., 2.],\n",
       "       [1., 0., 0., 0.],\n",
       "       [1., 0., 0., 1.],\n",
       "       [1., 0., 0., 2.],\n",
       "       [1., 0., 1., 0.],\n",
       "       [1., 0., 1., 1.],\n",
       "       [1., 0., 1., 2.],\n",
       "       [1., 0., 2., 0.],\n",
       "       [1., 0., 2., 1.],\n",
       "       [1., 0., 2., 2.],\n",
       "       [1., 1., 0., 0.],\n",
       "       [1., 1., 0., 1.],\n",
       "       [1., 1., 0., 2.],\n",
       "       [1., 1., 1., 0.],\n",
       "       [1., 1., 1., 1.],\n",
       "       [1., 1., 1., 2.],\n",
       "       [1., 1., 2., 0.],\n",
       "       [1., 1., 2., 1.],\n",
       "       [1., 1., 2., 2.],\n",
       "       [1., 2., 0., 0.],\n",
       "       [1., 2., 0., 1.],\n",
       "       [1., 2., 0., 2.],\n",
       "       [1., 2., 1., 0.],\n",
       "       [1., 2., 1., 1.],\n",
       "       [1., 2., 1., 2.],\n",
       "       [1., 2., 2., 0.],\n",
       "       [1., 2., 2., 1.],\n",
       "       [1., 2., 2., 2.],\n",
       "       [2., 0., 0., 0.],\n",
       "       [2., 0., 0., 1.],\n",
       "       [2., 0., 0., 2.],\n",
       "       [2., 0., 1., 0.],\n",
       "       [2., 0., 1., 1.],\n",
       "       [2., 0., 1., 2.],\n",
       "       [2., 0., 2., 0.],\n",
       "       [2., 0., 2., 1.],\n",
       "       [2., 0., 2., 2.],\n",
       "       [2., 1., 0., 0.],\n",
       "       [2., 1., 0., 1.],\n",
       "       [2., 1., 0., 2.],\n",
       "       [2., 1., 1., 0.],\n",
       "       [2., 1., 1., 1.],\n",
       "       [2., 1., 1., 2.],\n",
       "       [2., 1., 2., 0.],\n",
       "       [2., 1., 2., 1.],\n",
       "       [2., 1., 2., 2.],\n",
       "       [2., 2., 0., 0.],\n",
       "       [2., 2., 0., 1.],\n",
       "       [2., 2., 0., 2.],\n",
       "       [2., 2., 1., 0.],\n",
       "       [2., 2., 1., 1.],\n",
       "       [2., 2., 1., 2.],\n",
       "       [2., 2., 2., 0.],\n",
       "       [2., 2., 2., 1.],\n",
       "       [2., 2., 2., 2.]])"
      ]
     },
     "execution_count": 13,
     "metadata": {},
     "output_type": "execute_result"
    }
   ],
   "source": [
    "bosonbasis"
   ]
  },
  {
   "cell_type": "markdown",
   "metadata": {},
   "source": [
    "## Block-diagonalization with Translational Symmetry"
   ]
  },
  {
   "cell_type": "markdown",
   "metadata": {},
   "source": [
    "Since in a translationally symmetric system, the Hamiltonian is block-diagonalized in k-basis, the unitary transformations for the block diagonalization can be obtained with certain functions."
   ]
  },
  {
   "cell_type": "markdown",
   "metadata": {},
   "source": [
    "### Hamiltonian in a basis without translational symmetry"
   ]
  },
  {
   "cell_type": "code",
   "execution_count": 14,
   "metadata": {},
   "outputs": [],
   "source": [
    "[Hamiltonian, bosonbasis] = boseHubbardLattice1d.Hamiltonian(filling=2, kval=None)\n",
    "kVector = np.arange(start=0, stop=2*np.pi, step=2*np.pi/num_sites)\n",
    "kval = 0\n",
    "\n",
    "Uss_k0 = boseHubbardLattice1d.nums_DiagTrans_k(2, 0, Nmax=Nmax)\n",
    "Usss = boseHubbardLattice1d.nums_DiagTrans(2, Nmax=Nmax)"
   ]
  },
  {
   "cell_type": "markdown",
   "metadata": {},
   "source": [
    "### Hamiltonian in the translational symmetric basis\n",
    "The unitary transformations calculated effectuate a transformation from the basis without translational symmetry to Wannier functions with translational symmetry."
   ]
  },
  {
   "cell_type": "code",
   "execution_count": 15,
   "metadata": {},
   "outputs": [],
   "source": [
    "Hamiltonian_k = Usss * Hamiltonian * Usss.dag()"
   ]
  },
  {
   "cell_type": "code",
   "execution_count": 16,
   "metadata": {},
   "outputs": [
    {
     "data": {
      "text/plain": [
       "<matplotlib.image.AxesImage at 0x7f1304a48630>"
      ]
     },
     "execution_count": 16,
     "metadata": {},
     "output_type": "execute_result"
    },
    {
     "data": {
      "image/png": "[encoded data removed]",
      "text/plain": [
       "<Figure size 432x288 with 1 Axes>"
      ]
     },
     "metadata": {
      "needs_background": "light"
     },
     "output_type": "display_data"
    }
   ],
   "source": [
    "nHubbardStates = np.shape(Hamiltonian_k)[0]\n",
    "\n",
    "Hamiltonian_k_np = Hamiltonian_k.full()\n",
    "for i in range(nHubbardStates):\n",
    "    for j in range(nHubbardStates):\n",
    "        if np.abs(Hamiltonian_k_np[i,j]) < 1e-8:\n",
    "            Hamiltonian_k_np[i, j] = 0\n",
    "plt.spy(np.abs(Hamiltonian_k_np))"
   ]
  },
  {
   "cell_type": "markdown",
   "metadata": {},
   "source": [
    "The k=0 block can be obtained with the Uss_k0 matrix instead of reading from the matrix Hamiltonian_k_np."
   ]
  },
  {
   "cell_type": "code",
   "execution_count": 17,
   "metadata": {},
   "outputs": [
    {
     "data": {
      "text/latex": [
       "Quantum object: dims = [[3], [3]], shape = (3, 3), type = oper, isherm = True\\begin{equation*}\\left(\\begin{array}{*{11}c}2.0 & -2.828 & 0.0\\\\-2.828 & 0.0 & -2.828\\\\0.0 & -2.828 & 0.0\\\\\\end{array}\\right)\\end{equation*}"
      ],
      "text/plain": [
       "Quantum object: dims = [[3], [3]], shape = (3, 3), type = oper, isherm = True\n",
       "Qobj data =\n",
       "[[ 2.         -2.82842712  0.        ]\n",
       " [-2.82842712  0.         -2.82842712]\n",
       " [ 0.         -2.82842712  0.        ]]"
      ]
     },
     "execution_count": 17,
     "metadata": {},
     "output_type": "execute_result"
    }
   ],
   "source": [
    "Hamiltonian_k_0 = Uss_k0 * Hamiltonian * Uss_k0.dag()\n",
    "Hamiltonian_k_0"
   ]
  },
  {
   "cell_type": "markdown",
   "metadata": {},
   "source": [
    "### Hamiltonian for a k-block:\n",
    "The block diagonalized k-block Hamiltonians can be found directly with the Hamiltonian() function with a specified k as well.\n"
   ]
  },
  {
   "cell_type": "code",
   "execution_count": 18,
   "metadata": {},
   "outputs": [
    {
     "data": {
      "text/latex": [
       "Quantum object: dims = [[3], [3]], shape = (3, 3), type = oper, isherm = True\\begin{equation*}\\left(\\begin{array}{*{11}c}2.0 & -2.828 & 0.0\\\\-2.828 & 0.0 & -2.828\\\\0.0 & -2.828 & 0.0\\\\\\end{array}\\right)\\end{equation*}"
      ],
      "text/plain": [
       "Quantum object: dims = [[3], [3]], shape = (3, 3), type = oper, isherm = True\n",
       "Qobj data =\n",
       "[[ 2.         -2.82842712  0.        ]\n",
       " [-2.82842712  0.         -2.82842712]\n",
       " [ 0.         -2.82842712  0.        ]]"
      ]
     },
     "execution_count": 18,
     "metadata": {},
     "output_type": "execute_result"
    }
   ],
   "source": [
    "[Hamiltonian_k0, bosonbasis] = boseHubbardLattice1d.Hamiltonian( filling=2, kval=0)\n",
    "Hamiltonian_k0"
   ]
  },
  {
   "cell_type": "markdown",
   "metadata": {},
   "source": [
    "## Confirming the Hamiltonians formed in k-symmetric basis are indeed the same"
   ]
  },
  {
   "cell_type": "code",
   "execution_count": 19,
   "metadata": {},
   "outputs": [],
   "source": [
    "np.testing.assert_allclose(Hamiltonian_k_0, Hamiltonian_k0.full(), atol=1e-8)"
   ]
  },
  {
   "cell_type": "markdown",
   "metadata": {},
   "source": [
    "# Example: Symmetry protected Dynamics¶"
   ]
  },
  {
   "cell_type": "markdown",
   "metadata": {},
   "source": [
    "We now calculate a dynamics with loss operators and expectation values of given operators."
   ]
  },
  {
   "cell_type": "code",
   "execution_count": 20,
   "metadata": {},
   "outputs": [],
   "source": [
    "h_dim = np.shape(Hamiltonian_k0)[0]\n",
    "psi0 = np.ones(h_dim, dtype=complex)\n",
    "psi0 = Qobj(np.sqrt(psi0), dims= [[h_dim], [1]])"
   ]
  },
  {
   "cell_type": "code",
   "execution_count": 21,
   "metadata": {},
   "outputs": [
    {
     "data": {
      "text/latex": [
       "Quantum object: dims = [[3], [1]], shape = (3, 1), type = ket\\begin{equation*}\\left(\\begin{array}{*{11}c}1.0\\\\1.0\\\\1.0\\\\\\end{array}\\right)\\end{equation*}"
      ],
      "text/plain": [
       "Quantum object: dims = [[3], [1]], shape = (3, 1), type = ket\n",
       "Qobj data =\n",
       "[[1.]\n",
       " [1.]\n",
       " [1.]]"
      ]
     },
     "execution_count": 21,
     "metadata": {},
     "output_type": "execute_result"
    }
   ],
   "source": [
    "psi0"
   ]
  },
  {
   "cell_type": "code",
   "execution_count": 22,
   "metadata": {},
   "outputs": [],
   "source": [
    "psi = np.zeros(h_dim, dtype=complex)\n",
    "col_op=[]\n",
    "for i in range(h_dim):\n",
    "    psi[i] = 1\n",
    "    rsi = Qobj(psi)\n",
    "    col_i = rsi * rsi.dag()\n",
    "    col_op.append(col_i)\n",
    "    psi[i] = 0"
   ]
  },
  {
   "cell_type": "markdown",
   "metadata": {},
   "source": [
    "No specific physics conceived of in this exercise."
   ]
  },
  {
   "cell_type": "code",
   "execution_count": 23,
   "metadata": {},
   "outputs": [],
   "source": [
    "kC = Qobj(np.diag(np.ones(h_dim, dtype=complex)))"
   ]
  },
  {
   "cell_type": "code",
   "execution_count": 24,
   "metadata": {},
   "outputs": [],
   "source": [
    "tlistCN = np.linspace(0,30,601)\n",
    "options = Options(atol=1e-12)\n",
    "options.store_states = True\n",
    "evol_psi = mesolve(Hamiltonian_k0, psi0, tlistCN, col_op, [kC], options=options)"
   ]
  },
  {
   "cell_type": "code",
   "execution_count": 25,
   "metadata": {},
   "outputs": [
    {
     "data": {
      "image/png": "[encoded data removed]",
      "text/plain": [
       "<Figure size 432x288 with 1 Axes>"
      ]
     },
     "metadata": {
      "needs_background": "light"
     },
     "output_type": "display_data"
    }
   ],
   "source": [
    "plt.plot(tlistCN, evol_psi.expect[0])\n",
    "plt.xlabel('Time', fontsize=14)\n",
    "plt.ylabel(r'$\\langle k \\rangle$', fontsize=14)\n",
    "#plt.ylim([-1e-8, 1e-8])\n",
    "plt.show()\n",
    "plt.close()"
   ]
  },
  {
   "cell_type": "markdown",
   "metadata": {},
   "source": [
    "### References\n",
    "[1] J. R. Johansson, P. D. Nation, and F. Nori, Comp. Phys. Comm. 183, 1760 (2012). http://qutip.org \n",
    "\n",
    "[2] Han, JungYun, Clemens Gneiting, and Daniel Leykam. \"Helical transport in coupled resonator waveguides.\" Physical Review B 99.22 (2019): 224201.\n",
    "https://journals.aps.org/prb/abstract/10.1103/PhysRevB.99.224201#"
   ]
  },
  {
   "cell_type": "code",
   "execution_count": 66,
   "metadata": {},
   "outputs": [
    {
     "name": "stdout",
     "output_type": "stream",
     "text": [
      "\n",
      "QuTiP: Quantum Toolbox in Python\n",
      "================================\n",
      "Copyright (c) QuTiP team 2011 and later.\n",
      "Current admin team: Alexander Pitchford, Nathan Shammah, Shahnawaz Ahmed, Neill Lambert, Eric Giguère, Boxi Li, Jake Lishman and Simon Cross.\n",
      "Board members: Daniel Burgarth, Robert Johansson, Anton F. Kockum, Franco Nori and Will Zeng.\n",
      "Original developers: R. J. Johansson & P. D. Nation.\n",
      "Previous lead developers: Chris Granade & A. Grimsmo.\n",
      "Currently developed through wide collaboration. See https://github.com/qutip for details.\n",
      "\n",
      "QuTiP Version:      4.7.0.dev0+2941f20\n",
      "Numpy Version:      1.19.1\n",
      "Scipy Version:      1.5.2\n",
      "Cython Version:     0.29.21\n",
      "Matplotlib Version: 3.3.1\n",
      "Python Version:     3.6.13\n",
      "Number of CPUs:     4\n",
      "BLAS Info:          INTEL MKL\n",
      "OPENMP Installed:   True\n",
      "INTEL MKL Ext:      True\n",
      "Platform Info:      Linux (x86_64)\n",
      "Installation path:  /home/ssaumya7/Desktop/qutip_serenity/qutip/qutip\n",
      "================================================================================\n",
      "Please cite QuTiP in your publication.\n",
      "================================================================================\n",
      "For your convenience a bibtex reference can be easily generated using `qutip.cite()`\n"
     ]
    }
   ],
   "source": [
    "qutip.about()"
   ]
  },
  {
   "cell_type": "code",
   "execution_count": 67,
   "metadata": {},
   "outputs": [
    {
     "name": "stdout",
     "output_type": "stream",
     "text": [
      "@article{qutip2,\n",
      "doi = {10.1016/j.cpc.2012.11.019},\n",
      "url = {https://doi.org/10.1016/j.cpc.2012.11.019},\n",
      "year  = {2013},\n",
      "month = {apr},\n",
      "publisher = {Elsevier {BV}},\n",
      "volume = {184},\n",
      "number = {4},\n",
      "pages = {1234--1240},\n",
      "author = {J.R. Johansson and P.D. Nation and F. Nori},\n",
      "title = {{QuTiP} 2: A {P}ython framework for the dynamics of open quantum systems},\n",
      "journal = {Computer Physics Communications}\n",
      "}\n",
      "@article{qutip1,\n",
      "doi = {10.1016/j.cpc.2012.02.021},\n",
      "url = {https://doi.org/10.1016/j.cpc.2012.02.021},\n",
      "year  = {2012},\n",
      "month = {aug},\n",
      "publisher = {Elsevier {BV}},\n",
      "volume = {183},\n",
      "number = {8},\n",
      "pages = {1760--1772},\n",
      "author = {J.R. Johansson and P.D. Nation and F. Nori},\n",
      "title = {{QuTiP}: An open-source {P}ython framework for the dynamics of open quantum systems},\n",
      "journal = {Computer Physics Communications}\n",
      "}\n"
     ]
    }
   ],
   "source": [
    "qutip.cite()"
   ]
  }
 ],
 "metadata": {
  "kernelspec": {
   "display_name": "Python 3",
   "language": "python",
   "name": "python3"
  },
  "language_info": {
   "codemirror_mode": {
    "name": "ipython",
    "version": 3
   },
   "file_extension": ".py",
   "mimetype": "text/x-python",
   "name": "python",
   "nbconvert_exporter": "python",
   "pygments_lexer": "ipython3",
   "version": "3.6.13"
  }
 },
 "nbformat": 4,
 "nbformat_minor": 2
}
