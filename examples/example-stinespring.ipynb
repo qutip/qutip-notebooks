{
 "cells": [
  {
   "cell_type": "markdown",
   "metadata": {},
   "source": [
    "# QuTiP Example: Stinespring Dilation of Quantum Channels"
   ]
  },
  {
   "cell_type": "markdown",
   "metadata": {},
   "source": [
    "[Christopher Granade](http://www.cgranade.com/) <br>\n",
    "University of Sydney\n",
    "$\\newcommand{\\ket}[1]{\\left|#1\\right\\rangle}$\n",
    "$\\newcommand{\\bra}[1]{\\left\\langle#1\\right|}$\n",
    "$\\newcommand{\\cnot}{{\\scriptstyle \\rm CNOT}}$\n",
    "$\\newcommand{\\TT}{\\operatorname{T}}$\n",
    "$\\newcommand{\\Tr}{\\operatorname{Tr}}$\n",
    "$\\newcommand{\\Uni}{\\operatorname{U}}$\n",
    "$\\newcommand{\\Chan}{\\operatorname{C}}$\n",
    "$\\newcommand{\\Hil}{\\mathcal{H}}$"
   ]
  },
  {
   "cell_type": "markdown",
   "metadata": {},
   "source": [
    "## Introduction"
   ]
  },
  {
   "cell_type": "markdown",
   "metadata": {},
   "source": [
    "In this notebook, we will demonstrate the ``to_stinespring`` function, which converts a ``Qobj`` representing the quantum channel $\\Phi$ to a pair of partial isometries that describe the action of $\\Phi$.\n",
    "\n",
    "In introducing the Stinespring dilation, it is helpful to first adopt some notation. Let $\\Hil_X$, $\\Hil_Y$ and $\\Hil_Z$ be finite-dimensional Hilbert spaces. Let $\\Uni(\\Hil_X, \\Hil_Y)$ be the set of partial isometries from $\\Hil_X$ to $\\Hil_Y$, and $\\TT(\\Hil_X, \\Hil_Y)$ be the set of maps (that is, superoperators) from operators on $\\Hil_X$ to those acting on $\\Hil_Y$. Finally, let $\\Chan(\\Hil_X, \\Hil_Y) \\subset \\TT(\\Hil_X, \\Hil_Y)$ be the set of *channels*; that is, those maps which are completely positive and trace-preserving.\n",
    "\n",
    "For a quantum map $\\Phi \\in \\TT(\\Hil_X, \\Hil_Y)$, then, the Stinespring dilation of $\\Phi$ is a pair of partial isometries $A, B \\in \\Uni(\\Hil_X, \\Hil_Y \\otimes \\Hil_Z)$ for some space $\\Hil_Z$ such that\n",
    "\\begin{equation}\n",
    "    \\Phi(X) = \\Tr_Z (A X B^\\dagger).\n",
    "    \\label{eq:stinespring-action}\n",
    "\\end{equation}\n",
    "If $\\Phi$ is completely positive, then $A = B$. We do not insist on complete positivity, however, as it is common to consider the Stinespring dilation for the *difference* between two quantum channels, $\\Phi - \\Phi'$. By construction, such a map is not completely positive, nor is it trace-preserving."
   ]
  },
  {
   "cell_type": "markdown",
   "metadata": {},
   "source": [
    "Informally, the ancillary space $\\Hil_Z$ serves the same role as the Kraus index. If $\\Phi$ is a channel with Kraus operators $\\{K_i : i \\in \\{0, \\dots, k - 1\\}\\}$, then $A = B = \\sum_i K_i \\otimes \\ket{i}$, such that summation over $i$ is performed by the partial trace in \\eqref{eq:stinespring-action}.\n",
    "\n",
    "The Stinespring representation is useful for [evaluating norms](http://theoryofcomputing.org/articles/v005a011/) and for building system/environment models of a quantum channel."
   ]
  },
  {
   "cell_type": "markdown",
   "metadata": {},
   "source": [
    "### Further Resources\n",
    "\n",
    "- Watrous. [CS 766: Theory of Quantum Information (lecture notes)](https://cs.uwaterloo.ca/~watrous/CS766/) (2013).\n",
    "-  Wood, Biamonte and Cory. *Tensor networks and graphical calculus for open quantum systems*. [arXiv:1111.6950](https://scirate.com/arxiv/1111.6950) (2011).\n",
    "- Watrous. *Semidefinite Programs for Completely Bounded Norms*. [Theory of Computing **5** 217-238](http://theoryofcomputing.org/articles/v005a011/), [arXiv:0901.4709](https://scirate.com/arxiv/0901.4709) (2009)."
   ]
  },
  {
   "cell_type": "markdown",
   "metadata": {},
   "source": [
    "## Preamble"
   ]
  },
  {
   "cell_type": "markdown",
   "metadata": {},
   "source": [
    "### Features"
   ]
  },
  {
   "cell_type": "markdown",
   "metadata": {},
   "source": [
    "We enable a few features such that this notebook runs in both Python 2 and 3."
   ]
  },
  {
   "cell_type": "code",
   "execution_count": 1,
   "metadata": {
    "collapsed": false
   },
   "outputs": [],
   "source": [
    "from __future__ import division, print_function"
   ]
  },
  {
   "cell_type": "markdown",
   "metadata": {},
   "source": [
    "### Imports"
   ]
  },
  {
   "cell_type": "code",
   "execution_count": 2,
   "metadata": {
    "collapsed": false
   },
   "outputs": [],
   "source": [
    "import numpy as np\n",
    "import qutip as qt\n",
    "\n",
    "from qutip.ipynbtools import version_table"
   ]
  },
  {
   "cell_type": "markdown",
   "metadata": {},
   "source": [
    "### Plotting Support"
   ]
  },
  {
   "cell_type": "code",
   "execution_count": 3,
   "metadata": {
    "collapsed": false
   },
   "outputs": [],
   "source": [
    "%matplotlib inline"
   ]
  },
  {
   "cell_type": "markdown",
   "metadata": {},
   "source": [
    "### Settings"
   ]
  },
  {
   "cell_type": "code",
   "execution_count": 4,
   "metadata": {
    "collapsed": false
   },
   "outputs": [],
   "source": [
    "qt.settings.colorblind_safe = True"
   ]
  },
  {
   "cell_type": "markdown",
   "metadata": {},
   "source": [
    "##  Dilations of CPTP Maps"
   ]
  },
  {
   "cell_type": "markdown",
   "metadata": {},
   "source": [
    "We'll start by considering the case in which $\\Phi(X) = U X U^\\dagger$ for a random unitary operator $U \\in \\Uni(\\Hil_X, \\Hil_X)$."
   ]
  },
  {
   "cell_type": "code",
   "execution_count": 5,
   "metadata": {
    "collapsed": true
   },
   "outputs": [],
   "source": [
    "phi = qt.to_super(qt.rand_unitary_haar(4))"
   ]
  },
  {
   "cell_type": "code",
   "execution_count": 6,
   "metadata": {
    "collapsed": false
   },
   "outputs": [
    {
     "data": {
      "text/plain": [
       "(<matplotlib.figure.Figure at 0x15196b70>,\n",
       " <matplotlib.axes._subplots.AxesSubplot at 0x151aa240>)"
      ]
     },
     "execution_count": 6,
     "metadata": {},
     "output_type": "execute_result"
    },
    {
     "data": {
      "image/png": "[encoded data removed]",
      "text/plain": [
       "<matplotlib.figure.Figure at 0x15196b70>"
      ]
     },
     "metadata": {},
     "output_type": "display_data"
    }
   ],
   "source": [
    "qt.visualization.hinton(phi)"
   ]
  },
  {
   "cell_type": "markdown",
   "metadata": {},
   "source": [
    "By construction, $\\Phi$ has one Kraus operator--- the random unitary itself. Because of numerical precision in finding eigenvalues of the Choi matrix, a decomposition will result in many operators with very small norms."
   ]
  },
  {
   "cell_type": "code",
   "execution_count": 7,
   "metadata": {
    "collapsed": false
   },
   "outputs": [
    {
     "name": "stdout",
     "output_type": "stream",
     "text": [
      "2.70642265171e-09\n",
      "4.0\n",
      "1.88511414892e-08\n",
      "1.8373251e-08\n",
      "1.80758482677e-08\n",
      "1.58961212907e-08\n",
      "1.26188226114e-08\n",
      "1.1992980316e-08\n",
      "1.00658793755e-08\n",
      "7.78750895932e-09\n",
      "6.76433047695e-09\n",
      "6.99714364395e-09\n",
      "5.45340359053e-09\n",
      "5.09955742198e-09\n",
      "2.07306504802e-09\n",
      "4.37841959814e-10\n"
     ]
    }
   ],
   "source": [
    "for K in qt.to_kraus(phi):\n",
    "    print(K.norm())"
   ]
  },
  {
   "cell_type": "markdown",
   "metadata": {},
   "source": [
    "Because $\\Phi$ only has one Kraus operator, the Stinespring dilation will use a 1-dimensional ancillary space."
   ]
  },
  {
   "cell_type": "code",
   "execution_count": 8,
   "metadata": {
    "collapsed": false
   },
   "outputs": [
    {
     "name": "stdout",
     "output_type": "stream",
     "text": [
      "[[4, 1], [4]]\n"
     ]
    }
   ],
   "source": [
    "A, B = qt.to_stinespring(phi)\n",
    "print(A.dims)"
   ]
  },
  {
   "cell_type": "markdown",
   "metadata": {},
   "source": [
    "If we ask for a random channel of Choi rank 2 (that is, with 2 Kraus operators), then the corresponding space will be two-dimensional instead."
   ]
  },
  {
   "cell_type": "code",
   "execution_count": 9,
   "metadata": {
    "collapsed": false
   },
   "outputs": [
    {
     "name": "stdout",
     "output_type": "stream",
     "text": [
      "[[4, 2], [4]]\n"
     ]
    }
   ],
   "source": [
    "A, B = qt.to_stinespring(qt.rand_super_bcsz(4, rank=2))\n",
    "print(A.dims)"
   ]
  },
  {
   "cell_type": "markdown",
   "metadata": {},
   "source": [
    "Moreover, since we have demanded that $A$ and $B$ are the Stinespring pair for a channel, we can easily verify that $A = B$."
   ]
  },
  {
   "cell_type": "code",
   "execution_count": 10,
   "metadata": {
    "collapsed": false
   },
   "outputs": [
    {
     "data": {
      "text/latex": [
       "Quantum object: dims = [[4, 2], [4]], shape = [8, 4], type = other\\begin{equation*}\\left(\\begin{array}{*{11}c}0.0 & 0.0 & 0.0 & 0.0\\\\0.0 & 0.0 & 0.0 & 0.0\\\\0.0 & 0.0 & 0.0 & 0.0\\\\0.0 & 0.0 & 0.0 & 0.0\\\\0.0 & 0.0 & 0.0 & 0.0\\\\0.0 & 0.0 & 0.0 & 0.0\\\\0.0 & 0.0 & 0.0 & 0.0\\\\0.0 & 0.0 & 0.0 & 0.0\\\\\\end{array}\\right)\\end{equation*}"
      ],
      "text/plain": [
       "Quantum object: dims = [[4, 2], [4]], shape = [8, 4], type = other\n",
       "Qobj data =\n",
       "[[ 0.  0.  0.  0.]\n",
       " [ 0.  0.  0.  0.]\n",
       " [ 0.  0.  0.  0.]\n",
       " [ 0.  0.  0.  0.]\n",
       " [ 0.  0.  0.  0.]\n",
       " [ 0.  0.  0.  0.]\n",
       " [ 0.  0.  0.  0.]\n",
       " [ 0.  0.  0.  0.]]"
      ]
     },
     "execution_count": 10,
     "metadata": {},
     "output_type": "execute_result"
    }
   ],
   "source": [
    "A - B"
   ]
  },
  {
   "cell_type": "markdown",
   "metadata": {},
   "source": [
    "## Differences of Random Channels"
   ]
  },
  {
   "cell_type": "markdown",
   "metadata": {},
   "source": [
    "Next, let's consider two random qubit channels from the [BCSZ distribution]([``qutip.visualization.hinton``](http://qutip.org/docs/3.0.1/apidoc/functions.html#qutip.random_objects.rand_super_bcsz)."
   ]
  },
  {
   "cell_type": "code",
   "execution_count": 11,
   "metadata": {
    "collapsed": true
   },
   "outputs": [],
   "source": [
    "phi1 = qt.rand_super_bcsz(2)\n",
    "phi2 = qt.rand_super_bcsz(2)"
   ]
  },
  {
   "cell_type": "markdown",
   "metadata": {},
   "source": [
    "Looking at the Pauli-basis Hinton diagram for the difference between these channels gives some insight into how this map behaves."
   ]
  },
  {
   "cell_type": "code",
   "execution_count": 12,
   "metadata": {
    "collapsed": false
   },
   "outputs": [
    {
     "data": {
      "text/plain": [
       "(<matplotlib.figure.Figure at 0x15b0cda0>,\n",
       " <matplotlib.axes._subplots.AxesSubplot at 0x15afb9e8>)"
      ]
     },
     "execution_count": 12,
     "metadata": {},
     "output_type": "execute_result"
    },
    {
     "data": {
      "image/png": "[encoded data removed]",
      "text/plain": [
       "<matplotlib.figure.Figure at 0x15b0cda0>"
      ]
     },
     "metadata": {},
     "output_type": "display_data"
    }
   ],
   "source": [
    "qt.visualization.hinton(phi1 - phi2)"
   ]
  },
  {
   "cell_type": "markdown",
   "metadata": {},
   "source": [
    "In particular, note that $\\Delta\\Phi := \\Phi_1 - \\Phi_2$ annilates the traceful parts of its input, leaving an operator with negative eigenvalues. "
   ]
  },
  {
   "cell_type": "code",
   "execution_count": 13,
   "metadata": {
    "collapsed": false
   },
   "outputs": [
    {
     "name": "stdout",
     "output_type": "stream",
     "text": [
      "Trace: 4.99600361081e-16\n",
      "Eigenvalues:[-0.22021386  0.22021386]\n"
     ]
    },
    {
     "data": {
      "text/latex": [
       "Quantum object: dims = [[2], [2]], shape = [2, 2], type = oper, isherm = True\\begin{equation*}\\left(\\begin{array}{*{11}c}0.085 & (-0.090-0.183j)\\\\(-0.090+0.183j) & -0.085\\\\\\end{array}\\right)\\end{equation*}"
      ],
      "text/plain": [
       "Quantum object: dims = [[2], [2]], shape = [2, 2], type = oper, isherm = True\n",
       "Qobj data =\n",
       "[[ 0.08452680+0.j         -0.08967972-0.18250181j]\n",
       " [-0.08967972+0.18250181j -0.08452680+0.j        ]]"
      ]
     },
     "execution_count": 13,
     "metadata": {},
     "output_type": "execute_result"
    }
   ],
   "source": [
    "d_phi = qt.to_super(phi1 - phi2)\n",
    "rho_in = qt.rand_dm(2)\n",
    "rho = qt.vector_to_operator(d_phi * qt.operator_to_vector(rho_in))\n",
    "print(\"Trace: {}\\nEigenvalues:{}\".format(rho.tr(), rho.eigenenergies()))\n",
    "rho"
   ]
  },
  {
   "cell_type": "markdown",
   "metadata": {},
   "source": [
    "Because $\\Delta \\Phi$ is not completely positive, we cannot obtain a Kraus decomposition where the left and right operators are the same:"
   ]
  },
  {
   "cell_type": "code",
   "execution_count": 14,
   "metadata": {
    "collapsed": false
   },
   "outputs": [],
   "source": [
    "Ks = qt.to_kraus(d_phi)"
   ]
  },
  {
   "cell_type": "code",
   "execution_count": 15,
   "metadata": {
    "collapsed": false
   },
   "outputs": [
    {
     "data": {
      "text/latex": [
       "Quantum object: dims = [[2], [2]], shape = [2, 2], type = oper, isherm = True\\begin{equation*}\\left(\\begin{array}{*{11}c}-0.314 & (-0.078-0.163j)\\\\(-0.078+0.163j) & -0.450\\\\\\end{array}\\right)\\end{equation*}"
      ],
      "text/plain": [
       "Quantum object: dims = [[2], [2]], shape = [2, 2], type = oper, isherm = True\n",
       "Qobj data =\n",
       "[[-0.31445118+0.j         -0.07839018-0.16271572j]\n",
       " [-0.07839018+0.16271572j -0.44970363+0.j        ]]"
      ]
     },
     "execution_count": 15,
     "metadata": {},
     "output_type": "execute_result"
    }
   ],
   "source": [
    "rho - sum(K * rho_in * K.dag() for K in Ks)"
   ]
  },
  {
   "cell_type": "markdown",
   "metadata": {},
   "source": [
    "On the other hand, if we allow the left and right Kraus operators to be different, or consider a Stinespring dilation, we get the right answer:"
   ]
  },
  {
   "cell_type": "code",
   "execution_count": 16,
   "metadata": {
    "collapsed": false
   },
   "outputs": [
    {
     "data": {
      "text/latex": [
       "Quantum object: dims = [[2], [2]], shape = [2, 2], type = oper, isherm = True\\begin{equation*}\\left(\\begin{array}{*{11}c}0.0 & 0.0\\\\0.0 & 0.0\\\\\\end{array}\\right)\\end{equation*}"
      ],
      "text/plain": [
       "Quantum object: dims = [[2], [2]], shape = [2, 2], type = oper, isherm = True\n",
       "Qobj data =\n",
       "[[ 0.  0.]\n",
       " [ 0.  0.]]"
      ]
     },
     "execution_count": 16,
     "metadata": {},
     "output_type": "execute_result"
    }
   ],
   "source": [
    "A, B = qt.to_stinespring(d_phi)\n",
    "rho - (A * rho_in * B.dag()).ptrace((0,))"
   ]
  },
  {
   "cell_type": "markdown",
   "metadata": {},
   "source": [
    "## Constructing System-Environment Models"
   ]
  },
  {
   "cell_type": "markdown",
   "metadata": {},
   "source": [
    "For a channel $\\Phi \\in \\Chan(\\Hil_X, \\Hil_X)$, once we have found the Stinespring dilation $A$, we then represent $\\Phi$ as a *unitary* on the full space, $U \\in \\Uni(\\Hil_X \\otimes \\Hil_Z)$, interpreting $\\Hil_Z$ as a preparation of an environment. Concretely, we want to find $U$ such that for a preparation $\\ket{\\psi}$ of the environment,\n",
    "\\begin{equation}\n",
    "    \\Phi(X) = \\Tr_Z(U \\rho \\otimes \\ket{\\psi}\\bra{\\psi} U^\\dagger).\n",
    "\\end{equation}\n",
    "By convention, we'll choose a basis for $\\Hil_Z$ such that $\\ket{\\psi} = \\ket{0}$. Then, if we let $V = A \\otimes \\bra{0}$,\n",
    "\\begin{equation}\n",
    "    \\Tr_Z(V \\rho \\otimes \\ket{0}\\bra{0} V^\\dagger) =\n",
    "    \\Tr_Z(A \\rho \\otimes \\bra{0}\\ket{0}\\bra{0}\\ket{0} A) =\n",
    "    \\Tr_Z(A \\rho A^\\dagger)\n",
    "\\end{equation}\n",
    "as desired."
   ]
  },
  {
   "cell_type": "code",
   "execution_count": 17,
   "metadata": {
    "collapsed": false
   },
   "outputs": [
    {
     "data": {
      "text/latex": [
       "Quantum object: dims = [[3, 9], [3, 9]], shape = [27, 27], type = oper, isherm = False\\begin{equation*}\\left(\\begin{array}{*{11}c}-0.024 & 0.0 & 0.0 & 0.0 & 0.0 & \\cdots & 0.0 & 0.0 & 0.0 & 0.0 & 0.0\\\\0.149 & 0.0 & 0.0 & 0.0 & 0.0 & \\cdots & 0.0 & 0.0 & 0.0 & 0.0 & 0.0\\\\-0.382 & 0.0 & 0.0 & 0.0 & 0.0 & \\cdots & 0.0 & 0.0 & 0.0 & 0.0 & 0.0\\\\0.135 & 0.0 & 0.0 & 0.0 & 0.0 & \\cdots & 0.0 & 0.0 & 0.0 & 0.0 & 0.0\\\\-0.128 & 0.0 & 0.0 & 0.0 & 0.0 & \\cdots & 0.0 & 0.0 & 0.0 & 0.0 & 0.0\\\\\\vdots & \\vdots & \\vdots & \\vdots & \\vdots & \\ddots & \\vdots & \\vdots & \\vdots & \\vdots & \\vdots\\\\(-0.150+0.018j) & 0.0 & 0.0 & 0.0 & 0.0 & \\cdots & 0.0 & 0.0 & 0.0 & 0.0 & 0.0\\\\(-0.015-0.074j) & 0.0 & 0.0 & 0.0 & 0.0 & \\cdots & 0.0 & 0.0 & 0.0 & 0.0 & 0.0\\\\(-0.008-0.038j) & 0.0 & 0.0 & 0.0 & 0.0 & \\cdots & 0.0 & 0.0 & 0.0 & 0.0 & 0.0\\\\(0.036+0.024j) & 0.0 & 0.0 & 0.0 & 0.0 & \\cdots & 0.0 & 0.0 & 0.0 & 0.0 & 0.0\\\\(0.057+0.038j) & 0.0 & 0.0 & 0.0 & 0.0 & \\cdots & 0.0 & 0.0 & 0.0 & 0.0 & 0.0\\\\\\end{array}\\right)\\end{equation*}"
      ],
      "text/plain": [
       "Quantum object: dims = [[3, 9], [3, 9]], shape = [27, 27], type = oper, isherm = False\n",
       "Qobj data =\n",
       "[[ -2.35950366e-02+0.j           0.00000000e+00+0.j           0.00000000e+00+0.j\n",
       "    0.00000000e+00+0.j           0.00000000e+00+0.j           0.00000000e+00+0.j\n",
       "    0.00000000e+00+0.j           0.00000000e+00+0.j           0.00000000e+00+0.j\n",
       "    1.19397350e-01+0.35648863j   0.00000000e+00+0.j           0.00000000e+00+0.j\n",
       "    0.00000000e+00+0.j           0.00000000e+00+0.j           0.00000000e+00+0.j\n",
       "    0.00000000e+00+0.j           0.00000000e+00+0.j           0.00000000e+00+0.j\n",
       "    1.91014827e-01-0.12032027j   0.00000000e+00+0.j           0.00000000e+00+0.j\n",
       "    0.00000000e+00+0.j           0.00000000e+00+0.j           0.00000000e+00+0.j\n",
       "    0.00000000e+00+0.j           0.00000000e+00+0.j           0.00000000e+00+0.j        ]\n",
       " [  1.48716872e-01+0.j           0.00000000e+00+0.j           0.00000000e+00+0.j\n",
       "    0.00000000e+00+0.j           0.00000000e+00+0.j           0.00000000e+00+0.j\n",
       "    0.00000000e+00+0.j           0.00000000e+00+0.j           0.00000000e+00+0.j\n",
       "   -5.54298970e-02+0.40190269j   0.00000000e+00+0.j           0.00000000e+00+0.j\n",
       "    0.00000000e+00+0.j           0.00000000e+00+0.j           0.00000000e+00+0.j\n",
       "    0.00000000e+00+0.j           0.00000000e+00+0.j           0.00000000e+00+0.j\n",
       "   -2.04317598e-01-0.0067374j    0.00000000e+00+0.j           0.00000000e+00+0.j\n",
       "    0.00000000e+00+0.j           0.00000000e+00+0.j           0.00000000e+00+0.j\n",
       "    0.00000000e+00+0.j           0.00000000e+00+0.j           0.00000000e+00+0.j        ]\n",
       " [ -3.82153524e-01+0.j           0.00000000e+00+0.j           0.00000000e+00+0.j\n",
       "    0.00000000e+00+0.j           0.00000000e+00+0.j           0.00000000e+00+0.j\n",
       "    0.00000000e+00+0.j           0.00000000e+00+0.j           0.00000000e+00+0.j\n",
       "    1.43435745e-01+0.09325894j   0.00000000e+00+0.j           0.00000000e+00+0.j\n",
       "    0.00000000e+00+0.j           0.00000000e+00+0.j           0.00000000e+00+0.j\n",
       "    0.00000000e+00+0.j           0.00000000e+00+0.j           0.00000000e+00+0.j\n",
       "    1.81754654e-01-0.00813463j   0.00000000e+00+0.j           0.00000000e+00+0.j\n",
       "    0.00000000e+00+0.j           0.00000000e+00+0.j           0.00000000e+00+0.j\n",
       "    0.00000000e+00+0.j           0.00000000e+00+0.j           0.00000000e+00+0.j        ]\n",
       " [  1.34817733e-01+0.j           0.00000000e+00+0.j           0.00000000e+00+0.j\n",
       "    0.00000000e+00+0.j           0.00000000e+00+0.j           0.00000000e+00+0.j\n",
       "    0.00000000e+00+0.j           0.00000000e+00+0.j           0.00000000e+00+0.j\n",
       "    2.05009816e-01-0.03755935j   0.00000000e+00+0.j           0.00000000e+00+0.j\n",
       "    0.00000000e+00+0.j           0.00000000e+00+0.j           0.00000000e+00+0.j\n",
       "    0.00000000e+00+0.j           0.00000000e+00+0.j           0.00000000e+00+0.j\n",
       "   -7.07368236e-02+0.06365552j   0.00000000e+00+0.j           0.00000000e+00+0.j\n",
       "    0.00000000e+00+0.j           0.00000000e+00+0.j           0.00000000e+00+0.j\n",
       "    0.00000000e+00+0.j           0.00000000e+00+0.j           0.00000000e+00+0.j        ]\n",
       " [ -1.27612982e-01+0.j           0.00000000e+00+0.j           0.00000000e+00+0.j\n",
       "    0.00000000e+00+0.j           0.00000000e+00+0.j           0.00000000e+00+0.j\n",
       "    0.00000000e+00+0.j           0.00000000e+00+0.j           0.00000000e+00+0.j\n",
       "   -1.60875312e-01+0.19829149j   0.00000000e+00+0.j           0.00000000e+00+0.j\n",
       "    0.00000000e+00+0.j           0.00000000e+00+0.j           0.00000000e+00+0.j\n",
       "    0.00000000e+00+0.j           0.00000000e+00+0.j           0.00000000e+00+0.j\n",
       "    2.98557208e-02+0.09181601j   0.00000000e+00+0.j           0.00000000e+00+0.j\n",
       "    0.00000000e+00+0.j           0.00000000e+00+0.j           0.00000000e+00+0.j\n",
       "    0.00000000e+00+0.j           0.00000000e+00+0.j           0.00000000e+00+0.j        ]\n",
       " [  1.80461386e-01+0.j           0.00000000e+00+0.j           0.00000000e+00+0.j\n",
       "    0.00000000e+00+0.j           0.00000000e+00+0.j           0.00000000e+00+0.j\n",
       "    0.00000000e+00+0.j           0.00000000e+00+0.j           0.00000000e+00+0.j\n",
       "    4.62630917e-02-0.00870221j   0.00000000e+00+0.j           0.00000000e+00+0.j\n",
       "    0.00000000e+00+0.j           0.00000000e+00+0.j           0.00000000e+00+0.j\n",
       "    0.00000000e+00+0.j           0.00000000e+00+0.j           0.00000000e+00+0.j\n",
       "    1.65759663e-01+0.09419867j   0.00000000e+00+0.j           0.00000000e+00+0.j\n",
       "    0.00000000e+00+0.j           0.00000000e+00+0.j           0.00000000e+00+0.j\n",
       "    0.00000000e+00+0.j           0.00000000e+00+0.j           0.00000000e+00+0.j        ]\n",
       " [  1.88786156e-02+0.j           0.00000000e+00+0.j           0.00000000e+00+0.j\n",
       "    0.00000000e+00+0.j           0.00000000e+00+0.j           0.00000000e+00+0.j\n",
       "    0.00000000e+00+0.j           0.00000000e+00+0.j           0.00000000e+00+0.j\n",
       "    4.17448213e-03-0.02905506j   0.00000000e+00+0.j           0.00000000e+00+0.j\n",
       "    0.00000000e+00+0.j           0.00000000e+00+0.j           0.00000000e+00+0.j\n",
       "    0.00000000e+00+0.j           0.00000000e+00+0.j           0.00000000e+00+0.j\n",
       "   -1.37851970e-01+0.03131395j   0.00000000e+00+0.j           0.00000000e+00+0.j\n",
       "    0.00000000e+00+0.j           0.00000000e+00+0.j           0.00000000e+00+0.j\n",
       "    0.00000000e+00+0.j           0.00000000e+00+0.j           0.00000000e+00+0.j        ]\n",
       " [  1.00672728e-01+0.j           0.00000000e+00+0.j           0.00000000e+00+0.j\n",
       "    0.00000000e+00+0.j           0.00000000e+00+0.j           0.00000000e+00+0.j\n",
       "    0.00000000e+00+0.j           0.00000000e+00+0.j           0.00000000e+00+0.j\n",
       "   -4.21825480e-02+0.04306644j   0.00000000e+00+0.j           0.00000000e+00+0.j\n",
       "    0.00000000e+00+0.j           0.00000000e+00+0.j           0.00000000e+00+0.j\n",
       "    0.00000000e+00+0.j           0.00000000e+00+0.j           0.00000000e+00+0.j\n",
       "   -3.29809252e-03-0.04756849j   0.00000000e+00+0.j           0.00000000e+00+0.j\n",
       "    0.00000000e+00+0.j           0.00000000e+00+0.j           0.00000000e+00+0.j\n",
       "    0.00000000e+00+0.j           0.00000000e+00+0.j           0.00000000e+00+0.j        ]\n",
       " [ -1.48830141e-02+0.j           0.00000000e+00+0.j           0.00000000e+00+0.j\n",
       "    0.00000000e+00+0.j           0.00000000e+00+0.j           0.00000000e+00+0.j\n",
       "    0.00000000e+00+0.j           0.00000000e+00+0.j           0.00000000e+00+0.j\n",
       "    1.04319550e-02-0.00301939j   0.00000000e+00+0.j           0.00000000e+00+0.j\n",
       "    0.00000000e+00+0.j           0.00000000e+00+0.j           0.00000000e+00+0.j\n",
       "    0.00000000e+00+0.j           0.00000000e+00+0.j           0.00000000e+00+0.j\n",
       "   -2.70748457e-02+0.00303542j   0.00000000e+00+0.j           0.00000000e+00+0.j\n",
       "    0.00000000e+00+0.j           0.00000000e+00+0.j           0.00000000e+00+0.j\n",
       "    0.00000000e+00+0.j           0.00000000e+00+0.j           0.00000000e+00+0.j        ]\n",
       " [  4.39191814e-01+0.16604894j   0.00000000e+00+0.j           0.00000000e+00+0.j\n",
       "    0.00000000e+00+0.j           0.00000000e+00+0.j           0.00000000e+00+0.j\n",
       "    0.00000000e+00+0.j           0.00000000e+00+0.j           0.00000000e+00+0.j\n",
       "    3.62188570e-02-0.10850649j   0.00000000e+00+0.j           0.00000000e+00+0.j\n",
       "    0.00000000e+00+0.j           0.00000000e+00+0.j           0.00000000e+00+0.j\n",
       "    0.00000000e+00+0.j           0.00000000e+00+0.j           0.00000000e+00+0.j\n",
       "   -3.16408884e-01+0.00836428j   0.00000000e+00+0.j           0.00000000e+00+0.j\n",
       "    0.00000000e+00+0.j           0.00000000e+00+0.j           0.00000000e+00+0.j\n",
       "    0.00000000e+00+0.j           0.00000000e+00+0.j           0.00000000e+00+0.j        ]\n",
       " [ -1.13076430e-01+0.09089663j   0.00000000e+00+0.j           0.00000000e+00+0.j\n",
       "    0.00000000e+00+0.j           0.00000000e+00+0.j           0.00000000e+00+0.j\n",
       "    0.00000000e+00+0.j           0.00000000e+00+0.j           0.00000000e+00+0.j\n",
       "    3.73196443e-04+0.14550964j   0.00000000e+00+0.j           0.00000000e+00+0.j\n",
       "    0.00000000e+00+0.j           0.00000000e+00+0.j           0.00000000e+00+0.j\n",
       "    0.00000000e+00+0.j           0.00000000e+00+0.j           0.00000000e+00+0.j\n",
       "   -1.88953802e-01-0.37835231j   0.00000000e+00+0.j           0.00000000e+00+0.j\n",
       "    0.00000000e+00+0.j           0.00000000e+00+0.j           0.00000000e+00+0.j\n",
       "    0.00000000e+00+0.j           0.00000000e+00+0.j           0.00000000e+00+0.j        ]\n",
       " [ -1.06785400e-02-0.01664543j   0.00000000e+00+0.j           0.00000000e+00+0.j\n",
       "    0.00000000e+00+0.j           0.00000000e+00+0.j           0.00000000e+00+0.j\n",
       "    0.00000000e+00+0.j           0.00000000e+00+0.j           0.00000000e+00+0.j\n",
       "   -2.92541028e-01+0.05589713j   0.00000000e+00+0.j           0.00000000e+00+0.j\n",
       "    0.00000000e+00+0.j           0.00000000e+00+0.j           0.00000000e+00+0.j\n",
       "    0.00000000e+00+0.j           0.00000000e+00+0.j           0.00000000e+00+0.j\n",
       "    1.72690025e-02-0.16892631j   0.00000000e+00+0.j           0.00000000e+00+0.j\n",
       "    0.00000000e+00+0.j           0.00000000e+00+0.j           0.00000000e+00+0.j\n",
       "    0.00000000e+00+0.j           0.00000000e+00+0.j           0.00000000e+00+0.j        ]\n",
       " [  6.19637264e-02+0.23045023j   0.00000000e+00+0.j           0.00000000e+00+0.j\n",
       "    0.00000000e+00+0.j           0.00000000e+00+0.j           0.00000000e+00+0.j\n",
       "    0.00000000e+00+0.j           0.00000000e+00+0.j           0.00000000e+00+0.j\n",
       "   -2.55179931e-01-0.13612919j   0.00000000e+00+0.j           0.00000000e+00+0.j\n",
       "    0.00000000e+00+0.j           0.00000000e+00+0.j           0.00000000e+00+0.j\n",
       "    0.00000000e+00+0.j           0.00000000e+00+0.j           0.00000000e+00+0.j\n",
       "    1.06602331e-01+0.0199397j    0.00000000e+00+0.j           0.00000000e+00+0.j\n",
       "    0.00000000e+00+0.j           0.00000000e+00+0.j           0.00000000e+00+0.j\n",
       "    0.00000000e+00+0.j           0.00000000e+00+0.j           0.00000000e+00+0.j        ]\n",
       " [  3.13955195e-02+0.05842605j   0.00000000e+00+0.j           0.00000000e+00+0.j\n",
       "    0.00000000e+00+0.j           0.00000000e+00+0.j           0.00000000e+00+0.j\n",
       "    0.00000000e+00+0.j           0.00000000e+00+0.j           0.00000000e+00+0.j\n",
       "   -1.47067673e-01+0.15374496j   0.00000000e+00+0.j           0.00000000e+00+0.j\n",
       "    0.00000000e+00+0.j           0.00000000e+00+0.j           0.00000000e+00+0.j\n",
       "    0.00000000e+00+0.j           0.00000000e+00+0.j           0.00000000e+00+0.j\n",
       "    2.39120491e-02+0.25187446j   0.00000000e+00+0.j           0.00000000e+00+0.j\n",
       "    0.00000000e+00+0.j           0.00000000e+00+0.j           0.00000000e+00+0.j\n",
       "    0.00000000e+00+0.j           0.00000000e+00+0.j           0.00000000e+00+0.j        ]\n",
       " [ -1.24879776e-01-0.01502618j   0.00000000e+00+0.j           0.00000000e+00+0.j\n",
       "    0.00000000e+00+0.j           0.00000000e+00+0.j           0.00000000e+00+0.j\n",
       "    0.00000000e+00+0.j           0.00000000e+00+0.j           0.00000000e+00+0.j\n",
       "   -8.25987926e-02+0.08959245j   0.00000000e+00+0.j           0.00000000e+00+0.j\n",
       "    0.00000000e+00+0.j           0.00000000e+00+0.j           0.00000000e+00+0.j\n",
       "    0.00000000e+00+0.j           0.00000000e+00+0.j           0.00000000e+00+0.j\n",
       "   -3.06253271e-02-0.00937802j   0.00000000e+00+0.j           0.00000000e+00+0.j\n",
       "    0.00000000e+00+0.j           0.00000000e+00+0.j           0.00000000e+00+0.j\n",
       "    0.00000000e+00+0.j           0.00000000e+00+0.j           0.00000000e+00+0.j        ]\n",
       " [  5.80660021e-02+0.06132642j   0.00000000e+00+0.j           0.00000000e+00+0.j\n",
       "    0.00000000e+00+0.j           0.00000000e+00+0.j           0.00000000e+00+0.j\n",
       "    0.00000000e+00+0.j           0.00000000e+00+0.j           0.00000000e+00+0.j\n",
       "    1.85896790e-03+0.0930153j    0.00000000e+00+0.j           0.00000000e+00+0.j\n",
       "    0.00000000e+00+0.j           0.00000000e+00+0.j           0.00000000e+00+0.j\n",
       "    0.00000000e+00+0.j           0.00000000e+00+0.j           0.00000000e+00+0.j\n",
       "    1.64643252e-02-0.01191968j   0.00000000e+00+0.j           0.00000000e+00+0.j\n",
       "    0.00000000e+00+0.j           0.00000000e+00+0.j           0.00000000e+00+0.j\n",
       "    0.00000000e+00+0.j           0.00000000e+00+0.j           0.00000000e+00+0.j        ]\n",
       " [  4.96267246e-02-0.04103937j   0.00000000e+00+0.j           0.00000000e+00+0.j\n",
       "    0.00000000e+00+0.j           0.00000000e+00+0.j           0.00000000e+00+0.j\n",
       "    0.00000000e+00+0.j           0.00000000e+00+0.j           0.00000000e+00+0.j\n",
       "   -1.77425090e-02+0.00312456j   0.00000000e+00+0.j           0.00000000e+00+0.j\n",
       "    0.00000000e+00+0.j           0.00000000e+00+0.j           0.00000000e+00+0.j\n",
       "    0.00000000e+00+0.j           0.00000000e+00+0.j           0.00000000e+00+0.j\n",
       "    6.88475497e-03+0.05356497j   0.00000000e+00+0.j           0.00000000e+00+0.j\n",
       "    0.00000000e+00+0.j           0.00000000e+00+0.j           0.00000000e+00+0.j\n",
       "    0.00000000e+00+0.j           0.00000000e+00+0.j           0.00000000e+00+0.j        ]\n",
       " [ -4.65843529e-02-0.02089006j   0.00000000e+00+0.j           0.00000000e+00+0.j\n",
       "    0.00000000e+00+0.j           0.00000000e+00+0.j           0.00000000e+00+0.j\n",
       "    0.00000000e+00+0.j           0.00000000e+00+0.j           0.00000000e+00+0.j\n",
       "   -1.95705658e-03+0.02906223j   0.00000000e+00+0.j           0.00000000e+00+0.j\n",
       "    0.00000000e+00+0.j           0.00000000e+00+0.j           0.00000000e+00+0.j\n",
       "    0.00000000e+00+0.j           0.00000000e+00+0.j           0.00000000e+00+0.j\n",
       "   -3.52351922e-02+0.0343017j    0.00000000e+00+0.j           0.00000000e+00+0.j\n",
       "    0.00000000e+00+0.j           0.00000000e+00+0.j           0.00000000e+00+0.j\n",
       "    0.00000000e+00+0.j           0.00000000e+00+0.j           0.00000000e+00+0.j        ]\n",
       " [  4.65123701e-01-0.31979159j   0.00000000e+00+0.j           0.00000000e+00+0.j\n",
       "    0.00000000e+00+0.j           0.00000000e+00+0.j           0.00000000e+00+0.j\n",
       "    0.00000000e+00+0.j           0.00000000e+00+0.j           0.00000000e+00+0.j\n",
       "    3.96185822e-02-0.05639101j   0.00000000e+00+0.j           0.00000000e+00+0.j\n",
       "    0.00000000e+00+0.j           0.00000000e+00+0.j           0.00000000e+00+0.j\n",
       "    0.00000000e+00+0.j           0.00000000e+00+0.j           0.00000000e+00+0.j\n",
       "    2.10439877e-01-0.35605294j   0.00000000e+00+0.j           0.00000000e+00+0.j\n",
       "    0.00000000e+00+0.j           0.00000000e+00+0.j           0.00000000e+00+0.j\n",
       "    0.00000000e+00+0.j           0.00000000e+00+0.j           0.00000000e+00+0.j        ]\n",
       " [ -1.37821176e-01-0.11349596j   0.00000000e+00+0.j           0.00000000e+00+0.j\n",
       "    0.00000000e+00+0.j           0.00000000e+00+0.j           0.00000000e+00+0.j\n",
       "    0.00000000e+00+0.j           0.00000000e+00+0.j           0.00000000e+00+0.j\n",
       "   -7.11201001e-02-0.18802976j   0.00000000e+00+0.j           0.00000000e+00+0.j\n",
       "    0.00000000e+00+0.j           0.00000000e+00+0.j           0.00000000e+00+0.j\n",
       "    0.00000000e+00+0.j           0.00000000e+00+0.j           0.00000000e+00+0.j\n",
       "   -3.47266004e-01+0.02276467j   0.00000000e+00+0.j           0.00000000e+00+0.j\n",
       "    0.00000000e+00+0.j           0.00000000e+00+0.j           0.00000000e+00+0.j\n",
       "    0.00000000e+00+0.j           0.00000000e+00+0.j           0.00000000e+00+0.j        ]\n",
       " [  5.68418914e-02-0.08778236j   0.00000000e+00+0.j           0.00000000e+00+0.j\n",
       "    0.00000000e+00+0.j           0.00000000e+00+0.j           0.00000000e+00+0.j\n",
       "    0.00000000e+00+0.j           0.00000000e+00+0.j           0.00000000e+00+0.j\n",
       "    2.90211390e-01+0.22277663j   0.00000000e+00+0.j           0.00000000e+00+0.j\n",
       "    0.00000000e+00+0.j           0.00000000e+00+0.j           0.00000000e+00+0.j\n",
       "    0.00000000e+00+0.j           0.00000000e+00+0.j           0.00000000e+00+0.j\n",
       "   -1.46484625e-01+0.24353978j   0.00000000e+00+0.j           0.00000000e+00+0.j\n",
       "    0.00000000e+00+0.j           0.00000000e+00+0.j           0.00000000e+00+0.j\n",
       "    0.00000000e+00+0.j           0.00000000e+00+0.j           0.00000000e+00+0.j        ]\n",
       " [ -3.20961420e-02+0.146751j     0.00000000e+00+0.j           0.00000000e+00+0.j\n",
       "    0.00000000e+00+0.j           0.00000000e+00+0.j           0.00000000e+00+0.j\n",
       "    0.00000000e+00+0.j           0.00000000e+00+0.j           0.00000000e+00+0.j\n",
       "    1.62660772e-01-0.18072952j   0.00000000e+00+0.j           0.00000000e+00+0.j\n",
       "    0.00000000e+00+0.j           0.00000000e+00+0.j           0.00000000e+00+0.j\n",
       "    0.00000000e+00+0.j           0.00000000e+00+0.j           0.00000000e+00+0.j\n",
       "   -5.15218893e-02-0.08954587j   0.00000000e+00+0.j           0.00000000e+00+0.j\n",
       "    0.00000000e+00+0.j           0.00000000e+00+0.j           0.00000000e+00+0.j\n",
       "    0.00000000e+00+0.j           0.00000000e+00+0.j           0.00000000e+00+0.j        ]\n",
       " [ -1.50231862e-01+0.01803266j   0.00000000e+00+0.j           0.00000000e+00+0.j\n",
       "    0.00000000e+00+0.j           0.00000000e+00+0.j           0.00000000e+00+0.j\n",
       "    0.00000000e+00+0.j           0.00000000e+00+0.j           0.00000000e+00+0.j\n",
       "   -4.07910550e-02-0.0704371j    0.00000000e+00+0.j           0.00000000e+00+0.j\n",
       "    0.00000000e+00+0.j           0.00000000e+00+0.j           0.00000000e+00+0.j\n",
       "    0.00000000e+00+0.j           0.00000000e+00+0.j           0.00000000e+00+0.j\n",
       "    6.04592638e-02-0.04323766j   0.00000000e+00+0.j           0.00000000e+00+0.j\n",
       "    0.00000000e+00+0.j           0.00000000e+00+0.j           0.00000000e+00+0.j\n",
       "    0.00000000e+00+0.j           0.00000000e+00+0.j           0.00000000e+00+0.j        ]\n",
       " [ -1.47031074e-02-0.07388088j   0.00000000e+00+0.j           0.00000000e+00+0.j\n",
       "    0.00000000e+00+0.j           0.00000000e+00+0.j           0.00000000e+00+0.j\n",
       "    0.00000000e+00+0.j           0.00000000e+00+0.j           0.00000000e+00+0.j\n",
       "   -3.53031995e-03+0.0801527j    0.00000000e+00+0.j           0.00000000e+00+0.j\n",
       "    0.00000000e+00+0.j           0.00000000e+00+0.j           0.00000000e+00+0.j\n",
       "    0.00000000e+00+0.j           0.00000000e+00+0.j           0.00000000e+00+0.j\n",
       "    4.50980524e-02-0.05710436j   0.00000000e+00+0.j           0.00000000e+00+0.j\n",
       "    0.00000000e+00+0.j           0.00000000e+00+0.j           0.00000000e+00+0.j\n",
       "    0.00000000e+00+0.j           0.00000000e+00+0.j           0.00000000e+00+0.j        ]\n",
       " [ -8.16981657e-03-0.03849496j   0.00000000e+00+0.j           0.00000000e+00+0.j\n",
       "    0.00000000e+00+0.j           0.00000000e+00+0.j           0.00000000e+00+0.j\n",
       "    0.00000000e+00+0.j           0.00000000e+00+0.j           0.00000000e+00+0.j\n",
       "    3.29279531e-02+0.12993372j   0.00000000e+00+0.j           0.00000000e+00+0.j\n",
       "    0.00000000e+00+0.j           0.00000000e+00+0.j           0.00000000e+00+0.j\n",
       "    0.00000000e+00+0.j           0.00000000e+00+0.j           0.00000000e+00+0.j\n",
       "    3.11396677e-02-0.03092994j   0.00000000e+00+0.j           0.00000000e+00+0.j\n",
       "    0.00000000e+00+0.j           0.00000000e+00+0.j           0.00000000e+00+0.j\n",
       "    0.00000000e+00+0.j           0.00000000e+00+0.j           0.00000000e+00+0.j        ]\n",
       " [  3.55598770e-02+0.02414955j   0.00000000e+00+0.j           0.00000000e+00+0.j\n",
       "    0.00000000e+00+0.j           0.00000000e+00+0.j           0.00000000e+00+0.j\n",
       "    0.00000000e+00+0.j           0.00000000e+00+0.j           0.00000000e+00+0.j\n",
       "    5.05846381e-02+0.02591222j   0.00000000e+00+0.j           0.00000000e+00+0.j\n",
       "    0.00000000e+00+0.j           0.00000000e+00+0.j           0.00000000e+00+0.j\n",
       "    0.00000000e+00+0.j           0.00000000e+00+0.j           0.00000000e+00+0.j\n",
       "   -2.61940814e-02+0.08187241j   0.00000000e+00+0.j           0.00000000e+00+0.j\n",
       "    0.00000000e+00+0.j           0.00000000e+00+0.j           0.00000000e+00+0.j\n",
       "    0.00000000e+00+0.j           0.00000000e+00+0.j           0.00000000e+00+0.j        ]\n",
       " [  5.66959664e-02+0.0377532j    0.00000000e+00+0.j           0.00000000e+00+0.j\n",
       "    0.00000000e+00+0.j           0.00000000e+00+0.j           0.00000000e+00+0.j\n",
       "    0.00000000e+00+0.j           0.00000000e+00+0.j           0.00000000e+00+0.j\n",
       "    1.91690176e-02-0.00144883j   0.00000000e+00+0.j           0.00000000e+00+0.j\n",
       "    0.00000000e+00+0.j           0.00000000e+00+0.j           0.00000000e+00+0.j\n",
       "    0.00000000e+00+0.j           0.00000000e+00+0.j           0.00000000e+00+0.j\n",
       "   -3.22471490e-02-0.03477282j   0.00000000e+00+0.j           0.00000000e+00+0.j\n",
       "    0.00000000e+00+0.j           0.00000000e+00+0.j           0.00000000e+00+0.j\n",
       "    0.00000000e+00+0.j           0.00000000e+00+0.j           0.00000000e+00+0.j        ]]"
      ]
     },
     "execution_count": 17,
     "metadata": {},
     "output_type": "execute_result"
    }
   ],
   "source": [
    "A, B = qt.to_stinespring(qt.rand_super_bcsz(3))\n",
    "V = qt.tensor(A, qt.basis(A.dims[0][-1], 0).dag())\n",
    "# This adds an annoying left index, so let's drop it now.\n",
    "del V.dims[0][-1]\n",
    "V"
   ]
  },
  {
   "cell_type": "code",
   "execution_count": 18,
   "metadata": {
    "collapsed": false
   },
   "outputs": [
    {
     "data": {
      "text/latex": [
       "Quantum object: dims = [[3], [3]], shape = [3, 3], type = oper, isherm = True\\begin{equation*}\\left(\\begin{array}{*{11}c}0.0 & 0.0 & 0.0\\\\0.0 & 0.0 & 0.0\\\\0.0 & 0.0 & 0.0\\\\\\end{array}\\right)\\end{equation*}"
      ],
      "text/plain": [
       "Quantum object: dims = [[3], [3]], shape = [3, 3], type = oper, isherm = True\n",
       "Qobj data =\n",
       "[[ 0.  0.  0.]\n",
       " [ 0.  0.  0.]\n",
       " [ 0.  0.  0.]]"
      ]
     },
     "execution_count": 18,
     "metadata": {},
     "output_type": "execute_result"
    }
   ],
   "source": [
    "rho = qt.rand_dm_ginibre(3)\n",
    "(A * rho * A.dag()).ptrace((0,)) - (V * qt.tensor(rho, qt.ket2dm(qt.basis(A.dims[0][-1], 0))) * V.dag()).ptrace((0,))"
   ]
  },
  {
   "cell_type": "markdown",
   "metadata": {},
   "source": [
    "It thus remains to extend $V$ to act non-trivially on the full space. This is done by noting that the singular values of $V$ are each one or zero, convienently partitioning $\\Hil_X \\otimes \\Hil_Z$ into the null space of $V$ and its complement."
   ]
  },
  {
   "cell_type": "code",
   "execution_count": 19,
   "metadata": {
    "collapsed": false
   },
   "outputs": [
    {
     "data": {
      "text/latex": [
       "Quantum object: dims = [[3, 9], [3, 9]], shape = [27, 27], type = oper, isherm = True\\begin{equation*}\\left(\\begin{array}{*{11}c}1.0 & 0.0 & 0.0 & 0.0 & 0.0 & \\cdots & 0.0 & 0.0 & 0.0 & 0.0 & 0.0\\\\0.0 & 1.000 & 0.0 & 0.0 & 0.0 & \\cdots & 0.0 & 0.0 & 0.0 & 0.0 & 0.0\\\\0.0 & 0.0 & 1.000 & 0.0 & 0.0 & \\cdots & 0.0 & 0.0 & 0.0 & 0.0 & 0.0\\\\0.0 & 0.0 & 0.0 & 1.0 & 0.0 & \\cdots & 0.0 & 0.0 & 0.0 & 0.0 & 0.0\\\\0.0 & 0.0 & 0.0 & 0.0 & 1.000 & \\cdots & 0.0 & 0.0 & 0.0 & 0.0 & 0.0\\\\\\vdots & \\vdots & \\vdots & \\vdots & \\vdots & \\ddots & \\vdots & \\vdots & \\vdots & \\vdots & \\vdots\\\\0.0 & 0.0 & 0.0 & 0.0 & 0.0 & \\cdots & 1.000 & 0.0 & 0.0 & 0.0 & 0.0\\\\0.0 & 0.0 & 0.0 & 0.0 & 0.0 & \\cdots & 0.0 & 1.000 & 0.0 & 0.0 & 0.0\\\\0.0 & 0.0 & 0.0 & 0.0 & 0.0 & \\cdots & 0.0 & 0.0 & 1.000 & 0.0 & 0.0\\\\0.0 & 0.0 & 0.0 & 0.0 & 0.0 & \\cdots & 0.0 & 0.0 & 0.0 & 1.000 & 0.0\\\\0.0 & 0.0 & 0.0 & 0.0 & 0.0 & \\cdots & 0.0 & 0.0 & 0.0 & 0.0 & 1.0\\\\\\end{array}\\right)\\end{equation*}"
      ],
      "text/plain": [
       "Quantum object: dims = [[3, 9], [3, 9]], shape = [27, 27], type = oper, isherm = True\n",
       "Qobj data =\n",
       "[[ 1.  0.  0.  0.  0.  0.  0.  0.  0.  0.  0.  0.  0.  0.  0.  0.  0.  0.\n",
       "   0.  0.  0.  0.  0.  0.  0.  0.  0.]\n",
       " [ 0.  1.  0.  0.  0.  0.  0.  0.  0.  0.  0.  0.  0.  0.  0.  0.  0.  0.\n",
       "   0.  0.  0.  0.  0.  0.  0.  0.  0.]\n",
       " [ 0.  0.  1.  0.  0.  0.  0.  0.  0.  0.  0.  0.  0.  0.  0.  0.  0.  0.\n",
       "   0.  0.  0.  0.  0.  0.  0.  0.  0.]\n",
       " [ 0.  0.  0.  1.  0.  0.  0.  0.  0.  0.  0.  0.  0.  0.  0.  0.  0.  0.\n",
       "   0.  0.  0.  0.  0.  0.  0.  0.  0.]\n",
       " [ 0.  0.  0.  0.  1.  0.  0.  0.  0.  0.  0.  0.  0.  0.  0.  0.  0.  0.\n",
       "   0.  0.  0.  0.  0.  0.  0.  0.  0.]\n",
       " [ 0.  0.  0.  0.  0.  1.  0.  0.  0.  0.  0.  0.  0.  0.  0.  0.  0.  0.\n",
       "   0.  0.  0.  0.  0.  0.  0.  0.  0.]\n",
       " [ 0.  0.  0.  0.  0.  0.  1.  0.  0.  0.  0.  0.  0.  0.  0.  0.  0.  0.\n",
       "   0.  0.  0.  0.  0.  0.  0.  0.  0.]\n",
       " [ 0.  0.  0.  0.  0.  0.  0.  1.  0.  0.  0.  0.  0.  0.  0.  0.  0.  0.\n",
       "   0.  0.  0.  0.  0.  0.  0.  0.  0.]\n",
       " [ 0.  0.  0.  0.  0.  0.  0.  0.  1.  0.  0.  0.  0.  0.  0.  0.  0.  0.\n",
       "   0.  0.  0.  0.  0.  0.  0.  0.  0.]\n",
       " [ 0.  0.  0.  0.  0.  0.  0.  0.  0.  1.  0.  0.  0.  0.  0.  0.  0.  0.\n",
       "   0.  0.  0.  0.  0.  0.  0.  0.  0.]\n",
       " [ 0.  0.  0.  0.  0.  0.  0.  0.  0.  0.  1.  0.  0.  0.  0.  0.  0.  0.\n",
       "   0.  0.  0.  0.  0.  0.  0.  0.  0.]\n",
       " [ 0.  0.  0.  0.  0.  0.  0.  0.  0.  0.  0.  1.  0.  0.  0.  0.  0.  0.\n",
       "   0.  0.  0.  0.  0.  0.  0.  0.  0.]\n",
       " [ 0.  0.  0.  0.  0.  0.  0.  0.  0.  0.  0.  0.  1.  0.  0.  0.  0.  0.\n",
       "   0.  0.  0.  0.  0.  0.  0.  0.  0.]\n",
       " [ 0.  0.  0.  0.  0.  0.  0.  0.  0.  0.  0.  0.  0.  1.  0.  0.  0.  0.\n",
       "   0.  0.  0.  0.  0.  0.  0.  0.  0.]\n",
       " [ 0.  0.  0.  0.  0.  0.  0.  0.  0.  0.  0.  0.  0.  0.  1.  0.  0.  0.\n",
       "   0.  0.  0.  0.  0.  0.  0.  0.  0.]\n",
       " [ 0.  0.  0.  0.  0.  0.  0.  0.  0.  0.  0.  0.  0.  0.  0.  1.  0.  0.\n",
       "   0.  0.  0.  0.  0.  0.  0.  0.  0.]\n",
       " [ 0.  0.  0.  0.  0.  0.  0.  0.  0.  0.  0.  0.  0.  0.  0.  0.  1.  0.\n",
       "   0.  0.  0.  0.  0.  0.  0.  0.  0.]\n",
       " [ 0.  0.  0.  0.  0.  0.  0.  0.  0.  0.  0.  0.  0.  0.  0.  0.  0.  1.\n",
       "   0.  0.  0.  0.  0.  0.  0.  0.  0.]\n",
       " [ 0.  0.  0.  0.  0.  0.  0.  0.  0.  0.  0.  0.  0.  0.  0.  0.  0.  0.\n",
       "   1.  0.  0.  0.  0.  0.  0.  0.  0.]\n",
       " [ 0.  0.  0.  0.  0.  0.  0.  0.  0.  0.  0.  0.  0.  0.  0.  0.  0.  0.\n",
       "   0.  1.  0.  0.  0.  0.  0.  0.  0.]\n",
       " [ 0.  0.  0.  0.  0.  0.  0.  0.  0.  0.  0.  0.  0.  0.  0.  0.  0.  0.\n",
       "   0.  0.  1.  0.  0.  0.  0.  0.  0.]\n",
       " [ 0.  0.  0.  0.  0.  0.  0.  0.  0.  0.  0.  0.  0.  0.  0.  0.  0.  0.\n",
       "   0.  0.  0.  1.  0.  0.  0.  0.  0.]\n",
       " [ 0.  0.  0.  0.  0.  0.  0.  0.  0.  0.  0.  0.  0.  0.  0.  0.  0.  0.\n",
       "   0.  0.  0.  0.  1.  0.  0.  0.  0.]\n",
       " [ 0.  0.  0.  0.  0.  0.  0.  0.  0.  0.  0.  0.  0.  0.  0.  0.  0.  0.\n",
       "   0.  0.  0.  0.  0.  1.  0.  0.  0.]\n",
       " [ 0.  0.  0.  0.  0.  0.  0.  0.  0.  0.  0.  0.  0.  0.  0.  0.  0.  0.\n",
       "   0.  0.  0.  0.  0.  0.  1.  0.  0.]\n",
       " [ 0.  0.  0.  0.  0.  0.  0.  0.  0.  0.  0.  0.  0.  0.  0.  0.  0.  0.\n",
       "   0.  0.  0.  0.  0.  0.  0.  1.  0.]\n",
       " [ 0.  0.  0.  0.  0.  0.  0.  0.  0.  0.  0.  0.  0.  0.  0.  0.  0.  0.\n",
       "   0.  0.  0.  0.  0.  0.  0.  0.  1.]]"
      ]
     },
     "execution_count": 19,
     "metadata": {},
     "output_type": "execute_result"
    }
   ],
   "source": [
    "Vu, Vs, Vv = np.linalg.svd(V.data.todense())\n",
    "U = qt.Qobj(Vu, dims=V.dims) * qt.Qobj(Vv, dims=V.dims)\n",
    "U * U.dag()"
   ]
  },
  {
   "cell_type": "markdown",
   "metadata": {},
   "source": [
    "We finish by verifying that preparing an environment state, evolving under the system/environment unitary $U$, then partial tracing over the environment produces the same map as the original channel."
   ]
  },
  {
   "cell_type": "code",
   "execution_count": 20,
   "metadata": {
    "collapsed": false
   },
   "outputs": [
    {
     "data": {
      "text/latex": [
       "Quantum object: dims = [[3], [3]], shape = [3, 3], type = oper, isherm = True\\begin{equation*}\\left(\\begin{array}{*{11}c}0.0 & 0.0 & 0.0\\\\0.0 & 0.0 & 0.0\\\\0.0 & 0.0 & 0.0\\\\\\end{array}\\right)\\end{equation*}"
      ],
      "text/plain": [
       "Quantum object: dims = [[3], [3]], shape = [3, 3], type = oper, isherm = True\n",
       "Qobj data =\n",
       "[[ 0.  0.  0.]\n",
       " [ 0.  0.  0.]\n",
       " [ 0.  0.  0.]]"
      ]
     },
     "execution_count": 20,
     "metadata": {},
     "output_type": "execute_result"
    }
   ],
   "source": [
    "(A * rho * A.dag()).ptrace((0,)) - (U * qt.tensor(rho, qt.ket2dm(qt.basis(A.dims[0][-1], 0))) * U.dag()).ptrace((0,))"
   ]
  },
  {
   "cell_type": "markdown",
   "metadata": {},
   "source": [
    "## Epilouge"
   ]
  },
  {
   "cell_type": "code",
   "execution_count": 21,
   "metadata": {
    "collapsed": false,
    "scrolled": true
   },
   "outputs": [
    {
     "data": {
      "text/html": [
       "<table><tr><th>Software</th><th>Version</th></tr><tr><td>QuTiP</td><td>3.2.0.dev-a26b836</td></tr><tr><td>Numpy</td><td>1.9.2</td></tr><tr><td>SciPy</td><td>0.15.1</td></tr><tr><td>matplotlib</td><td>1.4.3</td></tr><tr><td>Cython</td><td>0.22</td></tr><tr><td>IPython</td><td>3.1.0</td></tr><tr><td>Python</td><td>2.7.8 |Anaconda 2.2.0 (64-bit)| (default, Jul  2 2014, 15:12:11) [MSC v.1500 64 bit (AMD64)]</td></tr><tr><td>OS</td><td>nt [win32]</td></tr><tr><td colspan='2'>Wed Apr 15 16:36:03 2015 AUS Eastern Standard Time</td></tr></table>"
      ],
      "text/plain": [
       "<IPython.core.display.HTML object>"
      ]
     },
     "execution_count": 21,
     "metadata": {},
     "output_type": "execute_result"
    }
   ],
   "source": [
    "version_table()"
   ]
  }
 ],
 "metadata": {
  "kernelspec": {
   "display_name": "Python 2",
   "language": "python",
   "name": "python2"
  },
  "language_info": {
   "codemirror_mode": {
    "name": "ipython",
    "version": 2
   },
   "file_extension": ".py",
   "mimetype": "text/x-python",
   "name": "python",
   "nbconvert_exporter": "python",
   "pygments_lexer": "ipython2",
   "version": "2.7.8"
  }
 },
 "nbformat": 4,
 "nbformat_minor": 0
}
