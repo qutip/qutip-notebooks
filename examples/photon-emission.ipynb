{
 "cells": [
  {
   "cell_type": "markdown",
   "metadata": {},
   "source": [
    "# QuTiP Lecture: Particle emission from a photon cascade\n",
    "\n",
    "D. Lukin, Stanford University\n",
    "\n",
    "In this Jupyter notebook, we use QuTiP: The Quantum Toolbox in Python to study a cascaded three level system excited by a classical pulse. This model system captures the essense of the dynamics of a biexcitonic in a quantum dot [[1,2]](#refs).\n",
    "\n",
    "For more information about QuTiP see the project web page: http://qutip.org/\n",
    "\n",
    "## Introduction\n",
    "\n",
    "The system consists of three states: ground $\\left|g\\right\\rangle$, intermediate $\\left|i\\right\\rangle$, and excited $\\left|e\\right\\rangle$. The process we are modeling is the two-photon excitation of the system with a classical pulse driving the transition $\\left|g\\right\\rangle \\to  \\left|e\\right\\rangle$. The system is coupled to two decay channels, via collapse operators \n",
    " $\\sigma_1 = \\sqrt{\\gamma_1} \\left|i\\right\\rangle \\left\\langle e\\right| $ and $\\sigma_2 = \\sqrt{\\gamma_2} \\left|g\\right\\rangle \\left\\langle i\\right| $. Here, $\\gamma_1$ and $\\gamma_2$ are the coupling strength of the system to channels 1 and 2. In all simulations, we are setting $2\\gamma_2 = \\gamma_1 = \\gamma$.\n",
    " \n",
    "In a frame rotating at the laser's frequency for the two-photon resonance, the system Hamiltonian is given by \n",
    "\n",
    "$$H_{\\mbox{sys}} = H_0 + H_E(t)$$\n",
    "\n",
    "where $$H_0 = E_b/2 \\left|i\\right\\rangle \\left\\langle i\\right|$$ \n",
    "\n",
    "and $H_E$ represents two-photon excitation of the system by a classical pulse in the rotating wave appoximation. Further,\n",
    "\n",
    "$$H_I(t) =  \\frac{(\\mu \\cdot E(t))^2}{E_b} (\\left|g\\right\\rangle \\left\\langle e\\right| + \\left|e\\right\\rangle \\left\\langle g\\right|) .$$\n",
    "\n",
    "Here, $E(t)$ is the time dependent electric field pulse driving the system, $\\mu$ is the coupling strength, and $E_b$ is the binding energy of the biexciton. The driving strength depends on the square of $\\mu \\cdot E(t)$ because the coherent drive occurs via virtual excitation of the intermediate state.\n",
    "\n",
    "The system-only evolution (tracing over the dynamics of the two channels into which the system spontaneously emits), is given by the Master Equation:\n",
    "\\begin{equation}\n",
    "\\partial_t \\rho = \\mathcal L\\rho = -i[H_I(t), \\rho] + \\mathcal D[\\sigma_1]\\rho +  \\mathcal D[ \\sigma_2]\\rho,\n",
    "\\end{equation}\n",
    "where $\\mathcal D[c]\\rho = c\\rho c^\\dagger - \\frac 12 (c^\\dagger c \\rho + \\rho c^\\dagger c)$ is the standard Lindblad dissipator."
   ]
  },
  {
   "cell_type": "markdown",
   "metadata": {},
   "source": [
    "## Setting Up Computation in QuTiP"
   ]
  },
  {
   "cell_type": "code",
   "execution_count": 1,
   "metadata": {
    "collapsed": false
   },
   "outputs": [],
   "source": [
    "%matplotlib inline"
   ]
  },
  {
   "cell_type": "code",
   "execution_count": 2,
   "metadata": {
    "collapsed": true
   },
   "outputs": [],
   "source": [
    "import matplotlib.pyplot as plt\n",
    "import numpy as np\n",
    "from qutip import *"
   ]
  },
  {
   "cell_type": "markdown",
   "metadata": {},
   "source": [
    "### Setup of time discretization and pulse"
   ]
  },
  {
   "cell_type": "code",
   "execution_count": 3,
   "metadata": {
    "collapsed": true
   },
   "outputs": [],
   "source": [
    "# time parameters\n",
    "gamma = 1.0                         # decay rate, sets the overall timescale of the system\n",
    "globaldt = 0.15/gamma               # default time step\n",
    "minpointsperpulse = 5.0             # minimum time resolution of a pulse        \n",
    "\n",
    "# define function E(t), a gaussian.\n",
    "def pulse_shape(t, args):\n",
    "    width = args['width']\n",
    "    norm = args['norm']\n",
    "\n",
    "    pulse_t_offset = 3.5\n",
    "    t_offset = width*pulse_t_offset\n",
    "    return norm * np.exp(-(t - t_offset) ** 2.0 /\n",
    "                                  (2.0 * width ** 2.0))\n",
    "\n",
    "# pulse normalization function\n",
    "def pulsenormconst(args):\n",
    "    args['norm'] = 1.0\n",
    "    tlist = tlistfunc(args)\n",
    "    unnorm_pulse = [pulse_shape(t, args) for t in tlist]\n",
    "    unnorm_pulse_area = np.trapz(unnorm_pulse, tlist)\n",
    "    return 1/unnorm_pulse_area\n",
    "\n",
    "# in order to speed up the simulation for shorter pulses, we take advantage of \n",
    "# QuTiP's built in support for variable time steps. This function generates a \n",
    "# the list of times for which system dynamics will be calculated.\n",
    "def tlistfunc(args):\n",
    "    width = args['width']\n",
    "    norm = args['norm']\n",
    "    tmin = args['tmin']\n",
    "    tmax = args['tmax']\n",
    "    \n",
    "    tlist = []\n",
    "\n",
    "    pulse_t_offset = 3.5\n",
    "    \n",
    "    # if the global time resolution satisfies the minimum number of points per \n",
    "    # pulse, make time list a simple linearly-spaced set of points.\n",
    "    if width/minpointsperpulse > globaldt: \n",
    "        tlist = np.linspace(tmin, tmax, int((tmax - tmin)/globaldt))\n",
    "        \n",
    "    # otherwise, increase resolution inside the pulse only.\n",
    "    else:       \n",
    "        tlist1 = np.linspace(tmin, width*pulse_t_offset*2.0, \\\n",
    "                             int(minpointsperpulse*(pulse_t_offset*2.0 - tmin)))[:-1]\n",
    "        tlist2 = np.linspace(width*pulse_t_offset*2.0, tmax, \\\n",
    "                             int((tmax - width*pulse_t_offset*2.0)/globaldt))\n",
    "        tlist = np.append(tlist1, tlist2)\n",
    "    \n",
    "    return tlist\n",
    "\n",
    "def prepare_pulse(width):\n",
    "    pulseargs = {'width':width * gamma, 'tmin':0.0, 'tmax':width*1.5 + 5.0/gamma} # define pulse properties\n",
    "    pulseargs['norm'] = pulse_area * pulsenormconst(pulseargs)    # compute numerically the normalization constant\n",
    "    tlist = tlistfunc(pulseargs)                                  # generate time list \n",
    "    pulse = [pulse_shape(t, pulseargs) for t in tlist]            # generate pulse shape\n",
    "    return tlist, pulse, pulseargs"
   ]
  },
  {
   "cell_type": "markdown",
   "metadata": {},
   "source": [
    "### Setup of the physics\n",
    "\n",
    "For this notebook, we consider the case of so-called $\\pi$ area pulses, which for short pulses prepare the system in the excited state $|e\\rangle$."
   ]
  },
  {
   "cell_type": "code",
   "execution_count": 4,
   "metadata": {
    "collapsed": true
   },
   "outputs": [],
   "source": [
    "C = 1 # includes dipole coupling strength and binding energy\n",
    "\n",
    "pulse_area = np.pi/(C**2) # setting area of pulse to Pi.\n",
    "\n",
    "#System state space\n",
    "g = fock(3,0)\n",
    "i = fock(3,1)\n",
    "e = fock(3,2)\n",
    "\n",
    "# Hamiltonian\n",
    "H0 = qeye(3)                          # identity because we are in the interaction picture\n",
    "H_I = C/2 * (e*g.dag() + g*e.dag())  # time dependent field\n",
    "H = [H0, [H_I, pulse_shape]]          # complete system Hamiltonian\n",
    "\n",
    "s1 = np.sqrt(2*gamma) * i*e.dag()     # lowering operator for channel 1\n",
    "s2 = np.sqrt(gamma) * g*i.dag()       # lowering operator for channel 2"
   ]
  },
  {
   "cell_type": "markdown",
   "metadata": {},
   "source": [
    "## Dynamics of System Expectation Values\n",
    "We begin by checking that the system is set up correctly by computing the system dynamics given by \n",
    "$$\n",
    "\\partial_t \\rho = \\mathcal L\\rho = -i[H_I(t), \\rho] + \\mathcal D[\\sqrt{\\gamma_1} \\sigma_1]\\rho +  \\mathcal D[\\sqrt{\\gamma_2} \\sigma_2]\\rho,\n",
    "$$\n",
    "and extracting the expectation values of projection operators $\\Pi_i = \\left|i\\right\\rangle \\left\\langle i\\right|$ and $\\Pi_e = \\left|e\\right\\rangle \\left\\langle e\\right|$."
   ]
  },
  {
   "cell_type": "code",
   "execution_count": 5,
   "metadata": {
    "collapsed": false
   },
   "outputs": [
    {
     "data": {
      "image/png": "[encoded data removed]",
      "text/plain": [
       "<matplotlib.figure.Figure at 0x7f08dd74d208>"
      ]
     },
     "metadata": {},
     "output_type": "display_data"
    }
   ],
   "source": [
    "#prepare pulse (argument is pulse width)\n",
    "tlist, pulse, pulseargs = prepare_pulse(0.001)\n",
    "\n",
    "#compute system evolution and expectation values of projectors. Supply pulseargs as parameter for H(t).\n",
    "result = mesolve(H, g, tlist, [s1, s2], [e*e.dag(), i*i.dag()], args=pulseargs)\n",
    "e_expvals = result.expect[0]\n",
    "i_expvals = result.expect[1]\n",
    "\n",
    "#plot the data\n",
    "fig,ax=plt.subplots(figsize=(8,5))\n",
    "ax.plot(tlist,e_expvals, label=\"population E\")\n",
    "ax.plot(tlist,i_expvals, label=\"population I\")\n",
    "ax.legend()\n",
    "ax.set_xlabel('Time');\n",
    "ax.set_ylabel('Population');\n",
    "ax.set_xlim(0, 5)\n",
    "ax.set_title('System evolution');"
   ]
  },
  {
   "cell_type": "markdown",
   "metadata": {
    "collapsed": true
   },
   "source": [
    "We see that the system behaves correctly: The short pulse dynamics are captured, where the system briefly visits unity excitation of the excite state, indicating that time discretization is properly set up. Note also that the decay rate of $\\left|e\\right\\rangle$ is twice as fast as the decay rate of $\\left|i\\right\\rangle$.\n",
    "\n",
    "It is straightforward to compute the expectation value for the total number of photons emitted into either channel, since the rate of photon emission is given by $\\mbox{Tr}[\\rho(t) \\sigma_1^\\dagger \\sigma_1]$ or $\\mbox{Tr}[\\rho(t) \\sigma_2^\\dagger \\sigma_2]$ and thus \n",
    "$$\\langle N\\rangle = \\int_0^\\infty\\mbox{Tr}[\\rho(t) \\ \\sigma_1^\\dagger \\sigma_1] \\ dt = \\gamma_1 \\int_0^\\infty \\langle \\Pi_e \\rangle \\ dt$$"
   ]
  },
  {
   "cell_type": "code",
   "execution_count": 6,
   "metadata": {
    "collapsed": false
   },
   "outputs": [
    {
     "name": "stdout",
     "output_type": "stream",
     "text": [
      "0.9977906071836861\n"
     ]
    }
   ],
   "source": [
    "Nexp = 2*gamma*np.trapz(result.expect[0], tlist); print(Nexp)"
   ]
  },
  {
   "cell_type": "markdown",
   "metadata": {},
   "source": [
    "\n",
    "## Computing N-photon emission probabilities\n",
    "\n",
    "Using the formalism of conditioned evolution, the $N$-photon emission probability is given by\n",
    "$$P(N) = \\int_0^\\infty dt_1 \\int_0^\\infty dt_2 \\dots \\int_0^\\infty dt_N \\ p(t_1, t_2, \\dots t_N),$$\n",
    "where $p(t_1, t_2, \\dots t_N)$ is the probability that the system emits photons at only times $\\{t_1, t_2, \\dots t_N\\}$. \n",
    "\n",
    "The number of photons emitted into channels 1 and 2 is always equal, because of the cascade nature of the system. We can thus choose to monitor (condition) the emission from either channel, while tracing over the state of the second channel. We choose, arbitrarily, to monitor channel 1.\n",
    "\n",
    "We define the collapse superoperator for channel $1$ as $\\mathcal S\\rho = \\sigma_1\\rho \\sigma_1^\\dagger$, and the nonunitary evolution conditioned on no emision as $\\mathcal K = \\mathcal L - \\mathcal S$. Then $p(t_1, t_2, \\dots t_N)$ is given by\n",
    "$$p(t_1, t_2, \\dots t_N) = \\mbox{Tr}[\\mathcal K(\\infty, t_N) \\ \\mathcal S \\ \\mathcal K(t_N, t_{N-1}) \\ \\mathcal S \\ \\dots \\ \\mathcal S \\ \\mathcal K(t_1, 0)\\left| g \\right\\rangle \\left \\langle g \\right |]$$\n",
    "\n",
    "This expression for $p(t_1, t_2, \\dots t_N)$ is derived in Carmichael, Chapter 7 [[3](#refs)]. Since the final state of the atom is always $\\left | g\\right \\rangle$, the trace takes only a single entry of the density matrix $\\left\\langle g\\right |\\rho(t\\rightarrow\\infty)\\left | g \\right\\rangle$.\n",
    "\n",
    "Explicitly the superoperator $\\mathcal K$ is\n",
    "$$\n",
    "\\mathcal K\\rho = -i[H_I(t), \\rho] +\\mathcal D[\\sqrt{\\gamma_2} \\sigma_2]\\rho - (\\sigma_1^\\dagger\\sigma_1 \\rho + \\rho \\sigma_1^\\dagger\\sigma_1)/2\n",
    "$$\n",
    "We set up $\\mathcal K$ in QuTiP as follows:"
   ]
  },
  {
   "cell_type": "code",
   "execution_count": 7,
   "metadata": {
    "collapsed": true
   },
   "outputs": [],
   "source": [
    "Ktimedep = -1.0j * C/2 * (spre(e*g.dag() + g*e.dag()) - spost(e*g.dag() + g*e.dag()))\n",
    "Ktimeindep =  - 0.5 * (spre(s1.dag()*s1) + spost(s1.dag()*s1)) \\\n",
    "              + sprepost(s2, s2.dag()) - 0.5*(spre(s2.dag()*s2) + spost(s2.dag()*s2))\n",
    "\n",
    "K =  [Ktimeindep, [Ktimedep, pulse_shape]]"
   ]
  },
  {
   "cell_type": "markdown",
   "metadata": {
    "collapsed": true
   },
   "source": [
    "To evaluate $p(t_1, t_2, \\dots t_N)$, we initialize the system in the ground state $\\rho(0) = \\left|g\\right\\rangle \\left\\langle g \\right |$, and evolve it with $\\mathcal K$ from $t = 0$ to $t = t_1$. Then we act on the evolved $\\rho$ with $\\mathcal S$, then evolve with $\\mathcal K$ until $t = t_2$, etc.\n",
    "\n",
    "When computing the total $N$-photon probability $P(N)$, it is possible to re-use solutions from different trajectories to make the algorithm more time-efficient. A natural implementation of this is with recursion."
   ]
  },
  {
   "cell_type": "code",
   "execution_count": 8,
   "metadata": {
    "collapsed": false
   },
   "outputs": [
    {
     "name": "stdout",
     "output_type": "stream",
     "text": [
      "P(0) = 0.002715148979783426\n",
      "P(1) = 0.9873106987545373\n",
      "P(2) = 0.0009142280636881267\n"
     ]
    }
   ],
   "source": [
    "#parameters\n",
    "width = 0.05 #pulse width\n",
    "\n",
    "#prepare pulse\n",
    "tlist, pulse, pulseargs = prepare_pulse(width)\n",
    "\n",
    "def conditionalIteration(rhoinit, totalphotons, iternumber, tinitindex):\n",
    "    '''\n",
    "    Recursive function that computes the probability of emission of N photons, P(N) \n",
    "    rhoinit - initial state of the system\n",
    "    totalphotons - N\n",
    "    iternumber - current recursion level\n",
    "    tinitindex - the index in tlist that determines the timestep from which to begin the recursive computataion\n",
    "    '''\n",
    "    curritertrajprobs = []\n",
    "    curritertimes = []\n",
    "    if iternumber == totalphotons: \n",
    "        out = mesolve(K, rhoinit, tlist[tinitindex:], [], [], args=pulseargs)\n",
    "        rho = out.states[-1]\n",
    "        prob = expect(g*g.dag(), rho)\n",
    "        if totalphotons == 0: #if calculating P(0), the innermost recursion step is also the \n",
    "            return prob       #outermost one, so return probability, not probability density.\n",
    "        else:                 #else return the probability density \n",
    "            return tlist[tinitindex], prob\n",
    "    else:\n",
    "        conditionedrho = mesolve(K, rhoinit, tlist[tinitindex:], [], [], args=pulseargs)\n",
    "        for i in range(tinitindex,len(tlist)):\n",
    "            rho = conditionedrho.states[i - tinitindex]\n",
    "            rhoprojected = s1 * rho * s1.dag()\n",
    "            outtime,outtrajprob = conditionalIteration(rhoprojected, totalphotons, iternumber + 1, i)\n",
    "            curritertrajprobs.append(outtrajprob)\n",
    "            curritertimes.append(outtime)\n",
    "        integral = abs(np.trapz(curritertrajprobs, curritertimes))\n",
    "        if iternumber == 0:\n",
    "            return integral                    #for the outermost loop, return final cummilative probability.\n",
    "        else:\n",
    "            return integral, tlist[tinitindex] #for inner loops return probability density term by term.\n",
    "\n",
    "#Calculate N-photon probabilities by calling the recursive function\n",
    "P0 = conditionalIteration(g*g.dag(), 0, 0, 0); print(\"P(0) = \" + str(P0))\n",
    "P1 = conditionalIteration(g*g.dag(), 1, 0, 0); print(\"P(1) = \" + str(P1))\n",
    "P2 = conditionalIteration(g*g.dag(), 2, 0, 0); print(\"P(2) = \" + str(P2))"
   ]
  },
  {
   "cell_type": "markdown",
   "metadata": {},
   "source": [
    "Thus, we see that for a short pulse, the system acts as a good single photon source. This calculation may require higher time resolution for short pulses to achieve high accuracy. "
   ]
  },
  {
   "cell_type": "markdown",
   "metadata": {},
   "source": [
    "## Computing the system+channel density matrix\n",
    "\n",
    "The results in the section are covered in Ref. [[2]](#refs).\n",
    "\n",
    "We take a step back and consider a representation of the three-level system coupled to two dissipative channels where no information about the state is discarded. In the coarse-grained time basis [[4]](#refs), the state can be written as\n",
    "\n",
    "$$\\left|\\Psi\\right\\rangle = \\sum_{\\phi_j, \\mathbf T_1, \\mathbf T_2} c_{\\phi_j, \\mathbf T_1, \\mathbf T_2} \\left|\\phi_j, \\mathbf T_1, \\mathbf T_2\\right\\rangle,$$\n",
    "where $\\phi_j \\in \\{g, j, e\\}$, $\\mathbf T_k = \\{t_1, t_2, \\cdots, t_N\\}$ is the list of times when a photon was emitted into channel $k$.\n",
    "\n",
    "We may now trace over the second channel, thus obtaining a mixed state:\n",
    "\n",
    "$$\\chi = \\mbox{Tr}_{\\mathbf T_2}[\\left|\\Psi\\right\\rangle \\left\\langle \\Psi \\right |] = \\sum_{\\mathbf T''_2} \\sum_{\\phi_j, \\mathbf T_1, \\mathbf T_2} \\sum_{\\phi_j', \\mathbf T_1', \\mathbf T_2'} c_{\\phi_j, \\mathbf T_1, \\mathbf T_2} c^*_{\\phi'_j, \\mathbf T_1', \\mathbf T_2'}\\langle \\mathbf T_2''  \\left|\\phi_j, \\mathbf T_1, \\mathbf T_2\\right\\rangle \\langle \\phi'_j, \\mathbf T'_1, \\mathbf T'_2  \\left|\\mathbf T''_2\\right\\rangle.$$\n",
    "\n",
    "The modes of channel 2 are orthogonal, thus,\n",
    "\n",
    "\n",
    "$$\\chi = \\sum_{\\mathbf T_2} \\sum_{\\phi_j, \\mathbf T_1} \\sum_{\\phi_j', \\mathbf T_1'} c_{\\phi_j, \\mathbf T_1, \\mathbf T_2} c^*_{\\phi'_j, \\mathbf T_1', \\mathbf T_2}\\langle \\mathbf T_2  \\left|\\phi_j, \\mathbf T_1, \\mathbf T_2\\right\\rangle \\langle \\phi'_j, \\mathbf T'_1, \\mathbf T_2  \\left|\\mathbf T_2\\right\\rangle.$$\n",
    "\n",
    "We can re-define the states in the Hilbert space of system and channel 1 only, and write:\n",
    "\n",
    "$$\\chi = \\sum_{\\phi_j, \\mathbf T_1} \\sum_{\\phi_j', \\mathbf T_1'} \\Big(\\sum_{\\mathbf T_2} c_{\\phi_j, \\mathbf T_1, \\mathbf T_2} c^*_{\\phi'_j, \\mathbf T_1', \\mathbf T_2}\\Big) \\left|\\phi_j, \\mathbf T_1\\right\\rangle\\left\\langle\\phi'_j, \\mathbf T'_1\\right|$$\n",
    "\n",
    "We see that \n",
    "$$\\sum_{\\mathbf T_2} c_{\\phi_j, \\mathbf T_1, \\mathbf T_2} c^*_{\\phi'_i, \\mathbf T_1', \\mathbf T_2} = \\left\\langle\\phi'_i, \\mathbf T'_1\\right|\\chi\\left|\\phi_j, \\mathbf T_1\\right\\rangle$$ is the matrix element of the reduced density matrix of the system and channel 1 only. Note that since the initial state and final state of the system is $\\left | g\\right\\rangle$, only elements $\\phi_j = \\phi_j' = g$ are nonzero. We can thus drop the system state labels and denote the matrix elements by $\\left\\langle\\mathbf T'_1\\right|\\chi\\left| \\mathbf T_1\\right\\rangle $.\n",
    "\n",
    "It turns out, in the process of obtaining $P(N)$ in the previous section, we already computed the diagonal elements of $\\chi$. \n",
    "\n",
    "\n",
    "Calculation of the off-diagonal elements was made possible with the technique in Ref. [[4]](#refs) and was derived in Ref. [[2]](#refs). We present the final result:\n",
    "\n",
    "$$\n",
    "\\left\\langle\\mathbf{T'}_1\\big|\\ \\chi \\ \\big|\\mathbf{T}_1\\right\\rangle =  \\text{Tr}_\\text{sys}\\big[\\mathcal{K}(\\infty, \\tau_N)\\mathcal S_{Q[\\tau_N]}\\mathcal{K}(\\tau_N, \\tau_{N-1})\\mathcal S_{Q[\\tau_{N-1}]}\\cdots \\mathcal{K}(\\tau_2,\\tau_1)\\mathcal S_{Q[\\tau_1]} \\mathcal{K}(\\tau_1,0)\\left | g\\right\\rangle\\left\\langle g\\right |\\big]\n",
    "$$\n",
    "\n",
    "Here, ${\\tau_i}$ is a time ordered set of times $\\mathbf T_1 \\cup \\mathbf T_1'$, $\\mathcal K$ is defined as before, and $Q[\\tau_{i}]$ takes on the value 1 if $\\tau_i \\in \\mathbf T_1$, and 0 if $\\tau_i \\in \\mathbf T_1'$. The operators\n",
    "$\\mathcal S_0, \\mathcal S_1$ are defined as $$\\mathcal S_0\\rho = \\sigma_1 \\rho$$ $$\\mathcal S_1\\rho = \\rho\\sigma_1$$\n",
    "\n",
    "Note, this calculation is very similar to \n",
    "$$p(t_1, t_2, \\dots t_N) = \\mbox{Tr}[\\mathcal K(\\infty, t_N) \\ \\mathcal S \\ \\mathcal K(t_N, t_{N-1}) \\ \\mathcal S \\ \\cdots \\ \\mathcal S \\ \\mathcal K(t_1, 0)\\left| g \\right\\rangle \\left \\langle g \\right |].$$\n",
    "\n",
    "The difference is that instead of applying the collapse operator on both sides for a given emission time $t$, one has to apply them either on the right or the left, depending on whether $\\tau$ comes from $\\mathbf T_1$ or $\\mathbf T_1'$.\n",
    "\n",
    "Computing the full density matrix for a large number of photon emissions is computationally expensive. Here, we will only calculate the density matrix for 1-photon channel states:\n"
   ]
  },
  {
   "cell_type": "code",
   "execution_count": 9,
   "metadata": {
    "collapsed": false
   },
   "outputs": [],
   "source": [
    "#parameters\n",
    "width = 0.05 #pulse width\n",
    "\n",
    "#prepare pulse\n",
    "tlist, pulse, pulseargs = prepare_pulse(width)\n",
    "\n",
    "#array to be populated with terms of the system-channel density matrix\n",
    "rhototal = [[0 for x in tlist] for x in tlist]  \n",
    "\n",
    "result = mesolve(K, g*g.dag(), tlist, [], [], args=pulseargs)\n",
    "rho_pre_emission = result.states\n",
    "\n",
    "#since rhototal is Hermitian, it is sufficient to calculate only terms on the diagonal and above. \n",
    "#tL (tR) represents the emission time on the left, a.k.a in T1 (right, a.k.a in T1'). \n",
    "for tL in range(len(tlist)):\n",
    "    result = mesolve(K, s1 * rho_pre_emission[tL], tlist[tL:], [], [], args=pulseargs)\n",
    "    rho_post_tL = result.states\n",
    "    for tR in range(tL,len(tlist)):\n",
    "        i = tR - tL\n",
    "        result = mesolve(K, rho_post_tL[i] * s1.dag(), tlist[tR:], [], [], args=pulseargs)\n",
    "        rhofinal = result.states[-1]\n",
    "        matelement = expect(g*g.dag(), rhofinal)\n",
    "        rhototal[tR][tL] = np.conjugate(matelement)\n",
    "        rhototal[tL][tR] = matelement"
   ]
  },
  {
   "cell_type": "markdown",
   "metadata": {},
   "source": [
    "Having obtained the entire system+channel density matrix, we can compute quantities that previously were not accessible to us. For instance, the trace purity of the single photon emission into channel 1, defined as\n",
    "$$\\mathbb P = \\lim_{t\\to\\infty} \\int_0^t \\mbox{d}t_1  \\int_0^t \\mbox{d}t_1' \\frac{\\bigl|\\left\\langle t_1'\\big| \\ \\chi \\ \\big| \\ t_1 \\right\\rangle \\bigr|^2}{P(1)^2} $$\n",
    "\n",
    "So let's compute the one-photon-purity:"
   ]
  },
  {
   "cell_type": "code",
   "execution_count": 10,
   "metadata": {
    "collapsed": false
   },
   "outputs": [
    {
     "name": "stdout",
     "output_type": "stream",
     "text": [
      "P(1) = 0.9873106987545373\n",
      "Purity = 0.6682330028475325\n"
     ]
    }
   ],
   "source": [
    "diagonal = np.diagonal(rhototal)\n",
    "P1 = np.trapz(diagonal, tlist) \n",
    "Purity = np.trapz([np.trapz(np.square(rhototal[row]), tlist) for row in range(len(tlist))] , tlist)/(P1**2)\n",
    "\n",
    "print(\"P(1) = \"+ str(P1)) #note that this number should agree with P(1) from the previous section\n",
    "print(\"Purity = \"+ str(Purity))"
   ]
  },
  {
   "cell_type": "markdown",
   "metadata": {},
   "source": [
    "## References\n",
    "\n",
    "<a id='refs'></a>\n",
    "\n",
    "[1] Quantum dot single photon sources with ultra-low multi-photon probability, Lukas Hanschke, Kevin A. Fischer, Stefan Appel, Daniil Lukin, Jakob Wierzbowski, Shuo Sun, Rahul Trivedi, Jelena Vučković, Jonathan J. Finley, Kai Müller. (2018) [[arXiv:1801.01672](https://arxiv.org/abs/1801.01672)]\n",
    "\n",
    "[2] Particle emission from open-quantum systems, Kevin A. Fischer, Rahul Trivedi, Daniil Lukin. (2017) [[arXiv:1803.04648](https://arxiv.org/abs/1803.04648)]\n",
    "\n",
    "[3] H. Carmichael, An Open Systems Approach to Quantum Optics, Lectures Presented at the Université Libre de Bruxelles, 1991\n",
    "\n",
    "[4] Scattering of Coherent Pulses from Quantum-Optical Systems, Kevin A. Fischer, Rahul Trivedi, Vinay Ramasesh, Irfan Siddiqi, Jelena Vučković. (2017) [[arXiv:1710.02875](https://arxiv.org/abs/1710.02875)]"
   ]
  },
  {
   "cell_type": "markdown",
   "metadata": {},
   "source": [
    "## Version"
   ]
  },
  {
   "cell_type": "code",
   "execution_count": 11,
   "metadata": {
    "collapsed": false
   },
   "outputs": [
    {
     "data": {
      "text/html": [
       "<table><tr><th>Software</th><th>Version</th></tr><tr><td>QuTiP</td><td>4.3.0.dev0+36fd841</td></tr><tr><td>Numpy</td><td>1.14.1</td></tr><tr><td>SciPy</td><td>0.18.1</td></tr><tr><td>matplotlib</td><td>1.4.3</td></tr><tr><td>Cython</td><td>0.24.1</td></tr><tr><td>Number of CPUs</td><td>8</td></tr><tr><td>BLAS Info</td><td>OPENBLAS</td></tr><tr><td>IPython</td><td>4.2.0</td></tr><tr><td>Python</td><td>3.4.3 (default, Nov 28 2017, 16:41:13) \n",
       "[GCC 4.8.4]</td></tr><tr><td>OS</td><td>posix [linux]</td></tr><tr><td colspan='2'>Mon Apr 09 13:12:57 2018 PDT</td></tr></table>"
      ],
      "text/plain": [
       "<IPython.core.display.HTML object>"
      ]
     },
     "execution_count": 11,
     "metadata": {},
     "output_type": "execute_result"
    }
   ],
   "source": [
    "from qutip.ipynbtools import version_table\n",
    "\n",
    "version_table()"
   ]
  }
 ],
 "metadata": {
  "kernelspec": {
   "display_name": "Python 3",
   "language": "python",
   "name": "python3"
  },
  "language_info": {
   "codemirror_mode": {
    "name": "ipython",
    "version": 3
   },
   "file_extension": ".py",
   "mimetype": "text/x-python",
   "name": "python",
   "nbconvert_exporter": "python",
   "pygments_lexer": "ipython3",
   "version": "3.4.3"
  }
 },
 "nbformat": 4,
 "nbformat_minor": 2
}
