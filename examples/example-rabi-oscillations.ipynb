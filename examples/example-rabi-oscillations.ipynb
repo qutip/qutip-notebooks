{
 "metadata": {
  "name": "",
  "signature": "sha256:b2020c852387bc7054de11f09553548692a42eb3033d88dd8fda02764062992d"
 },
 "nbformat": 3,
 "nbformat_minor": 0,
 "worksheets": [
  {
   "cells": [
    {
     "cell_type": "markdown",
     "metadata": {},
     "source": [
      "# QuTiP example: Vacuum Rabi oscillations in the Jaynes-Cummings model"
     ]
    },
    {
     "cell_type": "markdown",
     "metadata": {},
     "source": [
      "J.R. Johansson and P.D. Nation\n",
      "\n",
      "This ipython notebook demonstrates how to simulate the quantum vacuum rabi oscillations in the Jaynes-Cumming model, using QuTiP: The Quantum Toolbox in Python.\n",
      "\n",
      "For more information about QuTiP see project web page: http://code.google.com/p/qutip/"
     ]
    },
    {
     "cell_type": "code",
     "collapsed": false,
     "input": [
      "%matplotlib inline"
     ],
     "language": "python",
     "metadata": {},
     "outputs": [],
     "prompt_number": 1
    },
    {
     "cell_type": "code",
     "collapsed": false,
     "input": [
      "import matplotlib.pyplot as plt"
     ],
     "language": "python",
     "metadata": {},
     "outputs": [],
     "prompt_number": 2
    },
    {
     "cell_type": "code",
     "collapsed": false,
     "input": [
      "import numpy as np"
     ],
     "language": "python",
     "metadata": {},
     "outputs": [],
     "prompt_number": 3
    },
    {
     "cell_type": "code",
     "collapsed": false,
     "input": [
      "from qutip import *"
     ],
     "language": "python",
     "metadata": {},
     "outputs": [],
     "prompt_number": 4
    },
    {
     "cell_type": "markdown",
     "metadata": {},
     "source": [
      "# Introduction\n",
      "\n",
      "The Jaynes-Cumming model is the simplest possible model of quantum mechanical light-matter interaction, describing a single two-level atom interacting with a single electromagnetic cavity mode. The Hamiltonian for this system is (in dipole interaction form)\n",
      "\n",
      "$H = \\hbar \\omega_c a^\\dagger a + \\frac{1}{2}\\hbar\\omega_a\\sigma_z + \\hbar g(a^\\dagger + a)(\\sigma_- + \\sigma_+)$\n",
      "\n",
      "or with the rotating-wave approximation\n",
      "\n",
      "$H_{\\rm RWA} = \\hbar \\omega_c a^\\dagger a + \\frac{1}{2}\\hbar\\omega_a\\sigma_z + \\hbar g(a^\\dagger\\sigma_- + a\\sigma_+)$\n",
      "\n",
      "where $\\omega_c$ and $\\omega_a$ are the frequencies of the cavity and atom, respectively, and $g$ is the interaction strength."
     ]
    },
    {
     "cell_type": "markdown",
     "metadata": {},
     "source": [
      "### Problem parameters\n",
      "\n",
      "\n",
      "Here we use units where $\\hbar = 1$: "
     ]
    },
    {
     "cell_type": "code",
     "collapsed": false,
     "input": [
      "wc = 1.0  * 2 * np.pi  # cavity frequency\n",
      "wa = 1.0  * 2 * np.pi  # atom frequency\n",
      "g  = 0.05 * 2 * np.pi  # coupling strength\n",
      "kappa = 0.005          # cavity dissipation rate\n",
      "gamma = 0.05           # atom dissipation rate\n",
      "N = 15                 # number of cavity fock states\n",
      "n_th_a = 0.0           # temperature in frequency units\n",
      "use_rwa = True\n",
      "\n",
      "tlist = np.linspace(0,25,100)"
     ],
     "language": "python",
     "metadata": {},
     "outputs": [],
     "prompt_number": 5
    },
    {
     "cell_type": "markdown",
     "metadata": {},
     "source": [
      "### Setup the operators, the Hamiltonian and initial state"
     ]
    },
    {
     "cell_type": "code",
     "collapsed": false,
     "input": [
      "# intial state\n",
      "psi0 = tensor(basis(N,0), basis(2,1))    # start with an excited atom\n",
      "\n",
      "# operators\n",
      "a  = tensor(destroy(N), qeye(2))\n",
      "sm = tensor(qeye(N), destroy(2))\n",
      "\n",
      "# Hamiltonian\n",
      "if use_rwa:\n",
      "    H = wc * a.dag() * a + wa * sm.dag() * sm + g * (a.dag() * sm + a * sm.dag())\n",
      "else:\n",
      "    H = wc * a.dag() * a + wa * sm.dag() * sm + g * (a.dag() + a) * (sm + sm.dag())"
     ],
     "language": "python",
     "metadata": {},
     "outputs": [],
     "prompt_number": 6
    },
    {
     "cell_type": "markdown",
     "metadata": {},
     "source": [
      "### Create a list of collapse operators that describe the dissipation"
     ]
    },
    {
     "cell_type": "code",
     "collapsed": false,
     "input": [
      "c_op_list = []\n",
      "\n",
      "rate = kappa * (1 + n_th_a)\n",
      "if rate > 0.0:\n",
      "    c_op_list.append(np.sqrt(rate) * a)\n",
      "\n",
      "rate = kappa * n_th_a\n",
      "if rate > 0.0:\n",
      "    c_op_list.append(np.sqrt(rate) * a.dag())\n",
      "\n",
      "rate = gamma\n",
      "if rate > 0.0:\n",
      "    c_op_list.append(np.sqrt(rate) * sm)"
     ],
     "language": "python",
     "metadata": {},
     "outputs": [],
     "prompt_number": 7
    },
    {
     "cell_type": "markdown",
     "metadata": {},
     "source": [
      "### Evolve the system\n",
      "\n",
      "Here we evolve the system with the Lindblad master equation solver, and we request that the expectation values of the operators $a^\\dagger a$ and $\\sigma_+\\sigma_-$ are returned by the solver by passing the list `[a.dag()*a, sm.dag()*sm]` as the fifth argument to the solver."
     ]
    },
    {
     "cell_type": "code",
     "collapsed": false,
     "input": [
      "output = mesolve(H, psi0, tlist, c_op_list, [a.dag() * a, sm.dag() * sm])"
     ],
     "language": "python",
     "metadata": {},
     "outputs": [],
     "prompt_number": 8
    },
    {
     "cell_type": "markdown",
     "metadata": {},
     "source": [
      "## Visualize the results\n",
      "\n",
      "Here we plot the excitation probabilities of the cavity and the atom (these expectation values were calculated by the `mesolve` above). We can clearly see how energy is being coherently transferred back and forth between the cavity and the atom."
     ]
    },
    {
     "cell_type": "code",
     "collapsed": false,
     "input": [
      "fig, ax = plt.subplots(figsize=(8,5))\n",
      "ax.plot(tlist, output.expect[0], label=\"Cavity\")\n",
      "ax.plot(tlist, output.expect[1], label=\"Atom excited state\")\n",
      "ax.legend()\n",
      "ax.set_xlabel('Time')\n",
      "ax.set_ylabel('Occupation probability')\n",
      "ax.set_title('Vacuum Rabi oscillations');"
     ],
     "language": "python",
     "metadata": {},
     "outputs": [
      {
       "metadata": {},
       "output_type": "display_data",
       "png": "[encoded data removed]",
       "text": [
        "<matplotlib.figure.Figure at 0x7fe5a948c978>"
       ]
      }
     ],
     "prompt_number": 9
    },
    {
     "cell_type": "heading",
     "level": 3,
     "metadata": {},
     "source": [
      "Software version:"
     ]
    },
    {
     "cell_type": "code",
     "collapsed": false,
     "input": [
      "from qutip.ipynbtools import version_table\n",
      "\n",
      "version_table()"
     ],
     "language": "python",
     "metadata": {},
     "outputs": [
      {
       "html": [
        "<table><tr><th>Software</th><th>Version</th></tr><tr><td>Numpy</td><td>1.9.1</td></tr><tr><td>SciPy</td><td>0.14.1</td></tr><tr><td>OS</td><td>posix [linux]</td></tr><tr><td>matplotlib</td><td>1.4.2</td></tr><tr><td>IPython</td><td>2.3.1</td></tr><tr><td>QuTiP</td><td>3.1.0</td></tr><tr><td>Cython</td><td>0.21.2</td></tr><tr><td>Python</td><td>3.4.0 (default, Apr 11 2014, 13:05:11) \n",
        "[GCC 4.8.2]</td></tr><tr><td colspan='2'>Tue Jan 13 15:28:33 2015 JST</td></tr></table>"
       ],
       "metadata": {},
       "output_type": "pyout",
       "prompt_number": 10,
       "text": [
        "<IPython.core.display.HTML at 0x7fe5a941d518>"
       ]
      }
     ],
     "prompt_number": 10
    }
   ],
   "metadata": {}
  }
 ]
}