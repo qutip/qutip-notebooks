{
 "metadata": {
  "name": "",
  "signature": "sha256:64f156aa6dafacb382c42d5e885430d85a80c65320c5136692f9655b3f7b3828"
 },
 "nbformat": 3,
 "nbformat_minor": 0,
 "worksheets": [
  {
   "cells": [
    {
     "cell_type": "heading",
     "level": 1,
     "metadata": {},
     "source": [
      "1. Perturbation theory"
     ]
    },
    {
     "cell_type": "markdown",
     "metadata": {},
     "source": [
      "Here we discusses the theory of perturbation."
     ]
    },
    {
     "cell_type": "heading",
     "level": 2,
     "metadata": {},
     "source": [
      "1.1 Non-degenerate states"
     ]
    },
    {
     "cell_type": "markdown",
     "metadata": {},
     "source": [
      "The theory of perturbation is very easy for non-degenerate states."
     ]
    },
    {
     "cell_type": "heading",
     "level": 3,
     "metadata": {},
     "source": [
      "1.1.1 Notations"
     ]
    },
    {
     "cell_type": "markdown",
     "metadata": {},
     "source": [
      "First of all, we often use the symbol like $\\sum_i$. If the range of sum is omited (as in here), it means the sum is over all non-negative integers from $0$ to $+\\infty$."
     ]
    },
    {
     "cell_type": "markdown",
     "metadata": {},
     "source": [
      "Assume the Hamiltonian of the system can be written as\n",
      "$$\\hat{H} = \\hat{H}_0+\\lambda\\hat{H}_1+\\lambda^2\\hat{H}_2+\\cdots=\\sum_i \\lambda^i \\hat{H}_i\\tag{1.1.1.1}$$\n",
      "Where $\\hat{H}_0$ is the unperturbed Hamilton, $\\hat{H}_i$is the $i^{th}$ order perturbation."
     ]
    },
    {
     "cell_type": "markdown",
     "metadata": {},
     "source": [
      "Let $E_n^{(0)}$ be the unperturbed eigen value of Hamiltonian with eigen state $\\left|\\Psi_n^{(0)}\\right>$. The perturbed eigen value of Hamiltonian is called $E_n$, and the corresponding eigen state is $\\left|\\Psi_n\\right>$, where $n=0,1,2,3,\\ldots$."
     ]
    },
    {
     "cell_type": "markdown",
     "metadata": {},
     "source": [
      "We can write the Taylor expansion of $E_n$ as\n",
      "$$E_n = \\sum_i\\lambda^i E_n^{(i)}\\tag{1.1.1.2}$$\n",
      "and $\\left|\\Psi_n\\right>$ as\n",
      "$$\\left|\\Psi_n\\right>=\\sum_i\\lambda^i\\left|\\Psi_n^{(i)}\\right>\\tag{1.1.1.3}$$"
     ]
    },
    {
     "cell_type": "markdown",
     "metadata": {},
     "source": [
      "We use the normalization condition\n",
      "$$\\left<\\Psi_k^{(0)}\\middle|\\Psi_l^{(0)}\\right>=\\delta_{kl}$$"
     ]
    },
    {
     "cell_type": "heading",
     "level": 3,
     "metadata": {},
     "source": [
      "1.1.2 The equation of $\\hat{H}_i$, $E_n^{(i)}$ and $\\left|\\Psi_n^{(i)}\\right>$"
     ]
    },
    {
     "cell_type": "markdown",
     "metadata": {},
     "source": [
      "From the difination above, we can write\n",
      "$$\\hat{H}\\left|\\Psi_n\\right>=E_n\\left|\\Psi_n\\right>\\tag{1.1.2.1}$$\n",
      "and\n",
      "$$\\hat{H}_0\\left|\\Psi_n^{(0)}\\right>=E_n^{(0)}\\left|\\Psi_n^{(0)}\\right>\\tag{1.1.2.2}$$\n",
      "\n",
      "Substitute $(1.1.1.1),(1.1.1.2),(1.1.1.3)$ into $(1.1.2.1)$, we get\n",
      "$$\\left(\\sum_i \\lambda^i \\hat{H}_i\\right)\\left(\\sum_i\\lambda^i\\left|\\Psi_n^{(i)}\\right>\\right)=\\left(\\sum_i\\lambda^i E_n^{(i)}\\right)\\left(\\sum_i\\lambda^i\\left|\\Psi_n^{(i)}\\right>\\right)$$\n",
      "\n",
      "Move everything to the left, we get\n",
      "$$\\left[\\sum_i\\lambda^i\\left(\\hat{H}_i-E_n^{(i)}\\right)\\right]\\left(\\sum_i\\lambda^i\\left|\\Psi_n^{(i)}\\right>\\right)=0$$\n",
      "\n",
      "Expand this formula, we will get\n",
      "$$\\left[\\sum_{ij}\\lambda^{i+j}\\left(\\hat{H}_i-E_n^{(i)}\\right)\\left|\\Psi_n^{(j)}\\right>\\right]=0$$\n",
      "\n",
      "Reorganize by setting $s=i+j$, we have\n",
      "$$\\sum_s\\left[\\lambda^{s}\\sum_{i=0}^s\\left(\\hat{H}_i-E_n^{(i)}\\right)\\left|\\Psi_n^{(s-i)}\\right>\\right]=0$$\n",
      "\n",
      "In order that the left side and the right side be the same series, we must have\n",
      "$$\\sum_{i=0}^s\\left(\\hat{H}_i-E_n^{(i)}\\right)\\left|\\Psi_n^{(s-i)}\\right>=0\\tag{1.1.2.3}$$\n",
      "\n",
      "This equation contains the key information of $\\hat{H}_i$, $E_n^{(i)}$ and $\\left|\\Psi_n^{(i)}\\right>$. It is very important and we can retrieve everything we need from this equation."
     ]
    },
    {
     "cell_type": "heading",
     "level": 3,
     "metadata": {},
     "source": [
      "1.1.3 Formula of $E_n^{(s)}$ and $\\left|\\Psi_n^{(s)}\\right>$"
     ]
    },
    {
     "cell_type": "markdown",
     "metadata": {},
     "source": [
      "$(1.1.2.3)$ can be written as\n",
      "$$\\left(\\hat{H}_0-E_n^{(0)}\\right)\\left|\\Psi_n^{(s)}\\right>+\\left(\\hat{H}_s-E_n^{(s)}\\right)\\left|\\Psi_n^{(0)}\\right>+\\sum_{i=1}^{s-1}\\left(\\hat{H}_i-E_n^{(i)}\\right)\\left|\\Psi_n^{(s-i)}\\right>=0\\tag{1.1.3.1}$$\n",
      "\n",
      "Multiply $\\left<\\Psi_n^{(0)}\\right|$ to the left, we get\n",
      "$$\\left<\\Psi_n^{(0)}\\right|\\hat{H}_s\\left|\\Psi_n^{(0)}\\right>-E_n^{(s)}+\\sum_{i=1}^{s-1}\\left<\\Psi_n^{(0)}\\right|\\left(\\hat{H}_i-E_n^{(i)}\\right)\\left|\\Psi_n^{(s-i)}\\right>=0$$\n",
      "\n",
      "So we get $E_n^{(s)}$ immediately\n",
      "$$E_n^{(s)}=\\left<\\Psi_n^{(0)}\\right|\\hat{H}_s\\left|\\Psi_n^{(0)}\\right>+\\sum_{i=1}^{s-1}\\left<\\Psi_n^{(0)}\\right|\\left(\\hat{H}_i-E_n^{(i)}\\right)\\left|\\Psi_n^{(s-i)}\\right>\\tag{1.1.3.2}$$"
     ]
    },
    {
     "cell_type": "markdown",
     "metadata": {},
     "source": [
      "After getting $E_n^{(s)}$, we write $(1.1.3.1)$ as\n",
      "$$\\left(\\hat{H}_0-E_n^{(0)}\\right)\\left|\\Psi_n^{(s)}\\right>=-\\sum_{i=1}^{s}\\left(\\hat{H}_i-E_n^{(i)}\\right)\\left|\\Psi_n^{(s-i)}\\right>\\tag{1.1.3.3}$$\n",
      "\n",
      "Our goal is to express $\\left|\\Psi_n^{(s)}\\right>$ in the base $\\left\\{\\left|\\Psi_\\alpha^{(0)}\\right>\\right\\}$, to achieve this goal we write $\\left|\\Psi_n^{(s)}\\right>$ as\n",
      "$$\\left|\\Psi_n^{(s)}\\right>=\\sum_\\alpha C_{n\\alpha}^{(s)}\\left|\\Psi_\\alpha^{(0)}\\right>\\tag{1.1.3.4}$$\n",
      "\n",
      "Substitute $(1.1.3.4)$ to $(1.1.3.3)$ and multiply $\\left<\\Psi_\\beta^{(0)}\\right|$\n",
      "to the left, we get\n",
      "$$\\left<\\Psi_\\beta^{(0)}\\right|\\left(\\hat{H}_0-E_n^{(0)}\\right)\\left(\\sum_\\alpha C_{n\\alpha}^{(s)}\\left|\\Psi_\\alpha^{(0)}\\right>\\right)=-\\sum_{i=1}^{s}\\left<\\Psi_\\beta^{(0)}\\right|\\left(\\hat{H}_i-E_n^{(i)}\\right)\\left|\\Psi_n^{(s-i)}\\right>\\tag{1.1.3.5}$$\n",
      "\n",
      "The left side of formula $(1.1.3.5)$ can be reorganized as\n",
      "$$\\sum_{\\alpha}\\left<\\Psi_\\beta^{(0)}\\right|\\left(\\hat{H}_0-E_n^{(0)}\\right)\\left|\\Psi_\\alpha^{(0)}\\right>C_{n\\alpha}^{(s)}=\\sum_{\\alpha}\\left(E_\\beta^{(0)}-E_n^{(0)}\\right)C_{n\\alpha}^{(s)}\\delta_{\\alpha\\beta}=\\left(E_\\beta^{(0)}-E_n^{(0)}\\right)C_{n\\beta}^{(s)}$$\n",
      "\n",
      "\n",
      "So we have\n",
      "$$\\left(E_n^{(0)}-E_\\beta^{(0)}\\right)C_{n\\beta}^{(s)}=\\sum_{i=1}^{s}\\left<\\Psi_\\beta^{(0)}\\right|\\left(\\hat{H}_i-E_n^{(i)}\\right)\\left|\\Psi_n^{(s-i)}\\right>\\tag{1.1.3.6}$$\n",
      "\n",
      "For any $n\\neq\\beta$, we can get immediately\n",
      "$$C_{n\\beta}^{(s)}=\\frac{1}{E_n^{(0)}-E_\\beta^{(0)}}\\sum_{i=1}^{s}\\left<\\Psi_\\beta^{(0)}\\right|\\left(\\hat{H}_i-E_n^{(i)}\\right)\\left|\\Psi_n^{(s-i)}\\right>\\tag{1.1.3.7}$$"
     ]
    },
    {
     "cell_type": "markdown",
     "metadata": {},
     "source": [
      "In principle, the value of $C_{nn}^{(s)}$ is arbitrary, any value of $C_{nn}^{(s)}$ will give the correct answer. So we simply set\n",
      "$$C_{nn}^{(s)}=0\\tag{1.1.3.8}$$"
     ]
    },
    {
     "cell_type": "heading",
     "level": 2,
     "metadata": {},
     "source": [
      "1.2 Degenerate states"
     ]
    },
    {
     "cell_type": "markdown",
     "metadata": {},
     "source": [
      "We have gotten the formula for non-degenerate states: we can use $(1.1.3.2)$ to calculate energy, and use $(1.1.3.7)$ and $(1.1.3.8)$ to calculate state. The alogrithm for degenerate states are similar but much more complicated compared with non-degenerate states."
     ]
    },
    {
     "cell_type": "heading",
     "level": 3,
     "metadata": {},
     "source": [
      "1.2.1 The perturbation's influence on energy level"
     ]
    },
    {
     "cell_type": "markdown",
     "metadata": {},
     "source": [
      "For degenerate states, one energy level correspond to several states, we add another subscript to denote differents states of the same energy level.\n",
      "\n",
      "For example, \n",
      "$$\\hat{H}_0\\left|\\Psi_{n\\xi}^{(0)}\\right>=E_n^{(0)}\\left|\\Psi_{n\\xi}^{(0)}\\right>$$\n",
      "is true for any $\\xi=0,1,\\ldots,g(n)$, where $g(n)$ is the degeneracy of energy level $n$."
     ]
    },
    {
     "cell_type": "markdown",
     "metadata": {},
     "source": [
      "For any energy level with degeneracy $1$, the only effect of perturbation is the shift of this energy level. But for energy level $E_n^{(0)}$ with degeneracy $g(n)>1$, perturbation might cause the split of energy level.\n",
      "\n",
      "In quantum theory, physicists believe that the eigen space of each eigen value of Hamiltonian without is a irreducible representation of the symmetry group of Hamiltonian. The energy level $E_n^{(0)}$ is degenerate means that $\\hat{H}_0$ possess some symmetry. The introdution of perturbation might break the symmetry of $\\hat{H}_0$, this leads to the split of the energy level."
     ]
    },
    {
     "cell_type": "markdown",
     "metadata": {},
     "source": [
      "For energy level $E_n^{(0)}$, any linear combination of $\\left|\\Psi_{n0}^{(0)}\\right>,\\left|\\Psi_{n1}^{(0)}\\right>,\\ldots,\\left|\\Psi_{ng(n)}^{(0)}\\right>$ is also an eigen vector. In the theory of perturbation, $\\left|\\Psi_{n\\xi}^{(0)}\\right>$ is given as an input of the algorithm. Before running perturbation theory, we must solve the Schr\u00f6dinger equation $(1.1.2.2)$ first. When we solve $(1.1.2.2)$, we know nothing about perturbation Hamiltonians $\\hat{H}_1,\\hat{H}_2,\\ldots$. So when need to pick a base for the eigen space of $\\hat{H}_0$, we arbitrarily choose $\\left\\{\\left|\\Psi_{n\\xi}^{(0)}\\right>\\right\\}$.\n",
      "\n",
      "Because $\\left\\{\\left|\\Psi_{n\\xi}^{(0)}\\right>\\right\\}$ is chrosen arbitrarily, we must point out the suitable base for the given perturbation."
     ]
    },
    {
     "cell_type": "heading",
     "level": 3,
     "metadata": {},
     "source": [
      "1.2.2 \"Suitable states\""
     ]
    },
    {
     "cell_type": "markdown",
     "metadata": {},
     "source": [
      "Assume the energy level is degerate up to the order $t-1$, the $(t-1)^{th}$ order degeneracy is $g_{t-1}(n)$, that is: for all $\\xi=0,1,\\ldots,g_{t-1}(n)$, all the $\\left|\\Psi_{n\\xi}^{(0)}\\right>$ share the same $E_n^{(0)}$, $\\left|\\Psi_{n\\xi}^{(1)}\\right>$ share the same $E_n^{(1)}$, ... , $\\left|\\Psi_{n\\xi}^{(t-1)}\\right>$ share the same $E_n^{(t-1)}$. \n",
      "\n",
      "Here we use a slightly different notation compared with when we deal with non-degenerate states. In the case of non-degenerate states, when we say $E_n^(0)$ we mean the $n^{th}$ eigen value of $\\hat{H}_0$. $E_n^{(0)}$ is always different from $E_m^{(0)}$ unless $m=n$. This notation is unambiguous for the case of non-degenerate states. However, when there are degeneracy in energy levels, each of which will split after perturbation, the definition might be ambiguous. We may assign the each value of $E^{(0)}$ a suffix $n$; in this case, different $n$ correspond to different $E_n^{(0)}$. We may also also assign different labels to the $0^{th}$ order approximation of each (splitted) energy level; in this case, different value of $n$ might have the same $E_n^{(0)}$ value, but for all $m\\neq n$ there exist some $s$ that $E_m^{(s)}\\neq E_n^{(s)}$. Here when we use the notation $E_n^(i)$ or $\\left|\\Phi_{n\\eta}^{(0)}\\right>$ the meaning of $n$ is dynamic, it depends on the context: when we are discussing how to evaluate the $s^{th}$ order perturbation, the label $n$ is assigned to each energy level that can be distinguished within the first $(s-1)^{th}$ order perturbation, i.e. for $m\\neq n$, it is possible that $E_m^{(0)}=E_n^{(0)}$, but there must exist an integer $w\\leq s-1$ that makes $E_m^{(w)}\\neq E_n^{(w)}$.\n",
      "\n",
      "Then the group of linear combinations (with the same $a_{\\eta\\xi}$)\n",
      "$$\\begin{cases}\n",
      "\\left|\\Phi_{n\\eta}^{(0)}\\right>=\\sum_{\\xi=0}^{g_{t-1}(n)}a_{\\eta\\xi}\\left|\\Psi_{n\\xi}^{(0)}\\right>\\\\\n",
      "\\left|\\Phi_{n\\eta}^{(1)}\\right>=\\sum_{\\xi=0}^{g_{t-1}(n)}a_{\\eta\\xi}\\left|\\Psi_{n\\xi}^{(1)}\\right>\\\\\n",
      "\\ldots\\\\\n",
      "\\left|\\Phi_{n\\eta}^{(t-1)}\\right>=\\sum_{\\xi=0}^{g_{t-1}(n)}a_{\\eta\\xi}\\left|\\Psi_{n\\xi}^{(t-1)}\\right>\n",
      "\\end{cases}\\tag{1.2.2.1}$$\n",
      "share the same $E_n^{(0)},E_n^{(1)},\\ldots,E_n^{(t-1)}$ with $\\left|\\Psi_{n\\xi}^{(0)}\\right>,\\left|\\Psi_{n\\xi}^{(1)}\\right>,\\ldots,\\left|\\Psi_{n\\xi}^{(t-1)}\\right>$.\n",
      "\n",
      "We can easily verify this by substituting into $(1.1.2.3)$ with $s=0,s=1,\\ldots,s=t-1$.\n",
      "\n",
      "$\\left|\\Phi_{n\\eta}^{(0)}\\right>$ must satisfy the normalization condition\n",
      "$\\left<\\Phi_{m\\eta}^{(0)}\\middle|\\Phi_{n\\xi}^{(0)}\\right>=\\delta_{mn}\\delta_{\\eta\\xi}$"
     ]
    },
    {
     "cell_type": "markdown",
     "metadata": {},
     "source": [
      "For $s=t$, we hope that $\\left|\\Phi_{n\\xi}^{(0)}\\right>,\\left|\\Phi_{n\\xi}^{(1)}\\right>,\\ldots,\\left|\\Phi_{n\\xi}^{(t-1)}\\right>$ be the \"suitable states\" for the $t^{th}$ order perturbation. \n",
      "\n",
      "We write down $(1.1.2.3)$ for $\\Phi$ with $s=t$ as\n",
      "$$\\left(\\hat{H}_0-E_n^{(0)}\\right)\\left|\\Phi_{n\\eta}^{(t)}\\right>+\\left(\\hat{H}_t-E_n^{(t)}\\right)\\left|\\Phi_{n\\eta}^{(0)}\\right>+\\sum_{i=1}^{t-1}\\left(\\hat{H}_i-E_n^{(i)}\\right)\\left|\\Phi_{n\\eta}^{(t-i)}\\right>=0$$\n",
      "\n",
      "Multiply $\\left<\\Psi_{n\\chi}^{(0)}\\right|$ to the left, we have\n",
      "$$\\left<\\Psi_{n\\chi}^{(0)}\\right|\\left(\\hat{H}_t-E_n^{(t)}\\right)\\left|\\Phi_{n\\eta}^{(0)}\\right>+\\sum_{i=1}^{t-1}\\left<\\Psi_{n\\chi}^{(0)}\\right|\\left(\\hat{H}_i-E_n^{(i)}\\right)\\left|\\Phi_{n\\eta}^{(t-i)}\\right>=0$$\n",
      "\n",
      "Substitute $(1.2.2.1)$, we can get\n",
      "$$\\sum_{\\xi=0}^{g_{t-1}(n)}\\left[\\left<\\Psi_{n\\chi}^{(0)}\\right|\\hat{H}_{t}\\left|\\Psi_{n\\xi}^{(0)}\\right>+\\sum_{i=1}^{t-1}\\left<\\Psi_{n\\chi}^{(0)}\\right|\\left(\\hat{H}_{i}-E_{n}^{(i)}\\right)\\left|\\Psi_{n\\xi}^{(t-i)}\\right>-E_{n}^{(t)}\\delta_{\\chi\\xi}\\right]a_{\\eta\\xi}=0\\tag{1.2.2.2}$$\n",
      "\n",
      "Let\n",
      "$$W_{\\chi\\xi}=\\left<\\Psi_{n\\chi}^{(0)}\\right|\\hat{H}_{t}\\left|\\Psi_{n\\xi}^{(0)}\\right>+\\sum_{i=1}^{t-1}\\left<\\Psi_{n\\chi}^{(0)}\\right|\\left(\\hat{H}_{i}-E_{n}^{(i)}\\right)\\left|\\Psi_{n\\xi}^{(t-i)}\\right>\\tag{1.1.2.3}$$\n",
      "then $(1.2.2.2)$ can be written as\n",
      "$$\\sum_{\\xi=0}^{g_{t-1}(n)}\\left[W_{\\chi\\xi}-E_{n}^{(t)}\\delta_{\\chi\\xi}\\right]a_{\\eta\\xi}=0$$\n",
      "\n",
      "This is a matrix equation\n",
      "$$\\left(\\left[\\begin{array}{ccc}\n",
      "W_{00} & \\cdots & W_{0g_{t-1}(n)}\\\\\n",
      "\\vdots & \\ddots & \\vdots\\\\\n",
      "W_{g_{t-1}(n)0} & \\cdots & W_{g_{t-1}(n)g_{t-1}(n)}\n",
      "\\end{array}\\right]-E_{n}^{(t)}\\left[\\begin{array}{ccc}\n",
      "1\\\\\n",
      " & \\ddots\\\\\n",
      " &  & 1\n",
      "\\end{array}\\right]\\right)\\left[\\begin{array}{c}\n",
      "a_{\\eta0}\\\\\n",
      "\\vdots\\\\\n",
      "a_{\\eta g_{t-1}(n)}\n",
      "\\end{array}\\right]=0$$\n",
      "\n",
      "Non-trival solution for this equation exists only when\n",
      "$$\\det(W_{\\chi\\xi}-E_{n}^{(t)}\\delta_{\\chi\\xi})=0$$\n",
      "$E_{n}^{(t)}$ is the eigen value of matrix $W_{\\chi\\xi}$, and $a_{\\eta\\xi}$ is the eigen vector."
     ]
    },
    {
     "cell_type": "heading",
     "level": 3,
     "metadata": {},
     "source": [
      "1.2.3 Perturbation theory for degenerate states"
     ]
    },
    {
     "cell_type": "markdown",
     "metadata": {},
     "source": [
      "We have just done two things: the first is to calculate the (splitted) $t^{th}$ order energy perturbation, the second is to correct the \"mistake\" we have made in choosing the base of the eigen space of $\\hat{H}_0$. We can't avoid making this mistake because when we solve the eigen problem of $\\hat{H}_0$ we know nothing about the perturbation. Up to now, we know nothing about the $t^{th}$ order correction of state, and this is what we will do now."
     ]
    },
    {
     "cell_type": "markdown",
     "metadata": {},
     "source": [
      "Using our new notation for degenerate states, $(1.1.3.4)$ can be written as\n",
      "$$\\left|\\Phi_{n\\xi}^{(s)}\\right>=\\sum_{m\\alpha}C_{n\\xi,m\\alpha}^{(s)}\\left|\\Phi_{m\\alpha}^{(0)}\\right>$$\n",
      "\n",
      "And $(1.1.3.6)$ can be written as\n",
      "$$\\left(E_{n}^{(0)}-E_{m}^{(0)}\\right)C_{n\\xi,m\\alpha}^{(s)}=\\sum_{i=1}^{s}\\left<\\Phi_{m\\alpha}^{(0)}\\right|\\left(\\hat{H}_{i}-E_{n}^{(i)}\\right)\\left|\\Phi_{n\\xi}^{(s-i)}\\right>$$\n",
      "\n",
      "For $E_{n}^{(0)}\\neq E_{m}^{(0)}$, we have\n",
      "$$C_{n\\xi,m\\alpha}^{(s)}=\\frac{1}{E_{n}^{(0)}-E_{m}^{(0)}}\\sum_{i=1}^{s}\\left<\\Phi_{m\\alpha}^{(0)}\\right|\\left(\\hat{H}_{i}-E_{n}^{(i)}\\right)\\left|\\Phi_{n\\xi}^{(s-i)}\\right>\\tag{1.2.3.1}$$\n",
      "\n",
      "For $E_{n}^{(0)} = E_{m}^{(0)}$, we simply set\n",
      "$$C_{n\\xi,m\\alpha}^{(s)}=0\\tag{1.2.3.2}$$"
     ]
    },
    {
     "cell_type": "heading",
     "level": 1,
     "metadata": {},
     "source": [
      "2. Design of program to do perturbation theory"
     ]
    },
    {
     "cell_type": "markdown",
     "metadata": {},
     "source": [
      "In the perspective of data structure, we use forest, which is called 'energy level forest', to store energy level information. Trees in the energy level forest is called 'energy level tree'. We use list, which is called 'eigen space list' to store information of the most splitted subspaces."
     ]
    },
    {
     "cell_type": "heading",
     "level": 2,
     "metadata": {},
     "source": [
      "2.1 class Perturbation"
     ]
    },
    {
     "cell_type": "markdown",
     "metadata": {},
     "source": [
      "The class Perturbation is the total class to deal with perturbation theory. The instance of Perturbation serves as a calculator, so we need to create an instance of Perturbation for each job. When we create the instance of Perturbation, we must give the Hamiltonian $\\hat{H}_0$ and the corresponding eigenvalues and eigenvectors of it. We have to organize these eigenvalues and eigenvectors in the specified data structure according to the rules described below."
     ]
    },
    {
     "cell_type": "markdown",
     "metadata": {},
     "source": [
      "Each instance of Perturbation has five attributes with name \u2018Hamiltonian\u2019, \u2018energy_level_trees\u2019, \u2018eigen_spaces\u2019, \u2018order\u2019 and \u2018Etol\u2019. \n",
      "\n",
      "\u2018Hamiltonian\u2019 is a list that stores the Hamiltonians of each order.\n",
      "\n",
      "\u2018order\u2019 is the order of perturbation that we currently have calculated.\n",
      "\n",
      "\u2018Etol\u2019 is the tolerance of energy, in practice, if $\\left|E_m-E_n\\right|<Etol$, then we think the two energies are equal.\n",
      "\n",
      "\u2018energy_level_trees\u2019 is the forest that stores the information energy levels. It is a list of roots of trees within this forest. In the forest, the root of each tree correspond to each value of $E_n^{(0)}$. Each node of level $s$ correspond to the $(n-1)^{th}$ order energy correction (with unit $\\lambda$). The parent and children relationship in the tree describes the relationship of different order of energy corrections. If two $3^{rd}$ order energy correction correspond to the same $2^{nd}$ order energy correction, i.e. the energy level splits into two due to the $3^{rd}$ order perturbation, the nodes of these two $3^{rd}$ order energy correction will be the children of the $2^{nd}$ order energy correction. Each node of the tree is an instance of class Perturbation.EnergyLevel. We will go to more details about this later.\n",
      "\n",
      "\u2018eigen_spaces\u2019 is a list that store the information of the most splitted subspace. These information include reference to all the corresponding nodes in the energy level forest, and the base of the eigen-subspace of $\\hat{H}_0$ and its $1^{st}, 2^{nd}, \\ldots, (order)^{th}$ order correction. Each entry of the list is an instance of class Perturbation.EigenSpace. We will go to more details about this later."
     ]
    },
    {
     "cell_type": "heading",
     "level": 2,
     "metadata": {},
     "source": [
      "2.2 class Perturbation.EnergyLevel"
     ]
    },
    {
     "cell_type": "markdown",
     "metadata": {},
     "source": [
      "The instance of Perturbation.EnergyLevel is the node of energy level tree. Each instance might have these attributes:\n",
      "\n",
      "\u2018E\u2019 stores the energy of this order perturbation correction of energy( with unit $\\lambda^{(this\\ order)}$)\n",
      "\n",
      "\u2018degeneracy\u2019 stores the degeneracy of this energy level up to this order perturbation. For example, we have a triple degenerated energy level $E_n^{(0)}$ (without perturbation). This energy level splits into two energy levels due to the first order perturbation with degeneracy $2$, first order energy correction $E_{n1}^{(1)}$ and with degeneracy $1$, first order energy correction $E_{n2}^{(1)}$. Due to the second order perturbation, the energy level with $E_{n1}^{(1)}$ splits into two non-degenerate energy level with second order energy correction $E_{n11}^{(2)}$ and $E_{n12}^{(2)}$. In this example, the value of \u2018degeneracy\u2019 attribute of the node of $E_n^{(0)}$ is $3$, the value of \u2018degeneracy\u2019 attribute of the node of $E_{n1}^{(1)}$ is $2$, he value of \u2018degeneracy\u2019 attribute of all the other nodes are $1$\n",
      "\n",
      "\u2018prev_order\u2019 is the reference of parent node. If this node have no parent, then this node won\u2019t have this attribute, i.e. hasattr(instance,\u2019prev_order\u2019) is False.\n",
      "\n",
      "\u2018next_order\u2019 is the list of references of children nodes. If this node don\u2019t have children, then this node won\u2019t have this attribute, i.e. hasattr(instance,\u2019next_order\u2019) is False.\n",
      "\n",
      "\u2018eigen_space\u2019 is the reference of the corresponding entry in eigen space list. The instance has this attribute if and only if this energy level no longer split up to the level perturbation calculated already."
     ]
    },
    {
     "cell_type": "heading",
     "level": 2,
     "metadata": {},
     "source": [
      "2.3 class Perturbation.EigenSpace"
     ]
    },
    {
     "cell_type": "markdown",
     "metadata": {},
     "source": [
      "Instances of Perturbation.EigenSpace is the entry in eigen space list. Each instance has the following attributes:\n",
      "\n",
      "\u2018energy_levels\u2019 is the list of references towards the corresponding nodes in energy level forest. For example, we have a triple degenerated energy level $E_n^{(0)}$ (without perturbation). This energy level splits into two energy levels due to the first order perturbation with degeneracy $2$, first order energy correction $E_{n1}^{(1)}$ and with degeneracy $1$, first order energy correction $E_{n2}^{(1)}$.  In this example, There will be 2 entries in the eigen space list in total, one correspond to $E_{n1}^{(1)}$ and another correspond to $E_{n2}^{(1)}$. The value of \u2018energy_levels\u2019 attribute of the instance correspond to $E_{n1}^{(1)}$ will be [ node of $E_n^{(0)}$, node of $E_{n1}^{(1)}$ ] and the value of \u2018energy_levels\u2019 attribute of the instance correspond to $E_{n2}^{(1)}$ will be [ node of $E_n^{(0)}$, node of $E_{n2}^{(1)}$ ].\n",
      "\n",
      "\u2018vectors\u2019 is a list of list of (this is not a typo) the base and its correction of every order calculated. In the example above, we assume that the base of energy level with first order correction $E_{n1}^{(1)}$ is $\\left\\{\\left|a\\right>, \\left|b\\right>\\right\\}$, and the base of energy level with first order correction $E_{n2}^{(1)}$ is $\\left\\{\\left|c\\right>\\right\\}$. Then the 'vectors' attribute of the instance correspond to $E_{n1}^{(1)}$ will be $\\left[\\left[\\left|a\\right>,\\left|a^{(1)}\\right>\\right],\\left[\\left|b\\right>,\\left|b^{(1)}\\right>\\right]\\right]$ and the 'vectors' attribute of the instance correspond to $E_{n2}^{(1)}$ will be $\\left[\\left[\\left|c\\right>,\\left|c^{(1)}\\right>\\right]\\right]$"
     ]
    },
    {
     "cell_type": "heading",
     "level": 1,
     "metadata": {},
     "source": [
      "3. Tests"
     ]
    },
    {
     "cell_type": "markdown",
     "metadata": {},
     "source": [
      "Before we begin, we must import modules needed."
     ]
    },
    {
     "cell_type": "code",
     "collapsed": false,
     "input": [
      "from Perturbation import Perturbation\n",
      "from qutip import *"
     ],
     "language": "python",
     "metadata": {},
     "outputs": [],
     "prompt_number": 1
    },
    {
     "cell_type": "heading",
     "level": 2,
     "metadata": {},
     "source": [
      "3.1 Question 1"
     ]
    },
    {
     "cell_type": "markdown",
     "metadata": {},
     "source": [
      "The Hamiltonian without perturbation is\n",
      "$$\\hat{H}_{0}=\\left[\\begin{array}{ccc}\n",
      "1\\\\\n",
      " & 1\\\\\n",
      " &  & 1\n",
      "\\end{array}\\right]$$\n",
      "The first order perturbation is\n",
      "$$\\hat{H}_{1}=\\left[\\begin{array}{ccc}\n",
      "1\\\\\n",
      " & 0\\\\\n",
      " &  & -1\n",
      "\\end{array}\\right]$$\n",
      "The total hamiltonian is\n",
      "$$\\hat{H}=\\hat{H}_0+\\lambda\\hat{H}_1$$\n",
      "We chooose the base\n",
      "$$\\left|\\Psi_{1}^{(0)}\\right\\rangle =\\frac{1}{\\sqrt{2}}\\left[\\begin{array}{c}\n",
      "1\\\\\n",
      "1\\\\\n",
      "0\n",
      "\\end{array}\\right]$$\n",
      "$$\\left|\\Psi_{2}^{(0)}\\right\\rangle =\\frac{1}{\\sqrt{2}}\\left[\\begin{array}{c}\n",
      "1\\\\\n",
      "-1\\\\\n",
      "0\n",
      "\\end{array}\\right]$$\n",
      "$$\\left|\\Psi_{3}^{(0)}\\right\\rangle =\\left[\\begin{array}{c}\n",
      "0\\\\\n",
      "0\\\\\n",
      "1\n",
      "\\end{array}\\right]$$\n",
      "These three states are degenerate and have the same energy $E^{(0)}=1$"
     ]
    },
    {
     "cell_type": "markdown",
     "metadata": {},
     "source": [
      "Now we do the calculation:"
     ]
    },
    {
     "cell_type": "code",
     "collapsed": false,
     "input": [
      "H0 = Qobj([[1,0,0],[0,1,0],[0,0,1]])\n",
      "H1 = Qobj([[1,0,0],[0,0,0],[0,0,-1]])\n",
      "base1 = Qobj([1,1,0]/sqrt(2))\n",
      "base2 = Qobj([1,-1,0]/sqrt(2))\n",
      "base3 = Qobj([0,0,1])\n",
      "zero_order_energy_levels = [Perturbation.EnergyLevel(1,3)]\n",
      "zero_order_eigen_spaces = [Perturbation.EigenSpace.new0(zero_order_energy_levels[0],[base1,base2,base3])]\n",
      "calculator = Perturbation(H0,zero_order_energy_levels,zero_order_eigen_spaces)\n",
      "calculator.next_order(H1)"
     ],
     "language": "python",
     "metadata": {},
     "outputs": [],
     "prompt_number": 2
    },
    {
     "cell_type": "markdown",
     "metadata": {},
     "source": [
      "The first order corrections to energy level (with unit $\\lambda$) are"
     ]
    },
    {
     "cell_type": "code",
     "collapsed": false,
     "input": [
      "for i in calculator.energy_level_trees[0].next_order:\n",
      "    print(i.E)"
     ],
     "language": "python",
     "metadata": {},
     "outputs": [
      {
       "output_type": "stream",
       "stream": "stdout",
       "text": [
        "1.0\n",
        "0.0\n",
        "-1.0\n"
       ]
      }
     ],
     "prompt_number": 3
    },
    {
     "cell_type": "markdown",
     "metadata": {},
     "source": [
      "The base states of each (splitted due to perturbation) subspace and their first order corrections are"
     ]
    },
    {
     "cell_type": "code",
     "collapsed": false,
     "input": [
      "for i in calculator.eigen_spaces:\n",
      "    for j in i.vectors:\n",
      "        print('zeroth order:\\n',j[0].full(),'\\n\\nfirst order:\\n',j[1].full(),'\\n\\n-------------------')"
     ],
     "language": "python",
     "metadata": {},
     "outputs": [
      {
       "output_type": "stream",
       "stream": "stdout",
       "text": [
        "zeroth order:\n",
        " [[ 1.+0.j]\n",
        " [ 0.+0.j]\n",
        " [ 0.+0.j]] \n",
        "\n",
        "first order:\n",
        " [[ 0.+0.j]\n",
        " [ 0.+0.j]\n",
        " [ 0.+0.j]] \n",
        "\n",
        "-------------------\n",
        "zeroth order:\n",
        " [[ 0.+0.j]\n",
        " [-1.+0.j]\n",
        " [ 0.+0.j]] \n",
        "\n",
        "first order:\n",
        " [[ 0.+0.j]\n",
        " [ 0.+0.j]\n",
        " [ 0.+0.j]] \n",
        "\n",
        "-------------------\n",
        "zeroth order:\n",
        " [[ 0.+0.j]\n",
        " [ 0.+0.j]\n",
        " [ 1.+0.j]] \n",
        "\n",
        "first order:\n",
        " [[ 0.+0.j]\n",
        " [ 0.+0.j]\n",
        " [ 0.+0.j]] \n",
        "\n",
        "-------------------\n"
       ]
      }
     ],
     "prompt_number": 4
    },
    {
     "cell_type": "heading",
     "level": 2,
     "metadata": {},
     "source": [
      "3.2 Question 2"
     ]
    },
    {
     "cell_type": "markdown",
     "metadata": {},
     "source": [
      "The Hamiltonian without perturbation is\n",
      "$$\\hat{H}_{0}=\\left[\\begin{array}{ccc}\n",
      "25739.860\\\\\n",
      " & 50266.917\n",
      "\\end{array}\\right]$$\n",
      "The first order perturbation is\n",
      "$$\\hat{H}_{1}=\\left[\\begin{array}{ccc}\n",
      " & 100\\\\\n",
      "100 & \n",
      "\\end{array}\\right]$$\n",
      "The total hamiltonian is\n",
      "$$\\hat{H}=\\hat{H}_0+\\lambda\\hat{H}_1$$\n",
      "We chooose the base\n",
      "$$\\left|\\Psi_{1}^{(0)}\\right\\rangle =\\left[\\begin{array}{c}\n",
      "1\\\\\n",
      "0\n",
      "\\end{array}\\right]$$\n",
      "$$\\left|\\Psi_{2}^{(0)}\\right\\rangle =\\left[\\begin{array}{c}\n",
      "0\\\\\n",
      "1\n",
      "\\end{array}\\right]$$\n",
      "These two states have energy\n",
      "$$E_1^{(0)}=25739.860$$\n",
      "$$E_2^{(0)}=50266.917$$"
     ]
    },
    {
     "cell_type": "markdown",
     "metadata": {},
     "source": [
      "Now we do the calculation:"
     ]
    },
    {
     "cell_type": "code",
     "collapsed": false,
     "input": [
      "H0 = Qobj([[25739.860,0],[0,50266.917]])\n",
      "H1 = Qobj([[0,100],[100,0]])\n",
      "base1 = Qobj([1,0])\n",
      "base2 = Qobj([0,1])\n",
      "zero_order_energy_levels = [Perturbation.EnergyLevel(25739.860,1),Perturbation.EnergyLevel(50266.917,1)]\n",
      "zero_order_eigen_spaces = [Perturbation.EigenSpace.new0(zero_order_energy_levels[0],[base1]),\n",
      "                            Perturbation.EigenSpace.new0(zero_order_energy_levels[1],[base2])]\n",
      "calculator = Perturbation(H0,zero_order_energy_levels,zero_order_eigen_spaces)\n",
      "calculator.next_order(H1)\n",
      "calculator.next_order()"
     ],
     "language": "python",
     "metadata": {},
     "outputs": [],
     "prompt_number": 5
    },
    {
     "cell_type": "markdown",
     "metadata": {},
     "source": [
      "The first order corrections to energy level (with unit $\\lambda$) are"
     ]
    },
    {
     "cell_type": "code",
     "collapsed": false,
     "input": [
      "for i in calculator.energy_level_trees:\n",
      "    for j in i.next_order:\n",
      "            print(j.E)"
     ],
     "language": "python",
     "metadata": {},
     "outputs": [
      {
       "output_type": "stream",
       "stream": "stdout",
       "text": [
        "0.0\n",
        "0.0\n"
       ]
      }
     ],
     "prompt_number": 6
    },
    {
     "cell_type": "markdown",
     "metadata": {},
     "source": [
      "The second order corrections to energy level (with unit $\\lambda^2$) are"
     ]
    },
    {
     "cell_type": "code",
     "collapsed": false,
     "input": [
      "for i in calculator.energy_level_trees:\n",
      "    for j in i.next_order:\n",
      "        for k in j.next_order:\n",
      "            print(k.E)"
     ],
     "language": "python",
     "metadata": {},
     "outputs": [
      {
       "output_type": "stream",
       "stream": "stdout",
       "text": [
        "-0.407713000382\n",
        "0.407713000382\n"
       ]
      }
     ],
     "prompt_number": 7
    },
    {
     "cell_type": "markdown",
     "metadata": {},
     "source": [
      "The base states of each (splitted due to perturbation) subspace and their first order corrections are"
     ]
    },
    {
     "cell_type": "code",
     "collapsed": false,
     "input": [
      "for i in calculator.eigen_spaces:\n",
      "    for j in i.vectors:\n",
      "        print('zeroth order:\\n',j[0].full(),'\\n\\nfirst order:\\n',j[1].full(),'\\n\\n-------------------')"
     ],
     "language": "python",
     "metadata": {},
     "outputs": [
      {
       "output_type": "stream",
       "stream": "stdout",
       "text": [
        "zeroth order:\n",
        " [[ 1.+0.j]\n",
        " [ 0.+0.j]] \n",
        "\n",
        "first order:\n",
        " [[ 0.00000000+0.j]\n",
        " [-0.00407713+0.j]] \n",
        "\n",
        "-------------------\n",
        "zeroth order:\n",
        " [[ 0.+0.j]\n",
        " [ 1.+0.j]] \n",
        "\n",
        "first order:\n",
        " [[ 0.00407713+0.j]\n",
        " [ 0.00000000+0.j]] \n",
        "\n",
        "-------------------\n"
       ]
      }
     ],
     "prompt_number": 8
    },
    {
     "cell_type": "heading",
     "level": 2,
     "metadata": {},
     "source": [
      "3.3 Question 3"
     ]
    },
    {
     "cell_type": "markdown",
     "metadata": {},
     "source": [
      "Everytihing are the same as Question 2 excpet that now\n",
      "$$\\hat{H}_{1}=\\left[\\begin{array}{ccc}\n",
      " & 5000\\\\\n",
      "5000 & \n",
      "\\end{array}\\right]$$"
     ]
    },
    {
     "cell_type": "markdown",
     "metadata": {},
     "source": [
      "Now we do the calculation"
     ]
    },
    {
     "cell_type": "code",
     "collapsed": false,
     "input": [
      "H0 = Qobj([[25739.860,0],[0,50266.917]])\n",
      "H1 = Qobj([[0,5000],[5000,0]])\n",
      "base1 = Qobj([1,0])\n",
      "base2 = Qobj([0,1])\n",
      "zero_order_energy_levels = [Perturbation.EnergyLevel(25739.860,1),Perturbation.EnergyLevel(50266.917,1)]\n",
      "zero_order_eigen_spaces = [Perturbation.EigenSpace.new0(zero_order_energy_levels[0],[base1]),\n",
      "                            Perturbation.EigenSpace.new0(zero_order_energy_levels[1],[base2])]\n",
      "calculator = Perturbation(H0,zero_order_energy_levels,zero_order_eigen_spaces)\n",
      "calculator.next_order(H1)\n",
      "calculator.next_order()"
     ],
     "language": "python",
     "metadata": {},
     "outputs": [],
     "prompt_number": 9
    },
    {
     "cell_type": "markdown",
     "metadata": {},
     "source": [
      "First order corrections (of unit $\\lambda$) of energy are now:"
     ]
    },
    {
     "cell_type": "code",
     "collapsed": false,
     "input": [
      "for i in calculator.energy_level_trees:\n",
      "    for j in i.next_order:\n",
      "            print(j.E)"
     ],
     "language": "python",
     "metadata": {},
     "outputs": [
      {
       "output_type": "stream",
       "stream": "stdout",
       "text": [
        "0.0\n",
        "0.0\n"
       ]
      }
     ],
     "prompt_number": 10
    },
    {
     "cell_type": "markdown",
     "metadata": {},
     "source": [
      "Second order corrections (of unit $\\lambda^2$) of energy are now:"
     ]
    },
    {
     "cell_type": "code",
     "collapsed": false,
     "input": [
      "for i in calculator.energy_level_trees:\n",
      "    for j in i.next_order:\n",
      "        for k in j.next_order:\n",
      "            print(k.E)"
     ],
     "language": "python",
     "metadata": {},
     "outputs": [
      {
       "output_type": "stream",
       "stream": "stdout",
       "text": [
        "-1019.28250095\n",
        "1019.28250095\n"
       ]
      }
     ],
     "prompt_number": 11
    },
    {
     "cell_type": "markdown",
     "metadata": {},
     "source": [
      "The base states of each (splitted due to perturbation) subspace and their first order corrections are"
     ]
    },
    {
     "cell_type": "code",
     "collapsed": false,
     "input": [
      "for i in calculator.eigen_spaces:\n",
      "    for j in i.vectors:\n",
      "        print('zeroth order:\\n',j[0].full(),'\\n\\nfirst order:\\n',j[1].full(),'\\n\\n-------------------')"
     ],
     "language": "python",
     "metadata": {},
     "outputs": [
      {
       "output_type": "stream",
       "stream": "stdout",
       "text": [
        "zeroth order:\n",
        " [[ 1.+0.j]\n",
        " [ 0.+0.j]] \n",
        "\n",
        "first order:\n",
        " [[ 0.0000000+0.j]\n",
        " [-0.2038565+0.j]] \n",
        "\n",
        "-------------------\n",
        "zeroth order:\n",
        " [[ 0.+0.j]\n",
        " [ 1.+0.j]] \n",
        "\n",
        "first order:\n",
        " [[ 0.2038565+0.j]\n",
        " [ 0.0000000+0.j]] \n",
        "\n",
        "-------------------\n"
       ]
      }
     ],
     "prompt_number": 12
    },
    {
     "cell_type": "heading",
     "level": 1,
     "metadata": {},
     "source": [
      "4. Reference"
     ]
    },
    {
     "cell_type": "markdown",
     "metadata": {},
     "source": [
      "1. Introduction to perturbation theory in quantum mechanics, Francisco M. Fernandez, 2000, CRC Press\n",
      "2. \u9ad8\u7b49\u91cf\u5b50\u529b\u5b66(Advanced quantum mechanics), \u5580\u5174\u6797, 2001, \u9ad8\u7b49\u6559\u80b2\u51fa\u7248\u793e"
     ]
    }
   ],
   "metadata": {}
  }
 ]
}