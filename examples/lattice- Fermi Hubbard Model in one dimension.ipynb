{
 "cells": [
  {
   "cell_type": "markdown",
   "metadata": {},
   "source": [
    "# One Dimensional Fermi Hubbard Model with QuTiP: Introduction"
   ]
  },
  {
   "cell_type": "markdown",
   "metadata": {},
   "source": [
    "Saumya Biswas (sbiswas4@umd.edu)\n",
    "\n",
    "For more information about QuTiP see [http://qutip.org](http://qutip.org)\n",
    "\n",
    "We introduce the basic functionality of QuTiPs Lattice1d class of the lattice module."
   ]
  },
  {
   "cell_type": "markdown",
   "metadata": {},
   "source": [
    "# About\n",
    "\n",
    "The qutip.lattice module enables defining tight binding/lattice models for bosons and fermions on lattices and calculating their fundamental properties specially features arising from the translational symmetry of the lattice. The lattice classes defined are compatible with the rest of the functionalities of QuTiP and can make use of them quite conveniently."
   ]
  },
  {
   "cell_type": "markdown",
   "metadata": {},
   "source": [
    "## Multiparticle physics"
   ]
  },
  {
   "cell_type": "markdown",
   "metadata": {},
   "source": [
    "Lattice1d_f_Hubbard class deals with multi-particle physics of spin-$1/2$ electrons with the Fermi Hubbard model."
   ]
  },
  {
   "cell_type": "markdown",
   "metadata": {},
   "source": [
    "![title](images/latt_1.png)\n",
    "\n",
    "## The Fermi-Hubbard model\n",
    "Defining an instance of the Lattice1d class requires formatting the second Quantized Hamiltonian in a unitcell based structure with nearest neighbor coupling only. Howewver, the functionality is limited to single particle physics only in Lattice1d class methods.\n",
    "\n",
    "\\begin{eqnarray}\n",
    "H = \\sum_{j, \\sigma} (\\epsilon - \\mu) c_{j,\\sigma}^{\\dagger} c_{j,\\sigma} + \\sum_{\\langle j,k \\rangle,\\sigma} t_{j,k} c_{j,\\sigma}^{\\dagger} c_{k,\\sigma} + U\\sum_j c_{j,\\uparrow}^{\\dagger} c_{j,\\downarrow}^{\\dagger} c_{j,\\downarrow} c_{j,\\uparrow}  \\label{eq:FermiHubbard} \n",
    "\\end{eqnarray}\n",
    "\n",
    "where $c_i$ is the fermionic annihilation operator, $t_{j,k}$ is the nearest neighbour hopping. "
   ]
  },
  {
   "cell_type": "markdown",
   "metadata": {},
   "source": [
    "The Lattice1d_f_Hubbard class defines a 1d Fermi Hubbard model with nearest neighbor hopping t and interaction strength U."
   ]
  },
  {
   "cell_type": "markdown",
   "metadata": {},
   "source": [
    "## How to Define a One Dimensional Fermi Hubbard Model"
   ]
  },
  {
   "cell_type": "code",
   "execution_count": 1,
   "metadata": {},
   "outputs": [],
   "source": [
    "from qutip import *\n",
    "from qutip_lattice import *\n",
    "import matplotlib.pyplot as plt\n",
    "import numpy as np"
   ]
  },
  {
   "cell_type": "markdown",
   "metadata": {},
   "source": [
    "## Problems with a given symmetry"
   ]
  },
  {
   "cell_type": "markdown",
   "metadata": {},
   "source": [
    "The definition of the lattice requires the number of sites, periodicity, values for t and U. The dynamics problem can be solved on a basis with a chosen symmetry."
   ]
  },
  {
   "cell_type": "markdown",
   "metadata": {},
   "source": [
    "## Translational and particle number symmetric basis"
   ]
  },
  {
   "cell_type": "code",
   "execution_count": 2,
   "metadata": {},
   "outputs": [],
   "source": [
    "num_sites = 4\n",
    "fermiHubbardLattice1d = Lattice1d_fermi_Hubbard(num_sites=num_sites, boundary=\"periodic\", t=1, U=1, V=2)\n",
    "[Hamiltonian, basisReprUp, DownStatesPerRepr, normHubbardStates] = fermiHubbardLattice1d.Hamiltonian(fillingUp=2, fillingDown=2, kval=0)"
   ]
  },
  {
   "cell_type": "markdown",
   "metadata": {},
   "source": [
    "All the operators computed are in the chosen basis with number and translational symmetry labeled by number and k-value."
   ]
  },
  {
   "cell_type": "code",
   "execution_count": 3,
   "metadata": {},
   "outputs": [
    {
     "data": {
      "text/latex": [
       "Quantum object: dims = [[10], [10]], shape = (10, 10), type = oper, isherm = True\\begin{equation*}\\left(\\begin{array}{*{11}c}10.0 & -1.0 & 0.0 & 0.0 & 1.0 & 0.0 & -1.0 & 0.0 & -1.0 & 0.0\\\\-1.0 & 7.0 & -1.0 & -1.0 & 0.0 & 1.0 & 0.0 & -1.414 & 0.0 & -1.414\\\\0.0 & -1.0 & 5.0 & 0.0 & -1.0 & 0.0 & 1.0 & 0.0 & -1.0 & 0.0\\\\0.0 & -1.0 & 0.0 & 13.0 & -1.0 & 0.0 & 1.0 & 0.0 & -1.0 & 0.0\\\\1.0 & 0.0 & -1.0 & -1.0 & 7.0 & -1.0 & 0.0 & 1.414 & 0.0 & -1.414\\\\0.0 & 1.0 & 0.0 & 0.0 & -1.0 & 8.0 & 1.0 & 0.0 & 1.0 & 0.0\\\\-1.0 & 0.0 & 1.0 & 1.0 & 0.0 & 1.0 & 7.0 & -1.414 & 0.0 & 1.414\\\\0.0 & -1.414 & 0.0 & 0.0 & 1.414 & 0.0 & -1.414 & 2.0 & -1.414 & 0.0\\\\-1.0 & 0.0 & -1.0 & -1.0 & 0.0 & 1.0 & 0.0 & -1.414 & 7.0 & -1.414\\\\0.0 & -1.414 & 0.0 & 0.0 & -1.414 & 0.0 & 1.414 & 0.0 & -1.414 & 8.0\\\\\\end{array}\\right)\\end{equation*}"
      ],
      "text/plain": [
       "Quantum object: dims = [[10], [10]], shape = (10, 10), type = oper, isherm = True\n",
       "Qobj data =\n",
       "[[10.         -1.          0.          0.          1.          0.\n",
       "  -1.          0.         -1.          0.        ]\n",
       " [-1.          7.         -1.         -1.          0.          1.\n",
       "   0.         -1.41421356  0.         -1.41421356]\n",
       " [ 0.         -1.          5.          0.         -1.          0.\n",
       "   1.          0.         -1.          0.        ]\n",
       " [ 0.         -1.          0.         13.         -1.          0.\n",
       "   1.          0.         -1.          0.        ]\n",
       " [ 1.          0.         -1.         -1.          7.         -1.\n",
       "   0.          1.41421356  0.         -1.41421356]\n",
       " [ 0.          1.          0.          0.         -1.          8.\n",
       "   1.          0.          1.          0.        ]\n",
       " [-1.          0.          1.          1.          0.          1.\n",
       "   7.         -1.41421356  0.          1.41421356]\n",
       " [ 0.         -1.41421356  0.          0.          1.41421356  0.\n",
       "  -1.41421356  2.         -1.41421356  0.        ]\n",
       " [-1.          0.         -1.         -1.          0.          1.\n",
       "   0.         -1.41421356  7.         -1.41421356]\n",
       " [ 0.         -1.41421356  0.          0.         -1.41421356  0.\n",
       "   1.41421356  0.         -1.41421356  8.        ]]"
      ]
     },
     "execution_count": 3,
     "metadata": {},
     "output_type": "execute_result"
    }
   ],
   "source": [
    "Hamiltonian"
   ]
  },
  {
   "cell_type": "code",
   "execution_count": 4,
   "metadata": {},
   "outputs": [
    {
     "data": {
      "text/plain": [
       "array([[0., 0., 1., 1.],\n",
       "       [0., 1., 0., 1.]])"
      ]
     },
     "execution_count": 4,
     "metadata": {},
     "output_type": "execute_result"
    }
   ],
   "source": [
    "basisReprUp"
   ]
  },
  {
   "cell_type": "code",
   "execution_count": 5,
   "metadata": {},
   "outputs": [
    {
     "data": {
      "text/plain": [
       "{0: array([[0., 0., 1., 1.],\n",
       "        [0., 1., 0., 1.],\n",
       "        [0., 1., 1., 0.],\n",
       "        [1., 0., 0., 1.],\n",
       "        [1., 0., 1., 0.],\n",
       "        [1., 1., 0., 0.]]),\n",
       " 1: array([[0., 0., 1., 1.],\n",
       "        [0., 1., 0., 1.],\n",
       "        [0., 1., 1., 0.],\n",
       "        [1., 0., 1., 0.]])}"
      ]
     },
     "execution_count": 5,
     "metadata": {},
     "output_type": "execute_result"
    }
   ],
   "source": [
    "DownStatesPerRepr"
   ]
  },
  {
   "cell_type": "markdown",
   "metadata": {},
   "source": [
    "##  Combined basis from Spin-up and Spin-down electrons "
   ]
  },
  {
   "cell_type": "markdown",
   "metadata": {},
   "source": [
    "The number of rows in basisReprUp denotes the number of spin-up bases and each row is appended with each rows of the corresponding matrix in DownStatesPerRepr for a basis vector with approved k-value."
   ]
  },
  {
   "cell_type": "code",
   "execution_count": 6,
   "metadata": {},
   "outputs": [
    {
     "data": {
      "text/plain": [
       "[array([0., 0., 1., 1.]),\n",
       " array([[0., 0., 1., 1.],\n",
       "        [0., 1., 0., 1.],\n",
       "        [0., 1., 1., 0.],\n",
       "        [1., 0., 0., 1.],\n",
       "        [1., 0., 1., 0.],\n",
       "        [1., 1., 0., 0.]])]"
      ]
     },
     "execution_count": 6,
     "metadata": {},
     "output_type": "execute_result"
    }
   ],
   "source": [
    "[basisReprUp[0],DownStatesPerRepr[0]]"
   ]
  },
  {
   "cell_type": "markdown",
   "metadata": {},
   "source": [
    "normHubbard states are the corresponding normalized states."
   ]
  },
  {
   "cell_type": "code",
   "execution_count": 7,
   "metadata": {},
   "outputs": [
    {
     "data": {
      "text/plain": [
       "{0: array([0.25, 0.25, 0.25, 0.25, 0.25, 0.25]),\n",
       " 1: array([0.25, 0.5 , 0.25, 0.5 ])}"
      ]
     },
     "execution_count": 7,
     "metadata": {},
     "output_type": "execute_result"
    }
   ],
   "source": [
    "normHubbardStates"
   ]
  },
  {
   "cell_type": "markdown",
   "metadata": {},
   "source": [
    "## Particle Number only basis"
   ]
  },
  {
   "cell_type": "code",
   "execution_count": 8,
   "metadata": {},
   "outputs": [],
   "source": [
    "[Hamiltonian, basisStatesUp, basisStatesDown, normHubbardStates] = fermiHubbardLattice1d.Hamiltonian(fillingUp=2, fillingDown=2)"
   ]
  },
  {
   "cell_type": "markdown",
   "metadata": {},
   "source": [
    "Setting any argument to None gives a basis does not make use of that symmetry."
   ]
  },
  {
   "cell_type": "code",
   "execution_count": 9,
   "metadata": {},
   "outputs": [
    {
     "data": {
      "text/latex": [
       "Quantum object: dims = [[36], [36]], shape = (36, 36), type = oper, isherm = True\\begin{equation*}\\left(\\begin{array}{*{11}c}10.0 & -1.0 & 0.0 & 0.0 & 1.0 & \\cdots & 0.0 & 0.0 & 0.0 & 0.0 & 0.0\\\\-1.0 & 7.0 & -1.0 & -1.0 & 0.0 & \\cdots & 0.0 & 0.0 & 0.0 & 0.0 & 0.0\\\\0.0 & -1.0 & 5.0 & 0.0 & -1.0 & \\cdots & 0.0 & 0.0 & 0.0 & 0.0 & 0.0\\\\0.0 & -1.0 & 0.0 & 13.0 & -1.0 & \\cdots & 0.0 & 0.0 & 0.0 & 0.0 & 0.0\\\\1.0 & 0.0 & -1.0 & -1.0 & 7.0 & \\cdots & 0.0 & 0.0 & 0.0 & 0.0 & 0.0\\\\\\vdots & \\vdots & \\vdots & \\vdots & \\vdots & \\ddots & \\vdots & \\vdots & \\vdots & \\vdots & \\vdots\\\\0.0 & 0.0 & 0.0 & 0.0 & 0.0 & \\cdots & 7.0 & -1.0 & -1.0 & 0.0 & 1.0\\\\0.0 & 0.0 & 0.0 & 0.0 & 0.0 & \\cdots & -1.0 & 13.0 & 0.0 & -1.0 & 0.0\\\\0.0 & 0.0 & 0.0 & 0.0 & 0.0 & \\cdots & -1.0 & 0.0 & 5.0 & -1.0 & 0.0\\\\0.0 & 0.0 & 0.0 & 0.0 & 0.0 & \\cdots & 0.0 & -1.0 & -1.0 & 7.0 & -1.0\\\\0.0 & 0.0 & 0.0 & 0.0 & 0.0 & \\cdots & 1.0 & 0.0 & 0.0 & -1.0 & 10.0\\\\\\end{array}\\right)\\end{equation*}"
      ],
      "text/plain": [
       "Quantum object: dims = [[36], [36]], shape = (36, 36), type = oper, isherm = True\n",
       "Qobj data =\n",
       "[[10. -1.  0. ...  0.  0.  0.]\n",
       " [-1.  7. -1. ...  0.  0.  0.]\n",
       " [ 0. -1.  5. ...  0.  0.  0.]\n",
       " ...\n",
       " [ 0.  0.  0. ...  5. -1.  0.]\n",
       " [ 0.  0.  0. ... -1.  7. -1.]\n",
       " [ 0.  0.  0. ...  0. -1. 10.]]"
      ]
     },
     "execution_count": 9,
     "metadata": {},
     "output_type": "execute_result"
    }
   ],
   "source": [
    "Hamiltonian"
   ]
  },
  {
   "cell_type": "code",
   "execution_count": 10,
   "metadata": {},
   "outputs": [
    {
     "data": {
      "text/plain": [
       "array([[0., 0., 1., 1.],\n",
       "       [0., 1., 0., 1.],\n",
       "       [0., 1., 1., 0.],\n",
       "       [1., 0., 0., 1.],\n",
       "       [1., 0., 1., 0.],\n",
       "       [1., 1., 0., 0.]])"
      ]
     },
     "execution_count": 10,
     "metadata": {},
     "output_type": "execute_result"
    }
   ],
   "source": [
    "basisStatesUp"
   ]
  },
  {
   "cell_type": "code",
   "execution_count": 11,
   "metadata": {},
   "outputs": [
    {
     "data": {
      "text/plain": [
       "array([[0., 0., 1., 1.],\n",
       "       [0., 1., 0., 1.],\n",
       "       [0., 1., 1., 0.],\n",
       "       [1., 0., 0., 1.],\n",
       "       [1., 0., 1., 0.],\n",
       "       [1., 1., 0., 0.]])"
      ]
     },
     "execution_count": 11,
     "metadata": {},
     "output_type": "execute_result"
    }
   ],
   "source": [
    "basisStatesDown"
   ]
  },
  {
   "cell_type": "markdown",
   "metadata": {},
   "source": [
    "## Lattice momentum only basis"
   ]
  },
  {
   "cell_type": "code",
   "execution_count": 12,
   "metadata": {},
   "outputs": [],
   "source": [
    "[Hamiltonian, basisReprUp, basisStatesDown, normHubbardStates] = fermiHubbardLattice1d.Hamiltonian(fillingUp=None, fillingDown=None, kval=0)"
   ]
  },
  {
   "cell_type": "code",
   "execution_count": 13,
   "metadata": {},
   "outputs": [
    {
     "data": {
      "text/latex": [
       "Quantum object: dims = [[60], [60]], shape = (60, 60), type = oper, isherm = True\\begin{equation*}\\left(\\begin{array}{*{11}c}-4.0 & 0.0 & 0.0 & 0.0 & 0.0 & \\cdots & 0.0 & 0.0 & 0.0 & 0.0 & 0.0\\\\0.0 & 1.0 & -2.0 & 0.0 & 0.0 & \\cdots & 0.0 & 0.0 & 0.0 & 0.0 & 0.0\\\\0.0 & -2.0 & 0.0 & 0.0 & -2.0 & \\cdots & 0.0 & 0.0 & 0.0 & 0.0 & 0.0\\\\0.0 & 0.0 & 0.0 & 5.0 & 0.0 & \\cdots & 0.0 & 0.0 & 0.0 & 0.0 & 0.0\\\\0.0 & 0.0 & -2.0 & 0.0 & 0.0 & \\cdots & 0.0 & 0.0 & 0.0 & 0.0 & 0.0\\\\\\vdots & \\vdots & \\vdots & \\vdots & \\vdots & \\ddots & \\vdots & \\vdots & \\vdots & \\vdots & \\vdots\\\\0.0 & 0.0 & 0.0 & 0.0 & 0.0 & \\cdots & 31.0 & 0.0 & 0.0 & 0.0 & 0.0\\\\0.0 & 0.0 & 0.0 & 0.0 & 0.0 & \\cdots & 0.0 & 9.0 & 0.0 & 0.0 & 0.0\\\\0.0 & 0.0 & 0.0 & 0.0 & 0.0 & \\cdots & 0.0 & 0.0 & 16.0 & 0.0 & 0.0\\\\0.0 & 0.0 & 0.0 & 0.0 & 0.0 & \\cdots & 0.0 & 0.0 & 0.0 & 27.0 & 0.0\\\\0.0 & 0.0 & 0.0 & 0.0 & 0.0 & \\cdots & 0.0 & 0.0 & 0.0 & 0.0 & 36.0\\\\\\end{array}\\right)\\end{equation*}"
      ],
      "text/plain": [
       "Quantum object: dims = [[60], [60]], shape = (60, 60), type = oper, isherm = True\n",
       "Qobj data =\n",
       "[[-4.  0.  0. ...  0.  0.  0.]\n",
       " [ 0.  1. -2. ...  0.  0.  0.]\n",
       " [ 0. -2.  0. ...  0.  0.  0.]\n",
       " ...\n",
       " [ 0.  0.  0. ... 16.  0.  0.]\n",
       " [ 0.  0.  0. ...  0. 27.  0.]\n",
       " [ 0.  0.  0. ...  0.  0. 36.]]"
      ]
     },
     "execution_count": 13,
     "metadata": {},
     "output_type": "execute_result"
    }
   ],
   "source": [
    "Hamiltonian"
   ]
  },
  {
   "cell_type": "code",
   "execution_count": 14,
   "metadata": {},
   "outputs": [
    {
     "data": {
      "text/plain": [
       "array([[0., 0., 0., 1.],\n",
       "       [0., 0., 1., 1.],\n",
       "       [0., 1., 0., 1.],\n",
       "       [0., 1., 1., 1.],\n",
       "       [1., 1., 1., 1.]])"
      ]
     },
     "execution_count": 14,
     "metadata": {},
     "output_type": "execute_result"
    }
   ],
   "source": [
    "basisReprUp"
   ]
  },
  {
   "cell_type": "code",
   "execution_count": 15,
   "metadata": {},
   "outputs": [
    {
     "data": {
      "text/plain": [
       "{0: array([[0, 0, 0, 0],\n",
       "        [0, 0, 0, 1],\n",
       "        [0, 0, 1, 0],\n",
       "        [0, 0, 1, 1],\n",
       "        [0, 1, 0, 0],\n",
       "        [0, 1, 0, 1],\n",
       "        [0, 1, 1, 0],\n",
       "        [0, 1, 1, 1],\n",
       "        [1, 0, 0, 0],\n",
       "        [1, 0, 0, 1],\n",
       "        [1, 0, 1, 0],\n",
       "        [1, 0, 1, 1],\n",
       "        [1, 1, 0, 0],\n",
       "        [1, 1, 0, 1],\n",
       "        [1, 1, 1, 0],\n",
       "        [1, 1, 1, 1]]),\n",
       " 1: array([[0, 0, 0, 0],\n",
       "        [0, 0, 0, 1],\n",
       "        [0, 0, 1, 0],\n",
       "        [0, 0, 1, 1],\n",
       "        [0, 1, 0, 0],\n",
       "        [0, 1, 0, 1],\n",
       "        [0, 1, 1, 0],\n",
       "        [0, 1, 1, 1],\n",
       "        [1, 0, 0, 0],\n",
       "        [1, 0, 0, 1],\n",
       "        [1, 0, 1, 0],\n",
       "        [1, 0, 1, 1],\n",
       "        [1, 1, 0, 0],\n",
       "        [1, 1, 0, 1],\n",
       "        [1, 1, 1, 0],\n",
       "        [1, 1, 1, 1]]),\n",
       " 2: array([[0, 0, 0, 1],\n",
       "        [0, 0, 1, 0],\n",
       "        [0, 0, 1, 1],\n",
       "        [0, 1, 0, 1],\n",
       "        [0, 1, 1, 0],\n",
       "        [0, 1, 1, 1],\n",
       "        [1, 0, 1, 0],\n",
       "        [1, 0, 1, 1]]),\n",
       " 3: array([[0, 0, 0, 0],\n",
       "        [0, 0, 0, 1],\n",
       "        [0, 0, 1, 0],\n",
       "        [0, 0, 1, 1],\n",
       "        [0, 1, 0, 0],\n",
       "        [0, 1, 0, 1],\n",
       "        [0, 1, 1, 0],\n",
       "        [0, 1, 1, 1],\n",
       "        [1, 0, 0, 0],\n",
       "        [1, 0, 0, 1],\n",
       "        [1, 0, 1, 0],\n",
       "        [1, 0, 1, 1],\n",
       "        [1, 1, 0, 0],\n",
       "        [1, 1, 0, 1],\n",
       "        [1, 1, 1, 0],\n",
       "        [1, 1, 1, 1]]),\n",
       " 4: array([[0, 0, 0, 1],\n",
       "        [0, 0, 1, 1],\n",
       "        [0, 1, 1, 1],\n",
       "        [1, 1, 1, 1]])}"
      ]
     },
     "execution_count": 15,
     "metadata": {},
     "output_type": "execute_result"
    }
   ],
   "source": [
    "basisStatesDown"
   ]
  },
  {
   "cell_type": "markdown",
   "metadata": {},
   "source": [
    "## Complete basis: no symmetry"
   ]
  },
  {
   "cell_type": "code",
   "execution_count": 16,
   "metadata": {},
   "outputs": [],
   "source": [
    "[Hamiltonian, basisStatesUp, basisStatesDown, normHubbardStates] = fermiHubbardLattice1d.Hamiltonian(fillingUp=None, fillingDown=None, kval=None)"
   ]
  },
  {
   "cell_type": "code",
   "execution_count": 17,
   "metadata": {},
   "outputs": [
    {
     "data": {
      "text/latex": [
       "Quantum object: dims = [[256], [256]], shape = (256, 256), type = oper, isherm = True\\begin{equation*}\\left(\\begin{array}{*{11}c}0.0 & 0.0 & 0.0 & 0.0 & 0.0 & \\cdots & 0.0 & 0.0 & 0.0 & 0.0 & 0.0\\\\0.0 & 2.0 & -1.0 & 0.0 & 0.0 & \\cdots & 0.0 & 0.0 & 0.0 & 0.0 & 0.0\\\\0.0 & -1.0 & 2.0 & 0.0 & -1.0 & \\cdots & 0.0 & 0.0 & 0.0 & 0.0 & 0.0\\\\0.0 & 0.0 & 0.0 & 6.0 & 0.0 & \\cdots & 0.0 & 0.0 & 0.0 & 0.0 & 0.0\\\\0.0 & 0.0 & -1.0 & 0.0 & 2.0 & \\cdots & 0.0 & 0.0 & 0.0 & 0.0 & 0.0\\\\\\vdots & \\vdots & \\vdots & \\vdots & \\vdots & \\ddots & \\vdots & \\vdots & \\vdots & \\vdots & \\vdots\\\\0.0 & 0.0 & 0.0 & 0.0 & 0.0 & \\cdots & 25.0 & 0.0 & -1.0 & 0.0 & 0.0\\\\0.0 & 0.0 & 0.0 & 0.0 & 0.0 & \\cdots & 0.0 & 16.0 & 0.0 & 0.0 & 0.0\\\\0.0 & 0.0 & 0.0 & 0.0 & 0.0 & \\cdots & -1.0 & 0.0 & 25.0 & -1.0 & 0.0\\\\0.0 & 0.0 & 0.0 & 0.0 & 0.0 & \\cdots & 0.0 & 0.0 & -1.0 & 25.0 & 0.0\\\\0.0 & 0.0 & 0.0 & 0.0 & 0.0 & \\cdots & 0.0 & 0.0 & 0.0 & 0.0 & 36.0\\\\\\end{array}\\right)\\end{equation*}"
      ],
      "text/plain": [
       "Quantum object: dims = [[256], [256]], shape = (256, 256), type = oper, isherm = True\n",
       "Qobj data =\n",
       "[[ 0.  0.  0. ...  0.  0.  0.]\n",
       " [ 0.  2. -1. ...  0.  0.  0.]\n",
       " [ 0. -1.  2. ...  0.  0.  0.]\n",
       " ...\n",
       " [ 0.  0.  0. ... 25. -1.  0.]\n",
       " [ 0.  0.  0. ... -1. 25.  0.]\n",
       " [ 0.  0.  0. ...  0.  0. 36.]]"
      ]
     },
     "execution_count": 17,
     "metadata": {},
     "output_type": "execute_result"
    }
   ],
   "source": [
    "Hamiltonian"
   ]
  },
  {
   "cell_type": "code",
   "execution_count": 18,
   "metadata": {},
   "outputs": [
    {
     "data": {
      "text/plain": [
       "array([[0, 0, 0, 0],\n",
       "       [0, 0, 0, 1],\n",
       "       [0, 0, 1, 0],\n",
       "       [0, 0, 1, 1],\n",
       "       [0, 1, 0, 0],\n",
       "       [0, 1, 0, 1],\n",
       "       [0, 1, 1, 0],\n",
       "       [0, 1, 1, 1],\n",
       "       [1, 0, 0, 0],\n",
       "       [1, 0, 0, 1],\n",
       "       [1, 0, 1, 0],\n",
       "       [1, 0, 1, 1],\n",
       "       [1, 1, 0, 0],\n",
       "       [1, 1, 0, 1],\n",
       "       [1, 1, 1, 0],\n",
       "       [1, 1, 1, 1]])"
      ]
     },
     "execution_count": 18,
     "metadata": {},
     "output_type": "execute_result"
    }
   ],
   "source": [
    "basisStatesUp"
   ]
  },
  {
   "cell_type": "code",
   "execution_count": 19,
   "metadata": {},
   "outputs": [
    {
     "data": {
      "text/plain": [
       "array([[0, 0, 0, 0],\n",
       "       [0, 0, 0, 1],\n",
       "       [0, 0, 1, 0],\n",
       "       [0, 0, 1, 1],\n",
       "       [0, 1, 0, 0],\n",
       "       [0, 1, 0, 1],\n",
       "       [0, 1, 1, 0],\n",
       "       [0, 1, 1, 1],\n",
       "       [1, 0, 0, 0],\n",
       "       [1, 0, 0, 1],\n",
       "       [1, 0, 1, 0],\n",
       "       [1, 0, 1, 1],\n",
       "       [1, 1, 0, 0],\n",
       "       [1, 1, 0, 1],\n",
       "       [1, 1, 1, 0],\n",
       "       [1, 1, 1, 1]])"
      ]
     },
     "execution_count": 19,
     "metadata": {},
     "output_type": "execute_result"
    }
   ],
   "source": [
    "basisStatesDown"
   ]
  },
  {
   "cell_type": "markdown",
   "metadata": {},
   "source": [
    "## Block-diagonalization with Translational Symmetry"
   ]
  },
  {
   "cell_type": "markdown",
   "metadata": {},
   "source": [
    "Since in a translationally symmetric system, the Hamiltonian is block-diagonalized in k-basis, the unitary transformations for the block diagonalization can be obtained with certain functions."
   ]
  },
  {
   "cell_type": "markdown",
   "metadata": {},
   "source": [
    "### Hamiltonian in a basis without translational symmetry"
   ]
  },
  {
   "cell_type": "code",
   "execution_count": 20,
   "metadata": {},
   "outputs": [],
   "source": [
    "[Hamiltonian, basisStatesUp, basisStatesDown, normHubbardStates] = fermiHubbardLattice1d.Hamiltonian(fillingUp=2, fillingDown=2, kval=None)\n",
    "kVector = np.arange(start=0, stop=2*np.pi, step=2*np.pi/num_sites)\n",
    "kval = 0\n",
    "\n",
    "Uss_k0 = fermiHubbardLattice1d.nums_DiagTrans_k(2, 2, 0)\n",
    "Usss = fermiHubbardLattice1d.nums_DiagTrans(2, 2)"
   ]
  },
  {
   "cell_type": "markdown",
   "metadata": {},
   "source": [
    "### Hamiltonian in the translational symmetric basis\n",
    "The unitary transformations calculated effectuate a transformation from the basis without translational symmetry to Wannier functions with translational symmetry."
   ]
  },
  {
   "cell_type": "code",
   "execution_count": 21,
   "metadata": {},
   "outputs": [],
   "source": [
    "Hamiltonian_k = Usss * Hamiltonian * Usss.dag()"
   ]
  },
  {
   "cell_type": "code",
   "execution_count": 22,
   "metadata": {},
   "outputs": [
    {
     "data": {
      "text/plain": [
       "<matplotlib.image.AxesImage at 0x7f84050037b8>"
      ]
     },
     "execution_count": 22,
     "metadata": {},
     "output_type": "execute_result"
    },
    {
     "data": {
      "image/png": "[encoded data removed]",
      "text/plain": [
       "<Figure size 432x288 with 1 Axes>"
      ]
     },
     "metadata": {
      "needs_background": "light"
     },
     "output_type": "display_data"
    }
   ],
   "source": [
    "nHubbardStates = np.shape(Hamiltonian_k)[0]\n",
    "\n",
    "Hamiltonian_k_np = Hamiltonian_k.full()\n",
    "for i in range(nHubbardStates):\n",
    "    for j in range(nHubbardStates):\n",
    "        if np.abs(Hamiltonian_k_np[i,j]) < 1e-8:\n",
    "            Hamiltonian_k_np[i, j] = 0\n",
    "plt.spy(np.abs(Hamiltonian_k_np))"
   ]
  },
  {
   "cell_type": "markdown",
   "metadata": {},
   "source": [
    "The k=0 block can be obtained with the Uss_k0 matrix instead of reading from the matrix Hamiltonian_k_np."
   ]
  },
  {
   "cell_type": "code",
   "execution_count": 23,
   "metadata": {},
   "outputs": [
    {
     "data": {
      "text/latex": [
       "Quantum object: dims = [[10], [10]], shape = (10, 10), type = oper, isherm = True\\begin{equation*}\\left(\\begin{array}{*{11}c}10.0 & -1.0 & 0.0 & 0.0 & 1.0 & 0.0 & -1.0 & 0.0 & -1.0 & 0.0\\\\-1.0 & 7.0 & -1.0 & -1.0 & 0.0 & 1.0 & 0.0 & -1.414 & 0.0 & -1.414\\\\0.0 & -1.0 & 5.0 & 0.0 & -1.0 & 0.0 & 1.0 & 0.0 & -1.0 & 0.0\\\\0.0 & -1.0 & 0.0 & 13.0 & -1.0 & 0.0 & 1.0 & 0.0 & -1.0 & 0.0\\\\1.0 & 0.0 & -1.0 & -1.0 & 7.0 & -1.0 & 0.0 & 1.414 & 0.0 & -1.414\\\\0.0 & 1.0 & 0.0 & 0.0 & -1.0 & 8.0 & 1.0 & 0.0 & 1.0 & 0.0\\\\-1.0 & 0.0 & 1.0 & 1.0 & 0.0 & 1.0 & 7.0 & -1.414 & 0.0 & 1.414\\\\0.0 & -1.414 & 0.0 & 0.0 & 1.414 & 0.0 & -1.414 & 2.0 & -1.414 & 0.0\\\\-1.0 & 0.0 & -1.0 & -1.0 & 0.0 & 1.0 & 0.0 & -1.414 & 7.0 & -1.414\\\\0.0 & -1.414 & 0.0 & 0.0 & -1.414 & 0.0 & 1.414 & 0.0 & -1.414 & 8.0\\\\\\end{array}\\right)\\end{equation*}"
      ],
      "text/plain": [
       "Quantum object: dims = [[10], [10]], shape = (10, 10), type = oper, isherm = True\n",
       "Qobj data =\n",
       "[[10.         -1.          0.          0.          1.          0.\n",
       "  -1.          0.         -1.          0.        ]\n",
       " [-1.          7.         -1.         -1.          0.          1.\n",
       "   0.         -1.41421356  0.         -1.41421356]\n",
       " [ 0.         -1.          5.          0.         -1.          0.\n",
       "   1.          0.         -1.          0.        ]\n",
       " [ 0.         -1.          0.         13.         -1.          0.\n",
       "   1.          0.         -1.          0.        ]\n",
       " [ 1.          0.         -1.         -1.          7.         -1.\n",
       "   0.          1.41421356  0.         -1.41421356]\n",
       " [ 0.          1.          0.          0.         -1.          8.\n",
       "   1.          0.          1.          0.        ]\n",
       " [-1.          0.          1.          1.          0.          1.\n",
       "   7.         -1.41421356  0.          1.41421356]\n",
       " [ 0.         -1.41421356  0.          0.          1.41421356  0.\n",
       "  -1.41421356  2.         -1.41421356  0.        ]\n",
       " [-1.          0.         -1.         -1.          0.          1.\n",
       "   0.         -1.41421356  7.         -1.41421356]\n",
       " [ 0.         -1.41421356  0.          0.         -1.41421356  0.\n",
       "   1.41421356  0.         -1.41421356  8.        ]]"
      ]
     },
     "execution_count": 23,
     "metadata": {},
     "output_type": "execute_result"
    }
   ],
   "source": [
    "Hamiltonian_k_0 = Uss_k0 * Hamiltonian * Uss_k0.dag()\n",
    "Hamiltonian_k_0"
   ]
  },
  {
   "cell_type": "markdown",
   "metadata": {},
   "source": [
    "### Hamiltonian for a k-block:\n",
    "The block diagonalized k-block Hamiltonians can be found directly with the Hamiltonian() function with a specified k as well.\n"
   ]
  },
  {
   "cell_type": "code",
   "execution_count": 24,
   "metadata": {},
   "outputs": [
    {
     "data": {
      "text/latex": [
       "Quantum object: dims = [[10], [10]], shape = (10, 10), type = oper, isherm = True\\begin{equation*}\\left(\\begin{array}{*{11}c}10.0 & -1.0 & 0.0 & 0.0 & 1.0 & 0.0 & -1.0 & 0.0 & -1.0 & 0.0\\\\-1.0 & 7.0 & -1.0 & -1.0 & 0.0 & 1.0 & 0.0 & -1.414 & 0.0 & -1.414\\\\0.0 & -1.0 & 5.0 & 0.0 & -1.0 & 0.0 & 1.0 & 0.0 & -1.0 & 0.0\\\\0.0 & -1.0 & 0.0 & 13.0 & -1.0 & 0.0 & 1.0 & 0.0 & -1.0 & 0.0\\\\1.0 & 0.0 & -1.0 & -1.0 & 7.0 & -1.0 & 0.0 & 1.414 & 0.0 & -1.414\\\\0.0 & 1.0 & 0.0 & 0.0 & -1.0 & 8.0 & 1.0 & 0.0 & 1.0 & 0.0\\\\-1.0 & 0.0 & 1.0 & 1.0 & 0.0 & 1.0 & 7.0 & -1.414 & 0.0 & 1.414\\\\0.0 & -1.414 & 0.0 & 0.0 & 1.414 & 0.0 & -1.414 & 2.0 & -1.414 & 0.0\\\\-1.0 & 0.0 & -1.0 & -1.0 & 0.0 & 1.0 & 0.0 & -1.414 & 7.0 & -1.414\\\\0.0 & -1.414 & 0.0 & 0.0 & -1.414 & 0.0 & 1.414 & 0.0 & -1.414 & 8.0\\\\\\end{array}\\right)\\end{equation*}"
      ],
      "text/plain": [
       "Quantum object: dims = [[10], [10]], shape = (10, 10), type = oper, isherm = True\n",
       "Qobj data =\n",
       "[[10.         -1.          0.          0.          1.          0.\n",
       "  -1.          0.         -1.          0.        ]\n",
       " [-1.          7.         -1.         -1.          0.          1.\n",
       "   0.         -1.41421356  0.         -1.41421356]\n",
       " [ 0.         -1.          5.          0.         -1.          0.\n",
       "   1.          0.         -1.          0.        ]\n",
       " [ 0.         -1.          0.         13.         -1.          0.\n",
       "   1.          0.         -1.          0.        ]\n",
       " [ 1.          0.         -1.         -1.          7.         -1.\n",
       "   0.          1.41421356  0.         -1.41421356]\n",
       " [ 0.          1.          0.          0.         -1.          8.\n",
       "   1.          0.          1.          0.        ]\n",
       " [-1.          0.          1.          1.          0.          1.\n",
       "   7.         -1.41421356  0.          1.41421356]\n",
       " [ 0.         -1.41421356  0.          0.          1.41421356  0.\n",
       "  -1.41421356  2.         -1.41421356  0.        ]\n",
       " [-1.          0.         -1.         -1.          0.          1.\n",
       "   0.         -1.41421356  7.         -1.41421356]\n",
       " [ 0.         -1.41421356  0.          0.         -1.41421356  0.\n",
       "   1.41421356  0.         -1.41421356  8.        ]]"
      ]
     },
     "execution_count": 24,
     "metadata": {},
     "output_type": "execute_result"
    }
   ],
   "source": [
    "[Hamiltonian_k0, basisReprUp_k0, DownStatesPerRepr_k0, normHubbardStates_k0] = fermiHubbardLattice1d.Hamiltonian( fillingUp=2, fillingDown=2, kval=0)\n",
    "Hamiltonian_k0"
   ]
  },
  {
   "cell_type": "markdown",
   "metadata": {},
   "source": [
    "## Confirming the Hamiltonians formed in k-symmetric basis are indeed the same"
   ]
  },
  {
   "cell_type": "code",
   "execution_count": 25,
   "metadata": {},
   "outputs": [],
   "source": [
    "np.testing.assert_allclose(Hamiltonian_k_0, Hamiltonian_k0.full(), atol=1e-8)"
   ]
  },
  {
   "cell_type": "markdown",
   "metadata": {},
   "source": [
    "# Example: Symmetry protected Dynamics¶"
   ]
  },
  {
   "cell_type": "markdown",
   "metadata": {},
   "source": [
    "We now calculate a dynamics with loss operators and expectation values of given operators."
   ]
  },
  {
   "cell_type": "code",
   "execution_count": 26,
   "metadata": {},
   "outputs": [],
   "source": [
    "h_dim = np.shape(Hamiltonian_k0)[0]\n",
    "psi0 = np.ones(h_dim, dtype=complex)\n",
    "psi0 = Qobj(np.sqrt(psi0), dims= [[h_dim], [1]])"
   ]
  },
  {
   "cell_type": "code",
   "execution_count": 27,
   "metadata": {},
   "outputs": [
    {
     "data": {
      "text/latex": [
       "Quantum object: dims = [[10], [1]], shape = (10, 1), type = ket\\begin{equation*}\\left(\\begin{array}{*{11}c}1.0\\\\1.0\\\\1.0\\\\1.0\\\\1.0\\\\1.0\\\\1.0\\\\1.0\\\\1.0\\\\1.0\\\\\\end{array}\\right)\\end{equation*}"
      ],
      "text/plain": [
       "Quantum object: dims = [[10], [1]], shape = (10, 1), type = ket\n",
       "Qobj data =\n",
       "[[1.]\n",
       " [1.]\n",
       " [1.]\n",
       " [1.]\n",
       " [1.]\n",
       " [1.]\n",
       " [1.]\n",
       " [1.]\n",
       " [1.]\n",
       " [1.]]"
      ]
     },
     "execution_count": 27,
     "metadata": {},
     "output_type": "execute_result"
    }
   ],
   "source": [
    "psi0"
   ]
  },
  {
   "cell_type": "code",
   "execution_count": 28,
   "metadata": {},
   "outputs": [],
   "source": [
    "psi = np.zeros(h_dim, dtype=complex)\n",
    "col_op=[]\n",
    "for i in range(10):\n",
    "    psi[i] = 1\n",
    "    rsi = Qobj(psi)\n",
    "    col_i = rsi * rsi.dag()\n",
    "    col_op.append(col_i)\n",
    "    psi[i] = 0"
   ]
  },
  {
   "cell_type": "markdown",
   "metadata": {},
   "source": [
    "No specific physics conceived of in this exercise."
   ]
  },
  {
   "cell_type": "code",
   "execution_count": 29,
   "metadata": {},
   "outputs": [],
   "source": [
    "kC = Qobj(np.diag(np.ones(h_dim, dtype=complex)))"
   ]
  },
  {
   "cell_type": "code",
   "execution_count": 30,
   "metadata": {},
   "outputs": [],
   "source": [
    "tlistCN = np.linspace(0,30,601)\n",
    "options = Options(atol=1e-12)\n",
    "options.store_states = True\n",
    "evol_psi = mesolve(Hamiltonian_k0, psi0, tlistCN, col_op, [kC], options=options)"
   ]
  },
  {
   "cell_type": "code",
   "execution_count": 31,
   "metadata": {},
   "outputs": [
    {
     "data": {
      "image/png": "[encoded data removed]",
      "text/plain": [
       "<Figure size 432x288 with 1 Axes>"
      ]
     },
     "metadata": {
      "needs_background": "light"
     },
     "output_type": "display_data"
    }
   ],
   "source": [
    "plt.plot(tlistCN, evol_psi.expect[0])\n",
    "plt.xlabel('Time', fontsize=14)\n",
    "plt.ylabel(r'$\\langle k \\rangle$', fontsize=14)\n",
    "#plt.ylim([-1e-8, 1e-8])\n",
    "plt.show()\n",
    "plt.close()"
   ]
  },
  {
   "cell_type": "markdown",
   "metadata": {},
   "source": [
    "### References\n",
    "[1] J. R. Johansson, P. D. Nation, and F. Nori, Comp. Phys. Comm. 183, 1760 (2012). http://qutip.org \n",
    "\n",
    "[2] Han, JungYun, Clemens Gneiting, and Daniel Leykam. \"Helical transport in coupled resonator waveguides.\" Physical Review B 99.22 (2019): 224201.\n",
    "https://journals.aps.org/prb/abstract/10.1103/PhysRevB.99.224201#"
   ]
  },
  {
   "cell_type": "code",
   "execution_count": 32,
   "metadata": {},
   "outputs": [
    {
     "name": "stdout",
     "output_type": "stream",
     "text": [
      "\n",
      "QuTiP: Quantum Toolbox in Python\n",
      "================================\n",
      "Copyright (c) QuTiP team 2011 and later.\n",
      "Current admin team: Alexander Pitchford, Nathan Shammah, Shahnawaz Ahmed, Neill Lambert, Eric Giguère, Boxi Li, Jake Lishman and Simon Cross.\n",
      "Board members: Daniel Burgarth, Robert Johansson, Anton F. Kockum, Franco Nori and Will Zeng.\n",
      "Original developers: R. J. Johansson & P. D. Nation.\n",
      "Previous lead developers: Chris Granade & A. Grimsmo.\n",
      "Currently developed through wide collaboration. See https://github.com/qutip for details.\n",
      "\n",
      "QuTiP Version:      4.6.2\n",
      "Numpy Version:      1.19.2\n",
      "Scipy Version:      1.5.2\n",
      "Cython Version:     0.29.24\n",
      "Matplotlib Version: 3.3.4\n",
      "Python Version:     3.6.13\n",
      "Number of CPUs:     4\n",
      "BLAS Info:          INTEL MKL\n",
      "OPENMP Installed:   False\n",
      "INTEL MKL Ext:      True\n",
      "Platform Info:      Linux (x86_64)\n",
      "Installation path:  /home/saumya/anaconda3/envs/qlat_dev1/lib/python3.6/site-packages/qutip\n",
      "================================================================================\n",
      "Please cite QuTiP in your publication.\n",
      "================================================================================\n",
      "For your convenience a bibtex reference can be easily generated using `qutip.cite()`\n"
     ]
    }
   ],
   "source": [
    "qutip.about()"
   ]
  },
  {
   "cell_type": "code",
   "execution_count": 67,
   "metadata": {},
   "outputs": [
    {
     "name": "stdout",
     "output_type": "stream",
     "text": [
      "@article{qutip2,\n",
      "doi = {10.1016/j.cpc.2012.11.019},\n",
      "url = {https://doi.org/10.1016/j.cpc.2012.11.019},\n",
      "year  = {2013},\n",
      "month = {apr},\n",
      "publisher = {Elsevier {BV}},\n",
      "volume = {184},\n",
      "number = {4},\n",
      "pages = {1234--1240},\n",
      "author = {J.R. Johansson and P.D. Nation and F. Nori},\n",
      "title = {{QuTiP} 2: A {P}ython framework for the dynamics of open quantum systems},\n",
      "journal = {Computer Physics Communications}\n",
      "}\n",
      "@article{qutip1,\n",
      "doi = {10.1016/j.cpc.2012.02.021},\n",
      "url = {https://doi.org/10.1016/j.cpc.2012.02.021},\n",
      "year  = {2012},\n",
      "month = {aug},\n",
      "publisher = {Elsevier {BV}},\n",
      "volume = {183},\n",
      "number = {8},\n",
      "pages = {1760--1772},\n",
      "author = {J.R. Johansson and P.D. Nation and F. Nori},\n",
      "title = {{QuTiP}: An open-source {P}ython framework for the dynamics of open quantum systems},\n",
      "journal = {Computer Physics Communications}\n",
      "}\n"
     ]
    }
   ],
   "source": [
    "qutip.cite()"
   ]
  }
 ],
 "metadata": {
  "kernelspec": {
   "display_name": "Python 3",
   "language": "python",
   "name": "python3"
  },
  "language_info": {
   "codemirror_mode": {
    "name": "ipython",
    "version": 3
   },
   "file_extension": ".py",
   "mimetype": "text/x-python",
   "name": "python",
   "nbconvert_exporter": "python",
   "pygments_lexer": "ipython3",
   "version": "3.6.13"
  }
 },
 "nbformat": 4,
 "nbformat_minor": 2
}
