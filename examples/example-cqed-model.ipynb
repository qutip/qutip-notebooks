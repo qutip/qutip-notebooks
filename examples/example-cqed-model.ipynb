{
 "metadata": {
  "name": "",
  "signature": "sha256:9e3740a7a22556c62e9f6a94dc0bdabce6b219096a96f378b9cd38eb0a80d30e"
 },
 "nbformat": 3,
 "nbformat_minor": 0,
 "worksheets": [
  {
   "cells": [
    {
     "cell_type": "heading",
     "level": 1,
     "metadata": {},
     "source": [
      "QuTiP example: Physical implementation of Cavity-Qubit model"
     ]
    },
    {
     "cell_type": "markdown",
     "metadata": {},
     "source": [
      "\n",
      "Author: Anubhav Vardhan (anubhavvardhan@gmail.com)\n",
      "\n",
      "\n",
      "For more information about QuTiP see [http://qutip.org](http://qutip.org)"
     ]
    },
    {
     "cell_type": "code",
     "collapsed": false,
     "input": [
      "%matplotlib inline"
     ],
     "language": "python",
     "metadata": {},
     "outputs": [],
     "prompt_number": 1
    },
    {
     "cell_type": "code",
     "collapsed": false,
     "input": [
      "import numpy as np"
     ],
     "language": "python",
     "metadata": {},
     "outputs": [],
     "prompt_number": 2
    },
    {
     "cell_type": "code",
     "collapsed": false,
     "input": [
      "from qutip import *"
     ],
     "language": "python",
     "metadata": {},
     "outputs": [],
     "prompt_number": 3
    },
    {
     "cell_type": "code",
     "collapsed": false,
     "input": [
      "from qutip.qip.models.circuitprocessor import *"
     ],
     "language": "python",
     "metadata": {},
     "outputs": [],
     "prompt_number": 4
    },
    {
     "cell_type": "code",
     "collapsed": false,
     "input": [
      "from qutip.qip.models.cqed import *"
     ],
     "language": "python",
     "metadata": {},
     "outputs": [],
     "prompt_number": 5
    },
    {
     "cell_type": "heading",
     "level": 2,
     "metadata": {},
     "source": [
      "Hamoltonian:"
     ]
    },
    {
     "cell_type": "markdown",
     "metadata": {},
     "source": [
      "hamiltonian"
     ]
    },
    {
     "cell_type": "markdown",
     "metadata": {},
     "source": [
      "The cavity-qubit model using a resonator as a bus can be implemented using the DispersivecQED class."
     ]
    },
    {
     "cell_type": "heading",
     "level": 2,
     "metadata": {},
     "source": [
      "Circuit Setup"
     ]
    },
    {
     "cell_type": "code",
     "collapsed": false,
     "input": [
      "N = 3\n",
      "qc = QubitCircuit(N)\n",
      "\n",
      "qc.add_gate(\"ISWAP\", targets=[0,1])\n",
      "\n",
      "qc.png"
     ],
     "language": "python",
     "metadata": {},
     "outputs": [
      {
       "metadata": {},
       "output_type": "pyout",
       "png": "[encoded data removed]",
       "prompt_number": 6,
       "text": [
        "<IPython.core.display.Image at 0x7f0a619719e8>"
       ]
      }
     ],
     "prompt_number": 6
    },
    {
     "cell_type": "code",
     "collapsed": false,
     "input": [
      "U_ideal = gate_sequence_product(qc.propagators())\n",
      "\n",
      "U_ideal"
     ],
     "language": "python",
     "metadata": {},
     "outputs": [
      {
       "latex": [
        "Quantum object: dims = [[2, 2, 2], [2, 2, 2]], shape = [8, 8], type = oper, isherm = False\\begin{equation*}\\left(\\begin{array}{*{11}c}1.0 & 0.0 & 0.0 & 0.0 & 0.0 & 0.0 & 0.0 & 0.0\\\\0.0 & 1.0 & 0.0 & 0.0 & 0.0 & 0.0 & 0.0 & 0.0\\\\0.0 & 0.0 & 0.0 & 0.0 & 1.0j & 0.0 & 0.0 & 0.0\\\\0.0 & 0.0 & 0.0 & 0.0 & 0.0 & 1.0j & 0.0 & 0.0\\\\0.0 & 0.0 & 1.0j & 0.0 & 0.0 & 0.0 & 0.0 & 0.0\\\\0.0 & 0.0 & 0.0 & 1.0j & 0.0 & 0.0 & 0.0 & 0.0\\\\0.0 & 0.0 & 0.0 & 0.0 & 0.0 & 0.0 & 1.0 & 0.0\\\\0.0 & 0.0 & 0.0 & 0.0 & 0.0 & 0.0 & 0.0 & 1.0\\\\\\end{array}\\right)\\end{equation*}"
       ],
       "metadata": {},
       "output_type": "pyout",
       "prompt_number": 7,
       "text": [
        "Quantum object: dims = [[2, 2, 2], [2, 2, 2]], shape = [8, 8], type = oper, isherm = False\n",
        "Qobj data =\n",
        "[[ 1.+0.j  0.+0.j  0.+0.j  0.+0.j  0.+0.j  0.+0.j  0.+0.j  0.+0.j]\n",
        " [ 0.+0.j  1.+0.j  0.+0.j  0.+0.j  0.+0.j  0.+0.j  0.+0.j  0.+0.j]\n",
        " [ 0.+0.j  0.+0.j  0.+0.j  0.+0.j  0.+1.j  0.+0.j  0.+0.j  0.+0.j]\n",
        " [ 0.+0.j  0.+0.j  0.+0.j  0.+0.j  0.+0.j  0.+1.j  0.+0.j  0.+0.j]\n",
        " [ 0.+0.j  0.+0.j  0.+1.j  0.+0.j  0.+0.j  0.+0.j  0.+0.j  0.+0.j]\n",
        " [ 0.+0.j  0.+0.j  0.+0.j  0.+1.j  0.+0.j  0.+0.j  0.+0.j  0.+0.j]\n",
        " [ 0.+0.j  0.+0.j  0.+0.j  0.+0.j  0.+0.j  0.+0.j  1.+0.j  0.+0.j]\n",
        " [ 0.+0.j  0.+0.j  0.+0.j  0.+0.j  0.+0.j  0.+0.j  0.+0.j  1.+0.j]]"
       ]
      }
     ],
     "prompt_number": 7
    },
    {
     "cell_type": "heading",
     "level": 2,
     "metadata": {},
     "source": [
      "Dispersive cQED Model Implementation:"
     ]
    },
    {
     "cell_type": "code",
     "collapsed": false,
     "input": [
      "p1 = DispersivecQED(N, correct_global_phase=True)\n",
      "\n",
      "U_list = p1.run(qc)\n",
      "\n",
      "U_physical = gate_sequence_product(U_list)\n",
      "\n",
      "U_physical.tidyup(atol=1e-3)"
     ],
     "language": "python",
     "metadata": {},
     "outputs": [
      {
       "latex": [
        "Quantum object: dims = [[2, 2, 2], [2, 2, 2]], shape = [8, 8], type = oper, isherm = False\\begin{equation*}\\left(\\begin{array}{*{11}c}1.000 & 0.0 & 0.0 & 0.0 & 0.0 & 0.0 & 0.0 & 0.0\\\\0.0 & 1.000 & 0.0 & 0.0 & 0.0 & 0.0 & 0.0 & 0.0\\\\0.0 & 0.0 & 0.0 & 0.0 & 1.000j & 0.0 & 0.0 & 0.0\\\\0.0 & 0.0 & 0.0 & 0.0 & 0.0 & 1.000j & 0.0 & 0.0\\\\0.0 & 0.0 & 1.000j & 0.0 & 0.0 & 0.0 & 0.0 & 0.0\\\\0.0 & 0.0 & 0.0 & 1.000j & 0.0 & 0.0 & 0.0 & 0.0\\\\0.0 & 0.0 & 0.0 & 0.0 & 0.0 & 0.0 & 1.000 & 0.0\\\\0.0 & 0.0 & 0.0 & 0.0 & 0.0 & 0.0 & 0.0 & 1.000\\\\\\end{array}\\right)\\end{equation*}"
       ],
       "metadata": {},
       "output_type": "pyout",
       "prompt_number": 8,
       "text": [
        "Quantum object: dims = [[2, 2, 2], [2, 2, 2]], shape = [8, 8], type = oper, isherm = False\n",
        "Qobj data =\n",
        "[[ 1.00000000+0.j         0.00000000+0.j         0.00000000+0.j\n",
        "   0.00000000+0.j         0.00000000+0.j         0.00000000+0.j\n",
        "   0.00000000+0.j         0.00000000+0.j       ]\n",
        " [ 0.00000000+0.j         1.00000000+0.j         0.00000000+0.j\n",
        "   0.00000000+0.j         0.00000000+0.j         0.00000000+0.j\n",
        "   0.00000000+0.j         0.00000000+0.j       ]\n",
        " [ 0.00000000+0.j         0.00000000+0.j         0.00000000+0.j\n",
        "   0.00000000+0.j         0.00000000+0.9999999j  0.00000000+0.j\n",
        "   0.00000000+0.j         0.00000000+0.j       ]\n",
        " [ 0.00000000+0.j         0.00000000+0.j         0.00000000+0.j\n",
        "   0.00000000+0.j         0.00000000+0.j         0.00000000+0.9999999j\n",
        "   0.00000000+0.j         0.00000000+0.j       ]\n",
        " [ 0.00000000+0.j         0.00000000+0.j         0.00000000+0.9999999j\n",
        "   0.00000000+0.j         0.00000000+0.j         0.00000000+0.j\n",
        "   0.00000000+0.j         0.00000000+0.j       ]\n",
        " [ 0.00000000+0.j         0.00000000+0.j         0.00000000+0.j\n",
        "   0.00000000+0.9999999j  0.00000000+0.j         0.00000000+0.j\n",
        "   0.00000000+0.j         0.00000000+0.j       ]\n",
        " [ 0.00000000+0.j         0.00000000+0.j         0.00000000+0.j\n",
        "   0.00000000+0.j         0.00000000+0.j         0.00000000+0.j\n",
        "   0.99999996+0.j         0.00000000+0.j       ]\n",
        " [ 0.00000000+0.j         0.00000000+0.j         0.00000000+0.j\n",
        "   0.00000000+0.j         0.00000000+0.j         0.00000000+0.j\n",
        "   0.00000000+0.j         0.99999996+0.j       ]]"
       ]
      }
     ],
     "prompt_number": 8
    },
    {
     "cell_type": "code",
     "collapsed": false,
     "input": [
      "(U_ideal - U_physical).norm()"
     ],
     "language": "python",
     "metadata": {},
     "outputs": [
      {
       "metadata": {},
       "output_type": "pyout",
       "prompt_number": 9,
       "text": [
        "4.7506632105953628e-07"
       ]
      }
     ],
     "prompt_number": 9
    },
    {
     "cell_type": "markdown",
     "metadata": {},
     "source": [
      "The results obtained from the physical implementation agree with the ideal result."
     ]
    },
    {
     "cell_type": "code",
     "collapsed": false,
     "input": [
      "p1.qc0.gates"
     ],
     "language": "python",
     "metadata": {},
     "outputs": [
      {
       "metadata": {},
       "output_type": "pyout",
       "prompt_number": 10,
       "text": [
        "[Gate(ISWAP, targets=[0, 1], controls=None)]"
       ]
      }
     ],
     "prompt_number": 10
    },
    {
     "cell_type": "markdown",
     "metadata": {},
     "source": [
      "The gates are first transformed into the ISWAP basis, which is redundant in this example."
     ]
    },
    {
     "cell_type": "code",
     "collapsed": false,
     "input": [
      "p1.qc1.gates"
     ],
     "language": "python",
     "metadata": {},
     "outputs": [
      {
       "metadata": {},
       "output_type": "pyout",
       "prompt_number": 11,
       "text": [
        "[Gate(ISWAP, targets=[0, 1], controls=None)]"
       ]
      }
     ],
     "prompt_number": 11
    },
    {
     "cell_type": "markdown",
     "metadata": {},
     "source": [
      "An RZ gate, followed by a Globalphase, is applied to all ISWAP and SQRTISWAP gates to normalize the propagator matrix.\n",
      "Arg_value for the ISWAP case is pi/2, while for the SQRTISWAP case, it is pi/4."
     ]
    },
    {
     "cell_type": "code",
     "collapsed": false,
     "input": [
      "p1.qc2.gates"
     ],
     "language": "python",
     "metadata": {},
     "outputs": [
      {
       "metadata": {},
       "output_type": "pyout",
       "prompt_number": 12,
       "text": [
        "[Gate(ISWAP, targets=[0, 1], controls=None),\n",
        " Gate(RZ, targets=[0], controls=None),\n",
        " Gate(RZ, targets=[1], controls=None),\n",
        " Gate(GLOBALPHASE, targets=None, controls=None)]"
       ]
      }
     ],
     "prompt_number": 12
    },
    {
     "cell_type": "markdown",
     "metadata": {},
     "source": [
      "The time for each applied gate:"
     ]
    },
    {
     "cell_type": "code",
     "collapsed": false,
     "input": [
      "p1.T_list"
     ],
     "language": "python",
     "metadata": {},
     "outputs": [
      {
       "metadata": {},
       "output_type": "pyout",
       "prompt_number": 13,
       "text": [
        "[2500.0000000000027, 0.013157894736842106, 0.013157894736842106]"
       ]
      }
     ],
     "prompt_number": 13
    },
    {
     "cell_type": "markdown",
     "metadata": {},
     "source": [
      "The pulse can be plotted as:"
     ]
    },
    {
     "cell_type": "code",
     "collapsed": false,
     "input": [
      "p1.plot_pulses();"
     ],
     "language": "python",
     "metadata": {},
     "outputs": [
      {
       "metadata": {},
       "output_type": "display_data",
       "png": "[encoded data removed]",
       "text": [
        "<matplotlib.figure.Figure at 0x7f0a61971d30>"
       ]
      }
     ],
     "prompt_number": 14
    },
    {
     "cell_type": "heading",
     "level": 3,
     "metadata": {},
     "source": [
      "Software versions:"
     ]
    },
    {
     "cell_type": "code",
     "collapsed": false,
     "input": [
      "from qutip.ipynbtools import version_table\n",
      "version_table()"
     ],
     "language": "python",
     "metadata": {},
     "outputs": [
      {
       "html": [
        "<table><tr><th>Software</th><th>Version</th></tr><tr><td>Numpy</td><td>1.9.1</td></tr><tr><td>matplotlib</td><td>1.4.2</td></tr><tr><td>Cython</td><td>0.21.2</td></tr><tr><td>SciPy</td><td>0.14.1</td></tr><tr><td>IPython</td><td>2.3.1</td></tr><tr><td>QuTiP</td><td>3.1.0</td></tr><tr><td>OS</td><td>posix [linux]</td></tr><tr><td>Python</td><td>3.4.0 (default, Apr 11 2014, 13:05:11) \n",
        "[GCC 4.8.2]</td></tr><tr><td colspan='2'>Tue Jan 13 13:36:58 2015 JST</td></tr></table>"
       ],
       "metadata": {},
       "output_type": "pyout",
       "prompt_number": 15,
       "text": [
        "<IPython.core.display.HTML at 0x7f0a5de83f98>"
       ]
      }
     ],
     "prompt_number": 15
    }
   ],
   "metadata": {}
  }
 ]
}