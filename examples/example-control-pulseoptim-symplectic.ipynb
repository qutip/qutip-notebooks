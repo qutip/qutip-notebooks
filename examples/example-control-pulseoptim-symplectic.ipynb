{
 "metadata": {
  "name": "",
  "signature": "sha256:c81239bdf02edfd0278c6a65c59d8185d6c2e912498c557009ac22ec4a3b7df9"
 },
 "nbformat": 3,
 "nbformat_minor": 0,
 "worksheets": [
  {
   "cells": [
    {
     "cell_type": "heading",
     "level": 1,
     "metadata": {},
     "source": [
      "Calculation of control fields for symplectic dynamics using L-BFGS-B algorithm"
     ]
    },
    {
     "cell_type": "markdown",
     "metadata": {},
     "source": [
      "Alexander Pitchford (agp1@aber.ac.uk)"
     ]
    },
    {
     "cell_type": "markdown",
     "metadata": {},
     "source": [
      "Example to demonstrate using the control library to determine control\n",
      "pulses using the ctrlpulseoptim.optimize_pulse function.\n",
      "The (default) L-BFGS-B algorithm is used to optimise the pulse to\n",
      "minimise the fidelity error, which in this case is given by the\n",
      "'Trace difference' norm.\n",
      "\n",
      "This in a Symplectic quantum system example, with two coupled oscillators\n",
      "\n",
      "The user can experiment with the timeslicing, by means of changing the\n",
      "number of timeslots and/or total time for the evolution.\n",
      "Different initial (starting) pulse types can be tried.\n",
      "The initial and final pulses are displayed in a plot\n",
      "\n",
      "This example assumes that the example-control-pulseoptim-Hadamard has already been tried, and hence explanations in that notebook are not repeated here."
     ]
    },
    {
     "cell_type": "code",
     "collapsed": false,
     "input": [
      "%matplotlib inline\n",
      "import numpy as np\n",
      "import matplotlib.pyplot as plt\n",
      "import datetime"
     ],
     "language": "python",
     "metadata": {},
     "outputs": [],
     "prompt_number": 1
    },
    {
     "cell_type": "code",
     "collapsed": false,
     "input": [
      "from qutip import Qobj, identity, sigmax, sigmay, sigmaz, tensor\n",
      "from qutip.qip import hadamard_transform\n",
      "import qutip.logging as logging\n",
      "logger = logging.get_logger()\n",
      "#Set this to None or logging.WARN for 'quiet' execution\n",
      "log_level = logging.INFO\n",
      "#QuTiP control modules\n",
      "import qutip.control.pulseoptim as cpo\n",
      "import qutip.control.symplectic as sympl\n",
      "\n",
      "example_name = 'Symplectic'"
     ],
     "language": "python",
     "metadata": {},
     "outputs": [],
     "prompt_number": 2
    },
    {
     "cell_type": "heading",
     "level": 3,
     "metadata": {},
     "source": [
      "Defining the physics"
     ]
    },
    {
     "cell_type": "code",
     "collapsed": false,
     "input": [
      "#Drift\n",
      "w1 = 1\n",
      "w2 = 1\n",
      "g1 = 0.5\n",
      "A0 = Qobj(np.array([[w1, 0, g1, 0], \n",
      "                [0, w1, 0, g1], \n",
      "                [g1, 0, w2, 0], \n",
      "                [0, g1, 0, w2]]))\n",
      "\n",
      "#Control\n",
      "Ac = Qobj(np.array([[1, 0, 0, 0,], \\\n",
      "                [0, 1, 0, 0], \\\n",
      "                [0, 0, 0, 0], \\\n",
      "                [0, 0, 0, 0]]))\n",
      "ctrls = [Ac]        \n",
      "n_ctrls = len(ctrls)\n",
      "\n",
      "initial = identity(4)\n",
      "\n",
      "# Target\n",
      "a = 1\n",
      "Ag = np.array([[0, 0, a, 0], \n",
      "                [0, 0, 0, a], \n",
      "                [a, 0, 0, 0], \n",
      "                [0, a, 0, 0]])\n",
      "               \n",
      "Sg = Qobj(sympl.calc_omega(2).dot(Ag)).expm()"
     ],
     "language": "python",
     "metadata": {},
     "outputs": [],
     "prompt_number": 3
    },
    {
     "cell_type": "heading",
     "level": 3,
     "metadata": {},
     "source": [
      "Defining the time evolution parameters"
     ]
    },
    {
     "cell_type": "code",
     "collapsed": false,
     "input": [
      "# Number of time slots\n",
      "n_ts = 1000\n",
      "# Time allowed for the evolution\n",
      "evo_time = 10"
     ],
     "language": "python",
     "metadata": {},
     "outputs": [],
     "prompt_number": 4
    },
    {
     "cell_type": "heading",
     "level": 3,
     "metadata": {},
     "source": [
      "Set the conditions which will cause the pulse optimisation to terminate"
     ]
    },
    {
     "cell_type": "code",
     "collapsed": false,
     "input": [
      "# Fidelity error target\n",
      "fid_err_targ = 1e-10\n",
      "# Maximum iterations for the optisation algorithm\n",
      "max_iter = 500\n",
      "# Maximum (elapsed) time allowed in seconds\n",
      "max_wall_time = 30\n",
      "# Minimum gradient (sum of gradients squared)\n",
      "# as this tends to 0 -> local minima has been found\n",
      "min_grad = 1e-20"
     ],
     "language": "python",
     "metadata": {},
     "outputs": [],
     "prompt_number": 5
    },
    {
     "cell_type": "heading",
     "level": 3,
     "metadata": {},
     "source": [
      "Set the initial pulse type"
     ]
    },
    {
     "cell_type": "code",
     "collapsed": false,
     "input": [
      "# pulse type alternatives: RND|ZERO|LIN|SINE|SQUARE|SAW|TRIANGLE|\n",
      "p_type = 'ZERO'"
     ],
     "language": "python",
     "metadata": {},
     "outputs": [],
     "prompt_number": 6
    },
    {
     "cell_type": "heading",
     "level": 3,
     "metadata": {},
     "source": [
      "Give an extension for output files"
     ]
    },
    {
     "cell_type": "code",
     "collapsed": false,
     "input": [
      "#Set to None to suppress output files\n",
      "f_ext = \"{}_n_ts{}_ptype{}.txt\".format(example_name, n_ts, p_type)"
     ],
     "language": "python",
     "metadata": {},
     "outputs": [],
     "prompt_number": 7
    },
    {
     "cell_type": "heading",
     "level": 3,
     "metadata": {},
     "source": [
      "Run the optimisation"
     ]
    },
    {
     "cell_type": "code",
     "collapsed": false,
     "input": [
      "# Note that this call uses\n",
      "#    dyn_type='SYMPL'\n",
      "# This means that matrices that describe the dynamics are assumed to be\n",
      "# Symplectic, i.e. the propagator can be calculated using \n",
      "# expm(combined_dynamics.omega*dt)\n",
      "# This has defaults for:\n",
      "#    prop_type='FRECHET'\n",
      "# therefore the propagators and their gradients will be calculated using the\n",
      "# Frechet method, i.e. an exact gradient\n",
      "#    fid_type='TRACEDIFF'\n",
      "# so that the fidelity error, i.e. distance from the target, is give\n",
      "# by the trace of the difference between the target and evolved operators \n",
      "result = cpo.optimize_pulse(A0, ctrls, initial, Sg, n_ts, evo_time, \n",
      "                fid_err_targ=fid_err_targ, min_grad=min_grad, \n",
      "                max_iter=max_iter, max_wall_time=max_wall_time, \n",
      "                dyn_type='SYMPL', \n",
      "                out_file_ext=f_ext, init_pulse_type=p_type, \n",
      "                log_level=log_level, gen_stats=True)\n"
     ],
     "language": "python",
     "metadata": {},
     "outputs": [
      {
       "output_type": "stream",
       "stream": "stderr",
       "text": [
        "INFO:qutip.control.pulseoptim:System configuration:\n",
        "Drift dynamics generator:\n",
        "[[ 1.0+0.j  0.0+0.j  0.5+0.j  0.0+0.j]\n",
        " [ 0.0+0.j  1.0+0.j  0.0+0.j  0.5+0.j]\n",
        " [ 0.5+0.j  0.0+0.j  1.0+0.j  0.0+0.j]\n",
        " [ 0.0+0.j  0.5+0.j  0.0+0.j  1.0+0.j]]\n",
        "Control 1 dynamics generator:\n",
        "[[ 1.+0.j  0.+0.j  0.+0.j  0.+0.j]\n",
        " [ 0.+0.j  1.+0.j  0.+0.j  0.+0.j]\n",
        " [ 0.+0.j  0.+0.j  0.+0.j  0.+0.j]\n",
        " [ 0.+0.j  0.+0.j  0.+0.j  0.+0.j]]\n",
        "Initial operator:\n",
        "[[ 1.+0.j  0.+0.j  0.+0.j  0.+0.j]\n",
        " [ 0.+0.j  1.+0.j  0.+0.j  0.+0.j]\n",
        " [ 0.+0.j  0.+0.j  1.+0.j  0.+0.j]\n",
        " [ 0.+0.j  0.+0.j  0.+0.j  1.+0.j]]\n",
        "Target operator:\n",
        "[[ 0.54030231+0.j  0.00000000+0.j  0.00000000+0.j  0.84147098+0.j]\n",
        " [ 0.00000000+0.j  0.54030231+0.j -0.84147098+0.j  0.00000000+0.j]\n",
        " [ 0.00000000+0.j  0.84147098+0.j  0.54030231+0.j  0.00000000+0.j]\n",
        " [-0.84147098+0.j  0.00000000+0.j  0.00000000+0.j  0.54030231+0.j]]\n"
       ]
      },
      {
       "output_type": "stream",
       "stream": "stderr",
       "text": [
        "INFO:qutip.control.pulseoptim:Initial amplitudes output to file: ctrl_amps_initial_Symplectic_n_ts1000_ptypeZERO.txt\n"
       ]
      },
      {
       "output_type": "stream",
       "stream": "stderr",
       "text": [
        "INFO:qutip.control.optimizer:Optimising pulse using L-BFGS-B\n"
       ]
      },
      {
       "output_type": "stream",
       "stream": "stderr",
       "text": [
        "INFO:qutip.control.pulseoptim:Final amplitudes output to file: ctrl_amps_final_Symplectic_n_ts1000_ptypeZERO.txt\n"
       ]
      }
     ],
     "prompt_number": 8
    },
    {
     "cell_type": "heading",
     "level": 3,
     "metadata": {},
     "source": [
      "Report the results"
     ]
    },
    {
     "cell_type": "code",
     "collapsed": false,
     "input": [
      "result.stats.report()\n",
      "print(\"Final evolution\\n{}\\n\".format(result.evo_full_final))\n",
      "print(\"********* Summary *****************\")\n",
      "print(\"Final fidelity error {}\".format(result.fid_err))\n",
      "print(\"Final gradient normal {}\".format(result.grad_norm_final))\n",
      "print(\"Terminated due to {}\".format(result.termination_reason))\n",
      "print(\"Number of iterations {}\".format(result.num_iter))\n",
      "print(\"Completed in {} HH:MM:SS.US\".format(datetime.timedelta(seconds=result.wall_time)))"
     ],
     "language": "python",
     "metadata": {},
     "outputs": [
      {
       "output_type": "stream",
       "stream": "stdout",
       "text": [
        "\n",
        "------------------------------------\n",
        "---- Control optimisation stats ----\n",
        "**** Timings (HH:MM:SS.US) ****\n",
        "Total wall time elapsed during optimisation: 0:00:08.261914\n",
        "Wall time computing Hamiltonians: 0:00:00.208757 (2.53%)\n",
        "Wall time computing propagators: 0:00:07.326453 (88.68%)\n",
        "Wall time computing forward propagation: 0:00:00.052961 (0.64%)\n",
        "Wall time computing onward propagation: 0:00:00.051577 (0.62%)\n",
        "Wall time computing gradient: 0:00:00.611217 (7.40%)\n",
        "\n",
        "**** Iterations and function calls ****\n",
        "Number of iterations: 13\n",
        "Number of fidelity function calls: 18\n",
        "Number of times fidelity is computed: 18\n",
        "Number of gradient function calls: 17\n",
        "Number of times gradients are computed: 17\n",
        "Number of times timeslot evolution is recomputed: 18\n",
        "\n",
        "**** Control amplitudes ****\n",
        "Number of control amplitude updates: 17\n",
        "Mean number of updates per iteration: 1.3076923076923077\n",
        "Number of timeslot values changed: 17000\n",
        "Mean number of timeslot changes per update: 1000.0\n",
        "Number of amplitude values changed: 17000\n",
        "Mean number of amplitude changes per update: 1000.0\n",
        "------------------------------------\n",
        "Final evolution\n",
        "Quantum object: dims = [[4], [4]], shape = [4, 4], type = oper, isherm = False\n",
        "Qobj data =\n",
        "[[  5.40302194e-01  -3.23386879e-07   9.59430701e-08   8.41471056e-01]\n",
        " [  3.23386880e-07   5.40302194e-01  -8.41471056e-01   9.59430701e-08]\n",
        " [  9.59430675e-08   8.41471056e-01   5.40302194e-01   2.00178239e-07]\n",
        " [ -8.41471056e-01   9.59430665e-08  -2.00178237e-07   5.40302194e-01]]\n",
        "\n",
        "********* Summary *****************\n",
        "Final fidelity error 4.955449758551298e-14\n",
        "Final gradient normal 2.5564261471023003e-06\n",
        "Terminated due to Goal achieved\n",
        "Number of iterations 13\n",
        "Completed in 0:00:08.261914 HH:MM:SS.US\n"
       ]
      }
     ],
     "prompt_number": 10
    },
    {
     "cell_type": "heading",
     "level": 3,
     "metadata": {},
     "source": [
      "Plot the initial and final amplitudes"
     ]
    },
    {
     "cell_type": "code",
     "collapsed": false,
     "input": [
      "t = result.time[:n_ts]\n",
      "\n",
      "fig1 = plt.figure()\n",
      "ax1 = fig1.add_subplot(2, 1, 1)\n",
      "ax1.set_title(\"Initial Control amps\")\n",
      "ax1.set_xlabel(\"Time\")\n",
      "ax1.set_ylabel(\"Control amplitude\")\n",
      "for j in range(n_ctrls):\n",
      "    amps = result.initial_amps[:, j]\n",
      "    ax1.plot(t, amps)\n",
      "\n",
      "ax2 = fig1.add_subplot(2, 1, 2)\n",
      "ax2.set_title(\"Optimised Control Amplitudes\")\n",
      "ax2.set_xlabel(\"Time\")\n",
      "ax2.set_ylabel(\"Control amplitude\")\n",
      "for j in range(n_ctrls):\n",
      "    amps = result.final_amps[:, j]\n",
      "    ax2.plot(t, amps)\n",
      "\n",
      "plt.show()"
     ],
     "language": "python",
     "metadata": {},
     "outputs": [
      {
       "metadata": {},
       "output_type": "display_data",
       "png": "[encoded data removed]",
       "text": [
        "<matplotlib.figure.Figure at 0x7f1c15cceda0>"
       ]
      }
     ],
     "prompt_number": 11
    },
    {
     "cell_type": "heading",
     "level": 3,
     "metadata": {},
     "source": [
      "Versions"
     ]
    },
    {
     "cell_type": "code",
     "collapsed": false,
     "input": [
      "from qutip.ipynbtools import version_table\n",
      "\n",
      "version_table()"
     ],
     "language": "python",
     "metadata": {},
     "outputs": [
      {
       "html": [
        "<table><tr><th>Software</th><th>Version</th></tr><tr><td>OS</td><td>posix [linux]</td></tr><tr><td>IPython</td><td>2.3.1</td></tr><tr><td>matplotlib</td><td>1.4.2</td></tr><tr><td>Cython</td><td>0.21.2</td></tr><tr><td>QuTiP</td><td>3.1.0</td></tr><tr><td>Python</td><td>3.4.0 (default, Apr 11 2014, 13:05:11) \n",
        "[GCC 4.8.2]</td></tr><tr><td>SciPy</td><td>0.14.1</td></tr><tr><td>Numpy</td><td>1.9.1</td></tr><tr><td colspan='2'>Tue Jan 13 13:35:23 2015 JST</td></tr></table>"
       ],
       "metadata": {},
       "output_type": "pyout",
       "prompt_number": 12,
       "text": [
        "<IPython.core.display.HTML at 0x7f1c15cb73c8>"
       ]
      }
     ],
     "prompt_number": 12
    }
   ],
   "metadata": {}
  }
 ]
}