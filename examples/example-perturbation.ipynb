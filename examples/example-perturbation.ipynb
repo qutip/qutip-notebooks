{
 "cells": [
  {
   "cell_type": "markdown",
   "metadata": {},
   "source": [
    "# QuTiP example: Perturbation theory"
   ]
  },
  {
   "cell_type": "markdown",
   "metadata": {},
   "source": [
    "Author: Xiang Gao\n",
    "\n",
    "For more information about QuTiP see [http://qutip.org](http://qutip.org)\n",
    "\n",
    "If you have questions about this part, feel free to email [qasdfgtyuiop@gmail.com](mailto:qasdfgtyuiop@gmail.com)."
   ]
  },
  {
   "cell_type": "markdown",
   "metadata": {},
   "source": [
    "This notebook correspond to the module \"qutip.perturbation\". And the source code of this module contains a lot of references towards formula and terms defined in this notebook. This notebook also contains a lot of the explanations on the implementation of that module. So if you make changes to this notebook, ALWAYS update the source code of that module to keep them consistent."
   ]
  },
  {
   "cell_type": "markdown",
   "metadata": {},
   "source": [
    "## 1. Perturbation theory"
   ]
  },
  {
   "cell_type": "markdown",
   "metadata": {},
   "source": [
    "Here we discusses the theory of perturbation."
   ]
  },
  {
   "cell_type": "markdown",
   "metadata": {},
   "source": [
    "### 1.1 Non-degenerate states"
   ]
  },
  {
   "cell_type": "markdown",
   "metadata": {},
   "source": [
    "The theory of perturbation is very easy for non-degenerate states."
   ]
  },
  {
   "cell_type": "markdown",
   "metadata": {},
   "source": [
    "#### 1.1.1 Notations"
   ]
  },
  {
   "cell_type": "markdown",
   "metadata": {},
   "source": [
    "First of all, we often use the symbol like $\\sum_i$. If the range of sum is omited (as in here), it means the sum is over all non-negative integers from $0$ to $+\\infty$."
   ]
  },
  {
   "cell_type": "markdown",
   "metadata": {},
   "source": [
    "Assume the Hamiltonian of the system can be written as\n",
    "$$\\hat{H} = \\hat{H}_0+\\lambda\\hat{H}_1+\\lambda^2\\hat{H}_2+\\cdots=\\sum_i \\lambda^i \\hat{H}_i\\tag{1.1.1.1}$$\n",
    "Where $\\hat{H}_0$ is the unperturbed Hamilton, $\\hat{H}_i$is the $i^{th}$ order perturbation."
   ]
  },
  {
   "cell_type": "markdown",
   "metadata": {},
   "source": [
    "Let $E_n^{(0)}$ be the unperturbed eigen value of Hamiltonian with eigen state $\\left|\\Psi_n^{(0)}\\right>$. The perturbed eigen value of Hamiltonian is called $E_n$, and the corresponding eigen state is $\\left|\\Psi_n\\right>$, where $n=0,1,2,3,\\ldots$."
   ]
  },
  {
   "cell_type": "markdown",
   "metadata": {},
   "source": [
    "We can write the Taylor expansion of $E_n$ as\n",
    "$$E_n = \\sum_i\\lambda^i E_n^{(i)}\\tag{1.1.1.2}$$\n",
    "and $\\left|\\Psi_n\\right>$ as\n",
    "$$\\left|\\Psi_n\\right>=\\sum_i\\lambda^i\\left|\\Psi_n^{(i)}\\right>\\tag{1.1.1.3}$$"
   ]
  },
  {
   "cell_type": "markdown",
   "metadata": {},
   "source": [
    "We use the normalization condition\n",
    "$$\\left<\\Psi_k^{(0)}\\middle|\\Psi_l^{(0)}\\right>=\\delta_{kl}$$"
   ]
  },
  {
   "cell_type": "markdown",
   "metadata": {},
   "source": [
    "#### 1.1.2 The equation of $\\hat{H}_i$, $E_n^{(i)}$ and $\\left|\\Psi_n^{(i)}\\right>$"
   ]
  },
  {
   "cell_type": "markdown",
   "metadata": {},
   "source": [
    "From the difination above, we can write\n",
    "$$\\hat{H}\\left|\\Psi_n\\right>=E_n\\left|\\Psi_n\\right>\\tag{1.1.2.1}$$\n",
    "and\n",
    "$$\\hat{H}_0\\left|\\Psi_n^{(0)}\\right>=E_n^{(0)}\\left|\\Psi_n^{(0)}\\right>\\tag{1.1.2.2}$$\n",
    "\n",
    "Substitute $(1.1.1.1),(1.1.1.2),(1.1.1.3)$ into $(1.1.2.1)$, we get\n",
    "$$\\left(\\sum_i \\lambda^i \\hat{H}_i\\right)\\left(\\sum_i\\lambda^i\\left|\\Psi_n^{(i)}\\right>\\right)=\\left(\\sum_i\\lambda^i E_n^{(i)}\\right)\\left(\\sum_i\\lambda^i\\left|\\Psi_n^{(i)}\\right>\\right)$$\n",
    "\n",
    "Move everything to the left, we get\n",
    "$$\\left[\\sum_i\\lambda^i\\left(\\hat{H}_i-E_n^{(i)}\\right)\\right]\\left(\\sum_i\\lambda^i\\left|\\Psi_n^{(i)}\\right>\\right)=0$$\n",
    "\n",
    "Expand this formula, we will get\n",
    "$$\\left[\\sum_{ij}\\lambda^{i+j}\\left(\\hat{H}_i-E_n^{(i)}\\right)\\left|\\Psi_n^{(j)}\\right>\\right]=0$$\n",
    "\n",
    "Reorganize by setting $s=i+j$, we have\n",
    "$$\\sum_s\\left[\\lambda^{s}\\sum_{i=0}^s\\left(\\hat{H}_i-E_n^{(i)}\\right)\\left|\\Psi_n^{(s-i)}\\right>\\right]=0$$\n",
    "\n",
    "In order that the left side and the right side be the same series, we must have\n",
    "$$\\sum_{i=0}^s\\left(\\hat{H}_i-E_n^{(i)}\\right)\\left|\\Psi_n^{(s-i)}\\right>=0\\tag{1.1.2.3}$$\n",
    "\n",
    "This equation contains the key information of $\\hat{H}_i$, $E_n^{(i)}$ and $\\left|\\Psi_n^{(i)}\\right>$. It is very important and we can retrieve everything we need from this equation."
   ]
  },
  {
   "cell_type": "markdown",
   "metadata": {},
   "source": [
    "#### 1.1.3 Formula of $E_n^{(s)}$ and $\\left|\\Psi_n^{(s)}\\right>$"
   ]
  },
  {
   "cell_type": "markdown",
   "metadata": {},
   "source": [
    "$(1.1.2.3)$ can be written as\n",
    "$$\\left(\\hat{H}_0-E_n^{(0)}\\right)\\left|\\Psi_n^{(s)}\\right>+\\left(\\hat{H}_s-E_n^{(s)}\\right)\\left|\\Psi_n^{(0)}\\right>+\\sum_{i=1}^{s-1}\\left(\\hat{H}_i-E_n^{(i)}\\right)\\left|\\Psi_n^{(s-i)}\\right>=0\\tag{1.1.3.1}$$\n",
    "\n",
    "Multiply $\\left<\\Psi_n^{(0)}\\right|$ to the left, we get\n",
    "$$\\left<\\Psi_n^{(0)}\\right|\\hat{H}_s\\left|\\Psi_n^{(0)}\\right>-E_n^{(s)}+\\sum_{i=1}^{s-1}\\left<\\Psi_n^{(0)}\\right|\\left(\\hat{H}_i-E_n^{(i)}\\right)\\left|\\Psi_n^{(s-i)}\\right>=0$$\n",
    "\n",
    "So we get $E_n^{(s)}$ immediately\n",
    "$$E_n^{(s)}=\\left<\\Psi_n^{(0)}\\right|\\hat{H}_s\\left|\\Psi_n^{(0)}\\right>+\\sum_{i=1}^{s-1}\\left<\\Psi_n^{(0)}\\right|\\left(\\hat{H}_i-E_n^{(i)}\\right)\\left|\\Psi_n^{(s-i)}\\right>\\tag{1.1.3.2}$$"
   ]
  },
  {
   "cell_type": "markdown",
   "metadata": {},
   "source": [
    "After getting $E_n^{(s)}$, we write $(1.1.3.1)$ as\n",
    "$$\\left(\\hat{H}_0-E_n^{(0)}\\right)\\left|\\Psi_n^{(s)}\\right>=-\\sum_{i=1}^{s}\\left(\\hat{H}_i-E_n^{(i)}\\right)\\left|\\Psi_n^{(s-i)}\\right>\\tag{1.1.3.3}$$\n",
    "\n",
    "Our goal is to express $\\left|\\Psi_n^{(s)}\\right>$ in the base $\\left\\{\\left|\\Psi_\\alpha^{(0)}\\right>\\right\\}$, to achieve this goal we write $\\left|\\Psi_n^{(s)}\\right>$ as\n",
    "$$\\left|\\Psi_n^{(s)}\\right>=\\sum_\\alpha C_{n\\alpha}^{(s)}\\left|\\Psi_\\alpha^{(0)}\\right>\\tag{1.1.3.4}$$\n",
    "\n",
    "Substitute $(1.1.3.4)$ to $(1.1.3.3)$ and multiply $\\left<\\Psi_\\beta^{(0)}\\right|$\n",
    "to the left, we get\n",
    "$$\\left<\\Psi_\\beta^{(0)}\\right|\\left(\\hat{H}_0-E_n^{(0)}\\right)\\left(\\sum_\\alpha C_{n\\alpha}^{(s)}\\left|\\Psi_\\alpha^{(0)}\\right>\\right)=-\\sum_{i=1}^{s}\\left<\\Psi_\\beta^{(0)}\\right|\\left(\\hat{H}_i-E_n^{(i)}\\right)\\left|\\Psi_n^{(s-i)}\\right>\\tag{1.1.3.5}$$\n",
    "\n",
    "The left side of formula $(1.1.3.5)$ can be reorganized as\n",
    "$$\\sum_{\\alpha}\\left<\\Psi_\\beta^{(0)}\\right|\\left(\\hat{H}_0-E_n^{(0)}\\right)\\left|\\Psi_\\alpha^{(0)}\\right>C_{n\\alpha}^{(s)}=\\sum_{\\alpha}\\left(E_\\beta^{(0)}-E_n^{(0)}\\right)C_{n\\alpha}^{(s)}\\delta_{\\alpha\\beta}=\\left(E_\\beta^{(0)}-E_n^{(0)}\\right)C_{n\\beta}^{(s)}$$\n",
    "\n",
    "\n",
    "So we have\n",
    "$$\\left(E_n^{(0)}-E_\\beta^{(0)}\\right)C_{n\\beta}^{(s)}=\\sum_{i=1}^{s}\\left<\\Psi_\\beta^{(0)}\\right|\\left(\\hat{H}_i-E_n^{(i)}\\right)\\left|\\Psi_n^{(s-i)}\\right>\\tag{1.1.3.6}$$\n",
    "\n",
    "For any $n\\neq\\beta$, we can get immediately\n",
    "$$C_{n\\beta}^{(s)}=\\frac{1}{E_n^{(0)}-E_\\beta^{(0)}}\\sum_{i=1}^{s}\\left<\\Psi_\\beta^{(0)}\\right|\\left(\\hat{H}_i-E_n^{(i)}\\right)\\left|\\Psi_n^{(s-i)}\\right>\\tag{1.1.3.7}$$"
   ]
  },
  {
   "cell_type": "markdown",
   "metadata": {},
   "source": [
    "In principle, the value of $C_{nn}^{(s)}$ is arbitrary, any value of $C_{nn}^{(s)}$ will give the correct answer. So we simply set\n",
    "$$C_{nn}^{(s)}=0\\tag{1.1.3.8}$$"
   ]
  },
  {
   "cell_type": "markdown",
   "metadata": {},
   "source": [
    "### 1.2 Degenerate states"
   ]
  },
  {
   "cell_type": "markdown",
   "metadata": {},
   "source": [
    "We have gotten the formula for non-degenerate states: we can use $(1.1.3.2)$ to calculate energy, and use $(1.1.3.7)$ and $(1.1.3.8)$ to calculate state. The alogrithm for degenerate states are similar but much more complicated compared with non-degenerate states."
   ]
  },
  {
   "cell_type": "markdown",
   "metadata": {},
   "source": [
    "#### 1.2.1 The perturbation's influence on energy level"
   ]
  },
  {
   "cell_type": "markdown",
   "metadata": {},
   "source": [
    "The unperturbed Hamiltonian $\\hat{H}_0$ have many eigenvalues, we call them $E^{(0)}_0, E^{(0)}_1, E^{(0)}_2, \\ldots$. Each eigenvalue might be degenerate or not. If one eigenvalue is degenerate, then all the eigenvectors corresponding to this eigenvalue will form a subspace of the total Hilbert space of the states of the system, we call these spaces eigenspace of the corresponding eigenvalue. For a non-degenerate eigenvalue, the eigenspace is a 1 dimension subspace. The eigenspace of $E^{(0)}_i$ is denoted by $\\mathscr{H^{(0)}_i}$. The dimension of $\\mathscr{H^{(0)}_i}$ equals the degree of degeneracy of eigenvalue $E^{(0)}_i$. "
   ]
  },
  {
   "cell_type": "markdown",
   "metadata": {},
   "source": [
    "After applying the first order perturbation, the eigenvalues and their eigenspaces might be splitted by the first order perturbation. In this case, the eigenvalue $E^{(0)}_i$, and its eigenspace $\\mathscr{H^{(0)}_i}$ might split into several eigenvalues. We use $E^{(1)}_{i0}, E^{(1)}_{i1}, E^{(1)}_{i2}, \\ldots$ to denote the change of eigenvalue (so the new eigenvalue will be $E^{(0)}_i+E^{(1)}_{i0}, E^{(0)}_i+E^{(1)}_{i1}, E^{(0)}_i+E^{(1)}_{i2}, \\ldots$) due to first order perturbation.\n",
    "$\\mathscr{H^{(0)}_i}$ will also be splitted, the new eigenspace will be denoted by $\\mathscr{H^{(1)}_{i0}}, \\mathscr{H^{(1)}_{i1}}, \\mathscr{H^{(1)}_{i2}}, \\ldots$. If there are still degeneracy after first order perturbation, second order perturbation might further split the eigenvalues and eigenspaces. This time, we use $E^{(2)}_{ij0}, E^{(2)}_{ij1}, E^{(2)}_{ij2}, \\ldots$ and $\\mathscr{H^{(2)}_{ij0}}, \\mathscr{H^{(2)}_{ij1}}, \\mathscr{H^{(2)}_{ij2}}, \\ldots$ to denote the eigenvalue change of newly splitted eigenvalues and their newly splitted eigenspace.\n",
    "For higher order perturbation, this rule easily applies."
   ]
  },
  {
   "cell_type": "markdown",
   "metadata": {},
   "source": [
    "#### 1.2.2 Suitable base"
   ]
  },
  {
   "cell_type": "markdown",
   "metadata": {},
   "source": [
    "Assume the energy level is degerate up to the order $t$, the $t^{th}$ order degeneracy is $g_{t}(i_0i_1\\cdots i_{t})$, that is: there is a $g_{t}(i_0i_1\\cdots i_{t})$ dimension subspace $\\mathscr{H^{(t)}_{i_0i_1\\ldots i_t}}$ that all states in this space shares the same eigenvalues and their perturbation:\n",
    "$$E_{i_0}^{(0)}, E_{i_0i_1}^{(1)}, E_{i_0i_1i_2}^{(2)}, E_{i_0i_1i_2i_3}^{(3)}, \\ldots, E_{i_0i_1\\cdots i_{t}}^{(t)}$$\n",
    "When $(t+1)^{th}$ order perturbation applies, $\\mathscr{H^{(t)}_{i_0i_1\\ldots i_t}}$ might split into several smaller subspaces $\\mathscr{H^{(t+1)}_{i_0i_1\\ldots i_ti_{t+1}}}$, where for any $i_{t+1}$, \n",
    "$$\\mathscr{H^{(t+1)}_{i_0i_1\\ldots i_ti_{t+1}}}\\subseteq \\mathscr{H^{(t)}_{i_0i_1\\ldots i_t}}$$\n",
    "\n",
    "Before calculating the $(t+1)^{th}$ order perturbation, we need first point out that how $\\mathscr{H^{(t)}_{i_0i_1\\ldots i_t}}$ is splitted into $\\mathscr{H^{(t+1)}_{i_0i_1\\ldots i_ti_{t+1}}}$."
   ]
  },
  {
   "cell_type": "markdown",
   "metadata": {},
   "source": [
    "For simplicity, we will now use a more compact notation by defining $n\\equiv i_0i_1\\cdots i_{t}$. We will also use $E_{n}^{(0)}, E_{n}^{(1)}, E_{n}^{(2)}, E_{n}^{(3)}, \\ldots, E_{n}^{(t)}$\n",
    "to denote $E_{i_0}^{(0)}, E_{i_0i_1}^{(1)}, E_{i_0i_1i_2}^{(2)}, E_{i_0i_1i_2i_3}^{(3)}, \\ldots, E_{i_0i_1\\cdots i_{t}}^{(t)}$.\n",
    "In the case of non-degenerate states, when we say $E_n^{(0)}$ we mean the $n^{th}$ eigenvalue of $\\hat{H}_0$. $E_n^{(0)}$ is always different from $E_m^{(0)}$ unless $m=n$. This notation is unambiguous for the case of non-degenerate states. However, when there are degeneracy in energy levels, each of which might split after perturbation, the definition might be ambiguous. We may assign the each value of $E^{(0)}$ to several suffix $n$; in this case, different $n$ might correspond to the same value of $E^{(0)}$. Similarly for $E^{(1)}, E^{(2)},\\ldots,E^{(t-1)}$."
   ]
  },
  {
   "cell_type": "markdown",
   "metadata": {},
   "source": [
    "Let $\\left\\{\\left(\\left|\\Psi_{n\\xi}^{(0)}\\right>,\\left|\\Psi_{n\\xi}^{(1)}\\right>,\\ldots,\\left|\\Psi_{n\\xi}^{(t)}\\right>\\right)\\middle| \\xi=0,1,2,\\ldots,g_t(n)\\right\\}$ be an arbitrary set of base of $\\mathscr{H^{(t)}_{n}}$ and it's perturbation (like in the case of non-degenerate states). We are now trying to find the basis, which we call \"suitable base\" here, that will goes to different $\\mathscr{H^{(t+1)}_{ni_{t+1}}}$.\n",
    "The suitable base will be linear combinations of the arbitrary picked base:\n",
    "$$\\begin{cases}\n",
    "\\left|\\Phi_{n\\eta}^{(0)}\\right>=\\sum_{\\xi=0}^{g_{t-1}(n)}a_{\\eta\\xi}\\left|\\Psi_{n\\xi}^{(0)}\\right>\\\\\n",
    "\\left|\\Phi_{n\\eta}^{(1)}\\right>=\\sum_{\\xi=0}^{g_{t-1}(n)}a_{\\eta\\xi}\\left|\\Psi_{n\\xi}^{(1)}\\right>\\\\\n",
    "\\ldots\\\\\n",
    "\\left|\\Phi_{n\\eta}^{(t-1)}\\right>=\\sum_{\\xi=0}^{g_{t}(n)}a_{\\eta\\xi}\\left|\\Psi_{n\\xi}^{(t)}\\right>\n",
    "\\end{cases}\\tag{1.2.2.1}$$\n",
    "$\\left|\\Phi_{n\\eta}^{(0)}\\right>$ must satisfy the normalization condition $\\left<\\Phi_{m\\eta}^{(0)}\\middle|\\Phi_{n\\xi}^{(0)}\\right>=\\delta_{mn}\\delta_{\\eta\\xi}$"
   ]
  },
  {
   "cell_type": "markdown",
   "metadata": {},
   "source": [
    "We write down $(1.1.2.3)$ for $\\Phi$ with $s=t+1$ as\n",
    "$$\\left(\\hat{H}_0-E_n^{(0)}\\right)\\left|\\Phi_{n\\eta}^{(t+1)}\\right>+\\left(\\hat{H}_{t+1}-E_{ni_{t+1}}^{(t+1)}\\right)\\left|\\Phi_{n\\eta}^{(0)}\\right>+\\sum_{i=1}^{t}\\left(\\hat{H}_i-E_n^{(i)}\\right)\\left|\\Phi_{n\\eta}^{(t+1-i)}\\right>=0$$\n",
    "\n",
    "Multiply $\\left<\\Psi_{n\\chi}^{(0)}\\right|$ to the left, we have\n",
    "$$\\left<\\Psi_{n\\chi}^{(0)}\\right|\\left(\\hat{H}_{t+1}-E_{ni_{t+1}}^{(t+1)}\\right)\\left|\\Phi_{n\\eta}^{(0)}\\right>+\\sum_{i=1}^{t}\\left<\\Psi_{n\\chi}^{(0)}\\right|\\left(\\hat{H}_i-E_n^{(i)}\\right)\\left|\\Phi_{n\\eta}^{(t+1-i)}\\right>=0$$\n",
    "\n",
    "Substitute $(1.2.2.1)$, we can get\n",
    "$$\\sum_{\\xi=0}^{g_{t}(n)}\\left[\\left<\\Psi_{n\\chi}^{(0)}\\right|\\hat{H}_{t+1}\\left|\\Psi_{n\\xi}^{(0)}\\right>+\\sum_{i=1}^{t}\\left<\\Psi_{n\\chi}^{(0)}\\right|\\left(\\hat{H}_{i}-E_{n}^{(i)}\\right)\\left|\\Psi_{n\\xi}^{(t+1-i)}\\right>-E_{ni_{t+1}}^{(t+1)}\\delta_{\\chi\\xi}\\right]a_{\\eta\\xi}=0\\tag{1.2.2.2}$$"
   ]
  },
  {
   "cell_type": "markdown",
   "metadata": {},
   "source": [
    "Let\n",
    "$$W_{\\chi\\xi}=\\left<\\Psi_{n\\chi}^{(0)}\\right|\\hat{H}_{t+1}\\left|\\Psi_{n\\xi}^{(0)}\\right>+\\sum_{i=1}^{t}\\left<\\Psi_{n\\chi}^{(0)}\\right|\\left(\\hat{H}_{i}-E_{n}^{(i)}\\right)\\left|\\Psi_{n\\xi}^{(t+1-i)}\\right>\\tag{1.1.2.3}$$\n",
    "then $(1.2.2.2)$ can be written as\n",
    "$$\\sum_{\\xi=0}^{g_{t}(n)}\\left[W_{\\chi\\xi}-E_{ni_{t+1}}^{(t+1)}\\delta_{\\chi\\xi}\\right]a_{\\eta\\xi}=0$$\n",
    "\n",
    "This is a matrix equation\n",
    "$$\\left(\\left[\\begin{array}{ccc}\n",
    "W_{00} & \\cdots & W_{0g_{t}(n)}\\\\\n",
    "\\vdots & \\ddots & \\vdots\\\\\n",
    "W_{g_{t}(n)0} & \\cdots & W_{g_{t}(n)g_{t}(n)}\n",
    "\\end{array}\\right]-E_{ni_{t+1}}^{(t+1)}\\left[\\begin{array}{ccc}\n",
    "1\\\\\n",
    " & \\ddots\\\\\n",
    " &  & 1\n",
    "\\end{array}\\right]\\right)\\left[\\begin{array}{c}\n",
    "a_{\\eta0}\\\\\n",
    "\\vdots\\\\\n",
    "a_{\\eta g_{t}(n)}\n",
    "\\end{array}\\right]=0$$\n",
    "\n",
    "Non-trival solution for this equation exists only when\n",
    "$$\\det(W_{\\chi\\xi}-E_{ni_{t+1}}^{(t+1)}\\delta_{\\chi\\xi})=0$$\n",
    "$E_{ni_{t+1}}^{(t+1)}$ is the eigenvalues of matrix $W_{\\chi\\xi}$, and $a_{\\eta\\xi}$ is the eigenvectors."
   ]
  },
  {
   "cell_type": "markdown",
   "metadata": {},
   "source": [
    "#### 1.2.3 Perturbation theory for degenerate states"
   ]
  },
  {
   "cell_type": "markdown",
   "metadata": {},
   "source": [
    "We have just done two things: the first is to calculate the (splitted) $t^{th}$ order energy perturbation, the second is to correct the \"mistake\" we have made in choosing the base of the eigen space of $\\hat{H}_0$. We can't avoid making this mistake because when we solve the eigen problem of $\\hat{H}_0$ we know nothing about the perturbation. Up to now, we know nothing about the $t^{th}$ order correction of state, and this is what we will do now."
   ]
  },
  {
   "cell_type": "markdown",
   "metadata": {},
   "source": [
    "Using our new notation for degenerate states, $(1.1.3.4)$ can be written as\n",
    "$$\\left|\\Phi_{n\\xi}^{(s)}\\right>=\\sum_{m\\alpha}C_{n\\xi,m\\alpha}^{(s)}\\left|\\Phi_{m\\alpha}^{(0)}\\right>$$\n",
    "\n",
    "And $(1.1.3.6)$ can be written as\n",
    "$$\\left(E_{n}^{(0)}-E_{m}^{(0)}\\right)C_{n\\xi,m\\alpha}^{(s)}=\\sum_{i=1}^{s}\\left<\\Phi_{m\\alpha}^{(0)}\\right|\\left(\\hat{H}_{i}-E_{n}^{(i)}\\right)\\left|\\Phi_{n\\xi}^{(s-i)}\\right>$$\n",
    "\n",
    "For $E_{n}^{(0)}\\neq E_{m}^{(0)}$, we have\n",
    "$$C_{n\\xi,m\\alpha}^{(s)}=\\frac{1}{E_{n}^{(0)}-E_{m}^{(0)}}\\sum_{i=1}^{s}\\left<\\Phi_{m\\alpha}^{(0)}\\right|\\left(\\hat{H}_{i}-E_{n}^{(i)}\\right)\\left|\\Phi_{n\\xi}^{(s-i)}\\right>\\tag{1.2.3.1}$$\n",
    "\n",
    "For $E_{n}^{(0)} = E_{m}^{(0)}$, we simply set\n",
    "$$C_{n\\xi,m\\alpha}^{(s)}=0\\tag{1.2.3.2}$$"
   ]
  },
  {
   "cell_type": "markdown",
   "metadata": {},
   "source": [
    "## 2. Implementation of qutip.perturbation"
   ]
  },
  {
   "cell_type": "markdown",
   "metadata": {},
   "source": [
    "This section introduces how the perturbation theory is implemented in qutip.perturbation"
   ]
  },
  {
   "cell_type": "markdown",
   "metadata": {},
   "source": [
    "### 2.1 The sturcture of energy levels and its perturbation"
   ]
  },
  {
   "cell_type": "markdown",
   "metadata": {},
   "source": [
    "\n",
    "\n",
    "In the perspective of data structure, we use forest, which is called 'energy level forest', to store energy level information. Trees in the energy level forest is called 'energy level tree'. We use list, which is called 'eigen space list' to store information of the most splitted subspaces."
   ]
  },
  {
   "cell_type": "markdown",
   "metadata": {},
   "source": [
    "### 2.1 class Perturbation"
   ]
  },
  {
   "cell_type": "markdown",
   "metadata": {},
   "source": [
    "The class Perturbation is the total class to deal with perturbation theory. The instance of Perturbation serves as a calculator, so we need to create an instance of Perturbation for each job. When we create the instance of Perturbation, we must give the Hamiltonian $\\hat{H}_0$ and the corresponding eigenvalues and eigenvectors of it. We have to organize these eigenvalues and eigenvectors in the specified data structure according to the rules described below."
   ]
  },
  {
   "cell_type": "markdown",
   "metadata": {},
   "source": [
    "Each instance of Perturbation has five attributes with name ‘Hamiltonian’, ‘energy_level_trees’, ‘eigen_spaces’, ‘order’ and ‘Etol’. \n",
    "\n",
    "‘Hamiltonian’ is a list that stores the Hamiltonians of each order.\n",
    "\n",
    "‘order’ is the order of perturbation that we currently have calculated.\n",
    "\n",
    "‘Etol’ is the tolerance of energy, in practice, if $\\left|E_m-E_n\\right|<Etol$, then we think the two energies are equal.\n",
    "\n",
    "‘energy_level_trees’ is the forest that stores the information energy levels. It is a list of roots of trees within this forest. In the forest, the root of each tree correspond to each value of $E_n^{(0)}$. Each node of level $s$ correspond to the $(n-1)^{th}$ order energy correction (with unit $\\lambda$). The parent and children relationship in the tree describes the relationship of different order of energy corrections. If two $3^{rd}$ order energy correction correspond to the same $2^{nd}$ order energy correction, i.e. the energy level splits into two due to the $3^{rd}$ order perturbation, the nodes of these two $3^{rd}$ order energy correction will be the children of the $2^{nd}$ order energy correction. Each node of the tree is an instance of class Perturbation.EnergyLevel. We will go to more details about this later.\n",
    "\n",
    "‘eigen_spaces’ is a list that store the information of the most splitted subspace. These information include reference to all the corresponding nodes in the energy level forest, and the base of the eigen-subspace of $\\hat{H}_0$ and its $1^{st}, 2^{nd}, \\ldots, (order)^{th}$ order correction. Each entry of the list is an instance of class Perturbation.EigenSpace. We will go to more details about this later."
   ]
  },
  {
   "cell_type": "markdown",
   "metadata": {},
   "source": [
    "### 2.2 class Perturbation.EnergyLevel"
   ]
  },
  {
   "cell_type": "markdown",
   "metadata": {},
   "source": [
    "The instance of Perturbation.EnergyLevel is the node of energy level tree. Each instance might have these attributes:\n",
    "\n",
    "‘E’ stores the energy of this order perturbation correction of energy( with unit $\\lambda^{(this\\ order)}$)\n",
    "\n",
    "‘degeneracy’ stores the degeneracy of this energy level up to this order perturbation. For example, we have a triple degenerated energy level $E_n^{(0)}$ (without perturbation). This energy level splits into two energy levels due to the first order perturbation with degeneracy $2$, first order energy correction $E_{n1}^{(1)}$ and with degeneracy $1$, first order energy correction $E_{n2}^{(1)}$. Due to the second order perturbation, the energy level with $E_{n1}^{(1)}$ splits into two non-degenerate energy level with second order energy correction $E_{n11}^{(2)}$ and $E_{n12}^{(2)}$. In this example, the value of ‘degeneracy’ attribute of the node of $E_n^{(0)}$ is $3$, the value of ‘degeneracy’ attribute of the node of $E_{n1}^{(1)}$ is $2$, he value of ‘degeneracy’ attribute of all the other nodes are $1$\n",
    "\n",
    "‘prev_order’ is the reference of parent node. If this node have no parent, then this node won’t have this attribute, i.e. hasattr(instance,’prev_order’) is False.\n",
    "\n",
    "‘next_order’ is the list of references of children nodes. If this node don’t have children, then this node won’t have this attribute, i.e. hasattr(instance,’next_order’) is False.\n",
    "\n",
    "‘eigen_space’ is the reference of the corresponding entry in eigen space list. The instance has this attribute if and only if this energy level no longer split up to the level perturbation calculated already."
   ]
  },
  {
   "cell_type": "markdown",
   "metadata": {},
   "source": [
    "### 2.3 class Perturbation.EigenSpace"
   ]
  },
  {
   "cell_type": "markdown",
   "metadata": {},
   "source": [
    "Instances of Perturbation.EigenSpace is the entry in eigen space list. Each instance has the following attributes:\n",
    "\n",
    "‘energy_levels’ is the list of references towards the corresponding nodes in energy level forest. For example, we have a triple degenerated energy level $E_n^{(0)}$ (without perturbation). This energy level splits into two energy levels due to the first order perturbation with degeneracy $2$, first order energy correction $E_{n1}^{(1)}$ and with degeneracy $1$, first order energy correction $E_{n2}^{(1)}$.  In this example, There will be 2 entries in the eigen space list in total, one correspond to $E_{n1}^{(1)}$ and another correspond to $E_{n2}^{(1)}$. The value of ‘energy_levels’ attribute of the instance correspond to $E_{n1}^{(1)}$ will be [ node of $E_n^{(0)}$, node of $E_{n1}^{(1)}$ ] and the value of ‘energy_levels’ attribute of the instance correspond to $E_{n2}^{(1)}$ will be [ node of $E_n^{(0)}$, node of $E_{n2}^{(1)}$ ].\n",
    "\n",
    "‘vectors’ is a list of list of (this is not a typo) the base and its correction of every order calculated. In the example above, we assume that the base of energy level with first order correction $E_{n1}^{(1)}$ is $\\left\\{\\left|a\\right>, \\left|b\\right>\\right\\}$, and the base of energy level with first order correction $E_{n2}^{(1)}$ is $\\left\\{\\left|c\\right>\\right\\}$. Then the 'vectors' attribute of the instance correspond to $E_{n1}^{(1)}$ will be $\\left[\\left[\\left|a\\right>,\\left|a^{(1)}\\right>\\right],\\left[\\left|b\\right>,\\left|b^{(1)}\\right>\\right]\\right]$ and the 'vectors' attribute of the instance correspond to $E_{n2}^{(1)}$ will be $\\left[\\left[\\left|c\\right>,\\left|c^{(1)}\\right>\\right]\\right]$"
   ]
  },
  {
   "cell_type": "markdown",
   "metadata": {},
   "source": [
    "## 3. Tests"
   ]
  },
  {
   "cell_type": "markdown",
   "metadata": {},
   "source": [
    "Before we begin, we must import modules needed."
   ]
  },
  {
   "cell_type": "code",
   "execution_count": 1,
   "metadata": {
    "collapsed": false
   },
   "outputs": [],
   "source": [
    "from Perturbation import Perturbation\n",
    "from qutip import *"
   ]
  },
  {
   "cell_type": "markdown",
   "metadata": {},
   "source": [
    "### 3.1 Question 1"
   ]
  },
  {
   "cell_type": "markdown",
   "metadata": {},
   "source": [
    "The Hamiltonian without perturbation is\n",
    "$$\\hat{H}_{0}=\\left[\\begin{array}{ccc}\n",
    "1\\\\\n",
    " & 1\\\\\n",
    " &  & 1\n",
    "\\end{array}\\right]$$\n",
    "The first order perturbation is\n",
    "$$\\hat{H}_{1}=\\left[\\begin{array}{ccc}\n",
    "1\\\\\n",
    " & 0\\\\\n",
    " &  & -1\n",
    "\\end{array}\\right]$$\n",
    "The total hamiltonian is\n",
    "$$\\hat{H}=\\hat{H}_0+\\lambda\\hat{H}_1$$\n",
    "We chooose the base\n",
    "$$\\left|\\Psi_{1}^{(0)}\\right\\rangle =\\frac{1}{\\sqrt{2}}\\left[\\begin{array}{c}\n",
    "1\\\\\n",
    "1\\\\\n",
    "0\n",
    "\\end{array}\\right]$$\n",
    "$$\\left|\\Psi_{2}^{(0)}\\right\\rangle =\\frac{1}{\\sqrt{2}}\\left[\\begin{array}{c}\n",
    "1\\\\\n",
    "-1\\\\\n",
    "0\n",
    "\\end{array}\\right]$$\n",
    "$$\\left|\\Psi_{3}^{(0)}\\right\\rangle =\\left[\\begin{array}{c}\n",
    "0\\\\\n",
    "0\\\\\n",
    "1\n",
    "\\end{array}\\right]$$\n",
    "These three states are degenerate and have the same energy $E^{(0)}=1$"
   ]
  },
  {
   "cell_type": "markdown",
   "metadata": {},
   "source": [
    "Now we do the calculation:"
   ]
  },
  {
   "cell_type": "code",
   "execution_count": 2,
   "metadata": {
    "collapsed": false
   },
   "outputs": [],
   "source": [
    "H0 = Qobj([[1,0,0],[0,1,0],[0,0,1]])\n",
    "H1 = Qobj([[1,0,0],[0,0,0],[0,0,-1]])\n",
    "base1 = Qobj([1,1,0]/sqrt(2))\n",
    "base2 = Qobj([1,-1,0]/sqrt(2))\n",
    "base3 = Qobj([0,0,1])\n",
    "zero_order_energy_levels = [Perturbation.EnergyLevel(1,3)]\n",
    "zero_order_eigen_spaces = [Perturbation.EigenSpace.new0(zero_order_energy_levels[0],[base1,base2,base3])]\n",
    "calculator = Perturbation(H0,zero_order_energy_levels,zero_order_eigen_spaces)\n",
    "calculator.next_order(H1)"
   ]
  },
  {
   "cell_type": "markdown",
   "metadata": {},
   "source": [
    "The first order corrections to energy level (with unit $\\lambda$) are"
   ]
  },
  {
   "cell_type": "code",
   "execution_count": 3,
   "metadata": {
    "collapsed": false
   },
   "outputs": [
    {
     "name": "stdout",
     "output_type": "stream",
     "text": [
      "1.0\n",
      "0.0\n",
      "-1.0\n"
     ]
    }
   ],
   "source": [
    "for i in calculator.energy_level_trees[0].next_order:\n",
    "    print(i.E)"
   ]
  },
  {
   "cell_type": "markdown",
   "metadata": {},
   "source": [
    "The base states of each (splitted due to perturbation) subspace and their first order corrections are"
   ]
  },
  {
   "cell_type": "code",
   "execution_count": 4,
   "metadata": {
    "collapsed": false
   },
   "outputs": [
    {
     "name": "stdout",
     "output_type": "stream",
     "text": [
      "zeroth order:\n",
      " [[ 1.+0.j]\n",
      " [ 0.+0.j]\n",
      " [ 0.+0.j]] \n",
      "\n",
      "first order:\n",
      " [[ 0.+0.j]\n",
      " [ 0.+0.j]\n",
      " [ 0.+0.j]] \n",
      "\n",
      "-------------------\n",
      "zeroth order:\n",
      " [[ 0.+0.j]\n",
      " [-1.+0.j]\n",
      " [ 0.+0.j]] \n",
      "\n",
      "first order:\n",
      " [[ 0.+0.j]\n",
      " [ 0.+0.j]\n",
      " [ 0.+0.j]] \n",
      "\n",
      "-------------------\n",
      "zeroth order:\n",
      " [[ 0.+0.j]\n",
      " [ 0.+0.j]\n",
      " [ 1.+0.j]] \n",
      "\n",
      "first order:\n",
      " [[ 0.+0.j]\n",
      " [ 0.+0.j]\n",
      " [ 0.+0.j]] \n",
      "\n",
      "-------------------\n"
     ]
    }
   ],
   "source": [
    "for i in calculator.eigen_spaces:\n",
    "    for j in i.vectors:\n",
    "        print('zeroth order:\\n',j[0].full(),'\\n\\nfirst order:\\n',j[1].full(),'\\n\\n-------------------')"
   ]
  },
  {
   "cell_type": "markdown",
   "metadata": {},
   "source": [
    "### 3.2 Question 2"
   ]
  },
  {
   "cell_type": "markdown",
   "metadata": {},
   "source": [
    "The Hamiltonian without perturbation is\n",
    "$$\\hat{H}_{0}=\\left[\\begin{array}{ccc}\n",
    "25739.860\\\\\n",
    " & 50266.917\n",
    "\\end{array}\\right]$$\n",
    "The first order perturbation is\n",
    "$$\\hat{H}_{1}=\\left[\\begin{array}{ccc}\n",
    " & 100\\\\\n",
    "100 & \n",
    "\\end{array}\\right]$$\n",
    "The total hamiltonian is\n",
    "$$\\hat{H}=\\hat{H}_0+\\lambda\\hat{H}_1$$\n",
    "We chooose the base\n",
    "$$\\left|\\Psi_{1}^{(0)}\\right\\rangle =\\left[\\begin{array}{c}\n",
    "1\\\\\n",
    "0\n",
    "\\end{array}\\right]$$\n",
    "$$\\left|\\Psi_{2}^{(0)}\\right\\rangle =\\left[\\begin{array}{c}\n",
    "0\\\\\n",
    "1\n",
    "\\end{array}\\right]$$\n",
    "These two states have energy\n",
    "$$E_1^{(0)}=25739.860$$\n",
    "$$E_2^{(0)}=50266.917$$"
   ]
  },
  {
   "cell_type": "markdown",
   "metadata": {},
   "source": [
    "Now we do the calculation:"
   ]
  },
  {
   "cell_type": "code",
   "execution_count": 5,
   "metadata": {
    "collapsed": false
   },
   "outputs": [],
   "source": [
    "H0 = Qobj([[25739.860,0],[0,50266.917]])\n",
    "H1 = Qobj([[0,100],[100,0]])\n",
    "base1 = Qobj([1,0])\n",
    "base2 = Qobj([0,1])\n",
    "zero_order_energy_levels = [Perturbation.EnergyLevel(25739.860,1),Perturbation.EnergyLevel(50266.917,1)]\n",
    "zero_order_eigen_spaces = [Perturbation.EigenSpace.new0(zero_order_energy_levels[0],[base1]),\n",
    "                            Perturbation.EigenSpace.new0(zero_order_energy_levels[1],[base2])]\n",
    "calculator = Perturbation(H0,zero_order_energy_levels,zero_order_eigen_spaces)\n",
    "calculator.next_order(H1)\n",
    "calculator.next_order()"
   ]
  },
  {
   "cell_type": "markdown",
   "metadata": {},
   "source": [
    "The first order corrections to energy level (with unit $\\lambda$) are"
   ]
  },
  {
   "cell_type": "code",
   "execution_count": 6,
   "metadata": {
    "collapsed": false
   },
   "outputs": [
    {
     "name": "stdout",
     "output_type": "stream",
     "text": [
      "0.0\n",
      "0.0\n"
     ]
    }
   ],
   "source": [
    "for i in calculator.energy_level_trees:\n",
    "    for j in i.next_order:\n",
    "            print(j.E)"
   ]
  },
  {
   "cell_type": "markdown",
   "metadata": {},
   "source": [
    "The second order corrections to energy level (with unit $\\lambda^2$) are"
   ]
  },
  {
   "cell_type": "code",
   "execution_count": 7,
   "metadata": {
    "collapsed": false
   },
   "outputs": [
    {
     "name": "stdout",
     "output_type": "stream",
     "text": [
      "-0.407713000382\n",
      "0.407713000382\n"
     ]
    }
   ],
   "source": [
    "for i in calculator.energy_level_trees:\n",
    "    for j in i.next_order:\n",
    "        for k in j.next_order:\n",
    "            print(k.E)"
   ]
  },
  {
   "cell_type": "markdown",
   "metadata": {},
   "source": [
    "The base states of each (splitted due to perturbation) subspace and their first order corrections are"
   ]
  },
  {
   "cell_type": "code",
   "execution_count": 8,
   "metadata": {
    "collapsed": false
   },
   "outputs": [
    {
     "name": "stdout",
     "output_type": "stream",
     "text": [
      "zeroth order:\n",
      " [[ 1.+0.j]\n",
      " [ 0.+0.j]] \n",
      "\n",
      "first order:\n",
      " [[ 0.00000000+0.j]\n",
      " [-0.00407713+0.j]] \n",
      "\n",
      "-------------------\n",
      "zeroth order:\n",
      " [[ 0.+0.j]\n",
      " [ 1.+0.j]] \n",
      "\n",
      "first order:\n",
      " [[ 0.00407713+0.j]\n",
      " [ 0.00000000+0.j]] \n",
      "\n",
      "-------------------\n"
     ]
    }
   ],
   "source": [
    "for i in calculator.eigen_spaces:\n",
    "    for j in i.vectors:\n",
    "        print('zeroth order:\\n',j[0].full(),'\\n\\nfirst order:\\n',j[1].full(),'\\n\\n-------------------')"
   ]
  },
  {
   "cell_type": "markdown",
   "metadata": {},
   "source": [
    "### 3.3 Question 3"
   ]
  },
  {
   "cell_type": "markdown",
   "metadata": {},
   "source": [
    "Everytihing are the same as Question 2 excpet that now\n",
    "$$\\hat{H}_{1}=\\left[\\begin{array}{ccc}\n",
    " & 5000\\\\\n",
    "5000 & \n",
    "\\end{array}\\right]$$"
   ]
  },
  {
   "cell_type": "markdown",
   "metadata": {},
   "source": [
    "Now we do the calculation"
   ]
  },
  {
   "cell_type": "code",
   "execution_count": 9,
   "metadata": {
    "collapsed": false
   },
   "outputs": [],
   "source": [
    "H0 = Qobj([[25739.860,0],[0,50266.917]])\n",
    "H1 = Qobj([[0,5000],[5000,0]])\n",
    "base1 = Qobj([1,0])\n",
    "base2 = Qobj([0,1])\n",
    "zero_order_energy_levels = [Perturbation.EnergyLevel(25739.860,1),Perturbation.EnergyLevel(50266.917,1)]\n",
    "zero_order_eigen_spaces = [Perturbation.EigenSpace.new0(zero_order_energy_levels[0],[base1]),\n",
    "                            Perturbation.EigenSpace.new0(zero_order_energy_levels[1],[base2])]\n",
    "calculator = Perturbation(H0,zero_order_energy_levels,zero_order_eigen_spaces)\n",
    "calculator.next_order(H1)\n",
    "calculator.next_order()"
   ]
  },
  {
   "cell_type": "markdown",
   "metadata": {},
   "source": [
    "First order corrections (of unit $\\lambda$) of energy are now:"
   ]
  },
  {
   "cell_type": "code",
   "execution_count": 10,
   "metadata": {
    "collapsed": false
   },
   "outputs": [
    {
     "name": "stdout",
     "output_type": "stream",
     "text": [
      "0.0\n",
      "0.0\n"
     ]
    }
   ],
   "source": [
    "for i in calculator.energy_level_trees:\n",
    "    for j in i.next_order:\n",
    "            print(j.E)"
   ]
  },
  {
   "cell_type": "markdown",
   "metadata": {},
   "source": [
    "Second order corrections (of unit $\\lambda^2$) of energy are now:"
   ]
  },
  {
   "cell_type": "code",
   "execution_count": 11,
   "metadata": {
    "collapsed": false
   },
   "outputs": [
    {
     "name": "stdout",
     "output_type": "stream",
     "text": [
      "-1019.28250095\n",
      "1019.28250095\n"
     ]
    }
   ],
   "source": [
    "for i in calculator.energy_level_trees:\n",
    "    for j in i.next_order:\n",
    "        for k in j.next_order:\n",
    "            print(k.E)"
   ]
  },
  {
   "cell_type": "markdown",
   "metadata": {},
   "source": [
    "The base states of each (splitted due to perturbation) subspace and their first order corrections are"
   ]
  },
  {
   "cell_type": "code",
   "execution_count": 12,
   "metadata": {
    "collapsed": false
   },
   "outputs": [
    {
     "name": "stdout",
     "output_type": "stream",
     "text": [
      "zeroth order:\n",
      " [[ 1.+0.j]\n",
      " [ 0.+0.j]] \n",
      "\n",
      "first order:\n",
      " [[ 0.0000000+0.j]\n",
      " [-0.2038565+0.j]] \n",
      "\n",
      "-------------------\n",
      "zeroth order:\n",
      " [[ 0.+0.j]\n",
      " [ 1.+0.j]] \n",
      "\n",
      "first order:\n",
      " [[ 0.2038565+0.j]\n",
      " [ 0.0000000+0.j]] \n",
      "\n",
      "-------------------\n"
     ]
    }
   ],
   "source": [
    "for i in calculator.eigen_spaces:\n",
    "    for j in i.vectors:\n",
    "        print('zeroth order:\\n',j[0].full(),'\\n\\nfirst order:\\n',j[1].full(),'\\n\\n-------------------')"
   ]
  },
  {
   "cell_type": "markdown",
   "metadata": {},
   "source": [
    "## 4. Reference"
   ]
  },
  {
   "cell_type": "markdown",
   "metadata": {},
   "source": [
    "1. Introduction to perturbation theory in quantum mechanics, Francisco M. Fernandez, 2000, CRC Press\n",
    "2. 高等量子力学(Advanced quantum mechanics), 喀兴林, 2001, 高等教育出版社"
   ]
  }
 ],
 "metadata": {
  "kernelspec": {
   "display_name": "Python 3",
   "language": "python",
   "name": "python3"
  },
  "language_info": {
   "codemirror_mode": {
    "name": "ipython",
    "version": 3
   },
   "file_extension": ".py",
   "mimetype": "text/x-python",
   "name": "python",
   "nbconvert_exporter": "python",
   "pygments_lexer": "ipython3",
   "version": "3.4.2"
  }
 },
 "nbformat": 4,
 "nbformat_minor": 0
}
