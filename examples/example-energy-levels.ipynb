{
 "metadata": {
  "name": "",
  "signature": "sha256:aaf01d0a2b0189138eb282948b54957933e6389bf2a177fad1c761a1f41df212"
 },
 "nbformat": 3,
 "nbformat_minor": 0,
 "worksheets": [
  {
   "cells": [
    {
     "cell_type": "heading",
     "level": 1,
     "metadata": {},
     "source": [
      "QuTiP example: Energy-levels of a quantum systems as a function of a single parameter"
     ]
    },
    {
     "cell_type": "markdown",
     "metadata": {},
     "source": [
      "J.R. Johansson and P.D. Nation\n",
      "\n",
      "For more information about QuTiP see [http://qutip.org](http://qutip.org)"
     ]
    },
    {
     "cell_type": "code",
     "collapsed": false,
     "input": [
      "%matplotlib inline\n",
      "import matplotlib.pyplot as plt"
     ],
     "language": "python",
     "metadata": {},
     "outputs": [],
     "prompt_number": 1
    },
    {
     "cell_type": "code",
     "collapsed": false,
     "input": [
      "import numpy as np\n",
      "from numpy import pi"
     ],
     "language": "python",
     "metadata": {},
     "outputs": [],
     "prompt_number": 2
    },
    {
     "cell_type": "code",
     "collapsed": false,
     "input": [
      "from qutip import *"
     ],
     "language": "python",
     "metadata": {},
     "outputs": [],
     "prompt_number": 3
    },
    {
     "cell_type": "heading",
     "level": 2,
     "metadata": {},
     "source": [
      "Energy spectrum of three coupled qubits"
     ]
    },
    {
     "cell_type": "code",
     "collapsed": false,
     "input": [
      "def compute(w1list, w2, w3, g12, g13):\n",
      "\n",
      "    # Pre-compute operators for the hamiltonian\n",
      "    sz1 = tensor(sigmaz(), qeye(2), qeye(2))\n",
      "    sx1 = tensor(sigmax(), qeye(2), qeye(2))\n",
      "\n",
      "    sz2 = tensor(qeye(2), sigmaz(), qeye(2))\n",
      "    sx2 = tensor(qeye(2), sigmax(), qeye(2))\n",
      "\n",
      "    sz3 = tensor(qeye(2), qeye(2), sigmaz())\n",
      "    sx3 = tensor(qeye(2), qeye(2), sigmax())\n",
      "  \n",
      "    idx = 0\n",
      "    evals_mat = np.zeros((len(w1list),2*2*2))\n",
      "    for w1 in w1list:\n",
      "\n",
      "        # evaluate the Hamiltonian\n",
      "        H = w1 * sz1 + w2 * sz2 + w3 * sz3 + g12 * sx1 * sx2 + g13 * sx1 * sx3\n",
      "\n",
      "        # find the energy eigenvalues of the composite system\n",
      "        evals, ekets = H.eigenstates()\n",
      "\n",
      "        evals_mat[idx,:] = np.real(evals)\n",
      "\n",
      "        idx += 1\n",
      "\n",
      "    return evals_mat"
     ],
     "language": "python",
     "metadata": {},
     "outputs": [],
     "prompt_number": 4
    },
    {
     "cell_type": "code",
     "collapsed": false,
     "input": [
      "w1  = 1.0 * 2 * pi   # atom 1 frequency: sweep this one\n",
      "w2  = 0.9 * 2 * pi   # atom 2 frequency\n",
      "w3  = 1.1 * 2 * pi   # atom 3 frequency\n",
      "g12 = 0.05 * 2 * pi   # atom1-atom2 coupling strength\n",
      "g13 = 0.05 * 2 * pi   # atom1-atom3 coupling strength\n",
      "\n",
      "w1list = np.linspace(0.75, 1.25, 50) * 2 * pi # atom 1 frequency range"
     ],
     "language": "python",
     "metadata": {},
     "outputs": [],
     "prompt_number": 5
    },
    {
     "cell_type": "code",
     "collapsed": false,
     "input": [
      "evals_mat = compute(w1list, w2, w3, g12, g13)"
     ],
     "language": "python",
     "metadata": {},
     "outputs": [],
     "prompt_number": 6
    },
    {
     "cell_type": "code",
     "collapsed": false,
     "input": [
      "fig, ax = plt.subplots(figsize=(12,6))\n",
      "\n",
      "for n in [1,2,3]:\n",
      "    ax.plot(w1list / (2*pi), (evals_mat[:,n]-evals_mat[:,0]) / (2*pi), 'b')\n",
      "\n",
      "ax.set_xlabel('Energy splitting of atom 1')\n",
      "ax.set_ylabel('Eigenenergies')\n",
      "ax.set_title('Energy spectrum of three coupled qubits');"
     ],
     "language": "python",
     "metadata": {},
     "outputs": [
      {
       "metadata": {},
       "output_type": "display_data",
       "png": "[encoded data removed]",
       "text": [
        "<matplotlib.figure.Figure at 0x7f47499e64e0>"
       ]
      }
     ],
     "prompt_number": 7
    },
    {
     "cell_type": "heading",
     "level": 2,
     "metadata": {},
     "source": [
      "Versions"
     ]
    },
    {
     "cell_type": "code",
     "collapsed": false,
     "input": [
      "from qutip.ipynbtools import version_table\n",
      "\n",
      "version_table()"
     ],
     "language": "python",
     "metadata": {},
     "outputs": [
      {
       "html": [
        "<table><tr><th>Software</th><th>Version</th></tr><tr><td>IPython</td><td>2.3.1</td></tr><tr><td>Python</td><td>3.4.0 (default, Apr 11 2014, 13:05:11) \n",
        "[GCC 4.8.2]</td></tr><tr><td>OS</td><td>posix [linux]</td></tr><tr><td>Cython</td><td>0.21.2</td></tr><tr><td>SciPy</td><td>0.14.1</td></tr><tr><td>Numpy</td><td>1.9.1</td></tr><tr><td>matplotlib</td><td>1.4.2</td></tr><tr><td>QuTiP</td><td>3.1.0</td></tr><tr><td colspan='2'>Tue Jan 13 13:11:57 2015 JST</td></tr></table>"
       ],
       "metadata": {},
       "output_type": "pyout",
       "prompt_number": 8,
       "text": [
        "<IPython.core.display.HTML at 0x7f47499e6e48>"
       ]
      }
     ],
     "prompt_number": 8
    }
   ],
   "metadata": {}
  }
 ]
}