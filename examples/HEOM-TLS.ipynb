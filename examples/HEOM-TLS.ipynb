{
 "cells": [
  {
   "cell_type": "markdown",
   "metadata": {
    "pycharm": {
     "name": "#%% md\n"
    }
   },
   "source": [
    "# HEOM solver - Two level system\n",
    "## An exact solution to a system-bath evolution using the hierarchical equations of motion and the Drude-Lorentz model for spectral density"
   ]
  },
  {
   "cell_type": "markdown",
   "metadata": {
    "pycharm": {
     "name": "#%% md\n"
    }
   },
   "source": [
    "Authors: Alexander Pitchford (alex.pitchford@gmail.com),\n",
    "         Neill Lambert (nwlambert@gmail.com)"
   ]
  },
  {
   "cell_type": "markdown",
   "metadata": {
    "pycharm": {
     "name": "#%% md\n"
    }
   },
   "source": [
    "## Introduction\n",
    "### Hierarchical equations of motion\n",
    "\n",
    "The HEOM (hierarchical equations of motion) method can compute open system dynamics without using any Markovian or rotating wave approximation (RWA) for systems where the bath correlations can be approximated to a sum of complex eponentials. The bath is described in an abstract way, via a formal expansion of the full system-bath equation of motion, which results in a set of coupled \"density matrices\" for the system. A overview of the method is given in [1].\n",
    "\n",
    "The HEOM solver will compute the dynamics of a quantum system coupled to a bath with a complete Hamiltonian given by\n",
    "\n",
    "\\begin{equation*}\n",
    "H = H_s + Q\\sum_{j}g_j(a_j^{\\dagger}+a_j) + \\sum_{j}\\omega_j a_j^{\\dagger}a_j\n",
    "\\end{equation*}\n",
    "\n",
    "The dynamics of the quantum system of interest, if independent of the environment, would be described the system Hamiltonian $H_s$. The $a_j^{\\dagger}$ and $a_j$ are the creation and annihilation operators of the bosonic modes of frequency $\\omega_j$ of the bath that models the environment. The system operator Q couples with the bath with a strength $g_j$ for each mode."
   ]
  },
  {
   "cell_type": "markdown",
   "metadata": {
    "collapsed": true,
    "pycharm": {
     "name": "#%% md\n"
    }
   },
   "source": [
    "### Drude-Lorentz spectral density\n",
    "The spectral density determines the strength of the interact for specific modes. The Drude-Lorentz (DL) model for the spectral density is given by\n",
    "\n",
    "$$J(\\omega)=\\omega \\frac{2\\lambda\\gamma}{{\\gamma}^2 + \\omega^2}$$\n",
    "\n",
    "where $\\lambda$ is an overall scale factor for the coupling strength, and $\\gamma$ is a cut-off frequency\n",
    "\n",
    "The correlation function can be calculated via Fourier transform and gives an infinite exponential series of the form\n",
    "\n",
    "\\begin{equation*}\n",
    "L(t)=\\sum_{k=0}^{k=\\infty} c_k e^{-\\nu_k t}\n",
    "\\end{equation*}\n",
    "\n",
    "as this is in the form of a sum of exponentials it allows us to use the HEOM. Some cut-off for $k$ will be required  in order for it to be computable; in practice this is typically quite small ($<5$). The series term frequencies and coefficients (known as Matsubara terms, frequencies and coefficients in the DL model) as given by\n",
    "\n",
    "\\begin{equation*}\n",
    "    \\nu_k = \\begin{cases}\n",
    "               \\gamma               & k = 0\\\\\n",
    "               {2 \\pi k} / {\\beta \\hbar}  & k \\geq 1\\\\\n",
    "           \\end{cases}\n",
    "\\end{equation*}\n",
    "\n",
    "\\begin{equation*}\n",
    "    c_k = \\begin{cases}\n",
    "               \\lambda \\gamma (\\cot(\\beta \\gamma / 2) - i) / \\hbar               & k = 0\\\\\n",
    "               4 \\lambda \\gamma \\nu_k / \\{(nu_k^2 - \\gamma^2)\\beta \\hbar^2 \\}    & k \\geq 1\\\\\n",
    "           \\end{cases}\n",
    "\\end{equation*}"
   ]
  },
  {
   "cell_type": "markdown",
   "metadata": {
    "pycharm": {
     "name": "#%% md\n"
    }
   },
   "source": [
    "### Two-level system example\n",
    "The example system in this notebook is taken from [2], which also gives an overview of the HEOM method in its appendix D. Here we look to compute the dynamics of a system where\n",
    "\n",
    "\\begin{equation*}\n",
    "H_s = \\frac{\\epsilon}{2}\\sigma_z + \\frac{\\Delta}{2}\\sigma_x\n",
    "\\end{equation*}\n",
    "\n",
    "and the coupling operator $Q=\\sigma_z$. The energy of the two level system is given by $\\epsilon$, the strength of the tunnelling effect by $\\Delta$. This model is of much interest in the study of the potential quantum effects at work in photosynthesis, as discussed in some of the papers cited in [2]"
   ]
  },
  {
   "cell_type": "markdown",
   "metadata": {
    "pycharm": {
     "name": "#%% md\n"
    }
   },
   "source": [
    "### References\n",
    "    1. link.aps.org/doi/10.1103/PhysRevLett.104.250401 \n",
    "    2. link.aps.org/doi/10.1103/PhysRevA.90.032114"
   ]
  },
  {
   "cell_type": "code",
   "execution_count": 1,
   "metadata": {
    "pycharm": {
     "name": "#%%\n"
    }
   },
   "outputs": [],
   "source": [
    "%matplotlib inline\n",
    "import matplotlib.pyplot as plt\n",
    "import numpy as np\n",
    "from qutip import sigmax, sigmaz, basis\n",
    "from qutip.nonmarkov.heom import HSolverDL"
   ]
  },
  {
   "cell_type": "code",
   "execution_count": 2,
   "metadata": {
    "collapsed": true,
    "pycharm": {
     "name": "#%%\n"
    }
   },
   "outputs": [],
   "source": [
    "# Defining the system Hamiltonian\n",
    "eps = 0.5     # Energy of the 2-level system.\n",
    "Del = 1.0    # Tunnelling term\n",
    "Hsys = 0.5*eps*sigmaz() + 0.5*Del* sigmax()"
   ]
  },
  {
   "cell_type": "code",
   "execution_count": 3,
   "metadata": {
    "collapsed": true,
    "pycharm": {
     "name": "#%%\n"
    }
   },
   "outputs": [],
   "source": [
    "# Bath description parameters (for HEOM)\n",
    "temperature = 1.0/0.95 # in units where Boltzmann factor is 1\n",
    "Nk = 2 # number of exponentials in approximation of the the spectral density\n",
    "Ncut = 30 # cut off parameter for the bath"
   ]
  },
  {
   "cell_type": "code",
   "execution_count": 4,
   "metadata": {
    "collapsed": true,
    "pycharm": {
     "name": "#%%\n"
    }
   },
   "outputs": [],
   "source": [
    "# System-bath coupling (Drude-Lorentz spectral density)\n",
    "Q = sigmaz() # coupling operator\n",
    "gam = 0.05 # cut off frequency\n",
    "lam = 0.05 # coupling strenght"
   ]
  },
  {
   "cell_type": "code",
   "execution_count": 5,
   "metadata": {
    "pycharm": {
     "name": "#%%\n"
    }
   },
   "outputs": [],
   "source": [
    "# Configure the solver\n",
    "hsolver = HSolverDL(Hsys, Q, lam, temperature, Ncut, Nk, gam, progress_bar=True)"
   ]
  },
  {
   "cell_type": "code",
   "execution_count": 6,
   "metadata": {
    "pycharm": {
     "name": "#%%\n"
    }
   },
   "outputs": [
    {
     "name": "stdout",
     "output_type": "stream",
     "text": [
      "10.0%. Run time:   0.12s. Est. time left: 00:00:00:01\n",
      "20.0%. Run time:   0.38s. Est. time left: 00:00:00:01\n",
      "30.0%. Run time:   0.62s. Est. time left: 00:00:00:01\n",
      "40.0%. Run time:   0.86s. Est. time left: 00:00:00:01\n",
      "50.0%. Run time:   1.11s. Est. time left: 00:00:00:01\n",
      "60.0%. Run time:   1.37s. Est. time left: 00:00:00:00\n",
      "70.0%. Run time:   1.62s. Est. time left: 00:00:00:00\n",
      "80.0%. Run time:   1.87s. Est. time left: 00:00:00:00\n",
      "90.0%. Run time:   2.10s. Est. time left: 00:00:00:00\n",
      "Total run time:   2.36s\n"
     ]
    }
   ],
   "source": [
    "# Initial state of the system.\n",
    "rho0 = basis(2,0) * basis(2,0).dag()   \n",
    "# Times to record state\n",
    "tlist = np.linspace(0, 40, 600)\n",
    "# Define some operators with which we will measure the system\n",
    "# 1,1 element of density matrix - corresonding to groundstate\n",
    "P11p=basis(2,0) * basis(2,0).dag()\n",
    "# 1,2 element of density matrix  - corresonding to coherence\n",
    "P12p=basis(2,0) * basis(2,1).dag()\n",
    "# run the solver\n",
    "result = hsolver.run(rho0, tlist, e_ops=[P11p, P12p])"
   ]
  },
  {
   "cell_type": "code",
   "execution_count": 7,
   "metadata": {
    "pycharm": {
     "name": "#%%\n"
    }
   },
   "outputs": [],
   "source": [
    "P11exp = result.expect[0]\n",
    "P12exp = result.expect[1]"
   ]
  },
  {
   "cell_type": "code",
   "execution_count": 8,
   "metadata": {
    "pycharm": {
     "name": "#%%\n"
    }
   },
   "outputs": [
    {
     "data": {
      "text/plain": "<Figure size 576x576 with 1 Axes>",
      "image/png": "[encoded data removed]"
     },
     "metadata": {
      "needs_background": "light"
     },
     "output_type": "display_data"
    }
   ],
   "source": [
    "# Plot the results\n",
    "fig, axes = plt.subplots(1, 1, sharex=True, figsize=(8,8))\n",
    "axes.plot(tlist, np.real(P11exp), 'b', linewidth=2, label=\"P11\")\n",
    "axes.plot(tlist, np.real(P12exp), 'r', linewidth=2, label=\"P12\")\n",
    "axes.set_xlabel(r't', fontsize=28)\n",
    "axes.legend(loc=0, fontsize=12)\n",
    "plt.show()"
   ]
  },
  {
   "cell_type": "markdown",
   "metadata": {
    "pycharm": {
     "name": "#%% md\n"
    }
   },
   "source": [
    "### Software versions"
   ]
  },
  {
   "cell_type": "code",
   "execution_count": 9,
   "metadata": {
    "pycharm": {
     "name": "#%%\n"
    }
   },
   "outputs": [
    {
     "data": {
      "text/plain": "<IPython.core.display.HTML object>",
      "text/html": "<table><tr><th>Software</th><th>Version</th></tr><tr><td>QuTiP</td><td>5.0.0.dev0+ee51e50</td></tr><tr><td>Numpy</td><td>1.21.0</td></tr><tr><td>SciPy</td><td>1.6.2</td></tr><tr><td>matplotlib</td><td>3.3.4</td></tr><tr><td>Cython</td><td>0.29.23</td></tr><tr><td>Number of CPUs</td><td>4</td></tr><tr><td>BLAS Info</td><td>OPENBLAS</td></tr><tr><td>IPython</td><td>7.31.1</td></tr><tr><td>Python</td><td>3.8.10 (default, Mar 15 2022, 12:22:08) \n[GCC 9.4.0]</td></tr><tr><td>OS</td><td>posix [linux]</td></tr><tr><td colspan='2'>Sun May 29 14:23:00 2022 CEST</td></tr></table>"
     },
     "execution_count": 9,
     "metadata": {},
     "output_type": "execute_result"
    }
   ],
   "source": [
    "from qutip.ipynbtools import version_table\n",
    "\n",
    "version_table()"
   ]
  },
  {
   "cell_type": "code",
   "execution_count": 9,
   "metadata": {
    "pycharm": {
     "name": "#%%\n"
    }
   },
   "outputs": [],
   "source": []
  }
 ],
 "metadata": {
  "kernelspec": {
   "display_name": "Python 3",
   "language": "python",
   "name": "python3"
  },
  "language_info": {
   "codemirror_mode": {
    "name": "ipython",
    "version": 3
   },
   "file_extension": ".py",
   "mimetype": "text/x-python",
   "name": "python",
   "nbconvert_exporter": "python",
   "pygments_lexer": "ipython3",
   "version": "3.6.1"
  }
 },
 "nbformat": 4,
 "nbformat_minor": 1
}