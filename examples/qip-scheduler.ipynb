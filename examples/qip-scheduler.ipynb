{
 "cells": [
  {
   "cell_type": "markdown",
   "metadata": {},
   "source": [
    "# Scheduler for quantum gates and instructions\n",
    "\n",
    "Author: Boxi Li (etamin1201@gmail.com)\n",
    "\n",
    "The finite coherence time of physical qubits is one of the major factors that limit the performance of quantum computation. In principle, the execution time of the circuit has to be much shorter than the coherence time. One way to reduce this execution time is to run several gates in the circuit parallelly. This can spare a lot of time if e.g. the same single-qubit gate is applied to all qubits, as in the [Grover algorithm](https://en.wikipedia.org/wiki/Grover%27s_algorithm).\n",
    "\n",
    "A scheduler for a quantum computer, similar to its classical counterpart, schedules a quantum circuit to minimize the execution time. It determines in which order the gates are executed. As a simple rule, the scheduler allows gates to be executed parallelly if they don't address the same qubits. In principle, further hardware constraint can be included, but here we only focus on this simple criterion. The non-trivial part of a scheduler is that it has to consider the possible permutation of commuting quantum gates. Hence, Exploring various possibilities of permutation while following the physical constraint is the main challenging task for the scheduler.\n",
    "\n",
    "We first show the scheduling of quantum circuits and then the scheduling of compiled control pulses. In the end, we also show a simple example where the permutation of commuting gates matters in the scheduling."
   ]
  },
  {
   "cell_type": "markdown",
   "metadata": {},
   "source": [
    "## Gate schedule\n",
    "Let's first define a quantum circuit"
   ]
  },
  {
   "cell_type": "code",
   "execution_count": 1,
   "metadata": {},
   "outputs": [
    {
     "data": {
      "image/png": "[encoded data removed]",
      "text/plain": [
       "<qutip.qip.circuit.QubitCircuit at 0x1ec1ae1c3d0>"
      ]
     },
     "execution_count": 1,
     "metadata": {},
     "output_type": "execute_result"
    }
   ],
   "source": [
    "from qutip.qip.circuit import QubitCircuit\n",
    "circuit = QubitCircuit(3)\n",
    "circuit.add_gate(\"X\", 0)\n",
    "circuit.add_gate(\"ISWAP\", targets=[1,2])\n",
    "circuit.add_gate(\"X\", 2)\n",
    "circuit.add_gate(\"Y\", 0)\n",
    "circuit.add_gate(\"X\", 0)\n",
    "circuit"
   ]
  },
  {
   "cell_type": "markdown",
   "metadata": {},
   "source": [
    "This is a rather boring circuit, but it is useful as a demonstration for the scheduler. We now define a scheduler and schedule the circuit"
   ]
  },
  {
   "cell_type": "code",
   "execution_count": 2,
   "metadata": {},
   "outputs": [
    {
     "data": {
      "text/plain": [
       "[0, 0, 1, 1, 2]"
      ]
     },
     "execution_count": 2,
     "metadata": {},
     "output_type": "execute_result"
    }
   ],
   "source": [
    "from qutip.qip.compiler import Scheduler\n",
    "scheduler = Scheduler(\"ASAP\")  # schedule as soon as possible\n",
    "scheduled_time = scheduler.schedule(circuit)\n",
    "scheduled_time"
   ]
  },
  {
   "cell_type": "markdown",
   "metadata": {},
   "source": [
    "This result shows the scheduled starting time for each gate.\n",
    "In the first cycle we execute an iSWAP on qubit 0 and 1 and an X gate on qubit 0; In the second cycle we execute one X gate on qubit 2 and one Y gate on qubit 0; In the last cycle, we execute a single X gate on qubit 0. As printed bellow:"
   ]
  },
  {
   "cell_type": "code",
   "execution_count": 3,
   "metadata": {},
   "outputs": [
    {
     "name": "stdout",
     "output_type": "stream",
     "text": [
      "['X[0]', 'ISWAP[1, 2]']\n",
      "['X[2]', 'Y[0]']\n",
      "['X[0]']\n"
     ]
    }
   ],
   "source": [
    "cycle_list = [[] for i in range(max(scheduled_time) + 1)]\n",
    "for i, time in enumerate(scheduled_time):\n",
    "    gate = circuit.gates[i]\n",
    "    cycle_list[time].append(gate.name + str(gate.targets))\n",
    "for cycle in cycle_list:\n",
    "    print(cycle)"
   ]
  },
  {
   "cell_type": "markdown",
   "metadata": {},
   "source": [
    "We can also schedule the gate follows the rule \"as late as possible\""
   ]
  },
  {
   "cell_type": "code",
   "execution_count": 4,
   "metadata": {},
   "outputs": [
    {
     "name": "stdout",
     "output_type": "stream",
     "text": [
      "['X[0]']\n",
      "['ISWAP[1, 2]', 'Y[0]']\n",
      "['X[2]', 'X[0]']\n"
     ]
    }
   ],
   "source": [
    "scheduler = Scheduler(\"ALAP\")  # schedule as late as possible\n",
    "scheduled_time = scheduler.schedule(circuit)\n",
    "cycle_list = [[] for i in range(max(scheduled_time) + 1)]\n",
    "for i, time in enumerate(scheduled_time):\n",
    "    gate = circuit.gates[i]\n",
    "    cycle_list[time].append(gate.name + str(gate.targets))\n",
    "for cycle in cycle_list:\n",
    "    print(cycle)"
   ]
  },
  {
   "cell_type": "markdown",
   "metadata": {},
   "source": [
    "The only difference is that the \"iSWAP\" gate and the X gate on qubit 2 are shifted by one cycle. "
   ]
  },
  {
   "cell_type": "markdown",
   "metadata": {},
   "source": [
    "## Instruction/Pulse schedule\n",
    "Often different quantum gates will have different execution time. To consider this, we define a list of quantum instructions, where X gate has the execution time 1 while the iSWAP gate takes the time 3.5"
   ]
  },
  {
   "cell_type": "code",
   "execution_count": 5,
   "metadata": {},
   "outputs": [
    {
     "data": {
      "text/plain": [
       "[0, 0.0, 3.5, 1, 2]"
      ]
     },
     "execution_count": 5,
     "metadata": {},
     "output_type": "execute_result"
    }
   ],
   "source": [
    "from qutip.qip.compiler import Instruction\n",
    "\n",
    "scheduler = Scheduler(\"ASAP\")\n",
    "instructions = []\n",
    "for gate in circuit.gates:\n",
    "    if gate.name in (\"X\"):\n",
    "        duration = 1\n",
    "    elif gate.name == \"ISWAP\":\n",
    "        duration = 3.5\n",
    "    instruction = Instruction(gate, duration=duration)\n",
    "    instructions.append(instruction)\n",
    "scheduler.schedule(instructions)"
   ]
  },
  {
   "cell_type": "markdown",
   "metadata": {},
   "source": [
    "The scheduled execution time for each gate can no longer be assigned to gate cycles. But we can see this through the [noisy circuit simulator](qip-noisy-device-simulator.ipynb) of qutip, where the circuit is compiled to control signals: (Notice that the execution time follows the hardware parameter of spin chain and the Y gate is decomposed into a Z-X-Z rotation)."
   ]
  },
  {
   "cell_type": "code",
   "execution_count": 6,
   "metadata": {},
   "outputs": [
    {
     "data": {
      "image/png": "[encoded data removed]",
      "text/plain": [
       "<Figure size 864x432 with 8 Axes>"
      ]
     },
     "metadata": {},
     "output_type": "display_data"
    }
   ],
   "source": [
    "from qutip.qip.device import LinearSpinChain\n",
    "device = LinearSpinChain(3)\n",
    "device.load_circuit(circuit, \"ASAP\")  # The circuit are compiled to instructions and scheduled.\n",
    "device.plot_pulses();"
   ]
  },
  {
   "cell_type": "markdown",
   "metadata": {},
   "source": [
    "The green and orange pulses represent rotations along the X and Z axis. The green pulse is the iSWAP gate, which is executed simultaneously with a few other single-qubit rotations on qubit 0."
   ]
  },
  {
   "cell_type": "markdown",
   "metadata": {},
   "source": [
    "## Considering commuting gates\n",
    "We consider the following circuit:"
   ]
  },
  {
   "cell_type": "code",
   "execution_count": 7,
   "metadata": {},
   "outputs": [
    {
     "data": {
      "image/png": "[encoded data removed]",
      "text/plain": [
       "<qutip.qip.circuit.QubitCircuit at 0x1ec1e787eb0>"
      ]
     },
     "execution_count": 7,
     "metadata": {},
     "output_type": "execute_result"
    }
   ],
   "source": [
    "circuit = QubitCircuit(3)\n",
    "circuit.add_gate(\"SNOT\", 0)\n",
    "circuit.add_gate(\"CNOT\", 1, 0)\n",
    "circuit.add_gate(\"CNOT\", 2, 0)\n",
    "circuit.add_gate(\"SNOT\", 2)\n",
    "circuit"
   ]
  },
  {
   "cell_type": "markdown",
   "metadata": {},
   "source": [
    "On the first sight, it might look like no gates can be run in parallel. However, the two CNOT gates actually commute and if we permute them, we can run one CNOT together with the last Hadamard gate."
   ]
  },
  {
   "cell_type": "code",
   "execution_count": 8,
   "metadata": {},
   "outputs": [
    {
     "name": "stdout",
     "output_type": "stream",
     "text": [
      "['SNOT[0]']\n",
      "['CNOT[2]']\n",
      "['CNOT[1]', 'SNOT[2]']\n"
     ]
    }
   ],
   "source": [
    "scheduler = Scheduler(\"ALAP\")\n",
    "scheduled_time = scheduler.schedule(circuit)\n",
    "\n",
    "cycle_list = [[] for i in range(max(scheduled_time) + 1)]\n",
    "for i, time in enumerate(scheduled_time):\n",
    "    gate = circuit.gates[i]\n",
    "    cycle_list[time].append(gate.name + str(gate.targets))\n",
    "for cycle in cycle_list:\n",
    "    print(cycle)"
   ]
  },
  {
   "cell_type": "markdown",
   "metadata": {},
   "source": [
    "## Random shuffle\n",
    "The scheduling algorithm is heuristic and hence cannot always find the optimal result. Therefore randomness can be added to the scheduling process by the parameters `random_shuffle` and `repeat_num`."
   ]
  },
  {
   "cell_type": "code",
   "execution_count": 2,
   "metadata": {},
   "outputs": [
    {
     "data": {
      "text/html": [
       "<table><tr><th>Software</th><th>Version</th></tr><tr><td>QuTiP</td><td>4.6.0+c003ff5</td></tr><tr><td>Numpy</td><td>1.20.1</td></tr><tr><td>SciPy</td><td>1.5.3</td></tr><tr><td>matplotlib</td><td>3.3.0</td></tr><tr><td>Cython</td><td>0.29.21</td></tr><tr><td>Number of CPUs</td><td>12</td></tr><tr><td>BLAS Info</td><td>Generic</td></tr><tr><td>IPython</td><td>7.16.1</td></tr><tr><td>Python</td><td>3.8.6 | packaged by conda-forge | (default, Oct  7 2020, 18:22:52) [MSC v.1916 64 bit (AMD64)]</td></tr><tr><td>OS</td><td>nt [win32]</td></tr><tr><td colspan='2'>Mon Apr 12 20:01:03 2021 W. Europe Daylight Time</td></tr></table>"
      ],
      "text/plain": [
       "<IPython.core.display.HTML object>"
      ]
     },
     "execution_count": 2,
     "metadata": {},
     "output_type": "execute_result"
    }
   ],
   "source": [
    "from qutip.ipynbtools import version_table\n",
    "version_table()"
   ]
  }
 ],
 "metadata": {
  "kernelspec": {
   "display_name": "Python 3",
   "language": "python",
   "name": "python3"
  },
  "language_info": {
   "codemirror_mode": {
    "name": "ipython",
    "version": 3
   },
   "file_extension": ".py",
   "mimetype": "text/x-python",
   "name": "python",
   "nbconvert_exporter": "python",
   "pygments_lexer": "ipython3",
   "version": "3.8.6"
  },
  "latex_envs": {
   "LaTeX_envs_menu_present": true,
   "autoclose": false,
   "autocomplete": true,
   "bibliofile": "biblio.bib",
   "cite_by": "apalike",
   "current_citInitial": 1,
   "eqLabelWithNumbers": true,
   "eqNumInitial": 1,
   "hotkeys": {
    "equation": "Ctrl-E",
    "itemize": "Ctrl-I"
   },
   "labels_anchors": false,
   "latex_user_defs": false,
   "report_style_numbering": false,
   "user_envs_cfg": false
  },
  "toc": {
   "base_numbering": 1,
   "nav_menu": {},
   "number_sections": true,
   "sideBar": true,
   "skip_h1_title": false,
   "title_cell": "Table of Contents",
   "title_sidebar": "Contents",
   "toc_cell": false,
   "toc_position": {},
   "toc_section_display": true,
   "toc_window_display": false
  }
 },
 "nbformat": 4,
 "nbformat_minor": 4
}
