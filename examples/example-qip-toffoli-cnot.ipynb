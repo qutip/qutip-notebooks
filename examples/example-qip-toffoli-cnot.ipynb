{
 "metadata": {
  "name": "",
  "signature": "sha256:6b0d8eff1aba0c80a9867a716c292342130fa3d165002e7460fe26d346cc8cb3"
 },
 "nbformat": 3,
 "nbformat_minor": 0,
 "worksheets": [
  {
   "cells": [
    {
     "cell_type": "heading",
     "level": 1,
     "metadata": {},
     "source": [
      "Decomposition of the Toffoli gate in terms of CNOT and single-qubit rotations"
     ]
    },
    {
     "cell_type": "markdown",
     "metadata": {},
     "source": [
      "Copyright (C) 2011 and later, Paul D. Nation & Robert J. Johansson"
     ]
    },
    {
     "cell_type": "markdown",
     "metadata": {},
     "source": [
      "This notebooks demonstrates how a toffoli gate can be rewritten in terms of CNOT gates and single qubit gates, and verifies the equivalence of the two gate sequences by comparing their matrix representations. For more information about the toffoli decomposition, see Nielsen & Chuang, Sec. 4.3, p178."
     ]
    },
    {
     "cell_type": "code",
     "collapsed": false,
     "input": [
      "from qutip import *"
     ],
     "language": "python",
     "metadata": {},
     "outputs": [],
     "prompt_number": 1
    },
    {
     "cell_type": "code",
     "collapsed": false,
     "input": [
      "q = QubitCircuit(3, reverse_states=False)\n",
      "q.add_gate(\"TOFFOLI\", controls=[0, 2], targets=[1])"
     ],
     "language": "python",
     "metadata": {},
     "outputs": [],
     "prompt_number": 2
    },
    {
     "cell_type": "code",
     "collapsed": false,
     "input": [
      "q.png"
     ],
     "language": "python",
     "metadata": {},
     "outputs": [
      {
       "metadata": {},
       "output_type": "pyout",
       "png": "[encoded data removed]",
       "prompt_number": 3,
       "text": [
        "<IPython.core.display.Image at 0x7f47f4731be0>"
       ]
      }
     ],
     "prompt_number": 3
    },
    {
     "cell_type": "code",
     "collapsed": false,
     "input": [
      "U = gate_sequence_product(q.propagators())\n",
      "\n",
      "U.tidyup()"
     ],
     "language": "python",
     "metadata": {},
     "outputs": [
      {
       "latex": [
        "Quantum object: dims = [[2, 2, 2], [2, 2, 2]], shape = [8, 8], type = oper, isherm = True\\begin{equation*}\\left(\\begin{array}{*{11}c}1.0 & 0.0 & 0.0 & 0.0 & 0.0 & 0.0 & 0.0 & 0.0\\\\0.0 & 1.0 & 0.0 & 0.0 & 0.0 & 0.0 & 0.0 & 0.0\\\\0.0 & 0.0 & 1.0 & 0.0 & 0.0 & 0.0 & 0.0 & 0.0\\\\0.0 & 0.0 & 0.0 & 1.0 & 0.0 & 0.0 & 0.0 & 0.0\\\\0.0 & 0.0 & 0.0 & 0.0 & 1.0 & 0.0 & 0.0 & 0.0\\\\0.0 & 0.0 & 0.0 & 0.0 & 0.0 & 0.0 & 0.0 & 1.0\\\\0.0 & 0.0 & 0.0 & 0.0 & 0.0 & 0.0 & 1.0 & 0.0\\\\0.0 & 0.0 & 0.0 & 0.0 & 0.0 & 1.0 & 0.0 & 0.0\\\\\\end{array}\\right)\\end{equation*}"
       ],
       "metadata": {},
       "output_type": "pyout",
       "prompt_number": 4,
       "text": [
        "Quantum object: dims = [[2, 2, 2], [2, 2, 2]], shape = [8, 8], type = oper, isherm = True\n",
        "Qobj data =\n",
        "[[ 1.  0.  0.  0.  0.  0.  0.  0.]\n",
        " [ 0.  1.  0.  0.  0.  0.  0.  0.]\n",
        " [ 0.  0.  1.  0.  0.  0.  0.  0.]\n",
        " [ 0.  0.  0.  1.  0.  0.  0.  0.]\n",
        " [ 0.  0.  0.  0.  1.  0.  0.  0.]\n",
        " [ 0.  0.  0.  0.  0.  0.  0.  1.]\n",
        " [ 0.  0.  0.  0.  0.  0.  1.  0.]\n",
        " [ 0.  0.  0.  0.  0.  1.  0.  0.]]"
       ]
      }
     ],
     "prompt_number": 4
    },
    {
     "cell_type": "code",
     "collapsed": false,
     "input": [
      "q2 = q.resolve_gates()"
     ],
     "language": "python",
     "metadata": {},
     "outputs": [],
     "prompt_number": 5
    },
    {
     "cell_type": "code",
     "collapsed": false,
     "input": [
      "q2.png"
     ],
     "language": "python",
     "metadata": {},
     "outputs": [
      {
       "metadata": {},
       "output_type": "pyout",
       "png": "[encoded data removed]",
       "prompt_number": 6,
       "text": [
        "<IPython.core.display.Image at 0x7f47d05e8860>"
       ]
      }
     ],
     "prompt_number": 6
    },
    {
     "cell_type": "code",
     "collapsed": false,
     "input": [
      "U2 = gate_sequence_product(q2.propagators())\n",
      "\n",
      "U2.tidyup()"
     ],
     "language": "python",
     "metadata": {},
     "outputs": [
      {
       "latex": [
        "Quantum object: dims = [[2, 2, 2], [2, 2, 2]], shape = [8, 8], type = oper, isherm = True\\begin{equation*}\\left(\\begin{array}{*{11}c}1.000 & 0.0 & 0.0 & 0.0 & 0.0 & 0.0 & 0.0 & 0.0\\\\0.0 & 1.000 & 0.0 & 0.0 & 0.0 & 0.0 & 0.0 & 0.0\\\\0.0 & 0.0 & 1.000 & 0.0 & 0.0 & 0.0 & 0.0 & 0.0\\\\0.0 & 0.0 & 0.0 & 1.000 & 0.0 & 0.0 & 0.0 & 0.0\\\\0.0 & 0.0 & 0.0 & 0.0 & 1.000 & 0.0 & 0.0 & 0.0\\\\0.0 & 0.0 & 0.0 & 0.0 & 0.0 & 0.0 & 0.0 & 1.000\\\\0.0 & 0.0 & 0.0 & 0.0 & 0.0 & 0.0 & 1.000 & 0.0\\\\0.0 & 0.0 & 0.0 & 0.0 & 0.0 & 1.000 & 0.0 & 0.0\\\\\\end{array}\\right)\\end{equation*}"
       ],
       "metadata": {},
       "output_type": "pyout",
       "prompt_number": 7,
       "text": [
        "Quantum object: dims = [[2, 2, 2], [2, 2, 2]], shape = [8, 8], type = oper, isherm = True\n",
        "Qobj data =\n",
        "[[ 1.  0.  0.  0.  0.  0.  0.  0.]\n",
        " [ 0.  1.  0.  0.  0.  0.  0.  0.]\n",
        " [ 0.  0.  1.  0.  0.  0.  0.  0.]\n",
        " [ 0.  0.  0.  1.  0.  0.  0.  0.]\n",
        " [ 0.  0.  0.  0.  1.  0.  0.  0.]\n",
        " [ 0.  0.  0.  0.  0.  0.  0.  1.]\n",
        " [ 0.  0.  0.  0.  0.  0.  1.  0.]\n",
        " [ 0.  0.  0.  0.  0.  1.  0.  0.]]"
       ]
      }
     ],
     "prompt_number": 7
    },
    {
     "cell_type": "code",
     "collapsed": false,
     "input": [
      "U == U2"
     ],
     "language": "python",
     "metadata": {},
     "outputs": [
      {
       "metadata": {},
       "output_type": "pyout",
       "prompt_number": 8,
       "text": [
        "True"
       ]
      }
     ],
     "prompt_number": 8
    },
    {
     "cell_type": "heading",
     "level": 2,
     "metadata": {},
     "source": [
      "Versions"
     ]
    },
    {
     "cell_type": "code",
     "collapsed": false,
     "input": [
      "%reload_ext version_information\n",
      "\n",
      "%version_information numpy, cython, scipy, matplotlib, qutip"
     ],
     "language": "python",
     "metadata": {},
     "outputs": [
      {
       "html": [
        "<table><tr><th>Software</th><th>Version</th></tr><tr><td>Python</td><td>3.4.0 64bit [GCC 4.8.2]</td></tr><tr><td>IPython</td><td>2.3.1</td></tr><tr><td>OS</td><td>Linux 3.16.0 29 generic x86_64 with Ubuntu 14.10 utopic</td></tr><tr><td>numpy</td><td>1.9.1</td></tr><tr><td>cython</td><td>0.21.2</td></tr><tr><td>scipy</td><td>0.14.1</td></tr><tr><td>matplotlib</td><td>1.4.2</td></tr><tr><td>qutip</td><td>3.1.0</td></tr><tr><td colspan='2'>Tue Jan 13 13:21:05 2015 JST</td></tr></table>"
       ],
       "json": [
        "{\"Software versions\": [{\"version\": \"3.4.0 64bit [GCC 4.8.2]\", \"module\": \"Python\"}, {\"version\": \"2.3.1\", \"module\": \"IPython\"}, {\"version\": \"Linux 3.16.0 29 generic x86_64 with Ubuntu 14.10 utopic\", \"module\": \"OS\"}, {\"version\": \"1.9.1\", \"module\": \"numpy\"}, {\"version\": \"0.21.2\", \"module\": \"cython\"}, {\"version\": \"0.14.1\", \"module\": \"scipy\"}, {\"version\": \"1.4.2\", \"module\": \"matplotlib\"}, {\"version\": \"3.1.0\", \"module\": \"qutip\"}]}"
       ],
       "latex": [
        "\\begin{tabular}{|l|l|}\\hline\n",
        "{\\bf Software} & {\\bf Version} \\\\ \\hline\\hline\n",
        "Python & 3.4.0 64bit [GCC 4.8.2] \\\\ \\hline\n",
        "IPython & 2.3.1 \\\\ \\hline\n",
        "OS & Linux 3.16.0 29 generic x86\\_64 with Ubuntu 14.10 utopic \\\\ \\hline\n",
        "numpy & 1.9.1 \\\\ \\hline\n",
        "cython & 0.21.2 \\\\ \\hline\n",
        "scipy & 0.14.1 \\\\ \\hline\n",
        "matplotlib & 1.4.2 \\\\ \\hline\n",
        "qutip & 3.1.0 \\\\ \\hline\n",
        "\\hline \\multicolumn{2}{|l|}{Tue Jan 13 13:21:05 2015 JST} \\\\ \\hline\n",
        "\\end{tabular}\n"
       ],
       "metadata": {},
       "output_type": "pyout",
       "prompt_number": 9,
       "text": [
        "Software versions\n",
        "Python 3.4.0 64bit [GCC 4.8.2]\n",
        "IPython 2.3.1\n",
        "OS Linux 3.16.0 29 generic x86_64 with Ubuntu 14.10 utopic\n",
        "numpy 1.9.1\n",
        "cython 0.21.2\n",
        "scipy 0.14.1\n",
        "matplotlib 1.4.2\n",
        "qutip 3.1.0\n",
        "Tue Jan 13 13:21:05 2015 JST"
       ]
      }
     ],
     "prompt_number": 9
    }
   ],
   "metadata": {}
  }
 ]
}