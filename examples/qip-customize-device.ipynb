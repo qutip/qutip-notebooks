{
 "cells": [
  {
   "cell_type": "markdown",
   "metadata": {},
   "source": [
    "# Simulating your own quantum device\n",
    "Author: Boxi Li (etamin1201@gmail.com)\n",
    "\n",
    "The noisy device simulator of QuTiP performs simulation of quantum circuit at the level of open system time evolution (see [Noisy quantum device simulation with QuTiP](qip-noisy-device-simulator.ipynb) for details). In this notebook, we show how to define customized quantum system under this framework. The notebook is divided into three parts:\n",
    "1. Customize the Hamiltonian model\n",
    "2. Customize the compiler\n",
    "3. Customize the noise"
   ]
  },
  {
   "cell_type": "markdown",
   "metadata": {},
   "source": [
    "## Customize the Hamiltonian model"
   ]
  },
  {
   "cell_type": "markdown",
   "metadata": {},
   "source": [
    "We start from the customization of the Hamiltonian model of the quantum system. It is represented by the class `Processor`. To simulate a customized quantum device, we will build it as a subclass of `ModelProcessor`, which is used for simulators based on concrete physics model (in contrast to optimal control). In this way, it inherits the necessary methods used in the simulation. A subclass can be built in three steps:\n",
    "- compute the hardware parameters\n",
    "- generate the available control Hamiltonian\n",
    "- provide a compiler\n",
    "\n",
    "In the next ceil, we show the definition of a customized `Processor` class as a whole block. In the ceils following, we will then have a closer look at each part of it one by one.\n"
   ]
  },
  {
   "cell_type": "code",
   "execution_count": 1,
   "metadata": {},
   "outputs": [],
   "source": [
    "import numpy as np\n",
    "from qutip import sigmax, sigmay, sigmaz, tensor, fidelity\n",
    "from qutip.qip.pulse import Pulse\n",
    "from qutip.qip.device import ModelProcessor\n",
    "\n",
    "class MyProcessor(ModelProcessor):\n",
    "    def __init__(self, num_qubits, h_x, h_z, g, t1=None, t2=None):\n",
    "        super(MyProcessor, self).__init__(num_qubits, t1=t1, t2=t2)  # no decay for now\n",
    "        self.pulse_mode = \"discrete\"  # The control pulse is discrete or continous.\n",
    "        self.set_up_params(num_qubits, h_x, h_z, g)  # precompute the parameters\n",
    "        self.set_up_ops(num_qubits)  # set up the available Hamiltonians\n",
    "        self.dims = [2] * num_qubits  # The dimension of each controllable quantum system, here num_qubits qubits.\n",
    "        self.num_qubits = num_qubits\n",
    "\n",
    "    def set_up_params(self, num_qubits, h_x, h_z, g):\n",
    "        self.params = {}\n",
    "        self.params[\"sz\"] = [2 * np.pi * h_z] * num_qubits  # for each qubtis, they can also be different\n",
    "        self.params[\"sx\"] = [2 * np.pi * h_x] * num_qubits\n",
    "        self.params[\"g\"] = [2 * np.pi * g] * num_qubits\n",
    "        # Here goes all computation of hardware parameters. They all need to be saved in self.params for later use.\n",
    "        # The computed parameters can be used e.g. in setting up the Hamiltonians or the compiler to compute the pulse coefficients.\n",
    "\n",
    "    def set_up_ops(self, num_qubits):\n",
    "        self.pulse_dict = {}  # A dictionary that maps the name of a pulse to its index in the pulse list.\n",
    "        index = 0\n",
    "        # sx_ops\n",
    "        for m in range(num_qubits):\n",
    "            self.add_control(sigmax(), m, label=\"sx\" + str(m)) # sigmax pulse on m-th qubit with the corresponding pulse \n",
    "            self.pulse_dict[\"sx\" + str(m)] = index\n",
    "            index += 1\n",
    "        # sz_ops\n",
    "        for m in range(num_qubits):\n",
    "            self.add_control(sigmaz(), m, label=\"sz\" + str(m))\n",
    "            self.pulse_dict[\"sz\" + str(m)] = index\n",
    "            index += 1\n",
    "        # sxsy_ops\n",
    "        operator = tensor([sigmax(), sigmax()]) + tensor([sigmay(), sigmay()])\n",
    "        for m in range(num_qubits - 1):\n",
    "            self.add_control(operator, [m, m+1], label=\"g\" + str(m))\n",
    "            self.pulse_dict[\"g\" + str(m)] = index\n",
    "            index += 1\n",
    "\n",
    "    def load_circuit(self, circuit, schedule_mode=False, compiler=None):\n",
    "        # compile the circuit to control pulses\n",
    "        if compiler is None:\n",
    "            from qutip.qip.compiler import SpinChainCompiler\n",
    "            circuit = circuit.resolve_gates(basis=[\"ISWAP\", \"RX\", \"RZ\"])\n",
    "            # other supported gates includes RY, Cnum_qubitsOT, SQRTISWAP\n",
    "            compiler = SpinChainCompiler(\n",
    "                self.num_qubits, self.params, setup=\"linear\", global_phase=0., pulse_dict=self.pulse_dict)\n",
    "        tlist, coeffs = compiler.compile(circuit, schedule_mode=schedule_mode)\n",
    "        # save the time sequence and amplitude for all pulses\n",
    "        self.set_all_tlist(tlist)\n",
    "        self.coeffs = coeffs\n",
    "        return tlist, self.coeffs\n"
   ]
  },
  {
   "cell_type": "markdown",
   "metadata": {},
   "source": [
    "This is a quantum system of $n$ qubits arranged in a chain, where we have control over three Hamiltonian: $\\sigma_x$, $\\sigma_z$ on each qubit, and neighbouring-qubits interaction $\\sigma_x\\sigma_x+\\sigma_y\\sigma_y$:\n",
    "\n",
    "$$\n",
    "H = \\sum_{j=0}^{n-1} c_{1,j}(t) \\cdot h_x^{j}\\sigma_x^{j} + \\sum_{j=0}^{n-1} c_{2,j}(t) \\cdot h_z^{j}\\sigma_z^{j}\n",
    "+ \\sum_{j=0}^{n-2} c_{3,j}(t)\\cdot g^{j}(\\sigma_x^{j}\\sigma_x^{j+1}+\\sigma_y^{j}\\sigma_y^{j+1})\n",
    "$$\n",
    "\n",
    "where $h_x$, $h_z$, $g$ are the hardware parameters and $c_{i,j}(t)$ are the time-dependent control pulse coefficients. This Hamiltonian is the same as the one for the linear spin chain model in QuTiP. In general, the hardware parameters will not be identical for each qubit, but here, for simplicity, we represent them by three numbers: $h_x$, $h_z$ and $g$.\n",
    "\n",
    "We can initialize the processor class with these parameters:"
   ]
  },
  {
   "cell_type": "code",
   "execution_count": 2,
   "metadata": {},
   "outputs": [],
   "source": [
    "num_qubits = 2\n",
    "processor = MyProcessor(num_qubits, h_x=1.0, h_z=1.0, g=0.1)"
   ]
  },
  {
   "cell_type": "markdown",
   "metadata": {},
   "source": [
    "In the following, we go through the three methods of this class.\n",
    "\n",
    "### The hardware parameters:\n",
    "In the `set_up_params` method, one can perform precomputation of hardware parameters, such as computing the coupling strength from the detuning. They will be saved in an attribute called `params`. If parameters are different for each qubits, it can be given as a Python list. Here, for demonstration, we only multiply each parameter with $2\\pi$. The attribute `params` will be used in the compiler."
   ]
  },
  {
   "cell_type": "code",
   "execution_count": 3,
   "metadata": {},
   "outputs": [],
   "source": [
    "def set_up_params(self, num_qubits, h_x, h_z, g):\n",
    "    self.params = {}\n",
    "    self.params[\"sz\"] = [2 * np.pi * h_z] * num_qubits  # for each qubtis, they can also be different\n",
    "    self.params[\"sx\"] = [2 * np.pi * h_x] * num_qubits\n",
    "    self.params[\"g\"] = [2 * np.pi * g] * num_qubits"
   ]
  },
  {
   "cell_type": "markdown",
   "metadata": {},
   "source": [
    "`self.params` will be passed later to the compiler and used there.\n",
    "\n",
    "### The available control Hamiltonian\n",
    "In `set_up_ops`, we define the Hamiltonian of the quantum system and use them to initialize the control pulses."
   ]
  },
  {
   "cell_type": "code",
   "execution_count": 4,
   "metadata": {},
   "outputs": [],
   "source": [
    "def set_up_ops(self, num_qubits):\n",
    "    self.pulse_dict = {}  # A dictionary that maps the name of a pulse to its index in the pulse list.\n",
    "    index = 0\n",
    "    # sx_ops\n",
    "    for m in range(num_qubits):\n",
    "        self.add_control(sigmax(), m, label=\"sx\" + str(m)) # sigmax pulse on m-th qubit with the corresponding pulse \n",
    "        self.pulse_dict[\"sx\" + str(m)] = index\n",
    "        index += 1\n",
    "    # sz_ops\n",
    "    for m in range(num_qubits):\n",
    "        self.add_control(sigmaz(), m, label=\"sz\" + str(m))\n",
    "        self.pulse_dict[\"sz\" + str(m)] = index\n",
    "        index += 1\n",
    "    # sxsy_ops\n",
    "    operator = tensor([sigmax(), sigmax()]) + tensor([sigmay(), sigmay()])\n",
    "    for m in range(num_qubits - 1):\n",
    "        self.add_control(operator, [m, m+1], label=\"g\" + str(m))\n",
    "        self.pulse_dict[\"g\" + str(m)] = index\n",
    "        index += 1"
   ]
  },
  {
   "cell_type": "markdown",
   "metadata": {},
   "source": [
    "In the method above, we also save a dictionary `pulse_dict` between the name and index of each pulse:"
   ]
  },
  {
   "cell_type": "code",
   "execution_count": 5,
   "metadata": {},
   "outputs": [
    {
     "data": {
      "text/plain": [
       "{'sx0': 0, 'sx1': 1, 'sz0': 2, 'sz1': 3, 'g0': 4}"
      ]
     },
     "execution_count": 5,
     "metadata": {},
     "output_type": "execute_result"
    }
   ],
   "source": [
    "processor.pulse_dict"
   ]
  },
  {
   "cell_type": "markdown",
   "metadata": {},
   "source": [
    "It can be used to identify the control pulse more conveniently:"
   ]
  },
  {
   "cell_type": "code",
   "execution_count": 6,
   "metadata": {},
   "outputs": [
    {
     "name": "stdout",
     "output_type": "stream",
     "text": [
      "----------------------------------------------------------------------\n",
      "Pulse label: sx0\n",
      "The pulse contains: 0 coherent noise elements and 0 Lindblad noise elements.\n",
      "\n",
      "Ideal pulse:\n",
      "{'qobj': Quantum object: dims = [[2], [2]], shape = (2, 2), type = oper, isherm = True\n",
      "Qobj data =\n",
      "[[0. 1.]\n",
      " [1. 0.]], 'targets': [0], 'tlist': None, 'coeff': None}\n",
      "----------------------------------------------------------------------\n"
     ]
    }
   ],
   "source": [
    "sx0_pulse = processor.find_pulse(\"sx0\")\n",
    "sx0_pulse.print_info()"
   ]
  },
  {
   "cell_type": "markdown",
   "metadata": {},
   "source": [
    "### Load and compile the circuit\n",
    "To convert a quantum circuit into the Hamiltonian model, we need a compiler. The customized definition of a compiler will be discussed in details in the next section. Because we used the Hamiltonian model of the spin chain, we here simply \"borrow\" the compiler of the spin chain model.\n",
    "\n",
    "To specify this compiler in the processor, we define a function `load_circuit`. It decomposes quantum gates into gates in the natural gates set of the corresponding hardware, compiles them to control pulses and stores the compiled pulse information."
   ]
  },
  {
   "cell_type": "code",
   "execution_count": 7,
   "metadata": {},
   "outputs": [],
   "source": [
    "def load_circuit(self, circuit, schedule_mode=False, compiler=None):\n",
    "    # compile the circuit to control pulses\n",
    "    if compiler is None:\n",
    "        from qutip.qip.compiler import SpinChainCompiler\n",
    "        circuit = circuit.resolve_gates(basis=[\"ISWAP\", \"RX\", \"RZ\"])\n",
    "        # other supported gates includes RY, Cnum_qubitsOT, SQRTISWAP\n",
    "        compiler = SpinChainCompiler(\n",
    "            self.num_qubits, self.params, setup=\"linear\", pulse_dict=self.pulse_dict)\n",
    "    tlist, coeffs = compiler.compile(circuit, schedule_mode=schedule_mode)\n",
    "    # save the time sequence and amplitude for all pulses\n",
    "    self.set_all_tlist(tlist)\n",
    "    self.coeffs = coeffs\n",
    "    return tlist, self.coeffs"
   ]
  },
  {
   "cell_type": "markdown",
   "metadata": {},
   "source": [
    "### Run the simulation\n",
    "With all these ingredients, we can now simulate quantum circuits on our customized processor. Here we use a two-qubit circuit with two X  gates. Acting on a $|00\\rangle$ state, this results in a $|11\\rangle$ state."
   ]
  },
  {
   "cell_type": "code",
   "execution_count": 8,
   "metadata": {},
   "outputs": [
    {
     "data": {
      "image/png": "[encoded data removed]",
      "text/plain": [
       "<qutip.qip.circuit.QubitCircuit at 0x1be65b483a0>"
      ]
     },
     "execution_count": 8,
     "metadata": {},
     "output_type": "execute_result"
    }
   ],
   "source": [
    "from qutip import basis\n",
    "from qutip.qip.circuit import QubitCircuit\n",
    "circuit = QubitCircuit(num_qubits)\n",
    "circuit.add_gate(\"X\", targets=1)\n",
    "circuit.add_gate(\"X\", targets=0)\n",
    "circuit"
   ]
  },
  {
   "cell_type": "markdown",
   "metadata": {},
   "source": [
    "For circuit plotting, see [this notebook](quantum-gates.ipynb)."
   ]
  },
  {
   "cell_type": "code",
   "execution_count": 9,
   "metadata": {},
   "outputs": [
    {
     "data": {
      "text/latex": [
       "Quantum object: dims = [[2, 2], [1, 1]], shape = (4, 1), type = ket\\begin{equation*}\\left(\\begin{array}{*{11}c}3.512\\times10^{-13}\\\\8.074\\times10^{-07}j\\\\4.166\\times10^{-07}j\\\\-1.000\\\\\\end{array}\\right)\\end{equation*}"
      ],
      "text/plain": [
       "Quantum object: dims = [[2, 2], [1, 1]], shape = (4, 1), type = ket\n",
       "Qobj data =\n",
       "[[ 3.51162907e-13+0.00000000e+00j]\n",
       " [ 0.00000000e+00+8.07380330e-07j]\n",
       " [ 0.00000000e+00+4.16619521e-07j]\n",
       " [-1.00000000e+00+0.00000000e+00j]]"
      ]
     },
     "execution_count": 9,
     "metadata": {},
     "output_type": "execute_result"
    }
   ],
   "source": [
    "processor = MyProcessor(num_qubits, h_x=1.0, h_z=1.0, g=0.1)\n",
    "processor.load_circuit(circuit)\n",
    "result = processor.run_state(init_state = basis([2,2], [0,0]))\n",
    "result.states[-1]"
   ]
  },
  {
   "cell_type": "markdown",
   "metadata": {},
   "source": [
    "The compiled pulse coefficients are now saved in the processor and can be accessed by:"
   ]
  },
  {
   "cell_type": "code",
   "execution_count": 10,
   "metadata": {},
   "outputs": [
    {
     "name": "stdout",
     "output_type": "stream",
     "text": [
      "[6.28318531]\n",
      "[0.   0.25]\n"
     ]
    }
   ],
   "source": [
    "sx1_pulse = processor.find_pulse(\"sx1\")\n",
    "print(sx1_pulse.coeff)\n",
    "print(sx1_pulse.tlist)"
   ]
  },
  {
   "cell_type": "markdown",
   "metadata": {},
   "source": [
    "This is a rectangle pulse that starts from time 0 and ends at time 0.25.\n",
    "\n",
    "#### Note\n",
    "\n",
    "Notice that， for discrete pulse, the time sequence is one element shorter than the pulse coefficient because we need to specify the start and the end of the pulse. If two sequences are of the same length, the last element of `coeff` will be neglected. Later, we will see continuous pulse where `coeff` and `tlist` have the same length.\n",
    "\n",
    "To give an intuitive illustration of the control pulses, we give each pulse a latex label by defining a method `get_operators_labels` and then plot the compiled pulses."
   ]
  },
  {
   "cell_type": "code",
   "execution_count": 11,
   "metadata": {},
   "outputs": [
    {
     "data": {
      "image/png": "[encoded data removed]",
      "text/plain": [
       "<Figure size 864x432 with 5 Axes>"
      ]
     },
     "metadata": {},
     "output_type": "display_data"
    }
   ],
   "source": [
    "def get_operators_labels():\n",
    "    \"\"\"\n",
    "    The function returns a 2-d nested list, in the plot,\n",
    "    a different color will be used for each sublist.\n",
    "    The total number of elements should match the number of control pulses.\n",
    "    \"\"\"\n",
    "    return ([[r\"$\\sigma_x^%d$\" % n for n in range(num_qubits)],\n",
    "             [r\"$\\sigma_z^%d$\" % n for n in range(num_qubits)],\n",
    "             [r\"$g_{%d}$\" % (n) for n in range(num_qubits - 1)]])\n",
    "\n",
    "processor.get_operators_labels = get_operators_labels\n",
    "processor.plot_pulses();"
   ]
  },
  {
   "cell_type": "markdown",
   "metadata": {},
   "source": [
    "## Customize the compiler\n",
    "\n",
    "How the quantum gates are implemented on hardware varies on different quantum systems. Even on the same physical platform, different implementation will yield different performance. The simplest way of implementation is to define a rectangular pulse like the one above. However, in reality, the control signal will have a continuous shape. In the following, we show how to customize the compiler with a gaussian pulse.\n",
    "\n",
    "A typical gate compiler function looks like the one in the following cell, with the form ``XX_compiler(self, gate, args)``. It takes two argument, `gate` and `args`: `gate` is the quantum gate to be compiled and `args` is a dictionary for additional parameters, for instance, parameters we defined in `Processor.set_up_params()`.\n",
    "\n",
    "For each gate, the function returns the input gate, the time sequence and the pulse coefficients in an `Instruction` object.\n",
    "\n",
    "Below is an example of a rectangular pulse."
   ]
  },
  {
   "cell_type": "code",
   "execution_count": 12,
   "metadata": {},
   "outputs": [],
   "source": [
    "from qutip.qip.compiler import Instruction\n",
    "def rz_compiler(self, gate, args):\n",
    "    \"\"\"\n",
    "    Compiler for the RZ gate\n",
    "    \"\"\"\n",
    "    targets = gate.targets  # target qubit\n",
    "    parameters = args[\"params\"]  # get the params we defined in the processor\n",
    "    h_x2pi = parameters[\"sx\"][targets[0]]  #find the coupling strength for the target qubit\n",
    "    coeff = np.sign(gate.arg_value) * h_x2pi  # compute the pulse coefficient, here just a constant\n",
    "    tlist = abs(gate.arg_value) / (2 * h_x2pi)  # the oulse duration\n",
    "    pulse_info = [(\"sx\" + str(targets[0]), coeff)]  #  save the information in a tuple (pulse_name, coeff)\n",
    "    # if you have more than one Hamiltonian to be turned on simultaneously, add it to the pulse_info list.\n",
    "    # e.g. pulse_info = [(name_str1, coeff1), (name_str2, coeff2)]\n",
    "    # They all have to follow the same time sequence given by tlist\n",
    "    return [Instruction(gate, tlist, pulse_info)]\n",
    "    # instruction is an object that includes the pulse coefficient and time sequence\n"
   ]
  },
  {
   "cell_type": "markdown",
   "metadata": {},
   "source": [
    "Now we replace it with a Gaussian pulse. We define the Gaussian pulse in a way that the maximum matches the coupling strength $g$ and compute the $\\sigma$ for the gaussian distribution from it. If you don't care about any parameters and just want to compile the gate to a fixed pulse sequence, you can also just define fixed `tlist` and `coeff` as two NumPy arrays."
   ]
  },
  {
   "cell_type": "code",
   "execution_count": 13,
   "metadata": {},
   "outputs": [],
   "source": [
    "def gauss_dist(t, sigma, amplitude, duration):\n",
    "    return amplitude/np.sqrt(2*np.pi) /sigma*np.exp(-0.5*((t-duration/2)/sigma)**2)\n",
    "\n",
    "def gauss_x_compiler(gate, args):\n",
    "    \"\"\"\n",
    "    Compiler for the X gate\n",
    "    \"\"\"\n",
    "    targets = gate.targets  # target qubit\n",
    "    parameters = args[\"params\"]\n",
    "    h_x2pi = parameters[\"sx\"][targets[0]]  # find the coupling strength for the target qubit\n",
    "    amplitude = np.pi / 2. / 0.9973 #  0.9973 is just used to compensate the finite pulse duration so that the total area is fixed\n",
    "    gate_sigma = h_x2pi / np.sqrt(2*np.pi)\n",
    "    duration = 6 * gate_sigma\n",
    "    tlist = np.linspace(0, duration, 100)\n",
    "    coeff = gauss_dist(tlist, gate_sigma, amplitude, duration)\n",
    "    pulse_info = [(\"sx\" + str(targets[0]), coeff)]  #  save the information in a tuple (pulse_name, coeff)\n",
    "    return [Instruction(gate, tlist, pulse_info)]\n",
    "\n",
    "from qutip.qip.compiler import GateCompiler\n",
    "class MyCompiler(GateCompiler):  # compiler class\n",
    "    def __init__(self, num_qubits, params, pulse_dict):\n",
    "        super(MyCompiler, self).__init__(\n",
    "            num_qubits, params=params, pulse_dict=pulse_dict)\n",
    "        # pass our compiler function as a compiler for RX (rotation around X) gate.\n",
    "        self.gate_compiler[\"X\"] = gauss_x_compiler\n",
    "        self.args.update({\"params\": params})"
   ]
  },
  {
   "cell_type": "markdown",
   "metadata": {},
   "source": [
    "The attribute `pulse_mode` can be set to `\"discrete\"` or `\"continuous\"`. For continuous pulse, QuTiP solvers will use cubic spline interpolation. To minimize the boundary effect, it is recommanded that the continuous pulse goes smoothly to 0 at the beginning and the end. We can see the advantage of the scheduling when we introduce a T1 decoherence and compare the fidelity of the final state."
   ]
  },
  {
   "cell_type": "code",
   "execution_count": 14,
   "metadata": {},
   "outputs": [
    {
     "name": "stdout",
     "output_type": "stream",
     "text": [
      "fidelity without scheduling: 0.9540068365944042\n"
     ]
    }
   ],
   "source": [
    "gauss_compiler = MyCompiler(processor.num_qubits, processor.params, processor.pulse_dict)\n",
    "processor = MyProcessor(num_qubits, h_x=1.0, h_z=1.0, g=0.1, t1=300)\n",
    "processor.pulse_mode = \"continuous\"\n",
    "tlist, coeff = processor.load_circuit(circuit, compiler=gauss_compiler);\n",
    "result = processor.run_state(init_state = basis([2,2], [0,0]))\n",
    "print(\"fidelity without scheduling:\", fidelity(result.states[-1], basis([2,2],[1,1])))"
   ]
  },
  {
   "cell_type": "code",
   "execution_count": 15,
   "metadata": {},
   "outputs": [
    {
     "data": {
      "image/png": "[encoded data removed]",
      "text/plain": [
       "<Figure size 864x432 with 5 Axes>"
      ]
     },
     "metadata": {},
     "output_type": "display_data"
    }
   ],
   "source": [
    "processor.plot_pulses();"
   ]
  },
  {
   "cell_type": "markdown",
   "metadata": {},
   "source": [
    "We can also turn on the scheduler to schedule the circuit for run time duration."
   ]
  },
  {
   "cell_type": "code",
   "execution_count": 16,
   "metadata": {},
   "outputs": [
    {
     "name": "stdout",
     "output_type": "stream",
     "text": [
      "fidelity with scheduling: 0.978220241390956\n"
     ]
    }
   ],
   "source": [
    "processor = MyProcessor(num_qubits, h_x=1.0, h_z=1.0, g=0.1, t1=300)\n",
    "tlist, coeffs = processor.load_circuit(circuit, schedule_mode = \"ASAP\", compiler=gauss_compiler);\n",
    "processor.pulse_mode = \"continuous\"\n",
    "result = processor.run_state(init_state = basis([2,2], [0,0]))\n",
    "print(\"fidelity with scheduling:\", fidelity(result.states[-1], basis([2,2],[1,1])))"
   ]
  },
  {
   "cell_type": "code",
   "execution_count": 17,
   "metadata": {},
   "outputs": [
    {
     "data": {
      "image/png": "[encoded data removed]",
      "text/plain": [
       "<Figure size 864x432 with 5 Axes>"
      ]
     },
     "metadata": {},
     "output_type": "display_data"
    }
   ],
   "source": [
    "processor.plot_pulses();"
   ]
  },
  {
   "cell_type": "markdown",
   "metadata": {},
   "source": [
    "### Define your own gate\n",
    "The number of predefined gates in qutip is limited, hence you are encouraged to define your own gate. Here we show how to define a parametrized gate. First, you will need to define a gate function:"
   ]
  },
  {
   "cell_type": "code",
   "execution_count": 18,
   "metadata": {},
   "outputs": [
    {
     "name": "stderr",
     "output_type": "stream",
     "text": [
      "e:\\boxi\\onedrive\\studium\\qutip-project\\qutip\\qutip\\qip\\circuit.py:274: UserWarning: Unknown gate MYGATE\n",
      "  warnings.warn(\"Unknown gate %s\" % name)\n"
     ]
    },
    {
     "data": {
      "image/png": "[encoded data removed]",
      "text/plain": [
       "<qutip.qip.circuit.QubitCircuit at 0x1be696b2370>"
      ]
     },
     "execution_count": 18,
     "metadata": {},
     "output_type": "execute_result"
    }
   ],
   "source": [
    "def mygate(theta = None):\n",
    "    # We just call the Molmer Sorensen gate as an example.\n",
    "    # If you do not want to run the circuit at the gate matrix level (circuit.run), no need for this function,\n",
    "    # otherwise you will need to define this python function that returns the Qobj of the gate.)\n",
    "    from qutip.qip.operations import molmer_sorensen\n",
    "    return molmer_sorensen(theta, 2, targets=[0, 1])\n",
    "circuit = QubitCircuit(2)\n",
    "circuit.user_gates = {\"MYGATE\": mygate}  # no need for this if you don't use circuit.run\n",
    "circuit.add_gate(\"X\", targets=1)\n",
    "circuit.add_gate(\"MYGATE\", targets=[0,1], arg_value=3*np.pi/2)\n",
    "circuit.add_gate(\"X\", targets=0)\n",
    "circuit\n",
    "# You may see a warning because MYGATE is not found in defined LaTeX gate names, just ignore it."
   ]
  },
  {
   "cell_type": "code",
   "execution_count": 19,
   "metadata": {},
   "outputs": [
    {
     "data": {
      "text/latex": [
       "Quantum object: dims = [[2, 2], [1, 1]], shape = (4, 1), type = ket\\begin{equation*}\\left(\\begin{array}{*{11}c}-0.707j\\\\0.0\\\\0.0\\\\-0.707\\\\\\end{array}\\right)\\end{equation*}"
      ],
      "text/plain": [
       "Quantum object: dims = [[2, 2], [1, 1]], shape = (4, 1), type = ket\n",
       "Qobj data =\n",
       "[[ 0.        -0.70710678j]\n",
       " [ 0.        +0.j        ]\n",
       " [ 0.        +0.j        ]\n",
       " [-0.70710678+0.j        ]]"
      ]
     },
     "execution_count": 19,
     "metadata": {},
     "output_type": "execute_result"
    }
   ],
   "source": [
    "circuit.run(basis([2,2],[0,0]))"
   ]
  },
  {
   "cell_type": "markdown",
   "metadata": {},
   "source": [
    "The next step is to define a compiler function for it. Since compiling a real MS gate is rather complicated, we here just use a dummy triangular pulse. The goal is to show how to get access to the parameter `theta` during the compiling."
   ]
  },
  {
   "cell_type": "code",
   "execution_count": 20,
   "metadata": {},
   "outputs": [],
   "source": [
    "def mygate_compiler(gate, args):\n",
    "    targets = gate.targets  # target qubit\n",
    "    parameters = args[\"params\"]\n",
    "    \n",
    "    theta = gate.arg_value\n",
    "    coeff1 = np.concatenate([np.linspace(0,5,50), np.linspace(5,0,50), [0]]) / 50\n",
    "    coeff2 = np.concatenate([np.linspace(0,5,50), np.linspace(5,0,50), [0]]) / 50\n",
    "    pulse_info = [(\"sx\" + str(targets[0]), theta * coeff1),\n",
    "                  (\"sx\" + str(targets[1]), theta * coeff2)\n",
    "                 ]  #  save the information in a tuple (pulse_name, coeff)\n",
    "    tlist = np.linspace(0, 10, len(coeff1))\n",
    "    return [Instruction(gate, tlist, pulse_info)]"
   ]
  },
  {
   "cell_type": "code",
   "execution_count": 21,
   "metadata": {},
   "outputs": [
    {
     "data": {
      "image/png": "[encoded data removed]",
      "text/plain": [
       "<Figure size 864x432 with 5 Axes>"
      ]
     },
     "metadata": {},
     "output_type": "display_data"
    }
   ],
   "source": [
    "gauss_compiler = MyCompiler(processor.num_qubits, processor.params, processor.pulse_dict)\n",
    "processor = MyProcessor(num_qubits, h_x=1.0, h_z=1.0, g=0.1, t1=300)\n",
    "gauss_compiler.gate_compiler[\"MYGATE\"] = mygate_compiler\n",
    "processor.pulse_mode = \"continuous\"\n",
    "tlist, coeff = processor.load_circuit(circuit, compiler=gauss_compiler);\n",
    "processor.plot_pulses();"
   ]
  },
  {
   "cell_type": "markdown",
   "metadata": {},
   "source": [
    "## Customize noise\n",
    "Apart from pre-defined noise such as T1, T2 noise and random noise in the control pulse amplitude (see this [notebook](qip-noisy-device-simulator.ipynb), one can also define customized noise. Here we will see two examples of customizing noise, one systematic (pulse-independent) noise and one pulse-dependent noise. \n",
    "\n",
    "To understand how noise is processed, we briefly introduced the data structure of the simulation framework. The control elements are stored as a list of `Pulse` objects in the Processor. In each Pulse contains the idea pulse, the control noise part and the decoherence part. For systematic noise, it is saved under the `Pulse` representation labelled `\"system\"`, which represents the intrinsic dynamics of the quantum system. For pulse-dependent noise, we will add them to their corresponding control `Pulse`. \n",
    "\n",
    "The definition of noise is realized by a subclass of `UserNoise`, including two methods: \n",
    "- the initialization method containing the property of the noise, such as frequency or amplitude.\n",
    "- the method `get_noisy_dynamics` that takes all the control pulse `pulses`, a dummy `Pulse` object representing systematic noise and the dimension of the system (here two qubits `[2,2]`).\n"
   ]
  },
  {
   "cell_type": "code",
   "execution_count": 22,
   "metadata": {},
   "outputs": [],
   "source": [
    "from qutip.qip.noise import Noise\n",
    "\n",
    "class Extral_decay(Noise):\n",
    "    def __init__(self, arg):\n",
    "        self.arg = arg\n",
    "        pass\n",
    "\n",
    "    def get_noisy_dynamics(self, dims, pulses, systematic_noise):\n",
    "        pass"
   ]
  },
  {
   "cell_type": "markdown",
   "metadata": {},
   "source": [
    "### Systematic noise\n",
    "\n",
    "We first show an example of systematic noise. Here, we introduce a ZZ crosstalk noise between neighbouring qubits with a constant strength. It is done in three steps:\n",
    "\n",
    "- Define the noise class.\n",
    "- Initialize the noise object with given coupling strength.\n",
    "- Define the Processor as usual and add the noise to the processor.\n",
    "\n",
    "In the following example, we check the fidelity of the same circuit of two X gates, but now with this additional noise."
   ]
  },
  {
   "cell_type": "code",
   "execution_count": 23,
   "metadata": {},
   "outputs": [],
   "source": [
    "circuit = QubitCircuit(2)\n",
    "circuit.add_gate(\"X\", targets=1)\n",
    "circuit.add_gate(\"X\", targets=0)"
   ]
  },
  {
   "cell_type": "code",
   "execution_count": 24,
   "metadata": {},
   "outputs": [],
   "source": [
    "from qutip import sigmaz\n",
    "from qutip.qip.operations import expand_operator\n",
    "from qutip.qip.pulse import Pulse\n",
    "from qutip.qip.noise import Noise\n",
    "class ZZ_crosstalk(Noise):\n",
    "    def __init__(self, strength):\n",
    "        self.strength = strength\n",
    "\n",
    "    def get_noisy_dynamics(self, dims, pulses, systematic_noise):\n",
    "        zz_operator = tensor([sigmaz(), sigmaz()])\n",
    "        for i in range(len(dims)-1):\n",
    "            systematic_noise.add_control_noise(\n",
    "                self.strength * zz_operator, targets=[i,i+1], tlist=None, coeff=True)  # constant, always 1\n",
    "\n",
    "crosstalk_noise = ZZ_crosstalk(strength=0.05)"
   ]
  },
  {
   "cell_type": "code",
   "execution_count": 25,
   "metadata": {},
   "outputs": [
    {
     "name": "stdout",
     "output_type": "stream",
     "text": [
      "Final fidelity with ZZ crosstalk: 0.9338019591934813\n"
     ]
    }
   ],
   "source": [
    "processor = MyProcessor(num_qubits=2, h_x=1.0, h_z=1.0, g=0.1)\n",
    "processor.add_noise(crosstalk_noise)  # The noise is added to the processor\n",
    "gauss_compiler = MyCompiler(processor.num_qubits, processor.params, processor.pulse_dict)\n",
    "tlist, coeff = processor.load_circuit(circuit, compiler=gauss_compiler);\n",
    "\n",
    "result = processor.run_state(init_state = basis([2,2], [0,0]))\n",
    "print(\"Final fidelity with ZZ crosstalk:\", fidelity(result.states[-1],basis([2,2],[1,1])))"
   ]
  },
  {
   "cell_type": "markdown",
   "metadata": {},
   "source": [
    "### Pulse dependent noise\n",
    "In this second example, we demonstrate how to add an additional amplitude damping channel on the qubits. The amplitude of this decay is linearly dependent on the control pulse \"sx\", i.e. whenever the pulse \"sx\" is turned on, the decoherence is also turned on. The corresponding destroy operator has a coefficient proportional to the control pulse amplitude. This noise can be added on top of the default T1, T2 noise."
   ]
  },
  {
   "cell_type": "code",
   "execution_count": 26,
   "metadata": {},
   "outputs": [],
   "source": [
    "from qutip.qip.pulse import Pulse\n",
    "class Extral_decay(Noise):\n",
    "    def __init__(self, ratio):\n",
    "        self.ratio = ratio\n",
    "\n",
    "    def get_noisy_dynamics(self, dims, pulses, systematic_noise):\n",
    "        from qutip import destroy\n",
    "        op = destroy(2)\n",
    "        for pulse in pulses:   # iterate for all pulses\n",
    "            if \"sx\" in pulse.label and pulse.coeff is not None:   # if it is a sigma x pulse and is not empty\n",
    "                pulse.add_lindblad_noise(op, targets=pulse.targets, tlist=pulse.tlist, coeff=self.ratio * pulse.coeff)\n",
    "                # One can also use add_control_noise here to add addtional hamiltonian as noise (see next example).\n",
    "\n",
    "extral_decay = Extral_decay(0.3)"
   ]
  },
  {
   "cell_type": "code",
   "execution_count": 27,
   "metadata": {},
   "outputs": [
    {
     "name": "stdout",
     "output_type": "stream",
     "text": [
      "Final fidelity with pulse dependent decoherence: 0.9914445928611332\n"
     ]
    }
   ],
   "source": [
    "processor = MyProcessor(num_qubits, h_x=1.0, h_z=1.0, g=0.1)\n",
    "processor.add_noise(extral_decay)\n",
    "gauss_compiler = MyCompiler(processor.num_qubits, processor.params, processor.pulse_dict)\n",
    "tlist, coeff = processor.load_circuit(circuit, compiler=gauss_compiler);\n",
    "\n",
    "result = processor.run_state(init_state = basis([2,2], [0,0]))\n",
    "print(\"Final fidelity with pulse dependent decoherence:\", fidelity(result.states[-1],basis([2,2],[1,1])))"
   ]
  },
  {
   "cell_type": "code",
   "execution_count": 1,
   "metadata": {},
   "outputs": [
    {
     "data": {
      "text/html": [
       "<table><tr><th>Software</th><th>Version</th></tr><tr><td>QuTiP</td><td>4.6.0+c003ff5</td></tr><tr><td>Numpy</td><td>1.20.1</td></tr><tr><td>SciPy</td><td>1.5.3</td></tr><tr><td>matplotlib</td><td>3.3.0</td></tr><tr><td>Cython</td><td>0.29.21</td></tr><tr><td>Number of CPUs</td><td>12</td></tr><tr><td>BLAS Info</td><td>Generic</td></tr><tr><td>IPython</td><td>7.16.1</td></tr><tr><td>Python</td><td>3.8.6 | packaged by conda-forge | (default, Oct  7 2020, 18:22:52) [MSC v.1916 64 bit (AMD64)]</td></tr><tr><td>OS</td><td>nt [win32]</td></tr><tr><td colspan='2'>Mon Apr 12 20:01:38 2021 W. Europe Daylight Time</td></tr></table>"
      ],
      "text/plain": [
       "<IPython.core.display.HTML object>"
      ]
     },
     "execution_count": 1,
     "metadata": {},
     "output_type": "execute_result"
    }
   ],
   "source": [
    "from qutip.ipynbtools import version_table\n",
    "version_table()"
   ]
  }
 ],
 "metadata": {
  "kernelspec": {
   "display_name": "Python 3",
   "language": "python",
   "name": "python3"
  },
  "language_info": {
   "codemirror_mode": {
    "name": "ipython",
    "version": 3
   },
   "file_extension": ".py",
   "mimetype": "text/x-python",
   "name": "python",
   "nbconvert_exporter": "python",
   "pygments_lexer": "ipython3",
   "version": "3.8.6"
  }
 },
 "nbformat": 4,
 "nbformat_minor": 4
}
