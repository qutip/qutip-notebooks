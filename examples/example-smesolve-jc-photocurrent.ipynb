{
 "metadata": {
  "name": "",
  "signature": "sha256:42b8b1d88ba4feadad5479b2ffcca07aaee80ea6d873e4c51ee511ee76fe96e8"
 },
 "nbformat": 3,
 "nbformat_minor": 0,
 "worksheets": [
  {
   "cells": [
    {
     "cell_type": "heading",
     "level": 1,
     "metadata": {},
     "source": [
      "Stochastic photo-current detection in a JC model"
     ]
    },
    {
     "cell_type": "heading",
     "level": 2,
     "metadata": {},
     "source": [
      "Mixing stochastic and deterministic master equations"
     ]
    },
    {
     "cell_type": "markdown",
     "metadata": {},
     "source": [
      "Copyright (C) 2011 and later, Paul D. Nation & Robert J. Johansson"
     ]
    },
    {
     "cell_type": "code",
     "collapsed": false,
     "input": [
      "%matplotlib inline\n",
      "import matplotlib.pyplot as plt"
     ],
     "language": "python",
     "metadata": {},
     "outputs": [],
     "prompt_number": 1
    },
    {
     "cell_type": "code",
     "collapsed": true,
     "input": [
      "import numpy as np\n",
      "import qutip.settings \n",
      "from qutip import *"
     ],
     "language": "python",
     "metadata": {},
     "outputs": [],
     "prompt_number": 2
    },
    {
     "cell_type": "code",
     "collapsed": false,
     "input": [
      "from qutip.ipynbtools import HTMLProgressBar"
     ],
     "language": "python",
     "metadata": {},
     "outputs": [],
     "prompt_number": 3
    },
    {
     "cell_type": "code",
     "collapsed": false,
     "input": [
      "from matplotlib import rcParams\n",
      "rcParams['font.family'] = 'STIXGeneral'\n",
      "rcParams['mathtext.fontset'] = 'stix'\n",
      "rcParams['font.size'] = '14'"
     ],
     "language": "python",
     "metadata": {},
     "outputs": [],
     "prompt_number": 4
    },
    {
     "cell_type": "code",
     "collapsed": false,
     "input": [
      "N = 15\n",
      "w0 = 1.0 * 2 * np.pi\n",
      "g = 0.2 * 2 * np.pi\n",
      "times = np.linspace(0, 15, 150)\n",
      "dt = times[1] - times[0]\n",
      "gamma = 0.01\n",
      "kappa = 0.1\n",
      "ntraj = 150"
     ],
     "language": "python",
     "metadata": {},
     "outputs": [],
     "prompt_number": 5
    },
    {
     "cell_type": "code",
     "collapsed": false,
     "input": [
      "a = tensor(destroy(N), identity(2))\n",
      "sm = tensor(identity(N), destroy(2))"
     ],
     "language": "python",
     "metadata": {},
     "outputs": [],
     "prompt_number": 6
    },
    {
     "cell_type": "code",
     "collapsed": false,
     "input": [
      "H = w0 * a.dag() * a + w0 * sm.dag() * sm + g * (sm * a.dag() + sm.dag() * a)"
     ],
     "language": "python",
     "metadata": {},
     "outputs": [],
     "prompt_number": 7
    },
    {
     "cell_type": "code",
     "collapsed": false,
     "input": [
      "rho0 = tensor(fock(N, 5), fock(2, 0))"
     ],
     "language": "python",
     "metadata": {},
     "outputs": [],
     "prompt_number": 8
    },
    {
     "cell_type": "code",
     "collapsed": false,
     "input": [
      "e_ops = [a.dag() * a, a + a.dag(), sm.dag() * sm]"
     ],
     "language": "python",
     "metadata": {},
     "outputs": [],
     "prompt_number": 9
    },
    {
     "cell_type": "heading",
     "level": 3,
     "metadata": {},
     "source": [
      "Highly efficient detection"
     ]
    },
    {
     "cell_type": "code",
     "collapsed": false,
     "input": [
      "c_ops = [np.sqrt(gamma) * sm]  # collapse operator for qubit\n",
      "sc_ops = [np.sqrt(kappa) * a]  # stochastic collapse for resonator"
     ],
     "language": "python",
     "metadata": {},
     "outputs": [],
     "prompt_number": 10
    },
    {
     "cell_type": "code",
     "collapsed": false,
     "input": [
      "result_ref = mesolve(H, rho0, times, c_ops+sc_ops, e_ops)"
     ],
     "language": "python",
     "metadata": {},
     "outputs": [],
     "prompt_number": 11
    },
    {
     "cell_type": "code",
     "collapsed": false,
     "input": [
      "result1 = smesolve(H, rho0, times, c_ops=c_ops, sc_ops=sc_ops, e_ops=e_ops, \n",
      "                   ntraj=1, nsubsteps=100, method='photocurrent',\n",
      "                   store_measurement=True,\n",
      "                   options=Options(store_states=True))"
     ],
     "language": "python",
     "metadata": {},
     "outputs": [
      {
       "output_type": "stream",
       "stream": "stdout",
       "text": [
        "Total run time:   7.21s\n"
       ]
      }
     ],
     "prompt_number": 12
    },
    {
     "cell_type": "markdown",
     "metadata": {},
     "source": [
      "Run the `smesolve` solver in parallel by passing the keyword argument `map_func=parallel_map`:"
     ]
    },
    {
     "cell_type": "code",
     "collapsed": false,
     "input": [
      "result2 = smesolve(H, rho0, times, c_ops=c_ops, sc_ops=sc_ops, e_ops=e_ops, \n",
      "                   ntraj=ntraj, nsubsteps=100, method='photocurrent',\n",
      "                   store_measurement=True,\n",
      "                   options=Options(store_states=True),\n",
      "                   progress_bar=HTMLProgressBar(),\n",
      "                   map_func=parallel_map)"
     ],
     "language": "python",
     "metadata": {},
     "outputs": [
      {
       "html": [
        "<div style=\"border: 2px solid grey; width: 600px\">\n",
        "  <div id=\"d0b08e12-9f43-4f49-900a-3f95e9b10ca7\" style=\"background-color: rgba(121,195,106,0.75); width:0%\">&nbsp;</div>\n",
        "</div>\n",
        "<p id=\"6be1095b-7fc8-4319-a70a-ebda14915596\"></p>\n"
       ],
       "metadata": {},
       "output_type": "display_data",
       "text": [
        "<IPython.core.display.HTML at 0x7f66a7d4e8d0>"
       ]
      },
      {
       "javascript": [
        "$('div#d0b08e12-9f43-4f49-900a-3f95e9b10ca7').width('1%');$('p#6be1095b-7fc8-4319-a70a-ebda14915596').text('Elapsed time:   7.79s. Est. remaining time: 00:00:09:36.');"
       ],
       "metadata": {},
       "output_type": "display_data",
       "text": [
        "<IPython.core.display.Javascript at 0x7f66a7cb8c18>"
       ]
      },
      {
       "javascript": [
        "$('div#d0b08e12-9f43-4f49-900a-3f95e9b10ca7').width('2%');$('p#6be1095b-7fc8-4319-a70a-ebda14915596').text('Elapsed time:   8.09s. Est. remaining time: 00:00:06:36.');"
       ],
       "metadata": {},
       "output_type": "display_data",
       "text": [
        "<IPython.core.display.Javascript at 0x7f66a7cb8cf8>"
       ]
      },
      {
       "javascript": [
        "$('div#d0b08e12-9f43-4f49-900a-3f95e9b10ca7').width('3%');$('p#6be1095b-7fc8-4319-a70a-ebda14915596').text('Elapsed time:   8.29s. Est. remaining time: 00:00:04:00.');"
       ],
       "metadata": {},
       "output_type": "display_data",
       "text": [
        "<IPython.core.display.Javascript at 0x7f66a7cb8ac8>"
       ]
      },
      {
       "javascript": [
        "$('div#d0b08e12-9f43-4f49-900a-3f95e9b10ca7').width('4%');$('p#6be1095b-7fc8-4319-a70a-ebda14915596').text('Elapsed time:   8.47s. Est. remaining time: 00:00:03:23.');"
       ],
       "metadata": {},
       "output_type": "display_data",
       "text": [
        "<IPython.core.display.Javascript at 0x7f66a7cb8e80>"
       ]
      },
      {
       "javascript": [
        "$('div#d0b08e12-9f43-4f49-900a-3f95e9b10ca7').width('5%');$('p#6be1095b-7fc8-4319-a70a-ebda14915596').text('Elapsed time:   8.76s. Est. remaining time: 00:00:02:35.');"
       ],
       "metadata": {},
       "output_type": "display_data",
       "text": [
        "<IPython.core.display.Javascript at 0x7f66a7cce048>"
       ]
      },
      {
       "javascript": [
        "$('div#d0b08e12-9f43-4f49-900a-3f95e9b10ca7').width('6%');$('p#6be1095b-7fc8-4319-a70a-ebda14915596').text('Elapsed time:   8.81s. Est. remaining time: 00:00:02:17.');"
       ],
       "metadata": {},
       "output_type": "display_data",
       "text": [
        "<IPython.core.display.Javascript at 0x7f66a6438438>"
       ]
      },
      {
       "javascript": [
        "$('div#d0b08e12-9f43-4f49-900a-3f95e9b10ca7').width('7%');$('p#6be1095b-7fc8-4319-a70a-ebda14915596').text('Elapsed time:   9.48s. Est. remaining time: 00:00:01:59.');"
       ],
       "metadata": {},
       "output_type": "display_data",
       "text": [
        "<IPython.core.display.Javascript at 0x7f66a6488be0>"
       ]
      },
      {
       "javascript": [
        "$('div#d0b08e12-9f43-4f49-900a-3f95e9b10ca7').width('8%');$('p#6be1095b-7fc8-4319-a70a-ebda14915596').text('Elapsed time:   9.81s. Est. remaining time: 00:00:01:52.');"
       ],
       "metadata": {},
       "output_type": "display_data",
       "text": [
        "<IPython.core.display.Javascript at 0x7f66a6488be0>"
       ]
      },
      {
       "javascript": [
        "$('div#d0b08e12-9f43-4f49-900a-3f95e9b10ca7').width('9%');$('p#6be1095b-7fc8-4319-a70a-ebda14915596').text('Elapsed time:  15.89s. Est. remaining time: 00:00:02:34.');"
       ],
       "metadata": {},
       "output_type": "display_data",
       "text": [
        "<IPython.core.display.Javascript at 0x7f66a6488be0>"
       ]
      },
      {
       "javascript": [
        "$('div#d0b08e12-9f43-4f49-900a-3f95e9b10ca7').width('10%');$('p#6be1095b-7fc8-4319-a70a-ebda14915596').text('Elapsed time:  16.08s. Est. remaining time: 00:00:02:24.');"
       ],
       "metadata": {},
       "output_type": "display_data",
       "text": [
        "<IPython.core.display.Javascript at 0x7f66a6488be0>"
       ]
      },
      {
       "javascript": [
        "$('div#d0b08e12-9f43-4f49-900a-3f95e9b10ca7').width('11%');$('p#6be1095b-7fc8-4319-a70a-ebda14915596').text('Elapsed time:  16.83s. Est. remaining time: 00:00:02:11.');"
       ],
       "metadata": {},
       "output_type": "display_data",
       "text": [
        "<IPython.core.display.Javascript at 0x7f66a63a6828>"
       ]
      },
      {
       "javascript": [
        "$('div#d0b08e12-9f43-4f49-900a-3f95e9b10ca7').width('12%');$('p#6be1095b-7fc8-4319-a70a-ebda14915596').text('Elapsed time:  16.98s. Est. remaining time: 00:00:02:04.');"
       ],
       "metadata": {},
       "output_type": "display_data",
       "text": [
        "<IPython.core.display.Javascript at 0x7f66a63b0048>"
       ]
      },
      {
       "javascript": [
        "$('div#d0b08e12-9f43-4f49-900a-3f95e9b10ca7').width('13%');$('p#6be1095b-7fc8-4319-a70a-ebda14915596').text('Elapsed time:  17.19s. Est. remaining time: 00:00:01:51.');"
       ],
       "metadata": {},
       "output_type": "display_data",
       "text": [
        "<IPython.core.display.Javascript at 0x7f66a6388048>"
       ]
      },
      {
       "javascript": [
        "$('div#d0b08e12-9f43-4f49-900a-3f95e9b10ca7').width('14%');$('p#6be1095b-7fc8-4319-a70a-ebda14915596').text('Elapsed time:  17.79s. Est. remaining time: 00:00:01:49.');"
       ],
       "metadata": {},
       "output_type": "display_data",
       "text": [
        "<IPython.core.display.Javascript at 0x7f66a6318b70>"
       ]
      },
      {
       "javascript": [
        "$('div#d0b08e12-9f43-4f49-900a-3f95e9b10ca7').width('15%');$('p#6be1095b-7fc8-4319-a70a-ebda14915596').text('Elapsed time:  18.12s. Est. remaining time: 00:00:01:40.');"
       ],
       "metadata": {},
       "output_type": "display_data",
       "text": [
        "<IPython.core.display.Javascript at 0x7f66a62a5390>"
       ]
      },
      {
       "javascript": [
        "$('div#d0b08e12-9f43-4f49-900a-3f95e9b10ca7').width('16%');$('p#6be1095b-7fc8-4319-a70a-ebda14915596').text('Elapsed time:  18.26s. Est. remaining time: 00:00:01:35.');"
       ],
       "metadata": {},
       "output_type": "display_data",
       "text": [
        "<IPython.core.display.Javascript at 0x7f66a62a5390>"
       ]
      },
      {
       "javascript": [
        "$('div#d0b08e12-9f43-4f49-900a-3f95e9b10ca7').width('17%');$('p#6be1095b-7fc8-4319-a70a-ebda14915596').text('Elapsed time:  24.47s. Est. remaining time: 00:00:01:56.');"
       ],
       "metadata": {},
       "output_type": "display_data",
       "text": [
        "<IPython.core.display.Javascript at 0x7f66a634a438>"
       ]
      },
      {
       "javascript": [
        "$('div#d0b08e12-9f43-4f49-900a-3f95e9b10ca7').width('18%');$('p#6be1095b-7fc8-4319-a70a-ebda14915596').text('Elapsed time:  24.52s. Est. remaining time: 00:00:01:51.');"
       ],
       "metadata": {},
       "output_type": "display_data",
       "text": [
        "<IPython.core.display.Javascript at 0x7f66a634a438>"
       ]
      },
      {
       "javascript": [
        "$('div#d0b08e12-9f43-4f49-900a-3f95e9b10ca7').width('19%');$('p#6be1095b-7fc8-4319-a70a-ebda14915596').text('Elapsed time:  24.86s. Est. remaining time: 00:00:01:43.');"
       ],
       "metadata": {},
       "output_type": "display_data",
       "text": [
        "<IPython.core.display.Javascript at 0x7f66a634a438>"
       ]
      },
      {
       "javascript": [
        "$('div#d0b08e12-9f43-4f49-900a-3f95e9b10ca7').width('20%');$('p#6be1095b-7fc8-4319-a70a-ebda14915596').text('Elapsed time:  25.36s. Est. remaining time: 00:00:01:41.');"
       ],
       "metadata": {},
       "output_type": "display_data",
       "text": [
        "<IPython.core.display.Javascript at 0x7f66a62b9828>"
       ]
      },
      {
       "javascript": [
        "$('div#d0b08e12-9f43-4f49-900a-3f95e9b10ca7').width('21%');$('p#6be1095b-7fc8-4319-a70a-ebda14915596').text('Elapsed time:  25.79s. Est. remaining time: 00:00:01:35.');"
       ],
       "metadata": {},
       "output_type": "display_data",
       "text": [
        "<IPython.core.display.Javascript at 0x7f66a623b048>"
       ]
      },
      {
       "javascript": [
        "$('div#d0b08e12-9f43-4f49-900a-3f95e9b10ca7').width('22%');$('p#6be1095b-7fc8-4319-a70a-ebda14915596').text('Elapsed time:  26.03s. Est. remaining time: 00:00:01:32.');"
       ],
       "metadata": {},
       "output_type": "display_data",
       "text": [
        "<IPython.core.display.Javascript at 0x7f66a6214828>"
       ]
      },
      {
       "javascript": [
        "$('div#d0b08e12-9f43-4f49-900a-3f95e9b10ca7').width('23%');$('p#6be1095b-7fc8-4319-a70a-ebda14915596').text('Elapsed time:  26.16s. Est. remaining time: 00:00:01:25.');"
       ],
       "metadata": {},
       "output_type": "display_data",
       "text": [
        "<IPython.core.display.Javascript at 0x7f66a61b6390>"
       ]
      },
      {
       "javascript": [
        "$('div#d0b08e12-9f43-4f49-900a-3f95e9b10ca7').width('24%');$('p#6be1095b-7fc8-4319-a70a-ebda14915596').text('Elapsed time:  26.81s. Est. remaining time: 00:00:01:24.');"
       ],
       "metadata": {},
       "output_type": "display_data",
       "text": [
        "<IPython.core.display.Javascript at 0x7f66a61b6390>"
       ]
      },
      {
       "javascript": [
        "$('div#d0b08e12-9f43-4f49-900a-3f95e9b10ca7').width('25%');$('p#6be1095b-7fc8-4319-a70a-ebda14915596').text('Elapsed time:  32.25s. Est. remaining time: 00:00:01:35.');"
       ],
       "metadata": {},
       "output_type": "display_data",
       "text": [
        "<IPython.core.display.Javascript at 0x7f66a61da438>"
       ]
      },
      {
       "javascript": [
        "$('div#d0b08e12-9f43-4f49-900a-3f95e9b10ca7').width('26%');$('p#6be1095b-7fc8-4319-a70a-ebda14915596').text('Elapsed time:  33.09s. Est. remaining time: 00:00:01:34.');"
       ],
       "metadata": {},
       "output_type": "display_data",
       "text": [
        "<IPython.core.display.Javascript at 0x7f66a61da438>"
       ]
      },
      {
       "javascript": [
        "$('div#d0b08e12-9f43-4f49-900a-3f95e9b10ca7').width('27%');$('p#6be1095b-7fc8-4319-a70a-ebda14915596').text('Elapsed time:  33.55s. Est. remaining time: 00:00:01:29.');"
       ],
       "metadata": {},
       "output_type": "display_data",
       "text": [
        "<IPython.core.display.Javascript at 0x7f66a61da438>"
       ]
      },
      {
       "javascript": [
        "$('div#d0b08e12-9f43-4f49-900a-3f95e9b10ca7').width('28%');$('p#6be1095b-7fc8-4319-a70a-ebda14915596').text('Elapsed time:  33.59s. Est. remaining time: 00:00:01:26.');"
       ],
       "metadata": {},
       "output_type": "display_data",
       "text": [
        "<IPython.core.display.Javascript at 0x7f66a61cb828>"
       ]
      },
      {
       "javascript": [
        "$('div#d0b08e12-9f43-4f49-900a-3f95e9b10ca7').width('29%');$('p#6be1095b-7fc8-4319-a70a-ebda14915596').text('Elapsed time:  34.18s. Est. remaining time: 00:00:01:22.');"
       ],
       "metadata": {},
       "output_type": "display_data",
       "text": [
        "<IPython.core.display.Javascript at 0x7f66a618c048>"
       ]
      },
      {
       "javascript": [
        "$('div#d0b08e12-9f43-4f49-900a-3f95e9b10ca7').width('30%');$('p#6be1095b-7fc8-4319-a70a-ebda14915596').text('Elapsed time:  34.88s. Est. remaining time: 00:00:01:21.');"
       ],
       "metadata": {},
       "output_type": "display_data",
       "text": [
        "<IPython.core.display.Javascript at 0x7f66a6388048>"
       ]
      },
      {
       "javascript": [
        "$('div#d0b08e12-9f43-4f49-900a-3f95e9b10ca7').width('31%');$('p#6be1095b-7fc8-4319-a70a-ebda14915596').text('Elapsed time:  35.08s. Est. remaining time: 00:00:01:16.');"
       ],
       "metadata": {},
       "output_type": "display_data",
       "text": [
        "<IPython.core.display.Javascript at 0x7f66a63b0048>"
       ]
      },
      {
       "javascript": [
        "$('div#d0b08e12-9f43-4f49-900a-3f95e9b10ca7').width('32%');$('p#6be1095b-7fc8-4319-a70a-ebda14915596').text('Elapsed time:  35.45s. Est. remaining time: 00:00:01:15.');"
       ],
       "metadata": {},
       "output_type": "display_data",
       "text": [
        "<IPython.core.display.Javascript at 0x7f66a60eb438>"
       ]
      },
      {
       "javascript": [
        "$('div#d0b08e12-9f43-4f49-900a-3f95e9b10ca7').width('33%');$('p#6be1095b-7fc8-4319-a70a-ebda14915596').text('Elapsed time:  40.57s. Est. remaining time: 00:00:01:21.');"
       ],
       "metadata": {},
       "output_type": "display_data",
       "text": [
        "<IPython.core.display.Javascript at 0x7f66a618c048>"
       ]
      },
      {
       "javascript": [
        "$('div#d0b08e12-9f43-4f49-900a-3f95e9b10ca7').width('34%');$('p#6be1095b-7fc8-4319-a70a-ebda14915596').text('Elapsed time:  41.70s. Est. remaining time: 00:00:01:20.');"
       ],
       "metadata": {},
       "output_type": "display_data",
       "text": [
        "<IPython.core.display.Javascript at 0x7f66a60a8f60>"
       ]
      },
      {
       "javascript": [
        "$('div#d0b08e12-9f43-4f49-900a-3f95e9b10ca7').width('35%');$('p#6be1095b-7fc8-4319-a70a-ebda14915596').text('Elapsed time:  42.18s. Est. remaining time: 00:00:01:17.');"
       ],
       "metadata": {},
       "output_type": "display_data",
       "text": [
        "<IPython.core.display.Javascript at 0x7f66a5fdff98>"
       ]
      },
      {
       "javascript": [
        "$('div#d0b08e12-9f43-4f49-900a-3f95e9b10ca7').width('36%');$('p#6be1095b-7fc8-4319-a70a-ebda14915596').text('Elapsed time:  42.20s. Est. remaining time: 00:00:01:15.');"
       ],
       "metadata": {},
       "output_type": "display_data",
       "text": [
        "<IPython.core.display.Javascript at 0x7f66a5fdff98>"
       ]
      },
      {
       "javascript": [
        "$('div#d0b08e12-9f43-4f49-900a-3f95e9b10ca7').width('37%');$('p#6be1095b-7fc8-4319-a70a-ebda14915596').text('Elapsed time:  42.68s. Est. remaining time: 00:00:01:11.');"
       ],
       "metadata": {},
       "output_type": "display_data",
       "text": [
        "<IPython.core.display.Javascript at 0x7f66a5fdff98>"
       ]
      },
      {
       "javascript": [
        "$('div#d0b08e12-9f43-4f49-900a-3f95e9b10ca7').width('38%');$('p#6be1095b-7fc8-4319-a70a-ebda14915596').text('Elapsed time:  42.89s. Est. remaining time: 00:00:01:09.');"
       ],
       "metadata": {},
       "output_type": "display_data",
       "text": [
        "<IPython.core.display.Javascript at 0x7f66a5fdff98>"
       ]
      },
      {
       "javascript": [
        "$('div#d0b08e12-9f43-4f49-900a-3f95e9b10ca7').width('39%');$('p#6be1095b-7fc8-4319-a70a-ebda14915596').text('Elapsed time:  43.83s. Est. remaining time: 00:00:01:07.');"
       ],
       "metadata": {},
       "output_type": "display_data",
       "text": [
        "<IPython.core.display.Javascript at 0x7f66a6481400>"
       ]
      },
      {
       "javascript": [
        "$('div#d0b08e12-9f43-4f49-900a-3f95e9b10ca7').width('40%');$('p#6be1095b-7fc8-4319-a70a-ebda14915596').text('Elapsed time:  43.94s. Est. remaining time: 00:00:01:05.');"
       ],
       "metadata": {},
       "output_type": "display_data",
       "text": [
        "<IPython.core.display.Javascript at 0x7f66a6481400>"
       ]
      },
      {
       "javascript": [
        "$('div#d0b08e12-9f43-4f49-900a-3f95e9b10ca7').width('41%');$('p#6be1095b-7fc8-4319-a70a-ebda14915596').text('Elapsed time:  49.09s. Est. remaining time: 00:00:01:09.');"
       ],
       "metadata": {},
       "output_type": "display_data",
       "text": [
        "<IPython.core.display.Javascript at 0x7f66a5f6e2e8>"
       ]
      },
      {
       "javascript": [
        "$('div#d0b08e12-9f43-4f49-900a-3f95e9b10ca7').width('42%');$('p#6be1095b-7fc8-4319-a70a-ebda14915596').text('Elapsed time:  50.11s. Est. remaining time: 00:00:01:09.');"
       ],
       "metadata": {},
       "output_type": "display_data",
       "text": [
        "<IPython.core.display.Javascript at 0x7f66a5f6e2e8>"
       ]
      },
      {
       "javascript": [
        "$('div#d0b08e12-9f43-4f49-900a-3f95e9b10ca7').width('43%');$('p#6be1095b-7fc8-4319-a70a-ebda14915596').text('Elapsed time:  50.53s. Est. remaining time: 00:00:01:06.');"
       ],
       "metadata": {},
       "output_type": "display_data",
       "text": [
        "<IPython.core.display.Javascript at 0x7f66a5f6e2e8>"
       ]
      },
      {
       "javascript": [
        "$('div#d0b08e12-9f43-4f49-900a-3f95e9b10ca7').width('44%');$('p#6be1095b-7fc8-4319-a70a-ebda14915596').text('Elapsed time:  50.55s. Est. remaining time: 00:00:01:04.');"
       ],
       "metadata": {},
       "output_type": "display_data",
       "text": [
        "<IPython.core.display.Javascript at 0x7f66a5f6e2e8>"
       ]
      },
      {
       "javascript": [
        "$('div#d0b08e12-9f43-4f49-900a-3f95e9b10ca7').width('45%');$('p#6be1095b-7fc8-4319-a70a-ebda14915596').text('Elapsed time:  51.53s. Est. remaining time: 00:00:01:02.');"
       ],
       "metadata": {},
       "output_type": "display_data",
       "text": [
        "<IPython.core.display.Javascript at 0x7f66a5f6e2e8>"
       ]
      },
      {
       "javascript": [
        "$('div#d0b08e12-9f43-4f49-900a-3f95e9b10ca7').width('46%');$('p#6be1095b-7fc8-4319-a70a-ebda14915596').text('Elapsed time:  51.65s. Est. remaining time: 00:00:01:00.');"
       ],
       "metadata": {},
       "output_type": "display_data",
       "text": [
        "<IPython.core.display.Javascript at 0x7f66a5f6e2e8>"
       ]
      },
      {
       "javascript": [
        "$('div#d0b08e12-9f43-4f49-900a-3f95e9b10ca7').width('47%');$('p#6be1095b-7fc8-4319-a70a-ebda14915596').text('Elapsed time:  52.22s. Est. remaining time: 00:00:00:58.');"
       ],
       "metadata": {},
       "output_type": "display_data",
       "text": [
        "<IPython.core.display.Javascript at 0x7f66a5eb86d8>"
       ]
      },
      {
       "javascript": [
        "$('div#d0b08e12-9f43-4f49-900a-3f95e9b10ca7').width('48%');$('p#6be1095b-7fc8-4319-a70a-ebda14915596').text('Elapsed time:  52.55s. Est. remaining time: 00:00:00:56.');"
       ],
       "metadata": {},
       "output_type": "display_data",
       "text": [
        "<IPython.core.display.Javascript at 0x7f66a5eb86d8>"
       ]
      },
      {
       "javascript": [
        "$('div#d0b08e12-9f43-4f49-900a-3f95e9b10ca7').width('49%');$('p#6be1095b-7fc8-4319-a70a-ebda14915596').text('Elapsed time:  57.64s. Est. remaining time: 00:00:00:59.');"
       ],
       "metadata": {},
       "output_type": "display_data",
       "text": [
        "<IPython.core.display.Javascript at 0x7f66a5f08eb8>"
       ]
      },
      {
       "javascript": [
        "$('div#d0b08e12-9f43-4f49-900a-3f95e9b10ca7').width('50%');$('p#6be1095b-7fc8-4319-a70a-ebda14915596').text('Elapsed time:  58.43s. Est. remaining time: 00:00:00:58.');"
       ],
       "metadata": {},
       "output_type": "display_data",
       "text": [
        "<IPython.core.display.Javascript at 0x7f66a5f08eb8>"
       ]
      },
      {
       "javascript": [
        "$('div#d0b08e12-9f43-4f49-900a-3f95e9b10ca7').width('51%');$('p#6be1095b-7fc8-4319-a70a-ebda14915596').text('Elapsed time:  59.18s. Est. remaining time: 00:00:00:56.');"
       ],
       "metadata": {},
       "output_type": "display_data",
       "text": [
        "<IPython.core.display.Javascript at 0x7f66a5eceac8>"
       ]
      },
      {
       "javascript": [
        "$('div#d0b08e12-9f43-4f49-900a-3f95e9b10ca7').width('52%');$('p#6be1095b-7fc8-4319-a70a-ebda14915596').text('Elapsed time:  59.26s. Est. remaining time: 00:00:00:54.');"
       ],
       "metadata": {},
       "output_type": "display_data",
       "text": [
        "<IPython.core.display.Javascript at 0x7f66a5eceac8>"
       ]
      },
      {
       "javascript": [
        "$('div#d0b08e12-9f43-4f49-900a-3f95e9b10ca7').width('53%');$('p#6be1095b-7fc8-4319-a70a-ebda14915596').text('Elapsed time:  59.92s. Est. remaining time: 00:00:00:52.');"
       ],
       "metadata": {},
       "output_type": "display_data",
       "text": [
        "<IPython.core.display.Javascript at 0x7f66a5db42b0>"
       ]
      },
      {
       "javascript": [
        "$('div#d0b08e12-9f43-4f49-900a-3f95e9b10ca7').width('54%');$('p#6be1095b-7fc8-4319-a70a-ebda14915596').text('Elapsed time:  60.55s. Est. remaining time: 00:00:00:51.');"
       ],
       "metadata": {},
       "output_type": "display_data",
       "text": [
        "<IPython.core.display.Javascript at 0x7f66a5db42b0>"
       ]
      },
      {
       "javascript": [
        "$('div#d0b08e12-9f43-4f49-900a-3f95e9b10ca7').width('55%');$('p#6be1095b-7fc8-4319-a70a-ebda14915596').text('Elapsed time:  60.78s. Est. remaining time: 00:00:00:49.');"
       ],
       "metadata": {},
       "output_type": "display_data",
       "text": [
        "<IPython.core.display.Javascript at 0x7f66a5ef4ac8>"
       ]
      },
      {
       "javascript": [
        "$('div#d0b08e12-9f43-4f49-900a-3f95e9b10ca7').width('56%');$('p#6be1095b-7fc8-4319-a70a-ebda14915596').text('Elapsed time:  61.19s. Est. remaining time: 00:00:00:48.');"
       ],
       "metadata": {},
       "output_type": "display_data",
       "text": [
        "<IPython.core.display.Javascript at 0x7f66a5ef4ac8>"
       ]
      },
      {
       "javascript": [
        "$('div#d0b08e12-9f43-4f49-900a-3f95e9b10ca7').width('57%');$('p#6be1095b-7fc8-4319-a70a-ebda14915596').text('Elapsed time:  66.58s. Est. remaining time: 00:00:00:49.');"
       ],
       "metadata": {},
       "output_type": "display_data",
       "text": [
        "<IPython.core.display.Javascript at 0x7f66a5d98eb8>"
       ]
      },
      {
       "javascript": [
        "$('div#d0b08e12-9f43-4f49-900a-3f95e9b10ca7').width('58%');$('p#6be1095b-7fc8-4319-a70a-ebda14915596').text('Elapsed time:  67.22s. Est. remaining time: 00:00:00:47.');"
       ],
       "metadata": {},
       "output_type": "display_data",
       "text": [
        "<IPython.core.display.Javascript at 0x7f66a5d256d8>"
       ]
      },
      {
       "javascript": [
        "$('div#d0b08e12-9f43-4f49-900a-3f95e9b10ca7').width('59%');$('p#6be1095b-7fc8-4319-a70a-ebda14915596').text('Elapsed time:  67.48s. Est. remaining time: 00:00:00:46.');"
       ],
       "metadata": {},
       "output_type": "display_data",
       "text": [
        "<IPython.core.display.Javascript at 0x7f66a5d256d8>"
       ]
      },
      {
       "javascript": [
        "$('div#d0b08e12-9f43-4f49-900a-3f95e9b10ca7').width('60%');$('p#6be1095b-7fc8-4319-a70a-ebda14915596').text('Elapsed time:  67.94s. Est. remaining time: 00:00:00:45.');"
       ],
       "metadata": {},
       "output_type": "display_data",
       "text": [
        "<IPython.core.display.Javascript at 0x7f66a5d902e8>"
       ]
      },
      {
       "javascript": [
        "$('div#d0b08e12-9f43-4f49-900a-3f95e9b10ca7').width('61%');$('p#6be1095b-7fc8-4319-a70a-ebda14915596').text('Elapsed time:  68.36s. Est. remaining time: 00:00:00:43.');"
       ],
       "metadata": {},
       "output_type": "display_data",
       "text": [
        "<IPython.core.display.Javascript at 0x7f66a5d902e8>"
       ]
      },
      {
       "javascript": [
        "$('div#d0b08e12-9f43-4f49-900a-3f95e9b10ca7').width('62%');$('p#6be1095b-7fc8-4319-a70a-ebda14915596').text('Elapsed time:  68.79s. Est. remaining time: 00:00:00:42.');"
       ],
       "metadata": {},
       "output_type": "display_data",
       "text": [
        "<IPython.core.display.Javascript at 0x7f66a5d902e8>"
       ]
      },
      {
       "javascript": [
        "$('div#d0b08e12-9f43-4f49-900a-3f95e9b10ca7').width('63%');$('p#6be1095b-7fc8-4319-a70a-ebda14915596').text('Elapsed time:  69.13s. Est. remaining time: 00:00:00:40.');"
       ],
       "metadata": {},
       "output_type": "display_data",
       "text": [
        "<IPython.core.display.Javascript at 0x7f66a5c5b6d8>"
       ]
      },
      {
       "javascript": [
        "$('div#d0b08e12-9f43-4f49-900a-3f95e9b10ca7').width('64%');$('p#6be1095b-7fc8-4319-a70a-ebda14915596').text('Elapsed time:  69.69s. Est. remaining time: 00:00:00:39.');"
       ],
       "metadata": {},
       "output_type": "display_data",
       "text": [
        "<IPython.core.display.Javascript at 0x7f66a5c5b6d8>"
       ]
      },
      {
       "javascript": [
        "$('div#d0b08e12-9f43-4f49-900a-3f95e9b10ca7').width('65%');$('p#6be1095b-7fc8-4319-a70a-ebda14915596').text('Elapsed time:  75.02s. Est. remaining time: 00:00:00:39.');"
       ],
       "metadata": {},
       "output_type": "display_data",
       "text": [
        "<IPython.core.display.Javascript at 0x7f66a5c5b6d8>"
       ]
      },
      {
       "javascript": [
        "$('div#d0b08e12-9f43-4f49-900a-3f95e9b10ca7').width('66%');$('p#6be1095b-7fc8-4319-a70a-ebda14915596').text('Elapsed time:  75.31s. Est. remaining time: 00:00:00:38.');"
       ],
       "metadata": {},
       "output_type": "display_data",
       "text": [
        "<IPython.core.display.Javascript at 0x7f66a5c5b6d8>"
       ]
      },
      {
       "javascript": [
        "$('div#d0b08e12-9f43-4f49-900a-3f95e9b10ca7').width('67%');$('p#6be1095b-7fc8-4319-a70a-ebda14915596').text('Elapsed time:  76.33s. Est. remaining time: 00:00:00:37.');"
       ],
       "metadata": {},
       "output_type": "display_data",
       "text": [
        "<IPython.core.display.Javascript at 0x7f66a5c5b6d8>"
       ]
      },
      {
       "javascript": [
        "$('div#d0b08e12-9f43-4f49-900a-3f95e9b10ca7').width('68%');$('p#6be1095b-7fc8-4319-a70a-ebda14915596').text('Elapsed time:  76.47s. Est. remaining time: 00:00:00:35.');"
       ],
       "metadata": {},
       "output_type": "display_data",
       "text": [
        "<IPython.core.display.Javascript at 0x7f66a5c5b6d8>"
       ]
      },
      {
       "javascript": [
        "$('div#d0b08e12-9f43-4f49-900a-3f95e9b10ca7').width('69%');$('p#6be1095b-7fc8-4319-a70a-ebda14915596').text('Elapsed time:  77.05s. Est. remaining time: 00:00:00:34.');"
       ],
       "metadata": {},
       "output_type": "display_data",
       "text": [
        "<IPython.core.display.Javascript at 0x7f66a5ba7ac8>"
       ]
      },
      {
       "javascript": [
        "$('div#d0b08e12-9f43-4f49-900a-3f95e9b10ca7').width('70%');$('p#6be1095b-7fc8-4319-a70a-ebda14915596').text('Elapsed time:  77.33s. Est. remaining time: 00:00:00:33.');"
       ],
       "metadata": {},
       "output_type": "display_data",
       "text": [
        "<IPython.core.display.Javascript at 0x7f66a5ba7ac8>"
       ]
      },
      {
       "javascript": [
        "$('div#d0b08e12-9f43-4f49-900a-3f95e9b10ca7').width('71%');$('p#6be1095b-7fc8-4319-a70a-ebda14915596').text('Elapsed time:  77.79s. Est. remaining time: 00:00:00:31.');"
       ],
       "metadata": {},
       "output_type": "display_data",
       "text": [
        "<IPython.core.display.Javascript at 0x7f66a5ba7ac8>"
       ]
      },
      {
       "javascript": [
        "$('div#d0b08e12-9f43-4f49-900a-3f95e9b10ca7').width('72%');$('p#6be1095b-7fc8-4319-a70a-ebda14915596').text('Elapsed time:  78.56s. Est. remaining time: 00:00:00:30.');"
       ],
       "metadata": {},
       "output_type": "display_data",
       "text": [
        "<IPython.core.display.Javascript at 0x7f66a5ba7ac8>"
       ]
      },
      {
       "javascript": [
        "$('div#d0b08e12-9f43-4f49-900a-3f95e9b10ca7').width('73%');$('p#6be1095b-7fc8-4319-a70a-ebda14915596').text('Elapsed time:  82.79s. Est. remaining time: 00:00:00:30.');"
       ],
       "metadata": {},
       "output_type": "display_data",
       "text": [
        "<IPython.core.display.Javascript at 0x7f66a5ba7ac8>"
       ]
      },
      {
       "javascript": [
        "$('div#d0b08e12-9f43-4f49-900a-3f95e9b10ca7').width('74%');$('p#6be1095b-7fc8-4319-a70a-ebda14915596').text('Elapsed time:  83.00s. Est. remaining time: 00:00:00:29.');"
       ],
       "metadata": {},
       "output_type": "display_data",
       "text": [
        "<IPython.core.display.Javascript at 0x7f66a5ba7ac8>"
       ]
      },
      {
       "javascript": [
        "$('div#d0b08e12-9f43-4f49-900a-3f95e9b10ca7').width('75%');$('p#6be1095b-7fc8-4319-a70a-ebda14915596').text('Elapsed time:  84.65s. Est. remaining time: 00:00:00:27.');"
       ],
       "metadata": {},
       "output_type": "display_data",
       "text": [
        "<IPython.core.display.Javascript at 0x7f66a5af0eb8>"
       ]
      },
      {
       "javascript": [
        "$('div#d0b08e12-9f43-4f49-900a-3f95e9b10ca7').width('76%');$('p#6be1095b-7fc8-4319-a70a-ebda14915596').text('Elapsed time:  84.72s. Est. remaining time: 00:00:00:26.');"
       ],
       "metadata": {},
       "output_type": "display_data",
       "text": [
        "<IPython.core.display.Javascript at 0x7f66a5af0eb8>"
       ]
      },
      {
       "javascript": [
        "$('div#d0b08e12-9f43-4f49-900a-3f95e9b10ca7').width('77%');$('p#6be1095b-7fc8-4319-a70a-ebda14915596').text('Elapsed time:  85.26s. Est. remaining time: 00:00:00:24.');"
       ],
       "metadata": {},
       "output_type": "display_data",
       "text": [
        "<IPython.core.display.Javascript at 0x7f66a5ab8a90>"
       ]
      },
      {
       "javascript": [
        "$('div#d0b08e12-9f43-4f49-900a-3f95e9b10ca7').width('78%');$('p#6be1095b-7fc8-4319-a70a-ebda14915596').text('Elapsed time:  85.59s. Est. remaining time: 00:00:00:24.');"
       ],
       "metadata": {},
       "output_type": "display_data",
       "text": [
        "<IPython.core.display.Javascript at 0x7f66a5b476d8>"
       ]
      },
      {
       "javascript": [
        "$('div#d0b08e12-9f43-4f49-900a-3f95e9b10ca7').width('79%');$('p#6be1095b-7fc8-4319-a70a-ebda14915596').text('Elapsed time:  86.57s. Est. remaining time: 00:00:00:22.');"
       ],
       "metadata": {},
       "output_type": "display_data",
       "text": [
        "<IPython.core.display.Javascript at 0x7f66a5a682b0>"
       ]
      },
      {
       "javascript": [
        "$('div#d0b08e12-9f43-4f49-900a-3f95e9b10ca7').width('80%');$('p#6be1095b-7fc8-4319-a70a-ebda14915596').text('Elapsed time:  87.11s. Est. remaining time: 00:00:00:21.');"
       ],
       "metadata": {},
       "output_type": "display_data",
       "text": [
        "<IPython.core.display.Javascript at 0x7f66a5a682b0>"
       ]
      },
      {
       "javascript": [
        "$('div#d0b08e12-9f43-4f49-900a-3f95e9b10ca7').width('81%');$('p#6be1095b-7fc8-4319-a70a-ebda14915596').text('Elapsed time:  90.84s. Est. remaining time: 00:00:00:20.');"
       ],
       "metadata": {},
       "output_type": "display_data",
       "text": [
        "<IPython.core.display.Javascript at 0x7f66a5a432e8>"
       ]
      },
      {
       "javascript": [
        "$('div#d0b08e12-9f43-4f49-900a-3f95e9b10ca7').width('82%');$('p#6be1095b-7fc8-4319-a70a-ebda14915596').text('Elapsed time:  91.05s. Est. remaining time: 00:00:00:19.');"
       ],
       "metadata": {},
       "output_type": "display_data",
       "text": [
        "<IPython.core.display.Javascript at 0x7f66a5a432e8>"
       ]
      },
      {
       "javascript": [
        "$('div#d0b08e12-9f43-4f49-900a-3f95e9b10ca7').width('83%');$('p#6be1095b-7fc8-4319-a70a-ebda14915596').text('Elapsed time:  93.25s. Est. remaining time: 00:00:00:18.');"
       ],
       "metadata": {},
       "output_type": "display_data",
       "text": [
        "<IPython.core.display.Javascript at 0x7f66a5a02eb8>"
       ]
      },
      {
       "javascript": [
        "$('div#d0b08e12-9f43-4f49-900a-3f95e9b10ca7').width('84%');$('p#6be1095b-7fc8-4319-a70a-ebda14915596').text('Elapsed time:  93.60s. Est. remaining time: 00:00:00:17.');"
       ],
       "metadata": {},
       "output_type": "display_data",
       "text": [
        "<IPython.core.display.Javascript at 0x7f66a5a02eb8>"
       ]
      },
      {
       "javascript": [
        "$('div#d0b08e12-9f43-4f49-900a-3f95e9b10ca7').width('85%');$('p#6be1095b-7fc8-4319-a70a-ebda14915596').text('Elapsed time:  94.05s. Est. remaining time: 00:00:00:16.');"
       ],
       "metadata": {},
       "output_type": "display_data",
       "text": [
        "<IPython.core.display.Javascript at 0x7f66a59b26a0>"
       ]
      },
      {
       "javascript": [
        "$('div#d0b08e12-9f43-4f49-900a-3f95e9b10ca7').width('86%');$('p#6be1095b-7fc8-4319-a70a-ebda14915596').text('Elapsed time:  94.18s. Est. remaining time: 00:00:00:15.');"
       ],
       "metadata": {},
       "output_type": "display_data",
       "text": [
        "<IPython.core.display.Javascript at 0x7f66a59b26a0>"
       ]
      },
      {
       "javascript": [
        "$('div#d0b08e12-9f43-4f49-900a-3f95e9b10ca7').width('87%');$('p#6be1095b-7fc8-4319-a70a-ebda14915596').text('Elapsed time:  95.08s. Est. remaining time: 00:00:00:13.');"
       ],
       "metadata": {},
       "output_type": "display_data",
       "text": [
        "<IPython.core.display.Javascript at 0x7f66a59b26a0>"
       ]
      },
      {
       "javascript": [
        "$('div#d0b08e12-9f43-4f49-900a-3f95e9b10ca7').width('88%');$('p#6be1095b-7fc8-4319-a70a-ebda14915596').text('Elapsed time:  95.13s. Est. remaining time: 00:00:00:12.');"
       ],
       "metadata": {},
       "output_type": "display_data",
       "text": [
        "<IPython.core.display.Javascript at 0x7f66a59b26a0>"
       ]
      },
      {
       "javascript": [
        "$('div#d0b08e12-9f43-4f49-900a-3f95e9b10ca7').width('89%');$('p#6be1095b-7fc8-4319-a70a-ebda14915596').text('Elapsed time:  98.62s. Est. remaining time: 00:00:00:11.');"
       ],
       "metadata": {},
       "output_type": "display_data",
       "text": [
        "<IPython.core.display.Javascript at 0x7f66a59b26a0>"
       ]
      },
      {
       "javascript": [
        "$('div#d0b08e12-9f43-4f49-900a-3f95e9b10ca7').width('90%');$('p#6be1095b-7fc8-4319-a70a-ebda14915596').text('Elapsed time:  99.10s. Est. remaining time: 00:00:00:11.');"
       ],
       "metadata": {},
       "output_type": "display_data",
       "text": [
        "<IPython.core.display.Javascript at 0x7f66a59b26a0>"
       ]
      },
      {
       "javascript": [
        "$('div#d0b08e12-9f43-4f49-900a-3f95e9b10ca7').width('91%');$('p#6be1095b-7fc8-4319-a70a-ebda14915596').text('Elapsed time: 101.41s. Est. remaining time: 00:00:00:09.');"
       ],
       "metadata": {},
       "output_type": "display_data",
       "text": [
        "<IPython.core.display.Javascript at 0x7f66a5894eb8>"
       ]
      },
      {
       "javascript": [
        "$('div#d0b08e12-9f43-4f49-900a-3f95e9b10ca7').width('92%');$('p#6be1095b-7fc8-4319-a70a-ebda14915596').text('Elapsed time: 102.65s. Est. remaining time: 00:00:00:08.');"
       ],
       "metadata": {},
       "output_type": "display_data",
       "text": [
        "<IPython.core.display.Javascript at 0x7f66a58b0240>"
       ]
      },
      {
       "javascript": [
        "$('div#d0b08e12-9f43-4f49-900a-3f95e9b10ca7').width('93%');$('p#6be1095b-7fc8-4319-a70a-ebda14915596').text('Elapsed time: 103.07s. Est. remaining time: 00:00:00:07.');"
       ],
       "metadata": {},
       "output_type": "display_data",
       "text": [
        "<IPython.core.display.Javascript at 0x7f66a6488b70>"
       ]
      },
      {
       "javascript": [
        "$('div#d0b08e12-9f43-4f49-900a-3f95e9b10ca7').width('94%');$('p#6be1095b-7fc8-4319-a70a-ebda14915596').text('Elapsed time: 103.08s. Est. remaining time: 00:00:00:06.');"
       ],
       "metadata": {},
       "output_type": "display_data",
       "text": [
        "<IPython.core.display.Javascript at 0x7f66a6488b70>"
       ]
      },
      {
       "javascript": [
        "$('div#d0b08e12-9f43-4f49-900a-3f95e9b10ca7').width('95%');$('p#6be1095b-7fc8-4319-a70a-ebda14915596').text('Elapsed time: 103.51s. Est. remaining time: 00:00:00:05.');"
       ],
       "metadata": {},
       "output_type": "display_data",
       "text": [
        "<IPython.core.display.Javascript at 0x7f66a6488b70>"
       ]
      },
      {
       "javascript": [
        "$('div#d0b08e12-9f43-4f49-900a-3f95e9b10ca7').width('96%');$('p#6be1095b-7fc8-4319-a70a-ebda14915596').text('Elapsed time: 103.67s. Est. remaining time: 00:00:00:04.');"
       ],
       "metadata": {},
       "output_type": "display_data",
       "text": [
        "<IPython.core.display.Javascript at 0x7f66a6488b70>"
       ]
      },
      {
       "javascript": [
        "$('div#d0b08e12-9f43-4f49-900a-3f95e9b10ca7').width('97%');$('p#6be1095b-7fc8-4319-a70a-ebda14915596').text('Elapsed time: 106.23s. Est. remaining time: 00:00:00:02.');"
       ],
       "metadata": {},
       "output_type": "display_data",
       "text": [
        "<IPython.core.display.Javascript at 0x7f66a6488b70>"
       ]
      },
      {
       "javascript": [
        "$('div#d0b08e12-9f43-4f49-900a-3f95e9b10ca7').width('98%');$('p#6be1095b-7fc8-4319-a70a-ebda14915596').text('Elapsed time: 106.48s. Est. remaining time: 00:00:00:02.');"
       ],
       "metadata": {},
       "output_type": "display_data",
       "text": [
        "<IPython.core.display.Javascript at 0x7f66a6488b70>"
       ]
      },
      {
       "javascript": [
        "$('div#d0b08e12-9f43-4f49-900a-3f95e9b10ca7').width('99%');$('p#6be1095b-7fc8-4319-a70a-ebda14915596').text('Elapsed time: 108.76s. Est. remaining time: 00:00:00:00.');"
       ],
       "metadata": {},
       "output_type": "display_data",
       "text": [
        "<IPython.core.display.Javascript at 0x7f66a6488b70>"
       ]
      },
      {
       "javascript": [
        "$('div#d0b08e12-9f43-4f49-900a-3f95e9b10ca7').width('100%');$('p#6be1095b-7fc8-4319-a70a-ebda14915596').text('Elapsed time: 109.91s. Est. remaining time: 00:00:00:00.');"
       ],
       "metadata": {},
       "output_type": "display_data",
       "text": [
        "<IPython.core.display.Javascript at 0x7f66a6488b70>"
       ]
      },
      {
       "javascript": [
        "$('div#d0b08e12-9f43-4f49-900a-3f95e9b10ca7').width('100%');$('p#6be1095b-7fc8-4319-a70a-ebda14915596').text('Elapsed time: 110.01s');"
       ],
       "metadata": {},
       "output_type": "display_data",
       "text": [
        "<IPython.core.display.Javascript at 0x7f66a7c99518>"
       ]
      }
     ],
     "prompt_number": 13
    },
    {
     "cell_type": "raw",
     "metadata": {},
     "source": [
      "# alternative: use the parallel_map based on IPython.parallel\n",
      "from qutip.ipynbtools import parallel_map as ip_parallel_map\n",
      "result2 = smesolve(H, rho0, times, c_ops=c_ops, sc_ops=sc_ops, e_ops=e_ops, \n",
      "                   ntraj=ntraj, nsubsteps=100, method='photocurrent',\n",
      "                   store_measurement=True,\n",
      "                   options=Options(store_states=True),\n",
      "                   progress_bar=HTMLProgressBar(),\n",
      "                   map_func=ip_parallel_map)"
     ]
    },
    {
     "cell_type": "code",
     "collapsed": false,
     "input": [
      "fig, axes = plt.subplots(2, 3, figsize=(16, 8), sharex=True)\n",
      "\n",
      "axes[0,0].plot(times, result1.expect[0], label=r'Stochastic ME (ntraj = 1)', lw=2)\n",
      "axes[0,0].plot(times, result_ref.expect[0], label=r'Lindblad ME', lw=2)\n",
      "axes[0,0].set_title(\"Cavity photon number (ntraj = 1)\")\n",
      "axes[0,0].legend()\n",
      "\n",
      "axes[1,0].plot(times, result2.expect[0], label=r'Stochatic ME (ntraj = %d)' % ntraj, lw=2)\n",
      "axes[1,0].plot(times, result_ref.expect[0], label=r'Lindblad ME', lw=2)\n",
      "axes[1,0].set_title(\"Cavity photon number (ntraj = 10)\")\n",
      "axes[1,0].legend()\n",
      "\n",
      "\n",
      "axes[0,1].plot(times, result1.expect[2], label=r'Stochastic ME (ntraj = 1)', lw=2)\n",
      "axes[0,1].plot(times, result_ref.expect[2], label=r'Lindblad ME', lw=2)\n",
      "axes[0,1].set_title(\"Qubit excition probability (ntraj = 1)\")\n",
      "axes[0,1].legend()\n",
      "\n",
      "axes[1,1].plot(times, result2.expect[2], label=r'Stochatic ME (ntraj = %d)' % ntraj, lw=2)\n",
      "axes[1,1].plot(times, result_ref.expect[2], label=r'Lindblad ME', lw=2)\n",
      "axes[1,1].set_title(\"Qubit excition probability (ntraj = %d)\" % ntraj)\n",
      "axes[1,1].legend()\n",
      "\n",
      "\n",
      "axes[0,2].step(times, dt * np.cumsum(result1.measurement[0].real), lw=2)\n",
      "axes[0,2].set_title(\"Cummulative photon detections (ntraj = 1)\")\n",
      "axes[1,2].step(times, dt * np.cumsum(np.array(result2.measurement).sum(axis=0).real) / ntraj, lw=2)\n",
      "axes[1,2].set_title(\"Cummulative avg. photon detections (ntraj = %d)\" % ntraj)\n",
      "\n",
      "fig.tight_layout()"
     ],
     "language": "python",
     "metadata": {},
     "outputs": [
      {
       "metadata": {},
       "output_type": "display_data",
       "png": "[encoded data removed]",
       "text": [
        "<matplotlib.figure.Figure at 0x7f66a621de10>"
       ]
      }
     ],
     "prompt_number": 14
    },
    {
     "cell_type": "heading",
     "level": 2,
     "metadata": {},
     "source": [
      "Versions"
     ]
    },
    {
     "cell_type": "code",
     "collapsed": false,
     "input": [
      "from qutip.ipynbtools import version_table\n",
      "\n",
      "version_table()"
     ],
     "language": "python",
     "metadata": {},
     "outputs": [
      {
       "html": [
        "<table><tr><th>Software</th><th>Version</th></tr><tr><td>Python</td><td>3.4.0 (default, Apr 11 2014, 13:05:11) \n",
        "[GCC 4.8.2]</td></tr><tr><td>QuTiP</td><td>3.1.0</td></tr><tr><td>SciPy</td><td>0.14.1</td></tr><tr><td>Cython</td><td>0.21.2</td></tr><tr><td>IPython</td><td>2.3.1</td></tr><tr><td>OS</td><td>posix [linux]</td></tr><tr><td>Numpy</td><td>1.9.1</td></tr><tr><td>matplotlib</td><td>1.4.2</td></tr><tr><td colspan='2'>Tue Jan 13 14:16:49 2015 JST</td></tr></table>"
       ],
       "metadata": {},
       "output_type": "pyout",
       "prompt_number": 15,
       "text": [
        "<IPython.core.display.HTML at 0x7f66a7d44978>"
       ]
      }
     ],
     "prompt_number": 15
    }
   ],
   "metadata": {}
  }
 ]
}