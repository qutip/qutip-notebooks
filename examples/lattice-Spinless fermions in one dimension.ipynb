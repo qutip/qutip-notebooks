{
 "cells": [
  {
   "cell_type": "markdown",
   "metadata": {},
   "source": [
    "# Spinless fermions in one dimension: with QuTiP"
   ]
  },
  {
   "cell_type": "markdown",
   "metadata": {},
   "source": [
    "Saumya Biswas (sbiswas4@umd.edu)\n",
    "\n",
    "For more information about QuTiP see [http://qutip.org](http://qutip.org)\n",
    "\n",
    "We introduce the basic functionality of QuTiPs Lattice1d class of the lattice module."
   ]
  },
  {
   "cell_type": "markdown",
   "metadata": {},
   "source": [
    "# About\n",
    "\n",
    "The qutip.lattice module enables defining tight binding/lattice models for bosons and fermions on lattices and calculating their fundamental properties specially features arising from the translational symmetry of the lattice. The lattice classes defined are compatible with the rest of the functionalities of QuTiP and can make use of them quite conveniently."
   ]
  },
  {
   "cell_type": "markdown",
   "metadata": {},
   "source": [
    "## Multiparticle physics"
   ]
  },
  {
   "cell_type": "markdown",
   "metadata": {},
   "source": [
    "Lattice1d_fermions class deals with multi-particle physics of spinless or single-spin particles."
   ]
  },
  {
   "cell_type": "markdown",
   "metadata": {},
   "source": [
    "![title](images/latt_1.png)\n",
    "\n",
    "## Spinless/ single-spin fermions in 1d\n",
    "Defining an instance of the Lattice1d class requires formatting the second Quantized Hamiltonian in a unitcell based structure with nearest neighbor coupling only. Howewver, the functionality is limited to single particle physics only in Lattice1d class methods.\n",
    "\n",
    "\\begin{eqnarray}\n",
    "H = \\sum_{j} (\\epsilon - \\mu) c_{j}^{\\dagger} c_{j} + \\sum_{\\langle j,k \\rangle} t_{j,k} c_j^{\\dagger} c_k \n",
    "\\end{eqnarray}\n",
    "\n",
    "where $c_i$ is the fermionic annihilation operator, $t_{j,k}$ is the nearest neighbour hopping. "
   ]
  },
  {
   "cell_type": "markdown",
   "metadata": {},
   "source": [
    "The Lattice1d_fermions class defines a fermions on a lattice with nearest neighbor hopping t."
   ]
  },
  {
   "cell_type": "markdown",
   "metadata": {},
   "source": [
    "## How to Define a One Dimensional Fermi Hubbard Model"
   ]
  },
  {
   "cell_type": "code",
   "execution_count": 3,
   "metadata": {},
   "outputs": [],
   "source": [
    "from qutip import *\n",
    "from qutip_lattice import *\n",
    "import matplotlib.pyplot as plt\n",
    "import numpy as np"
   ]
  },
  {
   "cell_type": "markdown",
   "metadata": {},
   "source": [
    "## Problems with a given symmetry"
   ]
  },
  {
   "cell_type": "markdown",
   "metadata": {},
   "source": [
    "The definition of the lattice requires the number of sites, periodicity, values for t. The dynamics problem can be solved on a basis with a chosen symmetry."
   ]
  },
  {
   "cell_type": "markdown",
   "metadata": {},
   "source": [
    "## Translational and particle number symmetric basis"
   ]
  },
  {
   "cell_type": "code",
   "execution_count": 4,
   "metadata": {},
   "outputs": [],
   "source": [
    "num_sites = 8\n",
    "fermions_Lattice1d = Lattice1d_fermions(num_sites=num_sites, boundary=\"periodic\", t=1)\n",
    "[Hamiltonian, StatesPerRepr] = fermions_Lattice1d.Hamiltonian(filling=2, kval=0)"
   ]
  },
  {
   "cell_type": "markdown",
   "metadata": {},
   "source": [
    "All the operators computed are in the chosen basis with number and translational symmetry labeled by number and k-value."
   ]
  },
  {
   "cell_type": "code",
   "execution_count": 5,
   "metadata": {},
   "outputs": [
    {
     "data": {
      "text/plain": [
       "array([[ 0.+0.j, -2.+0.j,  0.+0.j],\n",
       "       [-2.+0.j,  0.+0.j, -2.+0.j],\n",
       "       [ 0.+0.j, -2.+0.j,  0.+0.j]])"
      ]
     },
     "execution_count": 5,
     "metadata": {},
     "output_type": "execute_result"
    }
   ],
   "source": [
    "Hamiltonian.full()"
   ]
  },
  {
   "cell_type": "code",
   "execution_count": 6,
   "metadata": {},
   "outputs": [
    {
     "data": {
      "text/plain": [
       "{0: array([[0., 0., 0., 0., 0., 0., 1., 1.],\n",
       "        [0., 0., 0., 0., 0., 1., 0., 1.],\n",
       "        [0., 0., 0., 0., 1., 0., 0., 1.]])}"
      ]
     },
     "execution_count": 6,
     "metadata": {},
     "output_type": "execute_result"
    }
   ],
   "source": [
    "StatesPerRepr"
   ]
  },
  {
   "cell_type": "markdown",
   "metadata": {},
   "source": [
    "##  Basis vectors compatible with the translation for the wavevector $k$"
   ]
  },
  {
   "cell_type": "markdown",
   "metadata": {},
   "source": [
    "StatesReprUp[0] gives the basis vectors with approved k-value for translation."
   ]
  },
  {
   "cell_type": "code",
   "execution_count": 7,
   "metadata": {},
   "outputs": [
    {
     "data": {
      "text/plain": [
       "array([[0., 0., 0., 0., 0., 0., 1., 1.],\n",
       "       [0., 0., 0., 0., 0., 1., 0., 1.],\n",
       "       [0., 0., 0., 0., 1., 0., 0., 1.]])"
      ]
     },
     "execution_count": 7,
     "metadata": {},
     "output_type": "execute_result"
    }
   ],
   "source": [
    "StatesPerRepr[0]"
   ]
  },
  {
   "cell_type": "markdown",
   "metadata": {},
   "source": [
    "## Particle Number only basis"
   ]
  },
  {
   "cell_type": "code",
   "execution_count": 8,
   "metadata": {},
   "outputs": [],
   "source": [
    "[Hamiltonian, basisStates] = fermions_Lattice1d.Hamiltonian(filling=2, kval=None)"
   ]
  },
  {
   "cell_type": "markdown",
   "metadata": {},
   "source": [
    "Setting any argument to None gives a basis does not make use of that symmetry."
   ]
  },
  {
   "cell_type": "code",
   "execution_count": 9,
   "metadata": {},
   "outputs": [
    {
     "data": {
      "text/latex": [
       "Quantum object: dims = [[28], [28]], shape = (28, 28), type = oper, isherm = True\\begin{equation*}\\left(\\begin{array}{*{11}c}0.0 & -1.000 & 0.0 & 0.0 & 0.0 & \\cdots & 0.0 & 0.0 & 0.0 & 0.0 & 0.0\\\\-1.000 & 0.0 & -1.000 & -1.000 & 0.0 & \\cdots & 1.000 & 0.0 & 0.0 & 0.0 & 0.0\\\\0.0 & -1.000 & 0.0 & 0.0 & -1.000 & \\cdots & 0.0 & 0.0 & 0.0 & 0.0 & 0.0\\\\0.0 & -1.000 & 0.0 & 0.0 & -1.000 & \\cdots & 0.0 & 1.000 & 0.0 & 0.0 & 0.0\\\\0.0 & 0.0 & -1.000 & -1.000 & 0.0 & \\cdots & 0.0 & 0.0 & 0.0 & 0.0 & 0.0\\\\\\vdots & \\vdots & \\vdots & \\vdots & \\vdots & \\ddots & \\vdots & \\vdots & \\vdots & \\vdots & \\vdots\\\\0.0 & 1.000 & 0.0 & 0.0 & 0.0 & \\cdots & 0.0 & -1.000 & 0.0 & 0.0 & 0.0\\\\0.0 & 0.0 & 0.0 & 1.000 & 0.0 & \\cdots & -1.000 & 0.0 & -1.000 & 0.0 & 0.0\\\\0.0 & 0.0 & 0.0 & 0.0 & 0.0 & \\cdots & 0.0 & -1.000 & 0.0 & -1.000 & 0.0\\\\0.0 & 0.0 & 0.0 & 0.0 & 0.0 & \\cdots & 0.0 & 0.0 & -1.000 & 0.0 & -1.000\\\\0.0 & 0.0 & 0.0 & 0.0 & 0.0 & \\cdots & 0.0 & 0.0 & 0.0 & -1.000 & 0.0\\\\\\end{array}\\right)\\end{equation*}"
      ],
      "text/plain": [
       "Quantum object: dims = [[28], [28]], shape = (28, 28), type = oper, isherm = True\n",
       "Qobj data =\n",
       "[[ 0. -1.  0.  0.  0.  0.  0.  0.  0.  0.  0.  0.  0.  0.  0.  0.  0.  0.\n",
       "   0.  0.  0.  0.  1.  0.  0.  0.  0.  0.]\n",
       " [-1.  0. -1. -1.  0.  0.  0.  0.  0.  0.  0.  0.  0.  0.  0.  0.  0.  0.\n",
       "   0.  0.  0.  0.  0.  1.  0.  0.  0.  0.]\n",
       " [ 0. -1.  0.  0. -1.  0.  0.  0.  0.  0.  0.  0.  0.  0.  0.  0.  0.  0.\n",
       "   0.  0.  0.  0.  0.  0.  0.  0.  0.  0.]\n",
       " [ 0. -1.  0.  0. -1.  0. -1.  0.  0.  0.  0.  0.  0.  0.  0.  0.  0.  0.\n",
       "   0.  0.  0.  0.  0.  0.  1.  0.  0.  0.]\n",
       " [ 0.  0. -1. -1.  0. -1.  0. -1.  0.  0.  0.  0.  0.  0.  0.  0.  0.  0.\n",
       "   0.  0.  0.  0.  0.  0.  0.  0.  0.  0.]\n",
       " [ 0.  0.  0.  0. -1.  0.  0.  0. -1.  0.  0.  0.  0.  0.  0.  0.  0.  0.\n",
       "   0.  0.  0.  0.  0.  0.  0.  0.  0.  0.]\n",
       " [ 0.  0.  0. -1.  0.  0.  0. -1.  0.  0. -1.  0.  0.  0.  0.  0.  0.  0.\n",
       "   0.  0.  0.  0.  0.  0.  0.  1.  0.  0.]\n",
       " [ 0.  0.  0.  0. -1.  0. -1.  0. -1.  0.  0. -1.  0.  0.  0.  0.  0.  0.\n",
       "   0.  0.  0.  0.  0.  0.  0.  0.  0.  0.]\n",
       " [ 0.  0.  0.  0.  0. -1.  0. -1.  0. -1.  0.  0. -1.  0.  0.  0.  0.  0.\n",
       "   0.  0.  0.  0.  0.  0.  0.  0.  0.  0.]\n",
       " [ 0.  0.  0.  0.  0.  0.  0.  0. -1.  0.  0.  0.  0. -1.  0.  0.  0.  0.\n",
       "   0.  0.  0.  0.  0.  0.  0.  0.  0.  0.]\n",
       " [ 0.  0.  0.  0.  0.  0. -1.  0.  0.  0.  0. -1.  0.  0.  0. -1.  0.  0.\n",
       "   0.  0.  0.  0.  0.  0.  0.  0.  1.  0.]\n",
       " [ 0.  0.  0.  0.  0.  0.  0. -1.  0.  0. -1.  0. -1.  0.  0.  0. -1.  0.\n",
       "   0.  0.  0.  0.  0.  0.  0.  0.  0.  0.]\n",
       " [ 0.  0.  0.  0.  0.  0.  0.  0. -1.  0.  0. -1.  0. -1.  0.  0.  0. -1.\n",
       "   0.  0.  0.  0.  0.  0.  0.  0.  0.  0.]\n",
       " [ 0.  0.  0.  0.  0.  0.  0.  0.  0. -1.  0.  0. -1.  0. -1.  0.  0.  0.\n",
       "  -1.  0.  0.  0.  0.  0.  0.  0.  0.  0.]\n",
       " [ 0.  0.  0.  0.  0.  0.  0.  0.  0.  0.  0.  0.  0. -1.  0.  0.  0.  0.\n",
       "   0. -1.  0.  0.  0.  0.  0.  0.  0.  0.]\n",
       " [ 0.  0.  0.  0.  0.  0.  0.  0.  0.  0. -1.  0.  0.  0.  0.  0. -1.  0.\n",
       "   0.  0.  0. -1.  0.  0.  0.  0.  0.  1.]\n",
       " [ 0.  0.  0.  0.  0.  0.  0.  0.  0.  0.  0. -1.  0.  0.  0. -1.  0. -1.\n",
       "   0.  0.  0.  0. -1.  0.  0.  0.  0.  0.]\n",
       " [ 0.  0.  0.  0.  0.  0.  0.  0.  0.  0.  0.  0. -1.  0.  0.  0. -1.  0.\n",
       "  -1.  0.  0.  0.  0. -1.  0.  0.  0.  0.]\n",
       " [ 0.  0.  0.  0.  0.  0.  0.  0.  0.  0.  0.  0.  0. -1.  0.  0.  0. -1.\n",
       "   0. -1.  0.  0.  0.  0. -1.  0.  0.  0.]\n",
       " [ 0.  0.  0.  0.  0.  0.  0.  0.  0.  0.  0.  0.  0.  0. -1.  0.  0.  0.\n",
       "  -1.  0. -1.  0.  0.  0.  0. -1.  0.  0.]\n",
       " [ 0.  0.  0.  0.  0.  0.  0.  0.  0.  0.  0.  0.  0.  0.  0.  0.  0.  0.\n",
       "   0. -1.  0.  0.  0.  0.  0.  0. -1.  0.]\n",
       " [ 0.  0.  0.  0.  0.  0.  0.  0.  0.  0.  0.  0.  0.  0.  0. -1.  0.  0.\n",
       "   0.  0.  0.  0. -1.  0.  0.  0.  0.  0.]\n",
       " [ 1.  0.  0.  0.  0.  0.  0.  0.  0.  0.  0.  0.  0.  0.  0.  0. -1.  0.\n",
       "   0.  0.  0. -1.  0. -1.  0.  0.  0.  0.]\n",
       " [ 0.  1.  0.  0.  0.  0.  0.  0.  0.  0.  0.  0.  0.  0.  0.  0.  0. -1.\n",
       "   0.  0.  0.  0. -1.  0. -1.  0.  0.  0.]\n",
       " [ 0.  0.  0.  1.  0.  0.  0.  0.  0.  0.  0.  0.  0.  0.  0.  0.  0.  0.\n",
       "  -1.  0.  0.  0.  0. -1.  0. -1.  0.  0.]\n",
       " [ 0.  0.  0.  0.  0.  0.  1.  0.  0.  0.  0.  0.  0.  0.  0.  0.  0.  0.\n",
       "   0. -1.  0.  0.  0.  0. -1.  0. -1.  0.]\n",
       " [ 0.  0.  0.  0.  0.  0.  0.  0.  0.  0.  1.  0.  0.  0.  0.  0.  0.  0.\n",
       "   0.  0. -1.  0.  0.  0.  0. -1.  0. -1.]\n",
       " [ 0.  0.  0.  0.  0.  0.  0.  0.  0.  0.  0.  0.  0.  0.  0.  1.  0.  0.\n",
       "   0.  0.  0.  0.  0.  0.  0.  0. -1.  0.]]"
      ]
     },
     "execution_count": 9,
     "metadata": {},
     "output_type": "execute_result"
    }
   ],
   "source": [
    "Hamiltonian"
   ]
  },
  {
   "cell_type": "code",
   "execution_count": 10,
   "metadata": {},
   "outputs": [
    {
     "data": {
      "text/plain": [
       "array([[0., 0., 0., 0., 0., 0., 1., 1.],\n",
       "       [0., 0., 0., 0., 0., 1., 0., 1.],\n",
       "       [0., 0., 0., 0., 0., 1., 1., 0.],\n",
       "       [0., 0., 0., 0., 1., 0., 0., 1.],\n",
       "       [0., 0., 0., 0., 1., 0., 1., 0.],\n",
       "       [0., 0., 0., 0., 1., 1., 0., 0.],\n",
       "       [0., 0., 0., 1., 0., 0., 0., 1.],\n",
       "       [0., 0., 0., 1., 0., 0., 1., 0.],\n",
       "       [0., 0., 0., 1., 0., 1., 0., 0.],\n",
       "       [0., 0., 0., 1., 1., 0., 0., 0.],\n",
       "       [0., 0., 1., 0., 0., 0., 0., 1.],\n",
       "       [0., 0., 1., 0., 0., 0., 1., 0.],\n",
       "       [0., 0., 1., 0., 0., 1., 0., 0.],\n",
       "       [0., 0., 1., 0., 1., 0., 0., 0.],\n",
       "       [0., 0., 1., 1., 0., 0., 0., 0.],\n",
       "       [0., 1., 0., 0., 0., 0., 0., 1.],\n",
       "       [0., 1., 0., 0., 0., 0., 1., 0.],\n",
       "       [0., 1., 0., 0., 0., 1., 0., 0.],\n",
       "       [0., 1., 0., 0., 1., 0., 0., 0.],\n",
       "       [0., 1., 0., 1., 0., 0., 0., 0.],\n",
       "       [0., 1., 1., 0., 0., 0., 0., 0.],\n",
       "       [1., 0., 0., 0., 0., 0., 0., 1.],\n",
       "       [1., 0., 0., 0., 0., 0., 1., 0.],\n",
       "       [1., 0., 0., 0., 0., 1., 0., 0.],\n",
       "       [1., 0., 0., 0., 1., 0., 0., 0.],\n",
       "       [1., 0., 0., 1., 0., 0., 0., 0.],\n",
       "       [1., 0., 1., 0., 0., 0., 0., 0.],\n",
       "       [1., 1., 0., 0., 0., 0., 0., 0.]])"
      ]
     },
     "execution_count": 10,
     "metadata": {},
     "output_type": "execute_result"
    }
   ],
   "source": [
    "basisStates"
   ]
  },
  {
   "cell_type": "markdown",
   "metadata": {},
   "source": [
    "## Lattice momentum only basis"
   ]
  },
  {
   "cell_type": "code",
   "execution_count": 11,
   "metadata": {},
   "outputs": [],
   "source": [
    "[Hamiltonian, StatesPerRepr] = fermions_Lattice1d.Hamiltonian(filling=None, kval=0)"
   ]
  },
  {
   "cell_type": "code",
   "execution_count": 12,
   "metadata": {},
   "outputs": [
    {
     "data": {
      "text/plain": [
       "array([[ 0.+0.j,  0.+0.j,  0.+0.j, ...,  0.+0.j,  0.+0.j,  0.+0.j],\n",
       "       [ 0.+0.j, -2.+0.j,  0.+0.j, ...,  0.+0.j,  0.+0.j,  0.+0.j],\n",
       "       [ 0.+0.j,  0.+0.j,  0.+0.j, ...,  0.+0.j,  0.+0.j,  0.+0.j],\n",
       "       ...,\n",
       "       [ 0.+0.j,  0.+0.j,  0.+0.j, ...,  0.+0.j,  0.+0.j,  0.+0.j],\n",
       "       [ 0.+0.j,  0.+0.j,  0.+0.j, ...,  0.+0.j,  0.+0.j,  0.+0.j],\n",
       "       [ 0.+0.j,  0.+0.j,  0.+0.j, ...,  0.+0.j,  0.+0.j, -2.+0.j]])"
      ]
     },
     "execution_count": 12,
     "metadata": {},
     "output_type": "execute_result"
    }
   ],
   "source": [
    "Hamiltonian.full()"
   ]
  },
  {
   "cell_type": "code",
   "execution_count": 13,
   "metadata": {},
   "outputs": [
    {
     "data": {
      "text/plain": [
       "{0: array([[0, 0, 0, 0, 0, 0, 0, 0],\n",
       "        [0, 0, 0, 0, 0, 0, 0, 1],\n",
       "        [0, 0, 0, 0, 0, 0, 1, 1],\n",
       "        [0, 0, 0, 0, 0, 1, 0, 1],\n",
       "        [0, 0, 0, 0, 0, 1, 1, 1],\n",
       "        [0, 0, 0, 0, 1, 0, 0, 1],\n",
       "        [0, 0, 0, 0, 1, 0, 1, 1],\n",
       "        [0, 0, 0, 0, 1, 1, 0, 1],\n",
       "        [0, 0, 0, 0, 1, 1, 1, 1],\n",
       "        [0, 0, 0, 1, 0, 0, 1, 1],\n",
       "        [0, 0, 0, 1, 0, 1, 0, 1],\n",
       "        [0, 0, 0, 1, 0, 1, 1, 1],\n",
       "        [0, 0, 0, 1, 1, 0, 0, 1],\n",
       "        [0, 0, 0, 1, 1, 0, 1, 1],\n",
       "        [0, 0, 0, 1, 1, 1, 0, 1],\n",
       "        [0, 0, 0, 1, 1, 1, 1, 1],\n",
       "        [0, 0, 1, 0, 0, 1, 0, 1],\n",
       "        [0, 0, 1, 0, 0, 1, 1, 1],\n",
       "        [0, 0, 1, 0, 1, 0, 1, 1],\n",
       "        [0, 0, 1, 0, 1, 1, 0, 1],\n",
       "        [0, 0, 1, 0, 1, 1, 1, 1],\n",
       "        [0, 0, 1, 1, 0, 0, 1, 1],\n",
       "        [0, 0, 1, 1, 0, 1, 0, 1],\n",
       "        [0, 0, 1, 1, 0, 1, 1, 1],\n",
       "        [0, 0, 1, 1, 1, 0, 1, 1],\n",
       "        [0, 0, 1, 1, 1, 1, 0, 1],\n",
       "        [0, 0, 1, 1, 1, 1, 1, 1],\n",
       "        [0, 1, 0, 1, 0, 1, 1, 1],\n",
       "        [0, 1, 0, 1, 1, 0, 1, 1],\n",
       "        [0, 1, 0, 1, 1, 1, 1, 1],\n",
       "        [0, 1, 1, 0, 1, 1, 1, 1],\n",
       "        [0, 1, 1, 1, 1, 1, 1, 1]])}"
      ]
     },
     "execution_count": 13,
     "metadata": {},
     "output_type": "execute_result"
    }
   ],
   "source": [
    "StatesPerRepr"
   ]
  },
  {
   "cell_type": "markdown",
   "metadata": {},
   "source": [
    "## Complete basis: no symmetry"
   ]
  },
  {
   "cell_type": "code",
   "execution_count": 14,
   "metadata": {},
   "outputs": [],
   "source": [
    "[Hamiltonian, basisStates] = fermions_Lattice1d.Hamiltonian(filling=None, kval=None)"
   ]
  },
  {
   "cell_type": "code",
   "execution_count": 15,
   "metadata": {},
   "outputs": [
    {
     "data": {
      "text/plain": [
       "array([[ 0.+0.j,  0.+0.j,  0.+0.j, ...,  0.+0.j,  0.+0.j,  0.+0.j],\n",
       "       [ 0.+0.j,  0.+0.j, -1.+0.j, ...,  0.+0.j,  0.+0.j,  0.+0.j],\n",
       "       [ 0.+0.j, -1.+0.j,  0.+0.j, ...,  0.+0.j,  0.+0.j,  0.+0.j],\n",
       "       ...,\n",
       "       [ 0.+0.j,  0.+0.j,  0.+0.j, ...,  0.+0.j, -1.+0.j,  0.+0.j],\n",
       "       [ 0.+0.j,  0.+0.j,  0.+0.j, ..., -1.+0.j,  0.+0.j,  0.+0.j],\n",
       "       [ 0.+0.j,  0.+0.j,  0.+0.j, ...,  0.+0.j,  0.+0.j,  0.+0.j]])"
      ]
     },
     "execution_count": 15,
     "metadata": {},
     "output_type": "execute_result"
    }
   ],
   "source": [
    "Hamiltonian.full()"
   ]
  },
  {
   "cell_type": "code",
   "execution_count": 16,
   "metadata": {},
   "outputs": [
    {
     "data": {
      "text/plain": [
       "array([[0, 0, 0, ..., 0, 0, 0],\n",
       "       [0, 0, 0, ..., 0, 0, 1],\n",
       "       [0, 0, 0, ..., 0, 1, 0],\n",
       "       ...,\n",
       "       [1, 1, 1, ..., 1, 0, 1],\n",
       "       [1, 1, 1, ..., 1, 1, 0],\n",
       "       [1, 1, 1, ..., 1, 1, 1]])"
      ]
     },
     "execution_count": 16,
     "metadata": {},
     "output_type": "execute_result"
    }
   ],
   "source": [
    "basisStates"
   ]
  },
  {
   "cell_type": "markdown",
   "metadata": {},
   "source": [
    "## Block-diagonalization with Translational Symmetry"
   ]
  },
  {
   "cell_type": "markdown",
   "metadata": {},
   "source": [
    "Since in a translationally symmetric system, the Hamiltonian is block-diagonalized in k-basis, the unitary transformations for the block diagonalization can be obtained with certain functions."
   ]
  },
  {
   "cell_type": "markdown",
   "metadata": {},
   "source": [
    "### Hamiltonian in a basis without translational symmetry"
   ]
  },
  {
   "cell_type": "code",
   "execution_count": 17,
   "metadata": {},
   "outputs": [
    {
     "data": {
      "text/plain": [
       "<matplotlib.image.AxesImage at 0x7f8e565a3208>"
      ]
     },
     "execution_count": 17,
     "metadata": {},
     "output_type": "execute_result"
    },
    {
     "data": {
      "image/png": "[encoded data removed]",
      "text/plain": [
       "<Figure size 432x288 with 1 Axes>"
      ]
     },
     "metadata": {
      "needs_background": "light"
     },
     "output_type": "display_data"
    }
   ],
   "source": [
    "fermions_Lattice1d = Lattice1d_fermions(num_sites=num_sites, boundary=\"periodic\", t=1)\n",
    "[Hamiltonian, basisStates] = fermions_Lattice1d.Hamiltonian(filling=None, kval=None)\n",
    "\n",
    "UsF = fermions_Lattice1d.NoSym_DiagTrans()\n",
    "plt.spy(np.abs(Hamiltonian.full()))"
   ]
  },
  {
   "cell_type": "code",
   "execution_count": 18,
   "metadata": {},
   "outputs": [
    {
     "data": {
      "text/plain": [
       "<matplotlib.image.AxesImage at 0x7f8e565110f0>"
      ]
     },
     "execution_count": 18,
     "metadata": {},
     "output_type": "execute_result"
    },
    {
     "data": {
      "image/png": "[encoded data removed]",
      "text/plain": [
       "<Figure size 432x288 with 1 Axes>"
      ]
     },
     "metadata": {
      "needs_background": "light"
     },
     "output_type": "display_data"
    }
   ],
   "source": [
    "#Hamiltonian = Hamiltonian.full()\n",
    "Hamiltonian_k = UsF * Hamiltonian * UsF.dag()\n",
    "nB = np.shape(Hamiltonian_k)[0]\n",
    "Hamiltonian_k_np = Hamiltonian_k.full()\n",
    "for i in range(nB):\n",
    "    for j in range(nB):\n",
    "        if np.abs(Hamiltonian_k_np[i,j]) < 1e-8:\n",
    "            Hamiltonian_k_np[i, j] = 0\n",
    "plt.spy(np.abs(Hamiltonian_k_np))"
   ]
  },
  {
   "cell_type": "code",
   "execution_count": 19,
   "metadata": {},
   "outputs": [
    {
     "data": {
      "text/latex": [
       "Quantum object: dims = [[32], [32]], shape = (32, 32), type = oper, isherm = True\\begin{equation*}\\left(\\begin{array}{*{11}c}0.0 & 0.0 & 0.0 & 0.0 & 0.0 & \\cdots & 0.0 & 0.0 & 0.0 & 0.0 & 0.0\\\\0.0 & 0.0 & (-1.0+1.0j) & 0.0 & 0.0 & \\cdots & 0.0 & 0.0 & 0.0 & 0.0 & 0.0\\\\0.0 & (-1.0-1.0j) & 0.0 & 0.0 & (-1.0+1.0j) & \\cdots & 0.0 & 0.0 & 0.0 & 0.0 & 0.0\\\\0.0 & 0.0 & 0.0 & 0.0 & 0.0 & \\cdots & 0.0 & 0.0 & 0.0 & 0.0 & 0.0\\\\0.0 & 0.0 & (-1.0-1.0j) & 0.0 & 0.0 & \\cdots & 0.0 & 0.0 & 0.0 & 0.0 & 0.0\\\\\\vdots & \\vdots & \\vdots & \\vdots & \\vdots & \\ddots & \\vdots & \\vdots & \\vdots & \\vdots & \\vdots\\\\0.0 & 0.0 & 0.0 & 0.0 & 0.0 & \\cdots & 0.0 & 0.0 & 0.0 & 0.0 & 0.0\\\\0.0 & 0.0 & 0.0 & 0.0 & 0.0 & \\cdots & 0.0 & 0.0 & 0.0 & 0.0 & 0.0\\\\0.0 & 0.0 & 0.0 & 0.0 & 0.0 & \\cdots & 0.0 & 0.0 & 0.0 & (-1.0+1.0j) & 0.0\\\\0.0 & 0.0 & 0.0 & 0.0 & 0.0 & \\cdots & 0.0 & 0.0 & (-1.0-1.0j) & 0.0 & 0.0\\\\0.0 & 0.0 & 0.0 & 0.0 & 0.0 & \\cdots & 0.0 & 0.0 & 0.0 & 0.0 & 0.0\\\\\\end{array}\\right)\\end{equation*}"
      ],
      "text/plain": [
       "Quantum object: dims = [[32], [32]], shape = (32, 32), type = oper, isherm = True\n",
       "Qobj data =\n",
       "[[ 0.+0.j  0.+0.j  0.+0.j ...  0.+0.j  0.+0.j  0.+0.j]\n",
       " [ 0.+0.j  0.+0.j -1.+1.j ...  0.+0.j  0.+0.j  0.+0.j]\n",
       " [ 0.+0.j -1.-1.j  0.+0.j ...  0.+0.j  0.+0.j  0.+0.j]\n",
       " ...\n",
       " [ 0.+0.j  0.+0.j  0.+0.j ...  0.+0.j -1.+1.j  0.+0.j]\n",
       " [ 0.+0.j  0.+0.j  0.+0.j ... -1.-1.j  0.+0.j  0.+0.j]\n",
       " [ 0.+0.j  0.+0.j  0.+0.j ...  0.+0.j  0.+0.j  0.+0.j]]"
      ]
     },
     "execution_count": 19,
     "metadata": {},
     "output_type": "execute_result"
    }
   ],
   "source": [
    "kval = 2\n",
    "UsFk = fermions_Lattice1d.NoSym_DiagTrans_k(kval)\n",
    "Hamiltonian_k = UsFk * Hamiltonian * UsFk.dag()\n",
    "Hamiltonian_k"
   ]
  },
  {
   "cell_type": "code",
   "execution_count": 20,
   "metadata": {},
   "outputs": [
    {
     "data": {
      "text/plain": [
       "array([[ 3.6739404e-16+0.j,  0.0000000e+00+0.j,  0.0000000e+00+0.j, ...,\n",
       "         0.0000000e+00+0.j,  0.0000000e+00+0.j,  0.0000000e+00+0.j],\n",
       "       [ 0.0000000e+00+0.j,  0.0000000e+00+0.j, -1.0000000e+00+1.j, ...,\n",
       "         0.0000000e+00+0.j,  0.0000000e+00+0.j,  0.0000000e+00+0.j],\n",
       "       [ 0.0000000e+00+0.j, -1.0000000e+00-1.j,  0.0000000e+00+0.j, ...,\n",
       "         0.0000000e+00+0.j,  0.0000000e+00+0.j,  0.0000000e+00+0.j],\n",
       "       ...,\n",
       "       [ 0.0000000e+00+0.j,  0.0000000e+00+0.j,  0.0000000e+00+0.j, ...,\n",
       "         0.0000000e+00+0.j, -1.0000000e+00+1.j,  0.0000000e+00+0.j],\n",
       "       [ 0.0000000e+00+0.j,  0.0000000e+00+0.j,  0.0000000e+00+0.j, ...,\n",
       "        -1.0000000e+00-1.j,  0.0000000e+00+0.j,  0.0000000e+00+0.j],\n",
       "       [ 0.0000000e+00+0.j,  0.0000000e+00+0.j,  0.0000000e+00+0.j, ...,\n",
       "         0.0000000e+00+0.j,  0.0000000e+00+0.j,  3.6739404e-16+0.j]])"
      ]
     },
     "execution_count": 20,
     "metadata": {},
     "output_type": "execute_result"
    }
   ],
   "source": [
    "[Hamiltonian_k2, basisStates] = fermions_Lattice1d.Hamiltonian(filling=None, kval=2)\n",
    "Hamiltonian_k2.full()"
   ]
  },
  {
   "cell_type": "markdown",
   "metadata": {},
   "source": [
    "The k=2 block can directly be obtained with the UsFk matrix. The verification is done since Hamiltonian_k and Hamiltonian_k2 are the same."
   ]
  },
  {
   "cell_type": "markdown",
   "metadata": {},
   "source": [
    "## Confirming the Hamiltonians formed in k-symmetric basis are indeed the same"
   ]
  },
  {
   "cell_type": "code",
   "execution_count": 21,
   "metadata": {},
   "outputs": [],
   "source": [
    "np.testing.assert_allclose(Hamiltonian_k, Hamiltonian_k2.full(), atol=1e-8)"
   ]
  },
  {
   "cell_type": "markdown",
   "metadata": {},
   "source": [
    "# Example: Symmetry protected Dynamics¶"
   ]
  },
  {
   "cell_type": "markdown",
   "metadata": {},
   "source": [
    "We now calculate a dynamics with loss operators and expectation calculation."
   ]
  },
  {
   "cell_type": "code",
   "execution_count": 22,
   "metadata": {},
   "outputs": [],
   "source": [
    "h_dim = np.shape(Hamiltonian_k)[0]\n",
    "psi0 = np.ones(h_dim, dtype=complex)\n",
    "psi0 = Qobj(np.sqrt(psi0), dims= [[h_dim], [1]])"
   ]
  },
  {
   "cell_type": "code",
   "execution_count": 23,
   "metadata": {},
   "outputs": [
    {
     "data": {
      "text/latex": [
       "Quantum object: dims = [[32], [1]], shape = (32, 1), type = ket\\begin{equation*}\\left(\\begin{array}{*{11}c}1.0\\\\1.0\\\\1.0\\\\1.0\\\\1.0\\\\\\vdots\\\\1.0\\\\1.0\\\\1.0\\\\1.0\\\\1.0\\\\\\end{array}\\right)\\end{equation*}"
      ],
      "text/plain": [
       "Quantum object: dims = [[32], [1]], shape = (32, 1), type = ket\n",
       "Qobj data =\n",
       "[[1.]\n",
       " [1.]\n",
       " [1.]\n",
       " [1.]\n",
       " [1.]\n",
       " [1.]\n",
       " [1.]\n",
       " [1.]\n",
       " [1.]\n",
       " [1.]\n",
       " [1.]\n",
       " [1.]\n",
       " [1.]\n",
       " [1.]\n",
       " [1.]\n",
       " [1.]\n",
       " [1.]\n",
       " [1.]\n",
       " [1.]\n",
       " [1.]\n",
       " [1.]\n",
       " [1.]\n",
       " [1.]\n",
       " [1.]\n",
       " [1.]\n",
       " [1.]\n",
       " [1.]\n",
       " [1.]\n",
       " [1.]\n",
       " [1.]\n",
       " [1.]\n",
       " [1.]]"
      ]
     },
     "execution_count": 23,
     "metadata": {},
     "output_type": "execute_result"
    }
   ],
   "source": [
    "psi0"
   ]
  },
  {
   "cell_type": "code",
   "execution_count": 24,
   "metadata": {},
   "outputs": [],
   "source": [
    "psi = np.zeros(h_dim, dtype=complex)\n",
    "col_op=[]\n",
    "for i in range(h_dim):\n",
    "    psi[i] = 1\n",
    "    rsi = Qobj(psi)\n",
    "    col_i = rsi * rsi.dag()\n",
    "    col_op.append(col_i)\n",
    "    psi[i] = 0"
   ]
  },
  {
   "cell_type": "markdown",
   "metadata": {},
   "source": [
    "No specific physics conceived of in this exercise."
   ]
  },
  {
   "cell_type": "code",
   "execution_count": 25,
   "metadata": {},
   "outputs": [],
   "source": [
    "kC = Qobj(np.diag(np.ones(h_dim, dtype=complex) ) )"
   ]
  },
  {
   "cell_type": "code",
   "execution_count": 26,
   "metadata": {},
   "outputs": [
    {
     "data": {
      "text/plain": [
       "(32, 32)"
      ]
     },
     "execution_count": 26,
     "metadata": {},
     "output_type": "execute_result"
    }
   ],
   "source": [
    "np.shape(Hamiltonian_k)\n",
    "np.shape(col_op[8])"
   ]
  },
  {
   "cell_type": "code",
   "execution_count": 27,
   "metadata": {},
   "outputs": [],
   "source": [
    "tlistCN = np.linspace(0,30,601)\n",
    "options = Options(atol=1e-12)\n",
    "options.store_states = True\n",
    "evol_psi = mesolve(Qobj(Hamiltonian_k2), psi0, tlistCN, col_op, [kC], options=options)"
   ]
  },
  {
   "cell_type": "code",
   "execution_count": 28,
   "metadata": {},
   "outputs": [
    {
     "data": {
      "image/png": "[encoded data removed]",
      "text/plain": [
       "<Figure size 432x288 with 1 Axes>"
      ]
     },
     "metadata": {
      "needs_background": "light"
     },
     "output_type": "display_data"
    }
   ],
   "source": [
    "plt.plot(tlistCN, evol_psi.expect[0])\n",
    "plt.xlabel('Time', fontsize=14)\n",
    "plt.ylabel(r'$\\langle k \\rangle$', fontsize=14)\n",
    "#plt.ylim([-1e-8, 1e-8])\n",
    "plt.show()\n",
    "plt.close()"
   ]
  },
  {
   "cell_type": "markdown",
   "metadata": {},
   "source": [
    "### References\n",
    "[1] J. R. Johansson, P. D. Nation, and F. Nori, Comp. Phys. Comm. 183, 1760 (2012). http://qutip.org \n",
    "\n",
    "[2] Han, JungYun, Clemens Gneiting, and Daniel Leykam. \"Helical transport in coupled resonator waveguides.\" Physical Review B 99.22 (2019): 224201.\n",
    "https://journals.aps.org/prb/abstract/10.1103/PhysRevB.99.224201#"
   ]
  },
  {
   "cell_type": "code",
   "execution_count": 29,
   "metadata": {},
   "outputs": [
    {
     "name": "stdout",
     "output_type": "stream",
     "text": [
      "\n",
      "QuTiP: Quantum Toolbox in Python\n",
      "================================\n",
      "Copyright (c) QuTiP team 2011 and later.\n",
      "Current admin team: Alexander Pitchford, Nathan Shammah, Shahnawaz Ahmed, Neill Lambert, Eric Giguère, Boxi Li, Jake Lishman and Simon Cross.\n",
      "Board members: Daniel Burgarth, Robert Johansson, Anton F. Kockum, Franco Nori and Will Zeng.\n",
      "Original developers: R. J. Johansson & P. D. Nation.\n",
      "Previous lead developers: Chris Granade & A. Grimsmo.\n",
      "Currently developed through wide collaboration. See https://github.com/qutip for details.\n",
      "\n",
      "QuTiP Version:      4.6.2\n",
      "Numpy Version:      1.19.2\n",
      "Scipy Version:      1.5.2\n",
      "Cython Version:     0.29.24\n",
      "Matplotlib Version: 3.3.4\n",
      "Python Version:     3.6.13\n",
      "Number of CPUs:     4\n",
      "BLAS Info:          INTEL MKL\n",
      "OPENMP Installed:   False\n",
      "INTEL MKL Ext:      True\n",
      "Platform Info:      Linux (x86_64)\n",
      "Installation path:  /home/saumya/anaconda3/envs/qlat_dev1/lib/python3.6/site-packages/qutip\n",
      "================================================================================\n",
      "Please cite QuTiP in your publication.\n",
      "================================================================================\n",
      "For your convenience a bibtex reference can be easily generated using `qutip.cite()`\n"
     ]
    }
   ],
   "source": [
    "qutip.about()"
   ]
  },
  {
   "cell_type": "code",
   "execution_count": 67,
   "metadata": {},
   "outputs": [
    {
     "name": "stdout",
     "output_type": "stream",
     "text": [
      "@article{qutip2,\n",
      "doi = {10.1016/j.cpc.2012.11.019},\n",
      "url = {https://doi.org/10.1016/j.cpc.2012.11.019},\n",
      "year  = {2013},\n",
      "month = {apr},\n",
      "publisher = {Elsevier {BV}},\n",
      "volume = {184},\n",
      "number = {4},\n",
      "pages = {1234--1240},\n",
      "author = {J.R. Johansson and P.D. Nation and F. Nori},\n",
      "title = {{QuTiP} 2: A {P}ython framework for the dynamics of open quantum systems},\n",
      "journal = {Computer Physics Communications}\n",
      "}\n",
      "@article{qutip1,\n",
      "doi = {10.1016/j.cpc.2012.02.021},\n",
      "url = {https://doi.org/10.1016/j.cpc.2012.02.021},\n",
      "year  = {2012},\n",
      "month = {aug},\n",
      "publisher = {Elsevier {BV}},\n",
      "volume = {183},\n",
      "number = {8},\n",
      "pages = {1760--1772},\n",
      "author = {J.R. Johansson and P.D. Nation and F. Nori},\n",
      "title = {{QuTiP}: An open-source {P}ython framework for the dynamics of open quantum systems},\n",
      "journal = {Computer Physics Communications}\n",
      "}\n"
     ]
    }
   ],
   "source": [
    "qutip.cite()"
   ]
  }
 ],
 "metadata": {
  "kernelspec": {
   "display_name": "Python 3",
   "language": "python",
   "name": "python3"
  },
  "language_info": {
   "codemirror_mode": {
    "name": "ipython",
    "version": 3
   },
   "file_extension": ".py",
   "mimetype": "text/x-python",
   "name": "python",
   "nbconvert_exporter": "python",
   "pygments_lexer": "ipython3",
   "version": "3.6.13"
  }
 },
 "nbformat": 4,
 "nbformat_minor": 2
}
