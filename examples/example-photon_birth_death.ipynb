{
 "metadata": {
  "name": "",
  "signature": "sha256:9f25752e740e2e64766a48b2a4a470662f7c9577d316998684b65cbd94585090"
 },
 "nbformat": 3,
 "nbformat_minor": 0,
 "worksheets": [
  {
   "cells": [
    {
     "cell_type": "heading",
     "level": 1,
     "metadata": {},
     "source": [
      "QuTiP Example: Birth and Death of Photons in a Cavity"
     ]
    },
    {
     "cell_type": "markdown",
     "metadata": {},
     "source": [
      "J.R. Johansson and P.D. Nation\n",
      "\n",
      "For more information about QuTiP see [http://qutip.org](http://qutip.org)"
     ]
    },
    {
     "cell_type": "code",
     "collapsed": false,
     "input": [
      "%matplotlib inline"
     ],
     "language": "python",
     "metadata": {},
     "outputs": [],
     "prompt_number": 1
    },
    {
     "cell_type": "code",
     "collapsed": false,
     "input": [
      "import matplotlib.pyplot as plt"
     ],
     "language": "python",
     "metadata": {},
     "outputs": [],
     "prompt_number": 2
    },
    {
     "cell_type": "code",
     "collapsed": false,
     "input": [
      "import numpy as np"
     ],
     "language": "python",
     "metadata": {},
     "outputs": [],
     "prompt_number": 3
    },
    {
     "cell_type": "code",
     "collapsed": false,
     "input": [
      "from qutip import *"
     ],
     "language": "python",
     "metadata": {},
     "outputs": [],
     "prompt_number": 4
    },
    {
     "cell_type": "heading",
     "level": 2,
     "metadata": {},
     "source": [
      "Overview"
     ]
    },
    {
     "cell_type": "markdown",
     "metadata": {},
     "source": [
      "Here we aim to reproduce the experimental results from:\n",
      "\n",
      "<blockquote>\n",
      "  Gleyzes et al., \"Quantum jumps of light recording the birth and death of a photon in a cavity\", [Nature **446**, 297 (2007)](http://dx.doi.org/10.1038/nature05589).\n",
      "</blockquote>\n",
      "\n",
      "In particular, we will simulate the creation and annihilation of photons inside the optical cavity due to the thermal environment when the initial cavity is a single-photon Fock state $ |1\\rangle$, as presented in Fig. 3 from the article."
     ]
    },
    {
     "cell_type": "heading",
     "level": 2,
     "metadata": {},
     "source": [
      "System Setup"
     ]
    },
    {
     "cell_type": "code",
     "collapsed": false,
     "input": [
      "N=5\n",
      "a=destroy(N) \n",
      "H=a.dag()*a     # Simple oscillator Hamiltonian\n",
      "psi0=basis(N,1) # Initial Fock state with one photon\n",
      "kappa=1.0/0.129 # Coupling rate to heat bath\n",
      "nth= 0.063      # Temperature with <n>=0.063\n",
      "\n",
      "# Build collapse operators for the thermal bath\n",
      "c_ops = []\n",
      "c_ops.append(np.sqrt(kappa * (1 + nth)) * a)\n",
      "c_ops.append(np.sqrt(kappa * nth) * a.dag())"
     ],
     "language": "python",
     "metadata": {},
     "outputs": [],
     "prompt_number": 5
    },
    {
     "cell_type": "heading",
     "level": 2,
     "metadata": {},
     "source": [
      "Run Simulation"
     ]
    },
    {
     "cell_type": "code",
     "collapsed": false,
     "input": [
      "ntraj = [1,5,15,904] # number of MC trajectories\n",
      "tlist = np.linspace(0,0.8,100)\n",
      "mc = mcsolve(H,psi0,tlist,c_ops,[a.dag()*a],ntraj)\n",
      "me = mesolve(H,psi0,tlist,c_ops, [a.dag()*a])"
     ],
     "language": "python",
     "metadata": {},
     "outputs": [
      {
       "output_type": "stream",
       "stream": "stdout",
       "text": [
        "10.1%. Run time:   0.17s. Est. time left: 00:00:00:01\n",
        "20.0%. Run time:   0.29s. Est. time left: 00:00:00:01\n",
        "30.1%. Run time:   0.41s. Est. time left: 00:00:00:00\n",
        "40.0%. Run time:   0.53s. Est. time left: 00:00:00:00\n",
        "50.0%. Run time:   0.65s. Est. time left: 00:00:00:00\n",
        "60.1%. Run time:   0.76s. Est. time left: 00:00:00:00\n",
        "70.0%. Run time:   0.89s. Est. time left: 00:00:00:00\n",
        "80.1%. Run time:   1.02s. Est. time left: 00:00:00:00\n",
        "90.0%. Run time:   1.14s. Est. time left: 00:00:00:00\n",
        "100.0%. Run time:   1.26s. Est. time left: 00:00:00:00\n",
        "Total run time:   1.34s"
       ]
      },
      {
       "output_type": "stream",
       "stream": "stdout",
       "text": [
        "\n"
       ]
      }
     ],
     "prompt_number": 6
    },
    {
     "cell_type": "heading",
     "level": 2,
     "metadata": {},
     "source": [
      "Plot Results"
     ]
    },
    {
     "cell_type": "code",
     "collapsed": false,
     "input": [
      "fig = plt.figure(figsize=(8, 8), frameon=False)\n",
      "plt.subplots_adjust(hspace=0.0)\n",
      "\n",
      "# Results for a single trajectory\n",
      "ax1 = plt.subplot(4,1,1)\n",
      "ax1.xaxis.tick_top()\n",
      "ax1.plot(tlist,mc.expect[0][0],'b',lw=2)\n",
      "ax1.set_xticks([0,0.2,0.4,0.6])\n",
      "ax1.set_yticks([0,0.5,1])\n",
      "ax1.set_ylim([-0.1,1.1])\n",
      "ax1.set_ylabel(r'$\\langle P_{1}(t)\\rangle$')\n",
      "\n",
      "# Results for five trajectories\n",
      "ax2 = plt.subplot(4,1,2)\n",
      "ax2.plot(tlist,mc.expect[1][0],'b',lw=2)\n",
      "ax2.set_yticks([0,0.5,1])\n",
      "ax2.set_ylim([-0.1,1.1])\n",
      "ax2.set_ylabel(r'$\\langle P_{1}(t)\\rangle$')\n",
      "\n",
      "# Results for fifteen trajectories\n",
      "ax3 = plt.subplot(4,1,3)\n",
      "ax3.plot(tlist,mc.expect[2][0],'b',lw=2)\n",
      "ax3.plot(tlist,me.expect[0],'r--',lw=2)\n",
      "ax3.set_yticks([0,0.5,1])\n",
      "ax3.set_ylim([-0.1,1.1])\n",
      "ax3.set_ylabel(r'$\\langle P_{1}(t)\\rangle$')\n",
      "\n",
      "# Results for 904 trajectories\n",
      "ax4 = plt.subplot(4,1,4)\n",
      "ax4.plot(tlist,mc.expect[3][0],'b',lw=2)\n",
      "ax4.plot(tlist,me.expect[0],'r--',lw=2)\n",
      "plt.xticks([0,0.2,0.4,0.6])\n",
      "plt.yticks([0,0.5,1])\n",
      "ax4.set_xlim([0,0.8])\n",
      "ax4.set_ylim([-0.1,1.1])\n",
      "ax4.set_xlabel(r'Time (s)')\n",
      "ax4.set_ylabel(r'$\\langle P_{1}(t)\\rangle$')\n",
      "\n",
      "xticklabels = ax2.get_xticklabels()+ax3.get_xticklabels()\n",
      "plt.setp(xticklabels, visible=False);"
     ],
     "language": "python",
     "metadata": {},
     "outputs": [
      {
       "metadata": {},
       "output_type": "display_data",
       "png": "[encoded data removed]",
       "text": [
        "<matplotlib.figure.Figure at 0x7f391889f710>"
       ]
      }
     ],
     "prompt_number": 7
    },
    {
     "cell_type": "heading",
     "level": 2,
     "metadata": {},
     "source": [
      "Versions"
     ]
    },
    {
     "cell_type": "code",
     "collapsed": false,
     "input": [
      "from qutip.ipynbtools import version_table\n",
      "\n",
      "version_table()"
     ],
     "language": "python",
     "metadata": {},
     "outputs": [
      {
       "html": [
        "<table><tr><th>Software</th><th>Version</th></tr><tr><td>OS</td><td>posix [linux]</td></tr><tr><td>Python</td><td>3.4.0 (default, Apr 11 2014, 13:05:11) \n",
        "[GCC 4.8.2]</td></tr><tr><td>Cython</td><td>0.21.2</td></tr><tr><td>IPython</td><td>2.3.1</td></tr><tr><td>Numpy</td><td>1.9.1</td></tr><tr><td>SciPy</td><td>0.14.1</td></tr><tr><td>QuTiP</td><td>3.1.0</td></tr><tr><td>matplotlib</td><td>1.4.2</td></tr><tr><td colspan='2'>Tue Jan 13 14:00:48 2015 JST</td></tr></table>"
       ],
       "metadata": {},
       "output_type": "pyout",
       "prompt_number": 8,
       "text": [
        "<IPython.core.display.HTML at 0x7f39153cbcf8>"
       ]
      }
     ],
     "prompt_number": 8
    }
   ],
   "metadata": {}
  }
 ]
}