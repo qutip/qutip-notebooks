{
 "metadata": {
  "name": "",
  "signature": "sha256:37da54a6739a16ec2f5269b3103c93d254b27c52e09432976af6646415167fb4"
 },
 "nbformat": 3,
 "nbformat_minor": 0,
 "worksheets": [
  {
   "cells": [
    {
     "cell_type": "heading",
     "level": 1,
     "metadata": {},
     "source": [
      "QuTiP example: Landau-Zener-Stuckelberg inteferometry"
     ]
    },
    {
     "cell_type": "markdown",
     "metadata": {},
     "source": [
      "J.R. Johansson and P.D. Nation\n",
      "\n",
      "For more information about QuTiP see [http://qutip.org](http://qutip.org)"
     ]
    },
    {
     "cell_type": "code",
     "collapsed": false,
     "input": [
      "%matplotlib inline"
     ],
     "language": "python",
     "metadata": {},
     "outputs": [],
     "prompt_number": 1
    },
    {
     "cell_type": "code",
     "collapsed": false,
     "input": [
      "import matplotlib.pyplot as plt"
     ],
     "language": "python",
     "metadata": {},
     "outputs": [],
     "prompt_number": 2
    },
    {
     "cell_type": "code",
     "collapsed": false,
     "input": [
      "import numpy as np"
     ],
     "language": "python",
     "metadata": {},
     "outputs": [],
     "prompt_number": 3
    },
    {
     "cell_type": "code",
     "collapsed": false,
     "input": [
      "from qutip import *\n",
      "from qutip.ui.progressbar import TextProgressBar as ProgressBar"
     ],
     "language": "python",
     "metadata": {},
     "outputs": [],
     "prompt_number": 4
    },
    {
     "cell_type": "markdown",
     "metadata": {},
     "source": [
      "Landau-Zener-Stuckelberg interferometry: Steady state of a strongly driven two-level system, using the one-period propagator. "
     ]
    },
    {
     "cell_type": "code",
     "collapsed": false,
     "input": [
      "# set up the parameters and start calculation\n",
      "delta  = 1.0  * 2 * np.pi  # qubit sigma_x coefficient\n",
      "w      = 2.0  * 2 * np.pi  # driving frequency\n",
      "T      = 2 * np.pi / w     # driving period \n",
      "gamma1 = 0.00001        # relaxation rate\n",
      "gamma2 = 0.005          # dephasing  rate\n",
      "\n",
      "eps_list = np.linspace(-20.0, 20.0, 101) * 2 * np.pi\n",
      "A_list   = np.linspace(  0.0, 20.0, 101) * 2 * np.pi\n",
      "\n",
      "# pre-calculate the necessary operators\n",
      "sx = sigmax(); sz = sigmaz(); sm = destroy(2); sn = num(2)\n",
      "\n",
      "# collapse operators\n",
      "c_op_list = [np.sqrt(gamma1) * sm, np.sqrt(gamma2) * sz]  # relaxation and dephasing"
     ],
     "language": "python",
     "metadata": {},
     "outputs": [],
     "prompt_number": 5
    },
    {
     "cell_type": "code",
     "collapsed": false,
     "input": [
      "# ODE settings (for list-str format)\n",
      "options = Options()\n",
      "options.rhs_reuse = True\n",
      "options.atol = 1e-6 # reduce accuracy to speed\n",
      "options.rtol = 1e-5 # up the calculation a bit"
     ],
     "language": "python",
     "metadata": {},
     "outputs": [],
     "prompt_number": 6
    },
    {
     "cell_type": "code",
     "collapsed": false,
     "input": [
      "# for function-callback style time-dependence\n",
      "def hamiltonian_t(t, args):\n",
      "    \"\"\" evaluate the hamiltonian at time t. \"\"\"\n",
      "    H0 = args[0]\n",
      "    H1 = args[1]\n",
      "    w  = args[2]\n",
      "    return H0 + H1 * np.sin(w * t)"
     ],
     "language": "python",
     "metadata": {},
     "outputs": [],
     "prompt_number": 7
    },
    {
     "cell_type": "code",
     "collapsed": false,
     "input": [
      "# perform the calculation for each combination of eps and A, store the result\n",
      "# in a matrix\n",
      "def calculate():\n",
      "\n",
      "    p_mat = np.zeros((len(eps_list), len(A_list)))\n",
      "\n",
      "    pbar = ProgressBar(len(eps_list))\n",
      "    \n",
      "    for m, eps in enumerate(eps_list):\n",
      "        H0 = - delta/2.0 * sx - eps/2.0 * sz\n",
      "\n",
      "        pbar.update(m)\n",
      "\n",
      "        for n, A in enumerate(A_list):\n",
      "            H1 = (A/2) * sz\n",
      "\n",
      "            # function callback format\n",
      "            #args = (H0, H1, w); H_td = hamiltonian_t\n",
      "\n",
      "            # list-str format\n",
      "            #args = {'w': w}; H_td = [H0, [H1, 'sin(w * t)']]\n",
      "\n",
      "            # list-function format\n",
      "            args = w; H_td = [H0, [H1, lambda t, w: np.sin(w * t)]]\n",
      "\n",
      "            U = propagator(H_td, T, c_op_list, args, options)\n",
      "            rho_ss = propagator_steadystate(U)\n",
      "\n",
      "            p_mat[m,n] = np.real(expect(sn, rho_ss))\n",
      "\n",
      "    return p_mat"
     ],
     "language": "python",
     "metadata": {},
     "outputs": [],
     "prompt_number": 8
    },
    {
     "cell_type": "code",
     "collapsed": false,
     "input": [
      "p_mat = calculate()"
     ],
     "language": "python",
     "metadata": {},
     "outputs": [
      {
       "output_type": "stream",
       "stream": "stdout",
       "text": [
        "10.9%. Run time: 2184.90s. Est. time left: 00:04:57:56\n"
       ]
      },
      {
       "output_type": "stream",
       "stream": "stdout",
       "text": [
        "20.8%. Run time: 3892.79s. Est. time left: 00:04:07:09\n"
       ]
      },
      {
       "output_type": "stream",
       "stream": "stdout",
       "text": [
        "30.7%. Run time: 5420.77s. Est. time left: 00:03:24:00\n"
       ]
      },
      {
       "output_type": "stream",
       "stream": "stdout",
       "text": [
        "40.6%. Run time: 6764.94s. Est. time left: 00:02:44:59\n"
       ]
      },
      {
       "output_type": "stream",
       "stream": "stdout",
       "text": [
        "50.5%. Run time: 8029.01s. Est. time left: 00:02:11:11\n"
       ]
      },
      {
       "output_type": "stream",
       "stream": "stdout",
       "text": [
        "60.4%. Run time: 9306.51s. Est. time left: 00:01:41:42\n"
       ]
      },
      {
       "output_type": "stream",
       "stream": "stdout",
       "text": [
        "70.3%. Run time: 10500.70s. Est. time left: 00:01:13:56\n"
       ]
      },
      {
       "output_type": "stream",
       "stream": "stdout",
       "text": [
        "80.2%. Run time: 11884.90s. Est. time left: 00:00:48:54\n"
       ]
      },
      {
       "output_type": "stream",
       "stream": "stdout",
       "text": [
        "90.1%. Run time: 13614.38s. Est. time left: 00:00:24:56\n"
       ]
      }
     ],
     "prompt_number": 9
    },
    {
     "cell_type": "code",
     "collapsed": false,
     "input": [
      "fig, ax = plt.subplots(figsize=(8, 8))\n",
      "\n",
      "A_mat, eps_mat = np.meshgrid(A_list/(2*np.pi), eps_list/(2*np.pi))\n",
      "\n",
      "ax.pcolor(eps_mat, A_mat, p_mat)\n",
      "ax.set_xlabel(r'Bias point $\\epsilon$')\n",
      "ax.set_ylabel(r'Amplitude $A$')\n",
      "ax.set_title(\"Steadystate excitation probability\\n\" +\n",
      "             r'$H = -\\frac{1}{2}\\Delta\\sigma_x -\\frac{1}{2}\\epsilon\\sigma_z - \\frac{1}{2}A\\sin(\\omega t)$' + \"\\n\");"
     ],
     "language": "python",
     "metadata": {},
     "outputs": [
      {
       "metadata": {},
       "output_type": "display_data",
       "png": "[encoded data removed]",
       "text": [
        "<matplotlib.figure.Figure at 0x7f1e949020f0>"
       ]
      }
     ],
     "prompt_number": 10
    },
    {
     "cell_type": "heading",
     "level": 2,
     "metadata": {},
     "source": [
      "Versions"
     ]
    },
    {
     "cell_type": "code",
     "collapsed": false,
     "input": [
      "from qutip.ipynbtools import version_table\n",
      "\n",
      "version_table()"
     ],
     "language": "python",
     "metadata": {},
     "outputs": [
      {
       "html": [
        "<table><tr><th>Software</th><th>Version</th></tr><tr><td>SciPy</td><td>0.14.1</td></tr><tr><td>Numpy</td><td>1.9.1</td></tr><tr><td>Python</td><td>3.4.0 (default, Apr 11 2014, 13:05:11) \n",
        "[GCC 4.8.2]</td></tr><tr><td>OS</td><td>posix [linux]</td></tr><tr><td>matplotlib</td><td>1.4.2</td></tr><tr><td>QuTiP</td><td>3.1.0</td></tr><tr><td>IPython</td><td>2.3.1</td></tr><tr><td>Cython</td><td>0.21.2</td></tr><tr><td colspan='2'>Tue Jan 13 21:11:28 2015 JST</td></tr></table>"
       ],
       "metadata": {},
       "output_type": "pyout",
       "prompt_number": 12,
       "text": [
        "<IPython.core.display.HTML at 0x7f1e943729b0>"
       ]
      }
     ],
     "prompt_number": 12
    }
   ],
   "metadata": {}
  }
 ]
}