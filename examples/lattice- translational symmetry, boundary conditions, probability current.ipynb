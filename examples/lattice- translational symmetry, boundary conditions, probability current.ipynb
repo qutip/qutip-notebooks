{
 "cells": [
  {
   "cell_type": "markdown",
   "metadata": {},
   "source": [
    "# Translational symmetry, boundary conditions, probability current"
   ]
  },
  {
   "cell_type": "markdown",
   "metadata": {},
   "source": [
    "Saumya Biswas (sbiswas4@umd.edu)\n",
    "\n",
    "For more information about QuTiP see [http://qutip.org](http://qutip.org)\n",
    "\n",
    "We introduce the basic functionality of QuTiPs Lattice1d class of the lattice module."
   ]
  },
  {
   "cell_type": "markdown",
   "metadata": {},
   "source": [
    "## Bloch's theorem, Born von Karmen (Periodic) Boundary Condition\n",
    "In a crystal with periodic boundary condition, the wave function of a particle assumes the Bloch form resolvable into the product of a plain wave($|k \\rangle$) and a cell periodic part($| u_{n}(k) \\rangle$).\n",
    "\\begin{eqnarray}\n",
    "|\\psi_n(k) \\rangle = |k \\rangle \\otimes | u_{n}(k) \\rangle \n",
    "\\end{eqnarray}"
   ]
  },
  {
   "cell_type": "markdown",
   "metadata": {},
   "source": [
    "The periodicity of the crystal limits the crystal momenta, k to a set of discrete values(as many as the number of cells(L) in the crystal).\n",
    "We name this set $k_{lat}$ and enumerate the crystal momenta of the $k_{lat}$ with the wave-vector associated with them.\n"
   ]
  },
  {
   "cell_type": "markdown",
   "metadata": {},
   "source": [
    "In a 1d crystal of L cells, for $k \\in k_{lat}$, k is one of the values,\n",
    "\\begin{eqnarray}\n",
    "k = \\frac{2\\pi}{La}\\times n, \\ \\ \\ \\ \\ \\text{where} \\ \\ \\ n = 0,1,2,...., L-1 \\ \\ \\text{and a is the length of the unit cell}\n",
    "\\end{eqnarray}"
   ]
  },
  {
   "cell_type": "markdown",
   "metadata": {},
   "source": [
    "We choose the convention where k values are centered around 0."
   ]
  },
  {
   "cell_type": "markdown",
   "metadata": {},
   "source": [
    "\\begin{eqnarray}\n",
    "k = \\frac{2\\pi}{La}\\times (n - \\frac{L}{2}+ mod(L+1,2) ), \\ \\ \\ \\ \\ \\text{where} \\ \\ \\ n = 0,1,2,...., L-1 \\ \\ \\text{and a is the length of the unit cell}\n",
    "\\end{eqnarray}"
   ]
  },
  {
   "cell_type": "markdown",
   "metadata": {},
   "source": [
    "<font color='blue'> Important Convention note for qutip.lattice: The length of the unit cell (an integer multiple of the lattice constant a) is always set to 1.  </font>"
   ]
  },
  {
   "cell_type": "markdown",
   "metadata": {},
   "source": [
    "## The Crystal Momentum Operator\n",
    "Like any operator with discrete eigenvalues, the crystal momentum operator can be formed as a sum of its projections into all the individual eigen-kets.\n",
    "\\begin{eqnarray}\n",
    "\\hat{\\bf{k}} = \\sum\\limits_{k \\in k_{lat}} k| k \\rangle \\langle k |\n",
    "\\end{eqnarray}\n"
   ]
  },
  {
   "cell_type": "markdown",
   "metadata": {},
   "source": [
    "We enumerate the position operator with the index, j. So a complete set of position eigenkets have corresponding position eigenvalues labeled as, \n",
    "\\begin{eqnarray}\n",
    "x = ja ,\\ \\ \\ \\ \\ \\ \\ \\text{where} j = 0, 1, 2, ..., L-1\n",
    "\\end{eqnarray}\n",
    "Each position eigenket defined as such simply refer to a particle localized at a certain cell, j. We label these position eigenkets as $|j\\rangle$"
   ]
  },
  {
   "cell_type": "markdown",
   "metadata": {},
   "source": [
    "The momentum eigenfunctions in the position basis are the properly normalized plane waves(continuum state normalization).\n",
    "\\begin{eqnarray}\n",
    "\\langle j|k \\rangle = \\sqrt{\\frac{a}{h}} e^{i \\frac{2\\pi x}{L}j } \\\\\n",
    "\\langle k'| k \\rangle = \\delta(k-k')\n",
    "\\end{eqnarray}\n",
    "The $\\langle j|k \\rangle$ have the dimension of $[\\text{momentum dimension}]^{-\\frac{1}{2}}$\n",
    "\n",
    "The matrix elements of the crystal momentum operator($\\hat{\\bf{k}}$) in the basis of ${|j \\rangle}$ are formed as follows\n",
    "\\begin{eqnarray}\n",
    "\\langle j|k|j' \\rangle = \\sum\\limits_{k \\in k_{lat}} k\\langle j | k \\rangle \\langle k |j' \\rangle \\ \\ \\ \\ \\ \\ \\ \\ \\ \\ \\ \\ \\ \\ \\ \\ \\ \\ \\ \\ \\ \\ \\ \\ \\ \\\\\n",
    "=\\frac{1}{h} \\frac{2\\pi}{L}\\sum\\limits_{n=0}^{L-1} (n-\\frac{L}{2}+mod(L+1,2)) e^{-i \\frac{2\\pi n}{L}(j'-j) } \\ \\ \\ \\ \\ \\ \\\\\n",
    "\\end{eqnarray}\n"
   ]
  },
  {
   "cell_type": "markdown",
   "metadata": {},
   "source": [
    "### Example usage of qutip.lattice.k() "
   ]
  },
  {
   "cell_type": "code",
   "execution_count": 1,
   "metadata": {},
   "outputs": [],
   "source": [
    "from qutip_lattice import *\n",
    "import matplotlib.pyplot as plt\n",
    "import numpy as np"
   ]
  },
  {
   "cell_type": "code",
   "execution_count": 2,
   "metadata": {},
   "outputs": [],
   "source": [
    "periodic_atom_chain8 = Lattice1d(num_cell=8, boundary = \"periodic\")\n",
    "k8 = periodic_atom_chain8.k()"
   ]
  },
  {
   "cell_type": "code",
   "execution_count": 3,
   "metadata": {},
   "outputs": [],
   "source": [
    "[ks8, pw8] = k8.eigenstates()"
   ]
  },
  {
   "cell_type": "code",
   "execution_count": 4,
   "metadata": {},
   "outputs": [
    {
     "data": {
      "text/plain": [
       "array([-2.35619449, -1.57079633, -0.78539816,  0.        ,  0.78539816,\n",
       "        1.57079633,  2.35619449,  3.14159265])"
      ]
     },
     "execution_count": 4,
     "metadata": {},
     "output_type": "execute_result"
    }
   ],
   "source": [
    "ks8"
   ]
  },
  {
   "cell_type": "markdown",
   "metadata": {},
   "source": [
    "The values of ks8 are better understood if multiplied by $8/(2\\pi)$"
   ]
  },
  {
   "cell_type": "code",
   "execution_count": 5,
   "metadata": {},
   "outputs": [
    {
     "data": {
      "text/plain": [
       "array([-3., -2., -1.,  0.,  1.,  2.,  3.,  4.])"
      ]
     },
     "execution_count": 5,
     "metadata": {},
     "output_type": "execute_result"
    }
   ],
   "source": [
    "ks8 * (8/2/np.pi)"
   ]
  },
  {
   "cell_type": "code",
   "execution_count": 6,
   "metadata": {},
   "outputs": [
    {
     "data": {
      "text/latex": [
       "Quantum object: dims = [[8], [1]], shape = (8, 1), type = ket\\begin{equation*}\\left(\\begin{array}{*{11}c}0.354\\\\0.354\\\\0.354\\\\0.354\\\\0.354\\\\0.354\\\\0.354\\\\0.354\\\\\\end{array}\\right)\\end{equation*}"
      ],
      "text/plain": [
       "Quantum object: dims = [[8], [1]], shape = (8, 1), type = ket\n",
       "Qobj data =\n",
       "[[0.35355339]\n",
       " [0.35355339]\n",
       " [0.35355339]\n",
       " [0.35355339]\n",
       " [0.35355339]\n",
       " [0.35355339]\n",
       " [0.35355339]\n",
       " [0.35355339]]"
      ]
     },
     "execution_count": 6,
     "metadata": {},
     "output_type": "execute_result"
    }
   ],
   "source": [
    "pw8[3] # ks8[3] = 0 has an eigenvector that has a frequency of 0 and wavelength of\n",
    "       # infinity, the eigen-vector is normalized to unity, meaning the sum of all\n",
    "       # the elements sqared is 1"
   ]
  },
  {
   "cell_type": "code",
   "execution_count": 9,
   "metadata": {},
   "outputs": [
    {
     "data": {
      "image/png": "[encoded data removed]",
      "text/plain": [
       "<Figure size 432x288 with 1 Axes>"
      ]
     },
     "metadata": {
      "needs_background": "light"
     },
     "output_type": "display_data"
    }
   ],
   "source": [
    "# The eigenvectors are better demonstrated with a latice of longer length\n",
    "# Here we plot the second and third eigen-vectors(real and imaginary parts) of the first\n",
    "# 3 eigenvectors of the crystal momentum operator for a 1d lattice with 64 cells\n",
    "periodic_atom_chain64 = Lattice1d(num_cell=64, boundary = \"periodic\")\n",
    "k64 = periodic_atom_chain64.k()\n",
    "[ks64, pw64] = k64.eigenstates()\n",
    "plt.plot(np.real(pw64[32].full()),'r')\n",
    "plt.plot(np.imag(pw64[32].full()),'b')\n",
    "plt.plot(np.abs(pw64[32].full()),'g')\n",
    "plt.xlabel('position')\n",
    "plt.ylabel('crystal momentum eigen vector')\n",
    "plt.show()\n",
    "plt.close()"
   ]
  },
  {
   "cell_type": "code",
   "execution_count": 10,
   "metadata": {},
   "outputs": [
    {
     "data": {
      "image/png": "[encoded data removed]",
      "text/plain": [
       "<Figure size 432x288 with 1 Axes>"
      ]
     },
     "metadata": {
      "needs_background": "light"
     },
     "output_type": "display_data"
    }
   ],
   "source": [
    "k64 = periodic_atom_chain64.k()\n",
    "[ks64, pw64] = k64.eigenstates()\n",
    "plt.plot(np.real(pw64[33].full()),'r')\n",
    "plt.plot(np.imag(pw64[33].full()),'b')\n",
    "plt.plot(np.abs(pw64[33].full()),'g')\n",
    "plt.xlabel('position')\n",
    "plt.ylabel('crystal momentum eigen vector')\n",
    "plt.show()\n",
    "plt.close()"
   ]
  },
  {
   "cell_type": "markdown",
   "metadata": {},
   "source": [
    "## Simultaneous eigenstates of the Hamiltonian and the crystal momentum operator: Plane waves"
   ]
  },
  {
   "cell_type": "code",
   "execution_count": 11,
   "metadata": {},
   "outputs": [],
   "source": [
    "Hamt8 = periodic_atom_chain8.Hamiltonian()"
   ]
  },
  {
   "cell_type": "code",
   "execution_count": 12,
   "metadata": {},
   "outputs": [],
   "source": [
    "pw8_M = np.array([pw8[0].full(),pw8[1].full(),pw8[2].full(),pw8[3].full(),\n",
    "       pw8[4].full(),pw8[5].full(),pw8[6].full(),pw8[7].full()])\n",
    "pw8_M = np.squeeze(pw8_M, axis=2)  # changing shape from (8,8,1) to (8,8)\n",
    "     # pw8_M is a matrix of 8 columns, each of which are the eigenvectors\n",
    "     # of the crystal momentum operator\n",
    "pw8_M = Qobj(pw8_M)"
   ]
  },
  {
   "cell_type": "markdown",
   "metadata": {},
   "source": [
    "pw8_M is a matrix whose columns are the eigen-vectors of the crystal momentum operator."
   ]
  },
  {
   "cell_type": "code",
   "execution_count": 13,
   "metadata": {},
   "outputs": [
    {
     "data": {
      "text/latex": [
       "Quantum object: dims = [[8], [8]], shape = (8, 8), type = oper, isherm = True\\begin{equation*}\\left(\\begin{array}{*{11}c}1.414 & 0.0 & 0.0 & 0.0 & 0.0 & 0.0 & 0.0 & 0.0\\\\0.0 & 0.0 & 0.0 & 0.0 & 0.0 & 0.0 & 0.0 & 0.0\\\\0.0 & 0.0 & -1.414 & 0.0 & 0.0 & 0.0 & 0.0 & 0.0\\\\0.0 & 0.0 & 0.0 & -2.0 & 0.0 & 0.0 & 0.0 & 0.0\\\\0.0 & 0.0 & 0.0 & 0.0 & -1.414 & 0.0 & 0.0 & 0.0\\\\0.0 & 0.0 & 0.0 & 0.0 & 0.0 & 0.0 & 0.0 & 0.0\\\\0.0 & 0.0 & 0.0 & 0.0 & 0.0 & 0.0 & 1.414 & 0.0\\\\0.0 & 0.0 & 0.0 & 0.0 & 0.0 & 0.0 & 0.0 & 2.0\\\\\\end{array}\\right)\\end{equation*}"
      ],
      "text/plain": [
       "Quantum object: dims = [[8], [8]], shape = (8, 8), type = oper, isherm = True\n",
       "Qobj data =\n",
       "[[ 1.41421356  0.          0.          0.          0.          0.\n",
       "   0.          0.        ]\n",
       " [ 0.          0.          0.          0.          0.          0.\n",
       "   0.          0.        ]\n",
       " [ 0.          0.         -1.41421356  0.          0.          0.\n",
       "   0.          0.        ]\n",
       " [ 0.          0.          0.         -2.          0.          0.\n",
       "   0.          0.        ]\n",
       " [ 0.          0.          0.          0.         -1.41421356  0.\n",
       "   0.          0.        ]\n",
       " [ 0.          0.          0.          0.          0.          0.\n",
       "   0.          0.        ]\n",
       " [ 0.          0.          0.          0.          0.          0.\n",
       "   1.41421356  0.        ]\n",
       " [ 0.          0.          0.          0.          0.          0.\n",
       "   0.          2.        ]]"
      ]
     },
     "execution_count": 13,
     "metadata": {},
     "output_type": "execute_result"
    }
   ],
   "source": [
    "pw8_M * Hamt8 * pw8_M.dag()"
   ]
  },
  {
   "cell_type": "markdown",
   "metadata": {},
   "source": [
    "Therefore, pw8_M.dag() is the linear transformation that diagonalizes the Hamt8 matrix."
   ]
  },
  {
   "cell_type": "markdown",
   "metadata": {},
   "source": [
    "This is exactly what is done inside the get_dispersion() and plot_dispersion() methods. The tranformation from site basis to the plane wave basis (eigenstates of the crystal momentum operator) diagonalizes the Hamiltonian."
   ]
  },
  {
   "cell_type": "code",
   "execution_count": 14,
   "metadata": {},
   "outputs": [
    {
     "data": {
      "image/png": "[encoded data removed]",
      "text/plain": [
       "<Figure size 432x288 with 1 Axes>"
      ]
     },
     "metadata": {
      "needs_background": "light"
     },
     "output_type": "display_data"
    },
    {
     "name": "stdout",
     "output_type": "stream",
     "text": [
      "[[-3.14159265]\n",
      " [-2.35619449]\n",
      " [-1.57079633]\n",
      " [-0.78539816]\n",
      " [ 0.        ]\n",
      " [ 0.78539816]\n",
      " [ 1.57079633]\n",
      " [ 2.35619449]]\n",
      "[[ 2.          1.41421356  0.         -1.41421356 -2.         -1.41421356\n",
      "   0.          1.41421356]]\n"
     ]
    }
   ],
   "source": [
    "periodic_atom_chain8.plot_dispersion()\n",
    "[knxA,val_kns] = periodic_atom_chain8.get_dispersion()\n",
    "print(knxA)\n",
    "print(val_kns)"
   ]
  },
  {
   "cell_type": "markdown",
   "metadata": {},
   "source": [
    "So, eigenvectors of the crystal momentum are eigenvectors of the Hamiltonian as \n",
    "well. This is a consequence of the translational symmetry of the lattice. The generator of the lattice translational operator is the crystal momentum operator. Due to the translational symmetry, the lattice translational operator, the crystal momentum and the Hamiltonian all commute with each other. So they can have simultaneous eigenstates."
   ]
  },
  {
   "cell_type": "code",
   "execution_count": 15,
   "metadata": {},
   "outputs": [
    {
     "data": {
      "text/latex": [
       "Quantum object: dims = [[8], [8]], shape = (8, 8), type = oper, isherm = True\\begin{equation*}\\left(\\begin{array}{*{11}c}0.0 & 0.0 & 0.0 & 0.0 & 0.0 & 0.0 & 0.0 & 0.0\\\\0.0 & 0.0 & 0.0 & 0.0 & 0.0 & 0.0 & 0.0 & 0.0\\\\0.0 & 0.0 & 0.0 & 0.0 & 0.0 & 0.0 & 0.0 & 0.0\\\\0.0 & 0.0 & 0.0 & 0.0 & 0.0 & 0.0 & 0.0 & 0.0\\\\0.0 & 0.0 & 0.0 & 0.0 & 0.0 & 0.0 & 0.0 & 0.0\\\\0.0 & 0.0 & 0.0 & 0.0 & 0.0 & 0.0 & 0.0 & 0.0\\\\0.0 & 0.0 & 0.0 & 0.0 & 0.0 & 0.0 & 0.0 & 0.0\\\\0.0 & 0.0 & 0.0 & 0.0 & 0.0 & 0.0 & 0.0 & 0.0\\\\\\end{array}\\right)\\end{equation*}"
      ],
      "text/plain": [
       "Quantum object: dims = [[8], [8]], shape = (8, 8), type = oper, isherm = True\n",
       "Qobj data =\n",
       "[[0. 0. 0. 0. 0. 0. 0. 0.]\n",
       " [0. 0. 0. 0. 0. 0. 0. 0.]\n",
       " [0. 0. 0. 0. 0. 0. 0. 0.]\n",
       " [0. 0. 0. 0. 0. 0. 0. 0.]\n",
       " [0. 0. 0. 0. 0. 0. 0. 0.]\n",
       " [0. 0. 0. 0. 0. 0. 0. 0.]\n",
       " [0. 0. 0. 0. 0. 0. 0. 0.]\n",
       " [0. 0. 0. 0. 0. 0. 0. 0.]]"
      ]
     },
     "execution_count": 15,
     "metadata": {},
     "output_type": "execute_result"
    }
   ],
   "source": [
    "# A check that the Hamiltonian and the crystal momentum operator do indeed commute\n",
    "Hamt8 * k8 - k8 * Hamt8"
   ]
  },
  {
   "cell_type": "code",
   "execution_count": 16,
   "metadata": {},
   "outputs": [
    {
     "data": {
      "text/latex": [
       "Quantum object: dims = [[8], [8]], shape = (8, 8), type = oper, isherm = False\\begin{equation*}\\left(\\begin{array}{*{11}c}0.354 & (-0.250-0.250j) & 0.354j & (0.250-0.250j) & -0.354 & (0.250+0.250j) & -0.354j & (-0.250+0.250j)\\\\0.354 & -0.354j & -0.354 & 0.354j & 0.354 & -0.354j & -0.354 & 0.354j\\\\0.354 & (0.250-0.250j) & -0.354j & (-0.250-0.250j) & -0.354 & (-0.250+0.250j) & 0.354j & (0.250+0.250j)\\\\0.354 & 0.354 & 0.354 & 0.354 & 0.354 & 0.354 & 0.354 & 0.354\\\\0.354 & (0.250+0.250j) & 0.354j & (-0.250+0.250j) & -0.354 & (-0.250-0.250j) & -0.354j & (0.250-0.250j)\\\\0.354 & 0.354j & -0.354 & -0.354j & 0.354 & 0.354j & -0.354 & -0.354j\\\\-0.354 & (0.250-0.250j) & 0.354j & (-0.250-0.250j) & 0.354 & (-0.250+0.250j) & -0.354j & (0.250+0.250j)\\\\0.354 & -0.354 & 0.354 & -0.354 & 0.354 & -0.354 & 0.354 & -0.354\\\\\\end{array}\\right)\\end{equation*}"
      ],
      "text/plain": [
       "Quantum object: dims = [[8], [8]], shape = (8, 8), type = oper, isherm = False\n",
       "Qobj data =\n",
       "[[ 0.35355339+0.j         -0.25      -0.25j        0.        +0.35355339j\n",
       "   0.25      -0.25j       -0.35355339+0.j          0.25      +0.25j\n",
       "   0.        -0.35355339j -0.25      +0.25j      ]\n",
       " [ 0.35355339+0.j          0.        -0.35355339j -0.35355339+0.j\n",
       "   0.        +0.35355339j  0.35355339+0.j          0.        -0.35355339j\n",
       "  -0.35355339+0.j          0.        +0.35355339j]\n",
       " [ 0.35355339+0.j          0.25      -0.25j        0.        -0.35355339j\n",
       "  -0.25      -0.25j       -0.35355339+0.j         -0.25      +0.25j\n",
       "   0.        +0.35355339j  0.25      +0.25j      ]\n",
       " [ 0.35355339+0.j          0.35355339+0.j          0.35355339+0.j\n",
       "   0.35355339+0.j          0.35355339+0.j          0.35355339+0.j\n",
       "   0.35355339+0.j          0.35355339+0.j        ]\n",
       " [ 0.35355339+0.j          0.25      +0.25j        0.        +0.35355339j\n",
       "  -0.25      +0.25j       -0.35355339+0.j         -0.25      -0.25j\n",
       "   0.        -0.35355339j  0.25      -0.25j      ]\n",
       " [ 0.35355339+0.j          0.        +0.35355339j -0.35355339+0.j\n",
       "   0.        -0.35355339j  0.35355339+0.j          0.        +0.35355339j\n",
       "  -0.35355339+0.j          0.        -0.35355339j]\n",
       " [-0.35355339+0.j          0.25      -0.25j        0.        +0.35355339j\n",
       "  -0.25      -0.25j        0.35355339+0.j         -0.25      +0.25j\n",
       "   0.        -0.35355339j  0.25      +0.25j      ]\n",
       " [ 0.35355339+0.j         -0.35355339+0.j          0.35355339+0.j\n",
       "  -0.35355339+0.j          0.35355339+0.j         -0.35355339+0.j\n",
       "   0.35355339+0.j         -0.35355339+0.j        ]]"
      ]
     },
     "execution_count": 16,
     "metadata": {},
     "output_type": "execute_result"
    }
   ],
   "source": [
    "pw8_M"
   ]
  },
  {
   "cell_type": "code",
   "execution_count": 24,
   "metadata": {},
   "outputs": [
    {
     "name": "stdout",
     "output_type": "stream",
     "text": [
      "Quantum object: dims = [[1], [8]], shape = (1, 8), type = bra\n",
      "Qobj data =\n",
      "[[ 0.          0.35355339  0.         -0.35355339  0.          0.35355339\n",
      "   0.         -0.35355339]]\n",
      "Quantum object: dims = [[1], [8]], shape = (1, 8), type = bra\n",
      "Qobj data =\n",
      "[[-0.35355339  0.          0.          0.          0.          0.\n",
      "   0.          0.        ]]\n"
     ]
    }
   ],
   "source": [
    "aperiodic_atom_chain8 = Lattice1d(num_cell=8, boundary = \"aperiodic\")\n",
    "aHamt8 = aperiodic_atom_chain8.Hamiltonian()\n",
    "ix = 5\n",
    "cos8_M = (pw8[ix] + pw8[ix].conj())/2\n",
    "sin8_M = (pw8[ix] - pw8[ix].conj())/2j\n",
    "ecol = aHamt8 * sin8_M\n",
    "print(sin8_M.dag())\n",
    "print(ecol.dag())\n",
    "#print(ecol * (sin8_M[1]/ecol[1]))"
   ]
  },
  {
   "cell_type": "code",
   "execution_count": 23,
   "metadata": {},
   "outputs": [
    {
     "name": "stdout",
     "output_type": "stream",
     "text": [
      "[[0. 0. 0. 0. 0. 0. 0. 0.]]\n"
     ]
    },
    {
     "name": "stderr",
     "output_type": "stream",
     "text": [
      "/home/ssaumya7/anaconda_21/envs/serenity/lib/python3.6/site-packages/numpy/core/_asarray.py:83: ComplexWarning: Casting complex values to real discards the imaginary part\n",
      "  return array(a, dtype, copy=False, order=order)\n"
     ]
    },
    {
     "data": {
      "image/png": "[encoded data removed]",
      "text/plain": [
       "<Figure size 432x288 with 1 Axes>"
      ]
     },
     "metadata": {
      "needs_background": "light"
     },
     "output_type": "display_data"
    }
   ],
   "source": [
    "type(pw8_M)\n",
    "#cos8_M = (pw8_M + pw8_M.conj())/2\n",
    "#sin8_M = (pw8_M - pw8_M.conj())/2j\n",
    "\n",
    "nI = np.arange(0,8,1)\n",
    "Row1 = sin8_M[7, :]\n",
    "print(np.imag(Row1))\n",
    "\n",
    "\n",
    "plt.plot(nI,Row1.T,'bo')\n",
    "plt.show()\n",
    "plt.close()"
   ]
  },
  {
   "cell_type": "code",
   "execution_count": 25,
   "metadata": {},
   "outputs": [
    {
     "name": "stdout",
     "output_type": "stream",
     "text": [
      "Quantum object: dims = [[8], [8]], shape = (8, 8), type = oper, isherm = True\n",
      "Qobj data =\n",
      "[[ 0.         -0.35355339  0.          0.          0.          0.\n",
      "   0.          0.        ]\n",
      " [-0.35355339  0.         -0.35355339  0.          0.          0.\n",
      "   0.          0.        ]\n",
      " [ 0.         -0.35355339  0.         -0.35355339  0.          0.\n",
      "   0.          0.        ]\n",
      " [ 0.          0.         -0.35355339  0.         -0.35355339  0.\n",
      "   0.          0.        ]\n",
      " [ 0.          0.          0.         -0.35355339  0.         -0.35355339\n",
      "   0.          0.        ]\n",
      " [ 0.          0.          0.          0.         -0.35355339  0.\n",
      "  -0.35355339  0.        ]\n",
      " [ 0.          0.          0.          0.          0.         -0.35355339\n",
      "   0.         -0.35355339]\n",
      " [ 0.          0.          0.          0.          0.          0.\n",
      "  -0.35355339  0.        ]]\n",
      "Quantum object: dims = [[1], [1]], shape = (1, 1), type = bra\n",
      "Qobj data =\n",
      "[[0.35355339]]\n"
     ]
    }
   ],
   "source": [
    "Col = Qobj(cos8_M[0,:])\n",
    "eCol = aHamt8 * Col.dag()\n",
    "print(eCol)\n",
    "print(Col)\n",
    "Quot = np.divide(eCol.full(), Col.dag().full())\n"
   ]
  },
  {
   "cell_type": "code",
   "execution_count": 18,
   "metadata": {},
   "outputs": [
    {
     "data": {
      "text/latex": [
       "Quantum object: dims = [[8], [8]], shape = (8, 8), type = oper, isherm = True\\begin{equation*}\\left(\\begin{array}{*{11}c}0.707 & 0.0 & 0.0 & 0.0 & 0.0 & 0.0 & 0.707 & 0.0\\\\0.0 & 0.0 & 0.0 & 0.0 & 0.0 & 0.0 & 0.0 & 0.0\\\\0.0 & 0.0 & -0.707 & 0.0 & 0.707 & 0.0 & 0.0 & 0.0\\\\0.0 & 0.0 & 0.0 & 0.0 & 0.0 & 0.0 & 0.0 & 0.0\\\\0.0 & 0.0 & 0.707 & 0.0 & -0.707 & 0.0 & 0.0 & 0.0\\\\0.0 & 0.0 & 0.0 & 0.0 & 0.0 & 0.0 & 0.0 & 0.0\\\\0.707 & 0.0 & 0.0 & 0.0 & 0.0 & 0.0 & 0.707 & 0.0\\\\0.0 & 0.0 & 0.0 & 0.0 & 0.0 & 0.0 & 0.0 & 0.0\\\\\\end{array}\\right)\\end{equation*}"
      ],
      "text/plain": [
       "Quantum object: dims = [[8], [8]], shape = (8, 8), type = oper, isherm = True\n",
       "Qobj data =\n",
       "[[ 0.70710678  0.          0.          0.          0.          0.\n",
       "   0.70710678  0.        ]\n",
       " [ 0.          0.          0.          0.          0.          0.\n",
       "   0.          0.        ]\n",
       " [ 0.          0.         -0.70710678  0.          0.70710678  0.\n",
       "   0.          0.        ]\n",
       " [ 0.          0.          0.          0.          0.          0.\n",
       "   0.          0.        ]\n",
       " [ 0.          0.          0.70710678  0.         -0.70710678  0.\n",
       "   0.          0.        ]\n",
       " [ 0.          0.          0.          0.          0.          0.\n",
       "   0.          0.        ]\n",
       " [ 0.70710678  0.          0.          0.          0.          0.\n",
       "   0.70710678  0.        ]\n",
       " [ 0.          0.          0.          0.          0.          0.\n",
       "   0.          0.        ]]"
      ]
     },
     "execution_count": 18,
     "metadata": {},
     "output_type": "execute_result"
    }
   ],
   "source": [
    "sin8_M * Hamt8 * sin8_M.dag()"
   ]
  },
  {
   "cell_type": "code",
   "execution_count": 19,
   "metadata": {},
   "outputs": [
    {
     "data": {
      "text/latex": [
       "Quantum object: dims = [[8], [8]], shape = (8, 8), type = oper, isherm = True\\begin{equation*}\\left(\\begin{array}{*{11}c}1.414 & 0.0 & 0.0 & 0.0 & 0.0 & 0.0 & 0.0 & 0.0\\\\0.0 & 0.0 & 0.0 & 0.0 & 0.0 & 0.0 & 0.0 & 0.0\\\\0.0 & 0.0 & -1.414 & 0.0 & 0.0 & 0.0 & 0.0 & 0.0\\\\0.0 & 0.0 & 0.0 & -2.0 & 0.0 & 0.0 & 0.0 & 0.0\\\\0.0 & 0.0 & 0.0 & 0.0 & -1.414 & 0.0 & 0.0 & 0.0\\\\0.0 & 0.0 & 0.0 & 0.0 & 0.0 & 0.0 & 0.0 & 0.0\\\\0.0 & 0.0 & 0.0 & 0.0 & 0.0 & 0.0 & 1.414 & 0.0\\\\0.0 & 0.0 & 0.0 & 0.0 & 0.0 & 0.0 & 0.0 & 2.0\\\\\\end{array}\\right)\\end{equation*}"
      ],
      "text/plain": [
       "Quantum object: dims = [[8], [8]], shape = (8, 8), type = oper, isherm = True\n",
       "Qobj data =\n",
       "[[ 1.41421356  0.          0.          0.          0.          0.\n",
       "   0.          0.        ]\n",
       " [ 0.          0.          0.          0.          0.          0.\n",
       "   0.          0.        ]\n",
       " [ 0.          0.         -1.41421356  0.          0.          0.\n",
       "   0.          0.        ]\n",
       " [ 0.          0.          0.         -2.          0.          0.\n",
       "   0.          0.        ]\n",
       " [ 0.          0.          0.          0.         -1.41421356  0.\n",
       "   0.          0.        ]\n",
       " [ 0.          0.          0.          0.          0.          0.\n",
       "   0.          0.        ]\n",
       " [ 0.          0.          0.          0.          0.          0.\n",
       "   1.41421356  0.        ]\n",
       " [ 0.          0.          0.          0.          0.          0.\n",
       "   0.          2.        ]]"
      ]
     },
     "execution_count": 19,
     "metadata": {},
     "output_type": "execute_result"
    }
   ],
   "source": [
    "pw8_M * Hamt8 * pw8_M.dag()"
   ]
  },
  {
   "cell_type": "markdown",
   "metadata": {},
   "source": [
    "## Simultaneous eigenstates of the Hamiltonian and the Translational operator: Bloch Wavefunctions"
   ]
  },
  {
   "cell_type": "markdown",
   "metadata": {},
   "source": [
    "Because of the periodic potential of the lattice, the eigestate of the Hamiltonian are to be in the Bloch wavefunction form.\n",
    "\\begin{eqnarray}\n",
    "|\\psi_n(k) \\rangle = |k \\rangle \\otimes | u_{n}(k) \\rangle   \\nonumber \\\\\n",
    "\\end{eqnarray}\n",
    "The vectors $| u_{nk}(r) \\rangle \\in H_{internal}$ are the eigenstates of the bulk momentum space Hamiltonian $H(k)$ defined as\n",
    "\\begin{eqnarray}\n",
    "\\langle k | H_{bulk} | k \\rangle = \\sum\\limits_{\\alpha,\\beta,\\gamma,... \\in {H_{internal}}} \\langle k, \\alpha | H_{bulk} | k, \\beta \\rangle | \\alpha \\rangle \\langle \\beta |  \\nonumber \\\\\n",
    "H(k)|u_{n}(k) \\rangle = E_n(k)| u_{n}(k) \\rangle\n",
    "\\end{eqnarray}"
   ]
  },
  {
   "cell_type": "markdown",
   "metadata": {},
   "source": [
    "In the case of a perioodic atom chain, $H_{bulk}$ is a matrix of dimension $1\\times1$ as the set $\\{\\alpha, \\beta, \\gamma, ...\\}$ has only one member and is $\\{\\alpha\\}$. The array of $| u_{n}(k) \\rangle  $ at the array of the corresponding crystal momentums, k are available through lattice1d.cell_periodic_parts()."
   ]
  },
  {
   "cell_type": "code",
   "execution_count": 20,
   "metadata": {},
   "outputs": [
    {
     "name": "stdout",
     "output_type": "stream",
     "text": [
      "[[-3.14159265]\n",
      " [-2.35619449]\n",
      " [-1.57079633]\n",
      " [-0.78539816]\n",
      " [ 0.        ]\n",
      " [ 0.78539816]\n",
      " [ 1.57079633]\n",
      " [ 2.35619449]]\n",
      "[[[1.+0.j]]\n",
      "\n",
      " [[1.+0.j]]\n",
      "\n",
      " [[1.+0.j]]\n",
      "\n",
      " [[1.+0.j]]\n",
      "\n",
      " [[1.+0.j]]\n",
      "\n",
      " [[1.+0.j]]\n",
      "\n",
      " [[1.+0.j]]\n",
      "\n",
      " [[1.+0.j]]]\n"
     ]
    }
   ],
   "source": [
    "(knxA, vec_kns) = periodic_atom_chain8.cell_periodic_parts()\n",
    "vec_kns\n",
    "print(knxA)\n",
    "print(vec_kns)"
   ]
  },
  {
   "cell_type": "markdown",
   "metadata": {},
   "source": [
    "Since the $| u_{n}(k) \\rangle  $ are all 1, the eigenstates of the Hamiltonian, the Bloch wavefunctions are simply the plain waves ($|k \\rangle$) .\n",
    "\\begin{eqnarray}\n",
    "|\\psi_n(k) \\rangle = |k \\rangle \\otimes | u_{n}(k) \\rangle = |k \\rangle  \\nonumber \\\\\n",
    "\\end{eqnarray}"
   ]
  },
  {
   "cell_type": "code",
   "execution_count": 21,
   "metadata": {},
   "outputs": [
    {
     "data": {
      "image/png": "[encoded data removed]",
      "text/plain": [
       "<Figure size 432x288 with 1 Axes>"
      ]
     },
     "metadata": {
      "needs_background": "light"
     },
     "output_type": "display_data"
    }
   ],
   "source": [
    "eigen_states64 = periodic_atom_chain64.bloch_wave_functions()\n",
    "idx = 33\n",
    "plt.plot(np.real(eigen_states64[idx][1]),'r')\n",
    "plt.plot(np.imag(eigen_states64[idx][1]),'b')\n",
    "plt.plot(np.abs(eigen_states64[idx][1]),'g')\n",
    "plt.legend(['real','imag','abs'])\n",
    "plt.xlabel('position')\n",
    "plt.ylabel('eigen state')\n",
    "plt.show()\n",
    "plt.close()"
   ]
  },
  {
   "cell_type": "markdown",
   "metadata": {},
   "source": [
    "## Cell periodic parts in a Coupled Resonator Optical Waveguide (CROW) lattice"
   ]
  },
  {
   "cell_type": "markdown",
   "metadata": {},
   "source": [
    "In a more complex lattice, as in a CROW lattice(ref [2]) the $| u_{n}(k) \\rangle$ are not necessary 1. The plane waves are modulated by nontrivial $| u_{n}(k) \\rangle$ for this case."
   ]
  },
  {
   "cell_type": "code",
   "execution_count": 22,
   "metadata": {},
   "outputs": [],
   "source": [
    "J = 2\n",
    "eta = 0\n",
    "cell_H = Qobj(np.array([[0, J * np.sin(eta)], [J * np.sin(eta), 0]]))\n",
    "inter_cell_T = (J/2) * Qobj(np.array([[np.exp(eta * 1j), 1], [1, np.exp(-eta*1j)]]))\n",
    "CROW_lattice = Lattice1d(num_cell=8, boundary = \"periodic\", cell_num_site = 2,\n",
    "                         cell_site_dof = [1], Hamiltonian_of_cell = cell_H,\n",
    "                         inter_hop = inter_cell_T )\n",
    "(knxA, vec_kns) = CROW_lattice.cell_periodic_parts()\n",
    "CROW_Ham = CROW_lattice.Hamiltonian()"
   ]
  },
  {
   "cell_type": "code",
   "execution_count": 23,
   "metadata": {},
   "outputs": [
    {
     "data": {
      "text/plain": [
       "array([[-3.14159265],\n",
       "       [-2.35619449],\n",
       "       [-1.57079633],\n",
       "       [-0.78539816],\n",
       "       [ 0.        ],\n",
       "       [ 0.78539816],\n",
       "       [ 1.57079633],\n",
       "       [ 2.35619449]])"
      ]
     },
     "execution_count": 23,
     "metadata": {},
     "output_type": "execute_result"
    }
   ],
   "source": [
    "knxA"
   ]
  },
  {
   "cell_type": "code",
   "execution_count": 24,
   "metadata": {},
   "outputs": [
    {
     "data": {
      "text/plain": [
       "array([[ 0.70710678+0.j,  0.70710678+0.j],\n",
       "       [-0.70710678+0.j,  0.70710678+0.j]])"
      ]
     },
     "execution_count": 24,
     "metadata": {},
     "output_type": "execute_result"
    }
   ],
   "source": [
    "vec_kns[0]"
   ]
  },
  {
   "cell_type": "code",
   "execution_count": 25,
   "metadata": {},
   "outputs": [
    {
     "name": "stdout",
     "output_type": "stream",
     "text": [
      "eigenvalue:  -4.0\n"
     ]
    },
    {
     "data": {
      "image/png": "[encoded data removed]",
      "text/plain": [
       "<Figure size 432x288 with 1 Axes>"
      ]
     },
     "metadata": {
      "needs_background": "light"
     },
     "output_type": "display_data"
    }
   ],
   "source": [
    "eigen_states_CROW = CROW_lattice.bloch_wave_functions()\n",
    "idx = 0\n",
    "print('eigenvalue: ',eigen_states_CROW[idx][0])\n",
    "plt.plot(np.real(eigen_states_CROW[idx][1]),'r')\n",
    "plt.plot(np.imag(eigen_states_CROW[idx][1]),'b')\n",
    "plt.plot(np.abs(eigen_states_CROW[idx][1]),'g')\n",
    "plt.legend(['real','imag','abs'])\n",
    "plt.xlabel('position')\n",
    "plt.ylabel('eigenstate')\n",
    "plt.show()\n",
    "plt.close()"
   ]
  },
  {
   "cell_type": "markdown",
   "metadata": {},
   "source": [
    "# Complete Set of Commuting Observables"
   ]
  },
  {
   "cell_type": "code",
   "execution_count": null,
   "metadata": {},
   "outputs": [],
   "source": []
  },
  {
   "cell_type": "markdown",
   "metadata": {},
   "source": [
    "## Relationship of Expansion in momentum eigenkets to fft"
   ]
  },
  {
   "cell_type": "markdown",
   "metadata": {},
   "source": [
    "We form a Gaussian state in the position basis and evaluate its Discrete Fourier Transform(DFT) for evaluating its frequency components."
   ]
  },
  {
   "cell_type": "code",
   "execution_count": 26,
   "metadata": {},
   "outputs": [],
   "source": [
    "xs8 = np.arange(0,8)\n",
    "Gaussian8_sum_to_1 = 1/np.sqrt(2*np.pi* 0.5 **2) * np.exp(-(xs8 - 3)**2/2/0.5**2)\n",
    "Gaussian_state8 = np.sqrt(Gaussian8_sum_to_1) # A normalized Gaussian state"
   ]
  },
  {
   "cell_type": "code",
   "execution_count": 27,
   "metadata": {},
   "outputs": [
    {
     "data": {
      "image/png": "[encoded data removed]",
      "text/plain": [
       "<Figure size 432x288 with 1 Axes>"
      ]
     },
     "metadata": {
      "needs_background": "light"
     },
     "output_type": "display_data"
    }
   ],
   "source": [
    "plt.plot(Gaussian_state8,'r')\n",
    "plt.xlabel('position')\n",
    "plt.ylabel('Probability Amplitude')\n",
    "plt.show()\n",
    "plt.close()"
   ]
  },
  {
   "cell_type": "markdown",
   "metadata": {},
   "source": [
    "### Inner Product of crystal momentum eigenket and a state"
   ]
  },
  {
   "cell_type": "code",
   "execution_count": 28,
   "metadata": {},
   "outputs": [],
   "source": [
    "k_exps = pw8_M.dag() * Gaussian_state8  # ket vector of inner products with crystal\n",
    "                                       # momentum eigenkets\n",
    "k_exps = k_exps/ np.sqrt( np.sum(np.multiply(k_exps, np.conj(k_exps)))) # normalization"
   ]
  },
  {
   "cell_type": "markdown",
   "metadata": {},
   "source": [
    "### fft spectrum"
   ]
  },
  {
   "cell_type": "code",
   "execution_count": 29,
   "metadata": {},
   "outputs": [],
   "source": [
    "dft_Gaussian_state = np.fft.fft(Gaussian_state8)\n",
    "sq_dft_Gaussian_state = np.multiply(dft_Gaussian_state, np.conj(dft_Gaussian_state))\n",
    "sqrt_area_sq_dft_Gaussian_state = np.sqrt(np.sum(sq_dft_Gaussian_state))\n",
    "norml_dft_Gaussian_state = dft_Gaussian_state / sqrt_area_sq_dft_Gaussian_state"
   ]
  },
  {
   "cell_type": "markdown",
   "metadata": {},
   "source": [
    "#### Comparison"
   ]
  },
  {
   "cell_type": "code",
   "execution_count": 30,
   "metadata": {},
   "outputs": [
    {
     "data": {
      "image/png": "[encoded data removed]",
      "text/plain": [
       "<Figure size 432x288 with 1 Axes>"
      ]
     },
     "metadata": {
      "needs_background": "light"
     },
     "output_type": "display_data"
    }
   ],
   "source": [
    "plt.plot(np.abs(norml_dft_Gaussian_state),'b')\n",
    "plt.plot(np.abs(k_exps),'ro')\n",
    "plt.xlabel('frequency number')\n",
    "plt.ylabel('frequency Amplitude')\n",
    "plt.show()\n",
    "plt.close()"
   ]
  },
  {
   "cell_type": "markdown",
   "metadata": {},
   "source": [
    "Therefore, expanding a state in momentum eigenkets is equivalent of a DFT for a periodic lattice."
   ]
  },
  {
   "cell_type": "code",
   "execution_count": 31,
   "metadata": {},
   "outputs": [
    {
     "name": "stdout",
     "output_type": "stream",
     "text": [
      "\n",
      "QuTiP: Quantum Toolbox in Python\n",
      "================================\n",
      "Copyright (c) QuTiP team 2011 and later.\n",
      "Original developers: R. J. Johansson & P. D. Nation.\n",
      "Current admin team: Alexander Pitchford, Paul D. Nation, Nathan Shammah, Shahnawaz Ahmed, Neill Lambert, and Eric Giguère.\n",
      "Project Manager: Franco Nori.\n",
      "Currently developed through wide collaboration. See https://github.com/qutip for details.\n",
      "\n",
      "QuTiP Version:      4.5.0.dev0+c8074e5\n",
      "Numpy Version:      1.15.2\n",
      "Scipy Version:      1.1.0\n",
      "Cython Version:     0.28.5\n",
      "Matplotlib Version: 3.0.0\n",
      "Python Version:     3.5.4\n",
      "Number of CPUs:     2\n",
      "BLAS Info:          INTEL MKL\n",
      "OPENMP Installed:   True\n",
      "INTEL MKL Ext:      True\n",
      "Platform Info:      Linux (x86_64)\n",
      "Installation path:  /home/ssaumya7/Desktop/GSOC/Aug5/qutip/qutip\n",
      "==============================================================================\n",
      "Please cite QuTiP in your publication.\n",
      "==============================================================================\n",
      "For your convenience a bibtex reference can be easily generated using `qutip.cite()`\n"
     ]
    }
   ],
   "source": [
    "qutip.about()"
   ]
  },
  {
   "cell_type": "code",
   "execution_count": 32,
   "metadata": {},
   "outputs": [
    {
     "name": "stdout",
     "output_type": "stream",
     "text": [
      "@article{qutip2,\n",
      "doi = {10.1016/j.cpc.2012.11.019},\n",
      "url = {https://doi.org/10.1016/j.cpc.2012.11.019},\n",
      "year  = {2013},\n",
      "month = {apr},\n",
      "publisher = {Elsevier {BV}},\n",
      "volume = {184},\n",
      "number = {4},\n",
      "pages = {1234--1240},\n",
      "author = {J.R. Johansson and P.D. Nation and F. Nori},\n",
      "title = {{QuTiP} 2: A {P}ython framework for the dynamics of open quantum systems},\n",
      "journal = {Computer Physics Communications}\n",
      "}\n",
      "@article{qutip1,\n",
      "doi = {10.1016/j.cpc.2012.02.021},\n",
      "url = {https://doi.org/10.1016/j.cpc.2012.02.021},\n",
      "year  = {2012},\n",
      "month = {aug},\n",
      "publisher = {Elsevier {BV}},\n",
      "volume = {183},\n",
      "number = {8},\n",
      "pages = {1760--1772},\n",
      "author = {J.R. Johansson and P.D. Nation and F. Nori},\n",
      "title = {{QuTiP}: An open-source {P}ython framework for the dynamics of open quantum systems},\n",
      "journal = {Computer Physics Communications}\n",
      "}\n"
     ]
    }
   ],
   "source": [
    "qutip.cite()"
   ]
  }
 ],
 "metadata": {
  "kernelspec": {
   "display_name": "Python 3",
   "language": "python",
   "name": "python3"
  },
  "language_info": {
   "codemirror_mode": {
    "name": "ipython",
    "version": 3
   },
   "file_extension": ".py",
   "mimetype": "text/x-python",
   "name": "python",
   "nbconvert_exporter": "python",
   "pygments_lexer": "ipython3",
   "version": "3.6.13"
  }
 },
 "nbformat": 4,
 "nbformat_minor": 2
}
